{
  "nbformat": 4,
  "nbformat_minor": 0,
  "metadata": {
    "colab": {
      "name": "602-fast-tokenizers-token-classification.ipynb",
      "provenance": [],
      "collapsed_sections": []
    },
    "kernelspec": {
      "name": "python3",
      "display_name": "Python 3"
    },
    "language_info": {
      "name": "python"
    },
    "accelerator": "GPU",
    "widgets": {
      "application/vnd.jupyter.widget-state+json": {
        "df0050edfd774dbdb0c6ab26622439c2": {
          "model_module": "@jupyter-widgets/controls",
          "model_name": "HBoxModel",
          "model_module_version": "1.5.0",
          "state": {
            "_view_name": "HBoxView",
            "_dom_classes": [],
            "_model_name": "HBoxModel",
            "_view_module": "@jupyter-widgets/controls",
            "_model_module_version": "1.5.0",
            "_view_count": null,
            "_view_module_version": "1.5.0",
            "box_style": "",
            "layout": "IPY_MODEL_1af7ebb84b52467b9ca99e344037ff89",
            "_model_module": "@jupyter-widgets/controls",
            "children": [
              "IPY_MODEL_2d1103f572f6442496be8e62eefb553d",
              "IPY_MODEL_c6622db219bd4efbb532d115ca8efe0e",
              "IPY_MODEL_80065379716b45aeaaac25143264723b"
            ]
          }
        },
        "1af7ebb84b52467b9ca99e344037ff89": {
          "model_module": "@jupyter-widgets/base",
          "model_name": "LayoutModel",
          "model_module_version": "1.2.0",
          "state": {
            "_view_name": "LayoutView",
            "grid_template_rows": null,
            "right": null,
            "justify_content": null,
            "_view_module": "@jupyter-widgets/base",
            "overflow": null,
            "_model_module_version": "1.2.0",
            "_view_count": null,
            "flex_flow": null,
            "width": null,
            "min_width": null,
            "border": null,
            "align_items": null,
            "bottom": null,
            "_model_module": "@jupyter-widgets/base",
            "top": null,
            "grid_column": null,
            "overflow_y": null,
            "overflow_x": null,
            "grid_auto_flow": null,
            "grid_area": null,
            "grid_template_columns": null,
            "flex": null,
            "_model_name": "LayoutModel",
            "justify_items": null,
            "grid_row": null,
            "max_height": null,
            "align_content": null,
            "visibility": null,
            "align_self": null,
            "height": null,
            "min_height": null,
            "padding": null,
            "grid_auto_rows": null,
            "grid_gap": null,
            "max_width": null,
            "order": null,
            "_view_module_version": "1.2.0",
            "grid_template_areas": null,
            "object_position": null,
            "object_fit": null,
            "grid_auto_columns": null,
            "margin": null,
            "display": null,
            "left": null
          }
        },
        "2d1103f572f6442496be8e62eefb553d": {
          "model_module": "@jupyter-widgets/controls",
          "model_name": "HTMLModel",
          "model_module_version": "1.5.0",
          "state": {
            "_view_name": "HTMLView",
            "style": "IPY_MODEL_fdbf08dcb4bd4b4587b99f5352cf1b44",
            "_dom_classes": [],
            "description": "",
            "_model_name": "HTMLModel",
            "placeholder": "​",
            "_view_module": "@jupyter-widgets/controls",
            "_model_module_version": "1.5.0",
            "value": "Downloading: 100%",
            "_view_count": null,
            "_view_module_version": "1.5.0",
            "description_tooltip": null,
            "_model_module": "@jupyter-widgets/controls",
            "layout": "IPY_MODEL_a4e9a5769ef04731b8fd7a3ad2ca2193"
          }
        },
        "c6622db219bd4efbb532d115ca8efe0e": {
          "model_module": "@jupyter-widgets/controls",
          "model_name": "FloatProgressModel",
          "model_module_version": "1.5.0",
          "state": {
            "_view_name": "ProgressView",
            "style": "IPY_MODEL_c4487cc9cb7a4ca6b8bd4c45a1d202ca",
            "_dom_classes": [],
            "description": "",
            "_model_name": "FloatProgressModel",
            "bar_style": "success",
            "max": 60,
            "_view_module": "@jupyter-widgets/controls",
            "_model_module_version": "1.5.0",
            "value": 60,
            "_view_count": null,
            "_view_module_version": "1.5.0",
            "orientation": "horizontal",
            "min": 0,
            "description_tooltip": null,
            "_model_module": "@jupyter-widgets/controls",
            "layout": "IPY_MODEL_9d2e216d0c9747d0bd0fbb339ed8ce26"
          }
        },
        "80065379716b45aeaaac25143264723b": {
          "model_module": "@jupyter-widgets/controls",
          "model_name": "HTMLModel",
          "model_module_version": "1.5.0",
          "state": {
            "_view_name": "HTMLView",
            "style": "IPY_MODEL_28eadddd49b14e7095e46e57066b83c1",
            "_dom_classes": [],
            "description": "",
            "_model_name": "HTMLModel",
            "placeholder": "​",
            "_view_module": "@jupyter-widgets/controls",
            "_model_module_version": "1.5.0",
            "value": " 60.0/60.0 [00:00&lt;00:00, 1.34kB/s]",
            "_view_count": null,
            "_view_module_version": "1.5.0",
            "description_tooltip": null,
            "_model_module": "@jupyter-widgets/controls",
            "layout": "IPY_MODEL_2e5646e26ff34bce97b85fecca97d6ef"
          }
        },
        "fdbf08dcb4bd4b4587b99f5352cf1b44": {
          "model_module": "@jupyter-widgets/controls",
          "model_name": "DescriptionStyleModel",
          "model_module_version": "1.5.0",
          "state": {
            "_view_name": "StyleView",
            "_model_name": "DescriptionStyleModel",
            "description_width": "",
            "_view_module": "@jupyter-widgets/base",
            "_model_module_version": "1.5.0",
            "_view_count": null,
            "_view_module_version": "1.2.0",
            "_model_module": "@jupyter-widgets/controls"
          }
        },
        "a4e9a5769ef04731b8fd7a3ad2ca2193": {
          "model_module": "@jupyter-widgets/base",
          "model_name": "LayoutModel",
          "model_module_version": "1.2.0",
          "state": {
            "_view_name": "LayoutView",
            "grid_template_rows": null,
            "right": null,
            "justify_content": null,
            "_view_module": "@jupyter-widgets/base",
            "overflow": null,
            "_model_module_version": "1.2.0",
            "_view_count": null,
            "flex_flow": null,
            "width": null,
            "min_width": null,
            "border": null,
            "align_items": null,
            "bottom": null,
            "_model_module": "@jupyter-widgets/base",
            "top": null,
            "grid_column": null,
            "overflow_y": null,
            "overflow_x": null,
            "grid_auto_flow": null,
            "grid_area": null,
            "grid_template_columns": null,
            "flex": null,
            "_model_name": "LayoutModel",
            "justify_items": null,
            "grid_row": null,
            "max_height": null,
            "align_content": null,
            "visibility": null,
            "align_self": null,
            "height": null,
            "min_height": null,
            "padding": null,
            "grid_auto_rows": null,
            "grid_gap": null,
            "max_width": null,
            "order": null,
            "_view_module_version": "1.2.0",
            "grid_template_areas": null,
            "object_position": null,
            "object_fit": null,
            "grid_auto_columns": null,
            "margin": null,
            "display": null,
            "left": null
          }
        },
        "c4487cc9cb7a4ca6b8bd4c45a1d202ca": {
          "model_module": "@jupyter-widgets/controls",
          "model_name": "ProgressStyleModel",
          "model_module_version": "1.5.0",
          "state": {
            "_view_name": "StyleView",
            "_model_name": "ProgressStyleModel",
            "description_width": "",
            "_view_module": "@jupyter-widgets/base",
            "_model_module_version": "1.5.0",
            "_view_count": null,
            "_view_module_version": "1.2.0",
            "bar_color": null,
            "_model_module": "@jupyter-widgets/controls"
          }
        },
        "9d2e216d0c9747d0bd0fbb339ed8ce26": {
          "model_module": "@jupyter-widgets/base",
          "model_name": "LayoutModel",
          "model_module_version": "1.2.0",
          "state": {
            "_view_name": "LayoutView",
            "grid_template_rows": null,
            "right": null,
            "justify_content": null,
            "_view_module": "@jupyter-widgets/base",
            "overflow": null,
            "_model_module_version": "1.2.0",
            "_view_count": null,
            "flex_flow": null,
            "width": null,
            "min_width": null,
            "border": null,
            "align_items": null,
            "bottom": null,
            "_model_module": "@jupyter-widgets/base",
            "top": null,
            "grid_column": null,
            "overflow_y": null,
            "overflow_x": null,
            "grid_auto_flow": null,
            "grid_area": null,
            "grid_template_columns": null,
            "flex": null,
            "_model_name": "LayoutModel",
            "justify_items": null,
            "grid_row": null,
            "max_height": null,
            "align_content": null,
            "visibility": null,
            "align_self": null,
            "height": null,
            "min_height": null,
            "padding": null,
            "grid_auto_rows": null,
            "grid_gap": null,
            "max_width": null,
            "order": null,
            "_view_module_version": "1.2.0",
            "grid_template_areas": null,
            "object_position": null,
            "object_fit": null,
            "grid_auto_columns": null,
            "margin": null,
            "display": null,
            "left": null
          }
        },
        "28eadddd49b14e7095e46e57066b83c1": {
          "model_module": "@jupyter-widgets/controls",
          "model_name": "DescriptionStyleModel",
          "model_module_version": "1.5.0",
          "state": {
            "_view_name": "StyleView",
            "_model_name": "DescriptionStyleModel",
            "description_width": "",
            "_view_module": "@jupyter-widgets/base",
            "_model_module_version": "1.5.0",
            "_view_count": null,
            "_view_module_version": "1.2.0",
            "_model_module": "@jupyter-widgets/controls"
          }
        },
        "2e5646e26ff34bce97b85fecca97d6ef": {
          "model_module": "@jupyter-widgets/base",
          "model_name": "LayoutModel",
          "model_module_version": "1.2.0",
          "state": {
            "_view_name": "LayoutView",
            "grid_template_rows": null,
            "right": null,
            "justify_content": null,
            "_view_module": "@jupyter-widgets/base",
            "overflow": null,
            "_model_module_version": "1.2.0",
            "_view_count": null,
            "flex_flow": null,
            "width": null,
            "min_width": null,
            "border": null,
            "align_items": null,
            "bottom": null,
            "_model_module": "@jupyter-widgets/base",
            "top": null,
            "grid_column": null,
            "overflow_y": null,
            "overflow_x": null,
            "grid_auto_flow": null,
            "grid_area": null,
            "grid_template_columns": null,
            "flex": null,
            "_model_name": "LayoutModel",
            "justify_items": null,
            "grid_row": null,
            "max_height": null,
            "align_content": null,
            "visibility": null,
            "align_self": null,
            "height": null,
            "min_height": null,
            "padding": null,
            "grid_auto_rows": null,
            "grid_gap": null,
            "max_width": null,
            "order": null,
            "_view_module_version": "1.2.0",
            "grid_template_areas": null,
            "object_position": null,
            "object_fit": null,
            "grid_auto_columns": null,
            "margin": null,
            "display": null,
            "left": null
          }
        },
        "0d05e89e46e94c3f9db10640355b7fcf": {
          "model_module": "@jupyter-widgets/controls",
          "model_name": "HBoxModel",
          "model_module_version": "1.5.0",
          "state": {
            "_view_name": "HBoxView",
            "_dom_classes": [],
            "_model_name": "HBoxModel",
            "_view_module": "@jupyter-widgets/controls",
            "_model_module_version": "1.5.0",
            "_view_count": null,
            "_view_module_version": "1.5.0",
            "box_style": "",
            "layout": "IPY_MODEL_5813e76180c840f2a46e769b191e1c4b",
            "_model_module": "@jupyter-widgets/controls",
            "children": [
              "IPY_MODEL_6275e1f58d4e464f9fc0bfa49099c861",
              "IPY_MODEL_8ca8728722b54d0bb5f72456c042a3a5",
              "IPY_MODEL_3fdb447437fe42ccbc33513a4b1399a6"
            ]
          }
        },
        "5813e76180c840f2a46e769b191e1c4b": {
          "model_module": "@jupyter-widgets/base",
          "model_name": "LayoutModel",
          "model_module_version": "1.2.0",
          "state": {
            "_view_name": "LayoutView",
            "grid_template_rows": null,
            "right": null,
            "justify_content": null,
            "_view_module": "@jupyter-widgets/base",
            "overflow": null,
            "_model_module_version": "1.2.0",
            "_view_count": null,
            "flex_flow": null,
            "width": null,
            "min_width": null,
            "border": null,
            "align_items": null,
            "bottom": null,
            "_model_module": "@jupyter-widgets/base",
            "top": null,
            "grid_column": null,
            "overflow_y": null,
            "overflow_x": null,
            "grid_auto_flow": null,
            "grid_area": null,
            "grid_template_columns": null,
            "flex": null,
            "_model_name": "LayoutModel",
            "justify_items": null,
            "grid_row": null,
            "max_height": null,
            "align_content": null,
            "visibility": null,
            "align_self": null,
            "height": null,
            "min_height": null,
            "padding": null,
            "grid_auto_rows": null,
            "grid_gap": null,
            "max_width": null,
            "order": null,
            "_view_module_version": "1.2.0",
            "grid_template_areas": null,
            "object_position": null,
            "object_fit": null,
            "grid_auto_columns": null,
            "margin": null,
            "display": null,
            "left": null
          }
        },
        "6275e1f58d4e464f9fc0bfa49099c861": {
          "model_module": "@jupyter-widgets/controls",
          "model_name": "HTMLModel",
          "model_module_version": "1.5.0",
          "state": {
            "_view_name": "HTMLView",
            "style": "IPY_MODEL_d55b6e4241d54579bd303f060cba3edc",
            "_dom_classes": [],
            "description": "",
            "_model_name": "HTMLModel",
            "placeholder": "​",
            "_view_module": "@jupyter-widgets/controls",
            "_model_module_version": "1.5.0",
            "value": "Downloading: 100%",
            "_view_count": null,
            "_view_module_version": "1.5.0",
            "description_tooltip": null,
            "_model_module": "@jupyter-widgets/controls",
            "layout": "IPY_MODEL_67e0f96483eb44b2ad0a67c7af0cb6c1"
          }
        },
        "8ca8728722b54d0bb5f72456c042a3a5": {
          "model_module": "@jupyter-widgets/controls",
          "model_name": "FloatProgressModel",
          "model_module_version": "1.5.0",
          "state": {
            "_view_name": "ProgressView",
            "style": "IPY_MODEL_9c5cebfcbfd74d21944172cab91799d7",
            "_dom_classes": [],
            "description": "",
            "_model_name": "FloatProgressModel",
            "bar_style": "success",
            "max": 998,
            "_view_module": "@jupyter-widgets/controls",
            "_model_module_version": "1.5.0",
            "value": 998,
            "_view_count": null,
            "_view_module_version": "1.5.0",
            "orientation": "horizontal",
            "min": 0,
            "description_tooltip": null,
            "_model_module": "@jupyter-widgets/controls",
            "layout": "IPY_MODEL_2c94c0414946416d8ddd4e1ac94c383f"
          }
        },
        "3fdb447437fe42ccbc33513a4b1399a6": {
          "model_module": "@jupyter-widgets/controls",
          "model_name": "HTMLModel",
          "model_module_version": "1.5.0",
          "state": {
            "_view_name": "HTMLView",
            "style": "IPY_MODEL_c3e415256b3348418ae215c4c70945f5",
            "_dom_classes": [],
            "description": "",
            "_model_name": "HTMLModel",
            "placeholder": "​",
            "_view_module": "@jupyter-widgets/controls",
            "_model_module_version": "1.5.0",
            "value": " 998/998 [00:00&lt;00:00, 25.0kB/s]",
            "_view_count": null,
            "_view_module_version": "1.5.0",
            "description_tooltip": null,
            "_model_module": "@jupyter-widgets/controls",
            "layout": "IPY_MODEL_76a29de3658341458639640f94a4e8b4"
          }
        },
        "d55b6e4241d54579bd303f060cba3edc": {
          "model_module": "@jupyter-widgets/controls",
          "model_name": "DescriptionStyleModel",
          "model_module_version": "1.5.0",
          "state": {
            "_view_name": "StyleView",
            "_model_name": "DescriptionStyleModel",
            "description_width": "",
            "_view_module": "@jupyter-widgets/base",
            "_model_module_version": "1.5.0",
            "_view_count": null,
            "_view_module_version": "1.2.0",
            "_model_module": "@jupyter-widgets/controls"
          }
        },
        "67e0f96483eb44b2ad0a67c7af0cb6c1": {
          "model_module": "@jupyter-widgets/base",
          "model_name": "LayoutModel",
          "model_module_version": "1.2.0",
          "state": {
            "_view_name": "LayoutView",
            "grid_template_rows": null,
            "right": null,
            "justify_content": null,
            "_view_module": "@jupyter-widgets/base",
            "overflow": null,
            "_model_module_version": "1.2.0",
            "_view_count": null,
            "flex_flow": null,
            "width": null,
            "min_width": null,
            "border": null,
            "align_items": null,
            "bottom": null,
            "_model_module": "@jupyter-widgets/base",
            "top": null,
            "grid_column": null,
            "overflow_y": null,
            "overflow_x": null,
            "grid_auto_flow": null,
            "grid_area": null,
            "grid_template_columns": null,
            "flex": null,
            "_model_name": "LayoutModel",
            "justify_items": null,
            "grid_row": null,
            "max_height": null,
            "align_content": null,
            "visibility": null,
            "align_self": null,
            "height": null,
            "min_height": null,
            "padding": null,
            "grid_auto_rows": null,
            "grid_gap": null,
            "max_width": null,
            "order": null,
            "_view_module_version": "1.2.0",
            "grid_template_areas": null,
            "object_position": null,
            "object_fit": null,
            "grid_auto_columns": null,
            "margin": null,
            "display": null,
            "left": null
          }
        },
        "9c5cebfcbfd74d21944172cab91799d7": {
          "model_module": "@jupyter-widgets/controls",
          "model_name": "ProgressStyleModel",
          "model_module_version": "1.5.0",
          "state": {
            "_view_name": "StyleView",
            "_model_name": "ProgressStyleModel",
            "description_width": "",
            "_view_module": "@jupyter-widgets/base",
            "_model_module_version": "1.5.0",
            "_view_count": null,
            "_view_module_version": "1.2.0",
            "bar_color": null,
            "_model_module": "@jupyter-widgets/controls"
          }
        },
        "2c94c0414946416d8ddd4e1ac94c383f": {
          "model_module": "@jupyter-widgets/base",
          "model_name": "LayoutModel",
          "model_module_version": "1.2.0",
          "state": {
            "_view_name": "LayoutView",
            "grid_template_rows": null,
            "right": null,
            "justify_content": null,
            "_view_module": "@jupyter-widgets/base",
            "overflow": null,
            "_model_module_version": "1.2.0",
            "_view_count": null,
            "flex_flow": null,
            "width": null,
            "min_width": null,
            "border": null,
            "align_items": null,
            "bottom": null,
            "_model_module": "@jupyter-widgets/base",
            "top": null,
            "grid_column": null,
            "overflow_y": null,
            "overflow_x": null,
            "grid_auto_flow": null,
            "grid_area": null,
            "grid_template_columns": null,
            "flex": null,
            "_model_name": "LayoutModel",
            "justify_items": null,
            "grid_row": null,
            "max_height": null,
            "align_content": null,
            "visibility": null,
            "align_self": null,
            "height": null,
            "min_height": null,
            "padding": null,
            "grid_auto_rows": null,
            "grid_gap": null,
            "max_width": null,
            "order": null,
            "_view_module_version": "1.2.0",
            "grid_template_areas": null,
            "object_position": null,
            "object_fit": null,
            "grid_auto_columns": null,
            "margin": null,
            "display": null,
            "left": null
          }
        },
        "c3e415256b3348418ae215c4c70945f5": {
          "model_module": "@jupyter-widgets/controls",
          "model_name": "DescriptionStyleModel",
          "model_module_version": "1.5.0",
          "state": {
            "_view_name": "StyleView",
            "_model_name": "DescriptionStyleModel",
            "description_width": "",
            "_view_module": "@jupyter-widgets/base",
            "_model_module_version": "1.5.0",
            "_view_count": null,
            "_view_module_version": "1.2.0",
            "_model_module": "@jupyter-widgets/controls"
          }
        },
        "76a29de3658341458639640f94a4e8b4": {
          "model_module": "@jupyter-widgets/base",
          "model_name": "LayoutModel",
          "model_module_version": "1.2.0",
          "state": {
            "_view_name": "LayoutView",
            "grid_template_rows": null,
            "right": null,
            "justify_content": null,
            "_view_module": "@jupyter-widgets/base",
            "overflow": null,
            "_model_module_version": "1.2.0",
            "_view_count": null,
            "flex_flow": null,
            "width": null,
            "min_width": null,
            "border": null,
            "align_items": null,
            "bottom": null,
            "_model_module": "@jupyter-widgets/base",
            "top": null,
            "grid_column": null,
            "overflow_y": null,
            "overflow_x": null,
            "grid_auto_flow": null,
            "grid_area": null,
            "grid_template_columns": null,
            "flex": null,
            "_model_name": "LayoutModel",
            "justify_items": null,
            "grid_row": null,
            "max_height": null,
            "align_content": null,
            "visibility": null,
            "align_self": null,
            "height": null,
            "min_height": null,
            "padding": null,
            "grid_auto_rows": null,
            "grid_gap": null,
            "max_width": null,
            "order": null,
            "_view_module_version": "1.2.0",
            "grid_template_areas": null,
            "object_position": null,
            "object_fit": null,
            "grid_auto_columns": null,
            "margin": null,
            "display": null,
            "left": null
          }
        },
        "2619245b177144c1a36526050d406e0a": {
          "model_module": "@jupyter-widgets/controls",
          "model_name": "HBoxModel",
          "model_module_version": "1.5.0",
          "state": {
            "_view_name": "HBoxView",
            "_dom_classes": [],
            "_model_name": "HBoxModel",
            "_view_module": "@jupyter-widgets/controls",
            "_model_module_version": "1.5.0",
            "_view_count": null,
            "_view_module_version": "1.5.0",
            "box_style": "",
            "layout": "IPY_MODEL_086263340ee945a6b7065f0c8ef5d1a9",
            "_model_module": "@jupyter-widgets/controls",
            "children": [
              "IPY_MODEL_2fec1bb6df1342ccafc32a5d6f860b97",
              "IPY_MODEL_b9953df49906474a861625c4d53d6d2c",
              "IPY_MODEL_7c7878f32ac9418ab9d1dbd288ff87be"
            ]
          }
        },
        "086263340ee945a6b7065f0c8ef5d1a9": {
          "model_module": "@jupyter-widgets/base",
          "model_name": "LayoutModel",
          "model_module_version": "1.2.0",
          "state": {
            "_view_name": "LayoutView",
            "grid_template_rows": null,
            "right": null,
            "justify_content": null,
            "_view_module": "@jupyter-widgets/base",
            "overflow": null,
            "_model_module_version": "1.2.0",
            "_view_count": null,
            "flex_flow": null,
            "width": null,
            "min_width": null,
            "border": null,
            "align_items": null,
            "bottom": null,
            "_model_module": "@jupyter-widgets/base",
            "top": null,
            "grid_column": null,
            "overflow_y": null,
            "overflow_x": null,
            "grid_auto_flow": null,
            "grid_area": null,
            "grid_template_columns": null,
            "flex": null,
            "_model_name": "LayoutModel",
            "justify_items": null,
            "grid_row": null,
            "max_height": null,
            "align_content": null,
            "visibility": null,
            "align_self": null,
            "height": null,
            "min_height": null,
            "padding": null,
            "grid_auto_rows": null,
            "grid_gap": null,
            "max_width": null,
            "order": null,
            "_view_module_version": "1.2.0",
            "grid_template_areas": null,
            "object_position": null,
            "object_fit": null,
            "grid_auto_columns": null,
            "margin": null,
            "display": null,
            "left": null
          }
        },
        "2fec1bb6df1342ccafc32a5d6f860b97": {
          "model_module": "@jupyter-widgets/controls",
          "model_name": "HTMLModel",
          "model_module_version": "1.5.0",
          "state": {
            "_view_name": "HTMLView",
            "style": "IPY_MODEL_d0d1b16888664270b7e72595649bdd64",
            "_dom_classes": [],
            "description": "",
            "_model_name": "HTMLModel",
            "placeholder": "​",
            "_view_module": "@jupyter-widgets/controls",
            "_model_module_version": "1.5.0",
            "value": "Downloading: 100%",
            "_view_count": null,
            "_view_module_version": "1.5.0",
            "description_tooltip": null,
            "_model_module": "@jupyter-widgets/controls",
            "layout": "IPY_MODEL_ec3bef5b94984e36a343912430754aa1"
          }
        },
        "b9953df49906474a861625c4d53d6d2c": {
          "model_module": "@jupyter-widgets/controls",
          "model_name": "FloatProgressModel",
          "model_module_version": "1.5.0",
          "state": {
            "_view_name": "ProgressView",
            "style": "IPY_MODEL_69dd8c216e8a403587fa4923ef1bf330",
            "_dom_classes": [],
            "description": "",
            "_model_name": "FloatProgressModel",
            "bar_style": "success",
            "max": 213450,
            "_view_module": "@jupyter-widgets/controls",
            "_model_module_version": "1.5.0",
            "value": 213450,
            "_view_count": null,
            "_view_module_version": "1.5.0",
            "orientation": "horizontal",
            "min": 0,
            "description_tooltip": null,
            "_model_module": "@jupyter-widgets/controls",
            "layout": "IPY_MODEL_c7383a7bbdc94f5faf7cc7444b0faab6"
          }
        },
        "7c7878f32ac9418ab9d1dbd288ff87be": {
          "model_module": "@jupyter-widgets/controls",
          "model_name": "HTMLModel",
          "model_module_version": "1.5.0",
          "state": {
            "_view_name": "HTMLView",
            "style": "IPY_MODEL_5f33a4d718204bea9671dbe3d2a6a228",
            "_dom_classes": [],
            "description": "",
            "_model_name": "HTMLModel",
            "placeholder": "​",
            "_view_module": "@jupyter-widgets/controls",
            "_model_module_version": "1.5.0",
            "value": " 208k/208k [00:00&lt;00:00, 1.02MB/s]",
            "_view_count": null,
            "_view_module_version": "1.5.0",
            "description_tooltip": null,
            "_model_module": "@jupyter-widgets/controls",
            "layout": "IPY_MODEL_e1b17e258a534adca78e8c0cf19cf6f7"
          }
        },
        "d0d1b16888664270b7e72595649bdd64": {
          "model_module": "@jupyter-widgets/controls",
          "model_name": "DescriptionStyleModel",
          "model_module_version": "1.5.0",
          "state": {
            "_view_name": "StyleView",
            "_model_name": "DescriptionStyleModel",
            "description_width": "",
            "_view_module": "@jupyter-widgets/base",
            "_model_module_version": "1.5.0",
            "_view_count": null,
            "_view_module_version": "1.2.0",
            "_model_module": "@jupyter-widgets/controls"
          }
        },
        "ec3bef5b94984e36a343912430754aa1": {
          "model_module": "@jupyter-widgets/base",
          "model_name": "LayoutModel",
          "model_module_version": "1.2.0",
          "state": {
            "_view_name": "LayoutView",
            "grid_template_rows": null,
            "right": null,
            "justify_content": null,
            "_view_module": "@jupyter-widgets/base",
            "overflow": null,
            "_model_module_version": "1.2.0",
            "_view_count": null,
            "flex_flow": null,
            "width": null,
            "min_width": null,
            "border": null,
            "align_items": null,
            "bottom": null,
            "_model_module": "@jupyter-widgets/base",
            "top": null,
            "grid_column": null,
            "overflow_y": null,
            "overflow_x": null,
            "grid_auto_flow": null,
            "grid_area": null,
            "grid_template_columns": null,
            "flex": null,
            "_model_name": "LayoutModel",
            "justify_items": null,
            "grid_row": null,
            "max_height": null,
            "align_content": null,
            "visibility": null,
            "align_self": null,
            "height": null,
            "min_height": null,
            "padding": null,
            "grid_auto_rows": null,
            "grid_gap": null,
            "max_width": null,
            "order": null,
            "_view_module_version": "1.2.0",
            "grid_template_areas": null,
            "object_position": null,
            "object_fit": null,
            "grid_auto_columns": null,
            "margin": null,
            "display": null,
            "left": null
          }
        },
        "69dd8c216e8a403587fa4923ef1bf330": {
          "model_module": "@jupyter-widgets/controls",
          "model_name": "ProgressStyleModel",
          "model_module_version": "1.5.0",
          "state": {
            "_view_name": "StyleView",
            "_model_name": "ProgressStyleModel",
            "description_width": "",
            "_view_module": "@jupyter-widgets/base",
            "_model_module_version": "1.5.0",
            "_view_count": null,
            "_view_module_version": "1.2.0",
            "bar_color": null,
            "_model_module": "@jupyter-widgets/controls"
          }
        },
        "c7383a7bbdc94f5faf7cc7444b0faab6": {
          "model_module": "@jupyter-widgets/base",
          "model_name": "LayoutModel",
          "model_module_version": "1.2.0",
          "state": {
            "_view_name": "LayoutView",
            "grid_template_rows": null,
            "right": null,
            "justify_content": null,
            "_view_module": "@jupyter-widgets/base",
            "overflow": null,
            "_model_module_version": "1.2.0",
            "_view_count": null,
            "flex_flow": null,
            "width": null,
            "min_width": null,
            "border": null,
            "align_items": null,
            "bottom": null,
            "_model_module": "@jupyter-widgets/base",
            "top": null,
            "grid_column": null,
            "overflow_y": null,
            "overflow_x": null,
            "grid_auto_flow": null,
            "grid_area": null,
            "grid_template_columns": null,
            "flex": null,
            "_model_name": "LayoutModel",
            "justify_items": null,
            "grid_row": null,
            "max_height": null,
            "align_content": null,
            "visibility": null,
            "align_self": null,
            "height": null,
            "min_height": null,
            "padding": null,
            "grid_auto_rows": null,
            "grid_gap": null,
            "max_width": null,
            "order": null,
            "_view_module_version": "1.2.0",
            "grid_template_areas": null,
            "object_position": null,
            "object_fit": null,
            "grid_auto_columns": null,
            "margin": null,
            "display": null,
            "left": null
          }
        },
        "5f33a4d718204bea9671dbe3d2a6a228": {
          "model_module": "@jupyter-widgets/controls",
          "model_name": "DescriptionStyleModel",
          "model_module_version": "1.5.0",
          "state": {
            "_view_name": "StyleView",
            "_model_name": "DescriptionStyleModel",
            "description_width": "",
            "_view_module": "@jupyter-widgets/base",
            "_model_module_version": "1.5.0",
            "_view_count": null,
            "_view_module_version": "1.2.0",
            "_model_module": "@jupyter-widgets/controls"
          }
        },
        "e1b17e258a534adca78e8c0cf19cf6f7": {
          "model_module": "@jupyter-widgets/base",
          "model_name": "LayoutModel",
          "model_module_version": "1.2.0",
          "state": {
            "_view_name": "LayoutView",
            "grid_template_rows": null,
            "right": null,
            "justify_content": null,
            "_view_module": "@jupyter-widgets/base",
            "overflow": null,
            "_model_module_version": "1.2.0",
            "_view_count": null,
            "flex_flow": null,
            "width": null,
            "min_width": null,
            "border": null,
            "align_items": null,
            "bottom": null,
            "_model_module": "@jupyter-widgets/base",
            "top": null,
            "grid_column": null,
            "overflow_y": null,
            "overflow_x": null,
            "grid_auto_flow": null,
            "grid_area": null,
            "grid_template_columns": null,
            "flex": null,
            "_model_name": "LayoutModel",
            "justify_items": null,
            "grid_row": null,
            "max_height": null,
            "align_content": null,
            "visibility": null,
            "align_self": null,
            "height": null,
            "min_height": null,
            "padding": null,
            "grid_auto_rows": null,
            "grid_gap": null,
            "max_width": null,
            "order": null,
            "_view_module_version": "1.2.0",
            "grid_template_areas": null,
            "object_position": null,
            "object_fit": null,
            "grid_auto_columns": null,
            "margin": null,
            "display": null,
            "left": null
          }
        },
        "4faff983f4ca42c1a969a19bc764cee1": {
          "model_module": "@jupyter-widgets/controls",
          "model_name": "HBoxModel",
          "model_module_version": "1.5.0",
          "state": {
            "_view_name": "HBoxView",
            "_dom_classes": [],
            "_model_name": "HBoxModel",
            "_view_module": "@jupyter-widgets/controls",
            "_model_module_version": "1.5.0",
            "_view_count": null,
            "_view_module_version": "1.5.0",
            "box_style": "",
            "layout": "IPY_MODEL_9895788c92f444a6b39fec7da25672ea",
            "_model_module": "@jupyter-widgets/controls",
            "children": [
              "IPY_MODEL_e7ff567ccaa6406890af349e29aeb2a4",
              "IPY_MODEL_f29175eac2e244bba7cc352c214aff38",
              "IPY_MODEL_aa4face4b5ec484394335beafdd4d1f0"
            ]
          }
        },
        "9895788c92f444a6b39fec7da25672ea": {
          "model_module": "@jupyter-widgets/base",
          "model_name": "LayoutModel",
          "model_module_version": "1.2.0",
          "state": {
            "_view_name": "LayoutView",
            "grid_template_rows": null,
            "right": null,
            "justify_content": null,
            "_view_module": "@jupyter-widgets/base",
            "overflow": null,
            "_model_module_version": "1.2.0",
            "_view_count": null,
            "flex_flow": null,
            "width": null,
            "min_width": null,
            "border": null,
            "align_items": null,
            "bottom": null,
            "_model_module": "@jupyter-widgets/base",
            "top": null,
            "grid_column": null,
            "overflow_y": null,
            "overflow_x": null,
            "grid_auto_flow": null,
            "grid_area": null,
            "grid_template_columns": null,
            "flex": null,
            "_model_name": "LayoutModel",
            "justify_items": null,
            "grid_row": null,
            "max_height": null,
            "align_content": null,
            "visibility": null,
            "align_self": null,
            "height": null,
            "min_height": null,
            "padding": null,
            "grid_auto_rows": null,
            "grid_gap": null,
            "max_width": null,
            "order": null,
            "_view_module_version": "1.2.0",
            "grid_template_areas": null,
            "object_position": null,
            "object_fit": null,
            "grid_auto_columns": null,
            "margin": null,
            "display": null,
            "left": null
          }
        },
        "e7ff567ccaa6406890af349e29aeb2a4": {
          "model_module": "@jupyter-widgets/controls",
          "model_name": "HTMLModel",
          "model_module_version": "1.5.0",
          "state": {
            "_view_name": "HTMLView",
            "style": "IPY_MODEL_4fb35ece21934d44a8ff9c96645eb8ce",
            "_dom_classes": [],
            "description": "",
            "_model_name": "HTMLModel",
            "placeholder": "​",
            "_view_module": "@jupyter-widgets/controls",
            "_model_module_version": "1.5.0",
            "value": "Downloading: 100%",
            "_view_count": null,
            "_view_module_version": "1.5.0",
            "description_tooltip": null,
            "_model_module": "@jupyter-widgets/controls",
            "layout": "IPY_MODEL_1f1a94208c8c4b9eaf4761484f761cc3"
          }
        },
        "f29175eac2e244bba7cc352c214aff38": {
          "model_module": "@jupyter-widgets/controls",
          "model_name": "FloatProgressModel",
          "model_module_version": "1.5.0",
          "state": {
            "_view_name": "ProgressView",
            "style": "IPY_MODEL_6b1c4f76a6c84636910a016daafc5430",
            "_dom_classes": [],
            "description": "",
            "_model_name": "FloatProgressModel",
            "bar_style": "success",
            "max": 1334448817,
            "_view_module": "@jupyter-widgets/controls",
            "_model_module_version": "1.5.0",
            "value": 1334448817,
            "_view_count": null,
            "_view_module_version": "1.5.0",
            "orientation": "horizontal",
            "min": 0,
            "description_tooltip": null,
            "_model_module": "@jupyter-widgets/controls",
            "layout": "IPY_MODEL_3d9dc4b067b84232b3679dfbbbc4dc38"
          }
        },
        "aa4face4b5ec484394335beafdd4d1f0": {
          "model_module": "@jupyter-widgets/controls",
          "model_name": "HTMLModel",
          "model_module_version": "1.5.0",
          "state": {
            "_view_name": "HTMLView",
            "style": "IPY_MODEL_6613cd1bc2e44cdba2ceb5c73f58e76d",
            "_dom_classes": [],
            "description": "",
            "_model_name": "HTMLModel",
            "placeholder": "​",
            "_view_module": "@jupyter-widgets/controls",
            "_model_module_version": "1.5.0",
            "value": " 1.24G/1.24G [00:41&lt;00:00, 32.7MB/s]",
            "_view_count": null,
            "_view_module_version": "1.5.0",
            "description_tooltip": null,
            "_model_module": "@jupyter-widgets/controls",
            "layout": "IPY_MODEL_958e0d28f0894dc2911bfe6ead8276f3"
          }
        },
        "4fb35ece21934d44a8ff9c96645eb8ce": {
          "model_module": "@jupyter-widgets/controls",
          "model_name": "DescriptionStyleModel",
          "model_module_version": "1.5.0",
          "state": {
            "_view_name": "StyleView",
            "_model_name": "DescriptionStyleModel",
            "description_width": "",
            "_view_module": "@jupyter-widgets/base",
            "_model_module_version": "1.5.0",
            "_view_count": null,
            "_view_module_version": "1.2.0",
            "_model_module": "@jupyter-widgets/controls"
          }
        },
        "1f1a94208c8c4b9eaf4761484f761cc3": {
          "model_module": "@jupyter-widgets/base",
          "model_name": "LayoutModel",
          "model_module_version": "1.2.0",
          "state": {
            "_view_name": "LayoutView",
            "grid_template_rows": null,
            "right": null,
            "justify_content": null,
            "_view_module": "@jupyter-widgets/base",
            "overflow": null,
            "_model_module_version": "1.2.0",
            "_view_count": null,
            "flex_flow": null,
            "width": null,
            "min_width": null,
            "border": null,
            "align_items": null,
            "bottom": null,
            "_model_module": "@jupyter-widgets/base",
            "top": null,
            "grid_column": null,
            "overflow_y": null,
            "overflow_x": null,
            "grid_auto_flow": null,
            "grid_area": null,
            "grid_template_columns": null,
            "flex": null,
            "_model_name": "LayoutModel",
            "justify_items": null,
            "grid_row": null,
            "max_height": null,
            "align_content": null,
            "visibility": null,
            "align_self": null,
            "height": null,
            "min_height": null,
            "padding": null,
            "grid_auto_rows": null,
            "grid_gap": null,
            "max_width": null,
            "order": null,
            "_view_module_version": "1.2.0",
            "grid_template_areas": null,
            "object_position": null,
            "object_fit": null,
            "grid_auto_columns": null,
            "margin": null,
            "display": null,
            "left": null
          }
        },
        "6b1c4f76a6c84636910a016daafc5430": {
          "model_module": "@jupyter-widgets/controls",
          "model_name": "ProgressStyleModel",
          "model_module_version": "1.5.0",
          "state": {
            "_view_name": "StyleView",
            "_model_name": "ProgressStyleModel",
            "description_width": "",
            "_view_module": "@jupyter-widgets/base",
            "_model_module_version": "1.5.0",
            "_view_count": null,
            "_view_module_version": "1.2.0",
            "bar_color": null,
            "_model_module": "@jupyter-widgets/controls"
          }
        },
        "3d9dc4b067b84232b3679dfbbbc4dc38": {
          "model_module": "@jupyter-widgets/base",
          "model_name": "LayoutModel",
          "model_module_version": "1.2.0",
          "state": {
            "_view_name": "LayoutView",
            "grid_template_rows": null,
            "right": null,
            "justify_content": null,
            "_view_module": "@jupyter-widgets/base",
            "overflow": null,
            "_model_module_version": "1.2.0",
            "_view_count": null,
            "flex_flow": null,
            "width": null,
            "min_width": null,
            "border": null,
            "align_items": null,
            "bottom": null,
            "_model_module": "@jupyter-widgets/base",
            "top": null,
            "grid_column": null,
            "overflow_y": null,
            "overflow_x": null,
            "grid_auto_flow": null,
            "grid_area": null,
            "grid_template_columns": null,
            "flex": null,
            "_model_name": "LayoutModel",
            "justify_items": null,
            "grid_row": null,
            "max_height": null,
            "align_content": null,
            "visibility": null,
            "align_self": null,
            "height": null,
            "min_height": null,
            "padding": null,
            "grid_auto_rows": null,
            "grid_gap": null,
            "max_width": null,
            "order": null,
            "_view_module_version": "1.2.0",
            "grid_template_areas": null,
            "object_position": null,
            "object_fit": null,
            "grid_auto_columns": null,
            "margin": null,
            "display": null,
            "left": null
          }
        },
        "6613cd1bc2e44cdba2ceb5c73f58e76d": {
          "model_module": "@jupyter-widgets/controls",
          "model_name": "DescriptionStyleModel",
          "model_module_version": "1.5.0",
          "state": {
            "_view_name": "StyleView",
            "_model_name": "DescriptionStyleModel",
            "description_width": "",
            "_view_module": "@jupyter-widgets/base",
            "_model_module_version": "1.5.0",
            "_view_count": null,
            "_view_module_version": "1.2.0",
            "_model_module": "@jupyter-widgets/controls"
          }
        },
        "958e0d28f0894dc2911bfe6ead8276f3": {
          "model_module": "@jupyter-widgets/base",
          "model_name": "LayoutModel",
          "model_module_version": "1.2.0",
          "state": {
            "_view_name": "LayoutView",
            "grid_template_rows": null,
            "right": null,
            "justify_content": null,
            "_view_module": "@jupyter-widgets/base",
            "overflow": null,
            "_model_module_version": "1.2.0",
            "_view_count": null,
            "flex_flow": null,
            "width": null,
            "min_width": null,
            "border": null,
            "align_items": null,
            "bottom": null,
            "_model_module": "@jupyter-widgets/base",
            "top": null,
            "grid_column": null,
            "overflow_y": null,
            "overflow_x": null,
            "grid_auto_flow": null,
            "grid_area": null,
            "grid_template_columns": null,
            "flex": null,
            "_model_name": "LayoutModel",
            "justify_items": null,
            "grid_row": null,
            "max_height": null,
            "align_content": null,
            "visibility": null,
            "align_self": null,
            "height": null,
            "min_height": null,
            "padding": null,
            "grid_auto_rows": null,
            "grid_gap": null,
            "max_width": null,
            "order": null,
            "_view_module_version": "1.2.0",
            "grid_template_areas": null,
            "object_position": null,
            "object_fit": null,
            "grid_auto_columns": null,
            "margin": null,
            "display": null,
            "left": null
          }
        }
      }
    }
  },
  "cells": [
    {
      "cell_type": "markdown",
      "source": [
        "# Fast tokenizers' special powers \n",
        "\n",
        "Reproduce the results of token-classification(ner) and question-answering pipeline."
      ],
      "metadata": {
        "id": "qitAgZQt0MSE"
      }
    },
    {
      "cell_type": "code",
      "source": [
        "%%capture\n",
        "!pip install datasets transformers[sentencepiece]"
      ],
      "metadata": {
        "id": "ZH48nw2h8mKX"
      },
      "execution_count": 1,
      "outputs": []
    },
    {
      "cell_type": "code",
      "source": [
        "%%capture\n",
        "!pip install fastcore\n",
        "!pip install rich"
      ],
      "metadata": {
        "id": "m9TXGOruAexy"
      },
      "execution_count": 6,
      "outputs": []
    },
    {
      "cell_type": "code",
      "source": [
        "from rich import print as rprint\n",
        "from rich import inspect"
      ],
      "metadata": {
        "id": "DV-PgmxzNGD7"
      },
      "execution_count": 8,
      "outputs": []
    },
    {
      "cell_type": "markdown",
      "source": [
        "- how to define Fast tokenizer(default) and Slow tokenizer using AutoTokenizer api from transformers\n",
        "  - fast -> `AutoTokenizer.from_pretrained('bert-base-uncased')` \n",
        "  - slow -> `AutoTokenizer.from_pretrained('bert-base-uncased', use_fast=False)`\n",
        "\n",
        "- Properly using a fast tokenizer requires giving it multiple texts at the same time (batches of text).\n",
        "`raw_datasets.mpa(tokenize_with_fast, batched=True)` -> this is much faster ie more than 20 times faster\n",
        "\n",
        "- Slow tokenizers are written in Python inside transformers library whereas fast versions are provided by tokenizers library written in Rust.\n",
        "\n",
        "| batched | Fast tokenizer | Slow tokenizer |\n",
        "| --- | --- | --- |\n",
        "|  True | 10.8s | 4min 41s |\n",
        "| False | 59.2s | 5min 3s |  \n",
        "\n",
        "\n",
        "⚠️ When tokenizing a single sentence, you won’t always see a difference in speed between the slow and fast versions of the same tokenizer. In fact, the fast version might actually be slower! \n",
        "\n",
        "It’s only when ***tokenizing lots of texts in parallel at the same time*** that you will be able to clearly see the difference.\n"
      ],
      "metadata": {
        "id": "yy6m-7CL0Qlh"
      }
    },
    {
      "cell_type": "markdown",
      "source": [
        "## Batch encoding\n",
        "\n",
        "- When performing tokenization, we may lose information\n",
        "- Not obvious to know which word a token belongs to.\n",
        "- Fast tokenizer keep track of the word each token comes from. \n",
        "```\n",
        "tokenizer = AutoTokenizer.from_pretrained('bert-base-uncased')\n",
        "encoding = tokenizer('Let's talk about tokenizer superpowers', return_offsets_mapping=True)\n",
        "print(encoding.tokens())\n",
        "print(encoding.word_ids())\n",
        "``` \n",
        "- Keep track of each character span in the original text that gave each token.\n",
        "```\n",
        "print(encoding['offset_mapping'])\n",
        "```\n",
        "- Internal Pipeline of the tokenizer is **Normalization -> Pre-tokenization -> Model -> Special tokens**\n",
        "\n",
        "- Word IDs application (Whole word masking, Token Classification)\n",
        "\n",
        "- Offset Mapping application (question answering, token classification)"
      ],
      "metadata": {
        "id": "iKY1kwOe3EyT"
      }
    },
    {
      "cell_type": "code",
      "source": [
        "import transformers"
      ],
      "metadata": {
        "id": "5UeqCmkoBBn9"
      },
      "execution_count": 27,
      "outputs": []
    },
    {
      "cell_type": "code",
      "source": [
        "from transformers import AutoTokenizer\n",
        "from fastcore.test import *\n",
        "\n",
        "tok = AutoTokenizer.from_pretrained('bert-base-uncased')\n",
        "ex = 'My name is Manikandan and I work at Red Hat in Canada.'\n",
        "\n",
        "encoding = tok(ex)\n",
        "print(type(encoding))\n",
        "test_eq(type(encoding), transformers.tokenization_utils_base.BatchEncoding)"
      ],
      "metadata": {
        "colab": {
          "base_uri": "https://localhost:8080/"
        },
        "id": "4HK0Vb0g8o3s",
        "outputId": "a3131fd3-33ee-45fb-8c85-30681593de85"
      },
      "execution_count": 28,
      "outputs": [
        {
          "output_type": "stream",
          "name": "stdout",
          "text": [
            "<class 'transformers.tokenization_utils_base.BatchEncoding'>\n"
          ]
        }
      ]
    },
    {
      "cell_type": "code",
      "source": [
        "# check if our tokenizer is a fast or a slow one by checking the attribute of tokenizer or encoding\n",
        "test_eq(tok.is_fast, True)\n",
        "test_eq(encoding.is_fast, True)"
      ],
      "metadata": {
        "id": "zjaVZTVsBPh1"
      },
      "execution_count": 29,
      "outputs": []
    },
    {
      "cell_type": "code",
      "source": [
        "# access the tokens without having to convert the IDs back to tokens\n",
        "print(encoding.tokens())"
      ],
      "metadata": {
        "colab": {
          "base_uri": "https://localhost:8080/"
        },
        "id": "C218UqMlBiT_",
        "outputId": "553715aa-b2ac-4e9a-da31-bbce76463524"
      },
      "execution_count": 30,
      "outputs": [
        {
          "output_type": "stream",
          "name": "stdout",
          "text": [
            "['[CLS]', 'my', 'name', 'is', 'mani', '##kan', '##dan', 'and', 'i', 'work', 'at', 'red', 'hat', 'in', 'canada', '.', '[SEP]']\n"
          ]
        }
      ]
    },
    {
      "cell_type": "code",
      "source": [
        "expected = ['[CLS]', 'my', 'name', 'is', 'mani', '##kan', '##dan', 'and', 'i', 'work', 'at', 'red', 'hat', 'in', 'canada', '.', '[SEP]']\n",
        "\n",
        "test_eq(encoding.tokens(), expected)"
      ],
      "metadata": {
        "id": "ab3_ivrMBwuY"
      },
      "execution_count": 31,
      "outputs": []
    },
    {
      "cell_type": "code",
      "source": [
        "# use the word_ids() method to get the index of the word each token comes from\n",
        "encoding.word_ids()"
      ],
      "metadata": {
        "colab": {
          "base_uri": "https://localhost:8080/"
        },
        "id": "Q9fdEPyUB2fB",
        "outputId": "d0375cb7-9a75-4467-953c-dd752ad23316"
      },
      "execution_count": 32,
      "outputs": [
        {
          "output_type": "execute_result",
          "data": {
            "text/plain": [
              "[None, 0, 1, 2, 3, 3, 3, 4, 5, 6, 7, 8, 9, 10, 11, 12, None]"
            ]
          },
          "metadata": {},
          "execution_count": 32
        }
      ]
    },
    {
      "cell_type": "markdown",
      "source": [
        "- Note: Special tokens such as [CLS] & [SEP] are mapped to None.\n",
        "\n",
        "- This is useful to determine if token is **at the start of a word** or **if two tokens are in the same word**.\n",
        "\n",
        "- Capabilities powered by offset mapping\n",
        "  - applying labels for each word properly in the tokens (NER, POS tagging)\n",
        "  - mask all tokens coming from the same word in masked language modeling (**whole word masking**)"
      ],
      "metadata": {
        "id": "7TlWeYmj3pJS"
      }
    },
    {
      "cell_type": "code",
      "source": [
        "start, end = encoding.word_to_chars(3)\n",
        "test_eq(ex[start:end], 'Manikandan')"
      ],
      "metadata": {
        "id": "rgLzh5_bGDTA"
      },
      "execution_count": 35,
      "outputs": []
    },
    {
      "cell_type": "markdown",
      "source": [
        "**Tip**\n",
        "\n",
        "The notion of what a word is is complicated. For instance, does “I’ll” (a contraction of “I will”) count as one or two words? It actually ***depends on the tokenizer and the pre-tokenization operation*** it applies. Some tokenizers just split on spaces, so they will consider this as one word. Others use punctuation on top of spaces, so will consider it two words.\n",
        "\n",
        "✏️ Try it out! Create a tokenizer from the bert-base-cased and roberta-base checkpoints and tokenize ”81s” with them. What do you observe? What are the word IDs?\n",
        "\n",
        "Ans: bert-base-cased treat 81s as a single token based on '##s' and both tokens referring to the same index 0. roberta-base split 81s into two tokens. "
      ],
      "metadata": {
        "id": "AeCo3g3_C7C4"
      }
    },
    {
      "cell_type": "code",
      "source": [
        "# bert-base-cased\n",
        "tok = AutoTokenizer.from_pretrained('bert-base-cased')\n",
        "enc = tok('81s')\n",
        "\n",
        "test_eq(enc.tokens(), ['[CLS]', '81', '##s', '[SEP]'])\n",
        "test_eq(enc.word_ids(), [None, 0, 0, None])"
      ],
      "metadata": {
        "id": "9LHYEB3NEI0S"
      },
      "execution_count": 25,
      "outputs": []
    },
    {
      "cell_type": "code",
      "source": [
        "# roberta-base\n",
        "tok = AutoTokenizer.from_pretrained('roberta-base')\n",
        "enc = tok('81s')\n",
        "\n",
        "test_eq(enc.tokens(),  ['<s>', '81', 's', '</s>'])\n",
        "test_eq(enc.word_ids(), [None, 0, 1, None])"
      ],
      "metadata": {
        "id": "UXOh3-xuEWJV"
      },
      "execution_count": 26,
      "outputs": []
    },
    {
      "cell_type": "markdown",
      "source": [
        "✏️ Try it out! Create your own example text and see if you can understand which tokens are associated with word ID, and also how to extract the character spans for a single word. For bonus points, try using two sentences as input and see if the sentence IDs make sense to you."
      ],
      "metadata": {
        "id": "hs6zpMJCEiuR"
      }
    },
    {
      "cell_type": "markdown",
      "source": [
        "## Inside the token-classification pipeline\n",
        "\n",
        "- tok cls pipeline assigns a label to each token in sentence.\n",
        "- groups the tokens together belonging to the same entity.\n",
        "- Tok cls pipeline : Tokenizer -> Model -> Postprocessing\n",
        "- model outputs the logits. logits need to converted into proba. \n",
        "- label correspondence then lets us match each prediction to the label\n",
        "- start & end char positions are found using offset mappings.\n",
        "- finally group all the tokens corresponding to the same entity\n",
        "- we group together tokens with the same label unles it's a B-XXX"
      ],
      "metadata": {
        "id": "yYwGCRk4GXvK"
      }
    },
    {
      "cell_type": "markdown",
      "source": [
        "## Getting the base results with the pipeline\n"
      ],
      "metadata": {
        "id": "pjCmm_ROGc8X"
      }
    },
    {
      "cell_type": "code",
      "source": [
        "from transformers import pipeline\n",
        "from pprint import pprint\n",
        "\n",
        "# The model used by default is dbmdz/bert-large-cased-finetuned-conll03-english; it performs NER on sentences\n",
        "tok_cls = pipeline('token-classification')\n",
        "\n",
        "pprint(tok_cls('My name is Manikandan and I work at Red Hat in Canada.'))"
      ],
      "metadata": {
        "colab": {
          "base_uri": "https://localhost:8080/"
        },
        "id": "bz4hJoT0KEqV",
        "outputId": "eb04a9b3-1908-4591-dd92-1d7da8b675d2"
      },
      "execution_count": 41,
      "outputs": [
        {
          "output_type": "stream",
          "name": "stderr",
          "text": [
            "No model was supplied, defaulted to dbmdz/bert-large-cased-finetuned-conll03-english (https://huggingface.co/dbmdz/bert-large-cased-finetuned-conll03-english)\n"
          ]
        },
        {
          "output_type": "stream",
          "name": "stdout",
          "text": [
            "[{'end': 14,\n",
            "  'entity': 'I-PER',\n",
            "  'index': 4,\n",
            "  'score': 0.99883395,\n",
            "  'start': 11,\n",
            "  'word': 'Man'},\n",
            " {'end': 17,\n",
            "  'entity': 'I-PER',\n",
            "  'index': 5,\n",
            "  'score': 0.98901176,\n",
            "  'start': 14,\n",
            "  'word': '##ika'},\n",
            " {'end': 20,\n",
            "  'entity': 'I-PER',\n",
            "  'index': 6,\n",
            "  'score': 0.99430144,\n",
            "  'start': 17,\n",
            "  'word': '##nda'},\n",
            " {'end': 21,\n",
            "  'entity': 'I-PER',\n",
            "  'index': 7,\n",
            "  'score': 0.9943057,\n",
            "  'start': 20,\n",
            "  'word': '##n'},\n",
            " {'end': 39,\n",
            "  'entity': 'I-ORG',\n",
            "  'index': 12,\n",
            "  'score': 0.9986511,\n",
            "  'start': 36,\n",
            "  'word': 'Red'},\n",
            " {'end': 43,\n",
            "  'entity': 'I-ORG',\n",
            "  'index': 13,\n",
            "  'score': 0.99593204,\n",
            "  'start': 40,\n",
            "  'word': 'Hat'},\n",
            " {'end': 53,\n",
            "  'entity': 'I-LOC',\n",
            "  'index': 15,\n",
            "  'score': 0.9997646,\n",
            "  'start': 47,\n",
            "  'word': 'Canada'}]\n"
          ]
        }
      ]
    },
    {
      "cell_type": "code",
      "source": [
        "from pprint import pprint"
      ],
      "metadata": {
        "id": "bCHKpfGPLEF2"
      },
      "execution_count": 39,
      "outputs": []
    },
    {
      "cell_type": "code",
      "source": [
        "# let's ask pipeline to group together the tokens that correspond to the same entity\n",
        "\n",
        "from transformers import pipeline\n",
        "\n",
        "# The aggregation_strategy picked will change the scores computed for each grouped entity. \n",
        "# With \"simple\" the score is just the mean of the scores of each token in the given entity\n",
        "# aggregation_strategy = ['first', 'simple', 'max', 'average']\n",
        "\n",
        "tok_cls = pipeline('token-classification', aggregation_strategy='simple')\n",
        "print(tok_cls('My name is Manikandan and I work at Red Hat in Canada.'))"
      ],
      "metadata": {
        "colab": {
          "base_uri": "https://localhost:8080/"
        },
        "id": "3qiJhUSsKuId",
        "outputId": "518a5de1-b0b4-47c7-e299-8d5fd014c4a6"
      },
      "execution_count": 37,
      "outputs": [
        {
          "output_type": "stream",
          "name": "stderr",
          "text": [
            "No model was supplied, defaulted to dbmdz/bert-large-cased-finetuned-conll03-english (https://huggingface.co/dbmdz/bert-large-cased-finetuned-conll03-english)\n"
          ]
        },
        {
          "output_type": "stream",
          "name": "stdout",
          "text": [
            "[{'entity_group': 'PER', 'score': 0.9941132, 'word': 'Manikandan', 'start': 11, 'end': 21}, {'entity_group': 'ORG', 'score': 0.99729156, 'word': 'Red Hat', 'start': 36, 'end': 43}, {'entity_group': 'LOC', 'score': 0.9997646, 'word': 'Canada', 'start': 47, 'end': 53}]\n"
          ]
        }
      ]
    },
    {
      "cell_type": "code",
      "source": [
        "pprint(tok_cls('My name is Manikandan and I work at Red Hat in Canada.'))"
      ],
      "metadata": {
        "colab": {
          "base_uri": "https://localhost:8080/"
        },
        "id": "gsK075u_LM92",
        "outputId": "a8e77fcc-bcab-4715-c0b1-750b0054e1dd"
      },
      "execution_count": 40,
      "outputs": [
        {
          "output_type": "stream",
          "name": "stdout",
          "text": [
            "[{'end': 21,\n",
            "  'entity_group': 'PER',\n",
            "  'score': 0.9941132,\n",
            "  'start': 11,\n",
            "  'word': 'Manikandan'},\n",
            " {'end': 43,\n",
            "  'entity_group': 'ORG',\n",
            "  'score': 0.99729156,\n",
            "  'start': 36,\n",
            "  'word': 'Red Hat'},\n",
            " {'end': 53,\n",
            "  'entity_group': 'LOC',\n",
            "  'score': 0.9997646,\n",
            "  'start': 47,\n",
            "  'word': 'Canada'}]\n"
          ]
        }
      ]
    },
    {
      "cell_type": "markdown",
      "source": [
        "## From inputs to predictions"
      ],
      "metadata": {
        "id": "LHPhjecOHFur"
      }
    },
    {
      "cell_type": "markdown",
      "source": [
        "Let's try the same without using pipeline."
      ],
      "metadata": {
        "id": "zUK3hmEwMGgX"
      }
    },
    {
      "cell_type": "code",
      "source": [
        "from transformers import AutoTokenizer, AutoModelForTokenClassification"
      ],
      "metadata": {
        "id": "PPJnICdLMLOH"
      },
      "execution_count": 3,
      "outputs": []
    },
    {
      "cell_type": "code",
      "source": [
        "model_checkpoint = \"dbmdz/bert-large-cased-finetuned-conll03-english\"\n",
        "tok = AutoTokenizer.from_pretrained(model_checkpoint)\n",
        "model = AutoModelForTokenClassification.from_pretrained(model_checkpoint)"
      ],
      "metadata": {
        "colab": {
          "base_uri": "https://localhost:8080/",
          "height": 144,
          "referenced_widgets": [
            "df0050edfd774dbdb0c6ab26622439c2",
            "1af7ebb84b52467b9ca99e344037ff89",
            "2d1103f572f6442496be8e62eefb553d",
            "c6622db219bd4efbb532d115ca8efe0e",
            "80065379716b45aeaaac25143264723b",
            "fdbf08dcb4bd4b4587b99f5352cf1b44",
            "a4e9a5769ef04731b8fd7a3ad2ca2193",
            "c4487cc9cb7a4ca6b8bd4c45a1d202ca",
            "9d2e216d0c9747d0bd0fbb339ed8ce26",
            "28eadddd49b14e7095e46e57066b83c1",
            "2e5646e26ff34bce97b85fecca97d6ef",
            "0d05e89e46e94c3f9db10640355b7fcf",
            "5813e76180c840f2a46e769b191e1c4b",
            "6275e1f58d4e464f9fc0bfa49099c861",
            "8ca8728722b54d0bb5f72456c042a3a5",
            "3fdb447437fe42ccbc33513a4b1399a6",
            "d55b6e4241d54579bd303f060cba3edc",
            "67e0f96483eb44b2ad0a67c7af0cb6c1",
            "9c5cebfcbfd74d21944172cab91799d7",
            "2c94c0414946416d8ddd4e1ac94c383f",
            "c3e415256b3348418ae215c4c70945f5",
            "76a29de3658341458639640f94a4e8b4",
            "2619245b177144c1a36526050d406e0a",
            "086263340ee945a6b7065f0c8ef5d1a9",
            "2fec1bb6df1342ccafc32a5d6f860b97",
            "b9953df49906474a861625c4d53d6d2c",
            "7c7878f32ac9418ab9d1dbd288ff87be",
            "d0d1b16888664270b7e72595649bdd64",
            "ec3bef5b94984e36a343912430754aa1",
            "69dd8c216e8a403587fa4923ef1bf330",
            "c7383a7bbdc94f5faf7cc7444b0faab6",
            "5f33a4d718204bea9671dbe3d2a6a228",
            "e1b17e258a534adca78e8c0cf19cf6f7",
            "4faff983f4ca42c1a969a19bc764cee1",
            "9895788c92f444a6b39fec7da25672ea",
            "e7ff567ccaa6406890af349e29aeb2a4",
            "f29175eac2e244bba7cc352c214aff38",
            "aa4face4b5ec484394335beafdd4d1f0",
            "4fb35ece21934d44a8ff9c96645eb8ce",
            "1f1a94208c8c4b9eaf4761484f761cc3",
            "6b1c4f76a6c84636910a016daafc5430",
            "3d9dc4b067b84232b3679dfbbbc4dc38",
            "6613cd1bc2e44cdba2ceb5c73f58e76d",
            "958e0d28f0894dc2911bfe6ead8276f3"
          ]
        },
        "id": "Ud7_PSXoMO37",
        "outputId": "bfd92c01-fad3-4eb6-c577-fbeb0ae10ab2"
      },
      "execution_count": 4,
      "outputs": [
        {
          "output_type": "display_data",
          "data": {
            "application/vnd.jupyter.widget-view+json": {
              "model_id": "df0050edfd774dbdb0c6ab26622439c2",
              "version_minor": 0,
              "version_major": 2
            },
            "text/plain": [
              "Downloading:   0%|          | 0.00/60.0 [00:00<?, ?B/s]"
            ]
          },
          "metadata": {}
        },
        {
          "output_type": "display_data",
          "data": {
            "application/vnd.jupyter.widget-view+json": {
              "model_id": "0d05e89e46e94c3f9db10640355b7fcf",
              "version_minor": 0,
              "version_major": 2
            },
            "text/plain": [
              "Downloading:   0%|          | 0.00/998 [00:00<?, ?B/s]"
            ]
          },
          "metadata": {}
        },
        {
          "output_type": "display_data",
          "data": {
            "application/vnd.jupyter.widget-view+json": {
              "model_id": "2619245b177144c1a36526050d406e0a",
              "version_minor": 0,
              "version_major": 2
            },
            "text/plain": [
              "Downloading:   0%|          | 0.00/208k [00:00<?, ?B/s]"
            ]
          },
          "metadata": {}
        },
        {
          "output_type": "display_data",
          "data": {
            "application/vnd.jupyter.widget-view+json": {
              "model_id": "4faff983f4ca42c1a969a19bc764cee1",
              "version_minor": 0,
              "version_major": 2
            },
            "text/plain": [
              "Downloading:   0%|          | 0.00/1.24G [00:00<?, ?B/s]"
            ]
          },
          "metadata": {}
        }
      ]
    },
    {
      "cell_type": "code",
      "source": [
        "#inspect(tok, methods=True)"
      ],
      "metadata": {
        "id": "o1z3r8yGNQ1I"
      },
      "execution_count": 10,
      "outputs": []
    },
    {
      "cell_type": "code",
      "source": [
        "ex = 'My name is Manikandan and I work at Red Hat in Canada.'\n",
        "inputs = tok(ex, return_tensors='pt')"
      ],
      "metadata": {
        "id": "4_9LXG2fMeP6"
      },
      "execution_count": 12,
      "outputs": []
    },
    {
      "cell_type": "code",
      "source": [
        "type(inputs)"
      ],
      "metadata": {
        "colab": {
          "base_uri": "https://localhost:8080/"
        },
        "id": "MtG2nSX-Nuni",
        "outputId": "1bbc2948-6581-4688-8c0e-c3fc383d93f4"
      },
      "execution_count": 13,
      "outputs": [
        {
          "output_type": "execute_result",
          "data": {
            "text/plain": [
              "transformers.tokenization_utils_base.BatchEncoding"
            ]
          },
          "metadata": {},
          "execution_count": 13
        }
      ]
    },
    {
      "cell_type": "code",
      "source": [
        "inspect(inputs)"
      ],
      "metadata": {
        "colab": {
          "base_uri": "https://localhost:8080/",
          "height": 583
        },
        "id": "W06F6oglNx2Y",
        "outputId": "62ac6921-19e0-4a90-9481-e42f39261088"
      },
      "execution_count": 14,
      "outputs": [
        {
          "output_type": "display_data",
          "data": {
            "text/html": [
              "<pre style=\"white-space:pre;overflow-x:auto;line-height:normal;font-family:Menlo,'DejaVu Sans Mono',consolas,'Courier New',monospace\"><span style=\"color: #000080; text-decoration-color: #000080\">╭────────────── </span><span style=\"color: #000080; text-decoration-color: #000080; font-weight: bold\">&lt;</span><span style=\"color: #ff00ff; text-decoration-color: #ff00ff; font-weight: bold\">class</span><span style=\"color: #000000; text-decoration-color: #000000\"> </span><span style=\"color: #008000; text-decoration-color: #008000\">'transformers.tokenization_utils_base.BatchEncoding'</span><span style=\"color: #000080; text-decoration-color: #000080; font-weight: bold\">&gt;</span><span style=\"color: #000080; text-decoration-color: #000080\"> ───────────────╮</span>\n",
              "<span style=\"color: #000080; text-decoration-color: #000080\">│</span> <span style=\"color: #008080; text-decoration-color: #008080\">Holds the output of the </span><span style=\"color: #008080; text-decoration-color: #008080; font-weight: bold\">[</span><span style=\"color: #008080; text-decoration-color: #008080\">`~tokenization_utils_base.PreTrainedTokenizerBase.encode_plus`</span><span style=\"color: #008080; text-decoration-color: #008080; font-weight: bold\">]</span><span style=\"color: #008080; text-decoration-color: #008080\"> </span> <span style=\"color: #000080; text-decoration-color: #000080\">│</span>\n",
              "<span style=\"color: #000080; text-decoration-color: #000080\">│</span> <span style=\"color: #008080; text-decoration-color: #008080\">and</span>                                                                                       <span style=\"color: #000080; text-decoration-color: #000080\">│</span>\n",
              "<span style=\"color: #000080; text-decoration-color: #000080\">│</span> <span style=\"color: #008080; text-decoration-color: #008080; font-weight: bold\">[</span><span style=\"color: #008080; text-decoration-color: #008080\">`~tokenization_utils_base.PreTrainedTokenizerBase.batch_encode`</span><span style=\"color: #008080; text-decoration-color: #008080; font-weight: bold\">]</span><span style=\"color: #008080; text-decoration-color: #008080\"> methods </span><span style=\"color: #008080; text-decoration-color: #008080; font-weight: bold\">(</span><span style=\"color: #008080; text-decoration-color: #008080\">tokens,</span>        <span style=\"color: #000080; text-decoration-color: #000080\">│</span>\n",
              "<span style=\"color: #000080; text-decoration-color: #000080\">│</span> <span style=\"color: #008080; text-decoration-color: #008080\">attention_masks, etc</span><span style=\"color: #008080; text-decoration-color: #008080; font-weight: bold\">)</span><span style=\"color: #008080; text-decoration-color: #008080\">.</span>                                                                    <span style=\"color: #000080; text-decoration-color: #000080\">│</span>\n",
              "<span style=\"color: #000080; text-decoration-color: #000080\">│</span>                                                                                           <span style=\"color: #000080; text-decoration-color: #000080\">│</span>\n",
              "<span style=\"color: #000080; text-decoration-color: #000080\">│</span> <span style=\"color: #008000; text-decoration-color: #008000\">╭───────────────────────────────────────────────────────────────────────────────────────╮</span> <span style=\"color: #000080; text-decoration-color: #000080\">│</span>\n",
              "<span style=\"color: #000080; text-decoration-color: #000080\">│</span> <span style=\"color: #008000; text-decoration-color: #008000\">│</span> <span style=\"font-weight: bold\">{</span>                                                                                     <span style=\"color: #008000; text-decoration-color: #008000\">│</span> <span style=\"color: #000080; text-decoration-color: #000080\">│</span>\n",
              "<span style=\"color: #000080; text-decoration-color: #000080\">│</span> <span style=\"color: #008000; text-decoration-color: #008000\">│</span> <span style=\"color: #7fbf7f; text-decoration-color: #7fbf7f\">│   </span><span style=\"color: #008000; text-decoration-color: #008000\">'input_ids'</span>: <span style=\"color: #800080; text-decoration-color: #800080; font-weight: bold\">tensor</span><span style=\"font-weight: bold\">([[</span>  <span style=\"color: #008080; text-decoration-color: #008080; font-weight: bold\">101</span>,  <span style=\"color: #008080; text-decoration-color: #008080; font-weight: bold\">1422</span>,  <span style=\"color: #008080; text-decoration-color: #008080; font-weight: bold\">1271</span>,  <span style=\"color: #008080; text-decoration-color: #008080; font-weight: bold\">1110</span>,  <span style=\"color: #008080; text-decoration-color: #008080; font-weight: bold\">2268</span>,  <span style=\"color: #008080; text-decoration-color: #008080; font-weight: bold\">7223</span>,  <span style=\"color: #008080; text-decoration-color: #008080; font-weight: bold\">7807</span>,  <span style=\"color: #008080; text-decoration-color: #008080; font-weight: bold\">1179</span>,     <span style=\"color: #008000; text-decoration-color: #008000\">│</span> <span style=\"color: #000080; text-decoration-color: #000080\">│</span>\n",
              "<span style=\"color: #000080; text-decoration-color: #000080\">│</span> <span style=\"color: #008000; text-decoration-color: #008000\">│</span> <span style=\"color: #008080; text-decoration-color: #008080; font-weight: bold\">1105</span>,   <span style=\"color: #008080; text-decoration-color: #008080; font-weight: bold\">146</span>,                                                                          <span style=\"color: #008000; text-decoration-color: #008000\">│</span> <span style=\"color: #000080; text-decoration-color: #000080\">│</span>\n",
              "<span style=\"color: #000080; text-decoration-color: #000080\">│</span> <span style=\"color: #008000; text-decoration-color: #008000\">│</span> <span style=\"color: #7fbf7f; text-decoration-color: #7fbf7f\">│   │     </span><span style=\"color: #008080; text-decoration-color: #008080; font-weight: bold\">1250</span>,  <span style=\"color: #008080; text-decoration-color: #008080; font-weight: bold\">1120</span>,  <span style=\"color: #008080; text-decoration-color: #008080; font-weight: bold\">2156</span>, <span style=\"color: #008080; text-decoration-color: #008080; font-weight: bold\">19454</span>,  <span style=\"color: #008080; text-decoration-color: #008080; font-weight: bold\">1107</span>,  <span style=\"color: #008080; text-decoration-color: #008080; font-weight: bold\">1803</span>,   <span style=\"color: #008080; text-decoration-color: #008080; font-weight: bold\">119</span>,   <span style=\"color: #008080; text-decoration-color: #008080; font-weight: bold\">102</span><span style=\"font-weight: bold\">]])</span>,                   <span style=\"color: #008000; text-decoration-color: #008000\">│</span> <span style=\"color: #000080; text-decoration-color: #000080\">│</span>\n",
              "<span style=\"color: #000080; text-decoration-color: #000080\">│</span> <span style=\"color: #008000; text-decoration-color: #008000\">│</span> <span style=\"color: #7fbf7f; text-decoration-color: #7fbf7f\">│   </span><span style=\"color: #008000; text-decoration-color: #008000\">'token_type_ids'</span>: <span style=\"color: #800080; text-decoration-color: #800080; font-weight: bold\">tensor</span><span style=\"font-weight: bold\">([[</span><span style=\"color: #008080; text-decoration-color: #008080; font-weight: bold\">0</span>, <span style=\"color: #008080; text-decoration-color: #008080; font-weight: bold\">0</span>, <span style=\"color: #008080; text-decoration-color: #008080; font-weight: bold\">0</span>, <span style=\"color: #008080; text-decoration-color: #008080; font-weight: bold\">0</span>, <span style=\"color: #008080; text-decoration-color: #008080; font-weight: bold\">0</span>, <span style=\"color: #008080; text-decoration-color: #008080; font-weight: bold\">0</span>, <span style=\"color: #008080; text-decoration-color: #008080; font-weight: bold\">0</span>, <span style=\"color: #008080; text-decoration-color: #008080; font-weight: bold\">0</span>, <span style=\"color: #008080; text-decoration-color: #008080; font-weight: bold\">0</span>, <span style=\"color: #008080; text-decoration-color: #008080; font-weight: bold\">0</span>, <span style=\"color: #008080; text-decoration-color: #008080; font-weight: bold\">0</span>, <span style=\"color: #008080; text-decoration-color: #008080; font-weight: bold\">0</span>, <span style=\"color: #008080; text-decoration-color: #008080; font-weight: bold\">0</span>, <span style=\"color: #008080; text-decoration-color: #008080; font-weight: bold\">0</span>, <span style=\"color: #008080; text-decoration-color: #008080; font-weight: bold\">0</span>, <span style=\"color: #008080; text-decoration-color: #008080; font-weight: bold\">0</span>, <span style=\"color: #008080; text-decoration-color: #008080; font-weight: bold\">0</span>,     <span style=\"color: #008000; text-decoration-color: #008000\">│</span> <span style=\"color: #000080; text-decoration-color: #000080\">│</span>\n",
              "<span style=\"color: #000080; text-decoration-color: #000080\">│</span> <span style=\"color: #008000; text-decoration-color: #008000\">│</span> <span style=\"color: #008080; text-decoration-color: #008080; font-weight: bold\">0</span><span style=\"font-weight: bold\">]])</span>,                                                                                 <span style=\"color: #008000; text-decoration-color: #008000\">│</span> <span style=\"color: #000080; text-decoration-color: #000080\">│</span>\n",
              "<span style=\"color: #000080; text-decoration-color: #000080\">│</span> <span style=\"color: #008000; text-decoration-color: #008000\">│</span> <span style=\"color: #7fbf7f; text-decoration-color: #7fbf7f\">│   </span><span style=\"color: #008000; text-decoration-color: #008000\">'attention_mask'</span>: <span style=\"color: #800080; text-decoration-color: #800080; font-weight: bold\">tensor</span><span style=\"font-weight: bold\">([[</span><span style=\"color: #008080; text-decoration-color: #008080; font-weight: bold\">1</span>, <span style=\"color: #008080; text-decoration-color: #008080; font-weight: bold\">1</span>, <span style=\"color: #008080; text-decoration-color: #008080; font-weight: bold\">1</span>, <span style=\"color: #008080; text-decoration-color: #008080; font-weight: bold\">1</span>, <span style=\"color: #008080; text-decoration-color: #008080; font-weight: bold\">1</span>, <span style=\"color: #008080; text-decoration-color: #008080; font-weight: bold\">1</span>, <span style=\"color: #008080; text-decoration-color: #008080; font-weight: bold\">1</span>, <span style=\"color: #008080; text-decoration-color: #008080; font-weight: bold\">1</span>, <span style=\"color: #008080; text-decoration-color: #008080; font-weight: bold\">1</span>, <span style=\"color: #008080; text-decoration-color: #008080; font-weight: bold\">1</span>, <span style=\"color: #008080; text-decoration-color: #008080; font-weight: bold\">1</span>, <span style=\"color: #008080; text-decoration-color: #008080; font-weight: bold\">1</span>, <span style=\"color: #008080; text-decoration-color: #008080; font-weight: bold\">1</span>, <span style=\"color: #008080; text-decoration-color: #008080; font-weight: bold\">1</span>, <span style=\"color: #008080; text-decoration-color: #008080; font-weight: bold\">1</span>, <span style=\"color: #008080; text-decoration-color: #008080; font-weight: bold\">1</span>, <span style=\"color: #008080; text-decoration-color: #008080; font-weight: bold\">1</span>,     <span style=\"color: #008000; text-decoration-color: #008000\">│</span> <span style=\"color: #000080; text-decoration-color: #000080\">│</span>\n",
              "<span style=\"color: #000080; text-decoration-color: #000080\">│</span> <span style=\"color: #008000; text-decoration-color: #008000\">│</span> <span style=\"color: #008080; text-decoration-color: #008080; font-weight: bold\">1</span><span style=\"font-weight: bold\">]])</span>                                                                                  <span style=\"color: #008000; text-decoration-color: #008000\">│</span> <span style=\"color: #000080; text-decoration-color: #000080\">│</span>\n",
              "<span style=\"color: #000080; text-decoration-color: #000080\">│</span> <span style=\"color: #008000; text-decoration-color: #008000\">│</span> <span style=\"font-weight: bold\">}</span>                                                                                     <span style=\"color: #008000; text-decoration-color: #008000\">│</span> <span style=\"color: #000080; text-decoration-color: #000080\">│</span>\n",
              "<span style=\"color: #000080; text-decoration-color: #000080\">│</span> <span style=\"color: #008000; text-decoration-color: #008000\">╰───────────────────────────────────────────────────────────────────────────────────────╯</span> <span style=\"color: #000080; text-decoration-color: #000080\">│</span>\n",
              "<span style=\"color: #000080; text-decoration-color: #000080\">│</span>                                                                                           <span style=\"color: #000080; text-decoration-color: #000080\">│</span>\n",
              "<span style=\"color: #000080; text-decoration-color: #000080\">│</span>        <span style=\"color: #808000; text-decoration-color: #808000; font-style: italic\">data</span> = <span style=\"font-weight: bold\">{</span>                                                                           <span style=\"color: #000080; text-decoration-color: #000080\">│</span>\n",
              "<span style=\"color: #000080; text-decoration-color: #000080\">│</span>                   <span style=\"color: #008000; text-decoration-color: #008000\">'input_ids'</span>: <span style=\"color: #800080; text-decoration-color: #800080; font-weight: bold\">tensor</span><span style=\"font-weight: bold\">([[</span>  <span style=\"color: #008080; text-decoration-color: #008080; font-weight: bold\">101</span>,  <span style=\"color: #008080; text-decoration-color: #008080; font-weight: bold\">1422</span>,  <span style=\"color: #008080; text-decoration-color: #008080; font-weight: bold\">1271</span>,  <span style=\"color: #008080; text-decoration-color: #008080; font-weight: bold\">1110</span>,  <span style=\"color: #008080; text-decoration-color: #008080; font-weight: bold\">2268</span>,  <span style=\"color: #008080; text-decoration-color: #008080; font-weight: bold\">7223</span>,  <span style=\"color: #008080; text-decoration-color: #008080; font-weight: bold\">7807</span>,  <span style=\"color: #000080; text-decoration-color: #000080\">│</span>\n",
              "<span style=\"color: #000080; text-decoration-color: #000080\">│</span>               <span style=\"color: #008080; text-decoration-color: #008080; font-weight: bold\">1179</span>,  <span style=\"color: #008080; text-decoration-color: #008080; font-weight: bold\">1105</span>,   <span style=\"color: #008080; text-decoration-color: #008080; font-weight: bold\">146</span>,                                                         <span style=\"color: #000080; text-decoration-color: #000080\">│</span>\n",
              "<span style=\"color: #000080; text-decoration-color: #000080\">│</span>                         <span style=\"color: #008080; text-decoration-color: #008080; font-weight: bold\">1250</span>,  <span style=\"color: #008080; text-decoration-color: #008080; font-weight: bold\">1120</span>,  <span style=\"color: #008080; text-decoration-color: #008080; font-weight: bold\">2156</span>, <span style=\"color: #008080; text-decoration-color: #008080; font-weight: bold\">19454</span>,  <span style=\"color: #008080; text-decoration-color: #008080; font-weight: bold\">1107</span>,  <span style=\"color: #008080; text-decoration-color: #008080; font-weight: bold\">1803</span>,   <span style=\"color: #008080; text-decoration-color: #008080; font-weight: bold\">119</span>,   <span style=\"color: #008080; text-decoration-color: #008080; font-weight: bold\">102</span><span style=\"font-weight: bold\">]])</span>,         <span style=\"color: #000080; text-decoration-color: #000080\">│</span>\n",
              "<span style=\"color: #000080; text-decoration-color: #000080\">│</span>                   <span style=\"color: #008000; text-decoration-color: #008000\">'token_type_ids'</span>: <span style=\"color: #800080; text-decoration-color: #800080; font-weight: bold\">tensor</span><span style=\"font-weight: bold\">([[</span><span style=\"color: #008080; text-decoration-color: #008080; font-weight: bold\">0</span>, <span style=\"color: #008080; text-decoration-color: #008080; font-weight: bold\">0</span>, <span style=\"color: #008080; text-decoration-color: #008080; font-weight: bold\">0</span>, <span style=\"color: #008080; text-decoration-color: #008080; font-weight: bold\">0</span>, <span style=\"color: #008080; text-decoration-color: #008080; font-weight: bold\">0</span>, <span style=\"color: #008080; text-decoration-color: #008080; font-weight: bold\">0</span>, <span style=\"color: #008080; text-decoration-color: #008080; font-weight: bold\">0</span>, <span style=\"color: #008080; text-decoration-color: #008080; font-weight: bold\">0</span>, <span style=\"color: #008080; text-decoration-color: #008080; font-weight: bold\">0</span>, <span style=\"color: #008080; text-decoration-color: #008080; font-weight: bold\">0</span>, <span style=\"color: #008080; text-decoration-color: #008080; font-weight: bold\">0</span>, <span style=\"color: #008080; text-decoration-color: #008080; font-weight: bold\">0</span>, <span style=\"color: #008080; text-decoration-color: #008080; font-weight: bold\">0</span>, <span style=\"color: #008080; text-decoration-color: #008080; font-weight: bold\">0</span>, <span style=\"color: #008080; text-decoration-color: #008080; font-weight: bold\">0</span>, <span style=\"color: #000080; text-decoration-color: #000080\">│</span>\n",
              "<span style=\"color: #000080; text-decoration-color: #000080\">│</span>               <span style=\"color: #008080; text-decoration-color: #008080; font-weight: bold\">0</span>, <span style=\"color: #008080; text-decoration-color: #008080; font-weight: bold\">0</span>, <span style=\"color: #008080; text-decoration-color: #008080; font-weight: bold\">0</span><span style=\"font-weight: bold\">]])</span>,                                                                 <span style=\"color: #000080; text-decoration-color: #000080\">│</span>\n",
              "<span style=\"color: #000080; text-decoration-color: #000080\">│</span>                   <span style=\"color: #008000; text-decoration-color: #008000\">'attention_mask'</span>: <span style=\"color: #800080; text-decoration-color: #800080; font-weight: bold\">tensor</span><span style=\"font-weight: bold\">([[</span><span style=\"color: #008080; text-decoration-color: #008080; font-weight: bold\">1</span>, <span style=\"color: #008080; text-decoration-color: #008080; font-weight: bold\">1</span>, <span style=\"color: #008080; text-decoration-color: #008080; font-weight: bold\">1</span>, <span style=\"color: #008080; text-decoration-color: #008080; font-weight: bold\">1</span>, <span style=\"color: #008080; text-decoration-color: #008080; font-weight: bold\">1</span>, <span style=\"color: #008080; text-decoration-color: #008080; font-weight: bold\">1</span>, <span style=\"color: #008080; text-decoration-color: #008080; font-weight: bold\">1</span>, <span style=\"color: #008080; text-decoration-color: #008080; font-weight: bold\">1</span>, <span style=\"color: #008080; text-decoration-color: #008080; font-weight: bold\">1</span>, <span style=\"color: #008080; text-decoration-color: #008080; font-weight: bold\">1</span>, <span style=\"color: #008080; text-decoration-color: #008080; font-weight: bold\">1</span>, <span style=\"color: #008080; text-decoration-color: #008080; font-weight: bold\">1</span>, <span style=\"color: #008080; text-decoration-color: #008080; font-weight: bold\">1</span>, <span style=\"color: #008080; text-decoration-color: #008080; font-weight: bold\">1</span>, <span style=\"color: #008080; text-decoration-color: #008080; font-weight: bold\">1</span>, <span style=\"color: #000080; text-decoration-color: #000080\">│</span>\n",
              "<span style=\"color: #000080; text-decoration-color: #000080\">│</span>               <span style=\"color: #008080; text-decoration-color: #008080; font-weight: bold\">1</span>, <span style=\"color: #008080; text-decoration-color: #008080; font-weight: bold\">1</span>, <span style=\"color: #008080; text-decoration-color: #008080; font-weight: bold\">1</span><span style=\"font-weight: bold\">]])</span>                                                                  <span style=\"color: #000080; text-decoration-color: #000080\">│</span>\n",
              "<span style=\"color: #000080; text-decoration-color: #000080\">│</span>               <span style=\"font-weight: bold\">}</span>                                                                           <span style=\"color: #000080; text-decoration-color: #000080\">│</span>\n",
              "<span style=\"color: #000080; text-decoration-color: #000080\">│</span>   <span style=\"color: #808000; text-decoration-color: #808000; font-style: italic\">encodings</span> = <span style=\"font-weight: bold\">[</span>                                                                           <span style=\"color: #000080; text-decoration-color: #000080\">│</span>\n",
              "<span style=\"color: #000080; text-decoration-color: #000080\">│</span>                   <span style=\"color: #800080; text-decoration-color: #800080; font-weight: bold\">Encoding</span><span style=\"font-weight: bold\">(</span><span style=\"color: #808000; text-decoration-color: #808000\">num_tokens</span>=<span style=\"color: #008080; text-decoration-color: #008080; font-weight: bold\">18</span>, <span style=\"color: #808000; text-decoration-color: #808000\">attributes</span>=<span style=\"font-weight: bold\">[</span>ids, type_ids, tokens, offsets,     <span style=\"color: #000080; text-decoration-color: #000080\">│</span>\n",
              "<span style=\"color: #000080; text-decoration-color: #000080\">│</span>               attention_mask, special_tokens_mask, overflowing<span style=\"font-weight: bold\">])</span>                          <span style=\"color: #000080; text-decoration-color: #000080\">│</span>\n",
              "<span style=\"color: #000080; text-decoration-color: #000080\">│</span>               <span style=\"font-weight: bold\">]</span>                                                                           <span style=\"color: #000080; text-decoration-color: #000080\">│</span>\n",
              "<span style=\"color: #000080; text-decoration-color: #000080\">│</span>     <span style=\"color: #808000; text-decoration-color: #808000; font-style: italic\">is_fast</span> = <span style=\"color: #00ff00; text-decoration-color: #00ff00; font-style: italic\">True</span>                                                                        <span style=\"color: #000080; text-decoration-color: #000080\">│</span>\n",
              "<span style=\"color: #000080; text-decoration-color: #000080\">│</span> <span style=\"color: #808000; text-decoration-color: #808000; font-style: italic\">n_sequences</span> = <span style=\"color: #008080; text-decoration-color: #008080; font-weight: bold\">1</span>                                                                           <span style=\"color: #000080; text-decoration-color: #000080\">│</span>\n",
              "<span style=\"color: #000080; text-decoration-color: #000080\">╰───────────────────────────────────────────────────────────────────────────────────────────╯</span>\n",
              "</pre>\n"
            ],
            "text/plain": [
              "\u001b[34m╭─\u001b[0m\u001b[34m───────────── \u001b[0m\u001b[1;34m<\u001b[0m\u001b[1;95mclass\u001b[0m\u001b[39m \u001b[0m\u001b[32m'transformers.tokenization_utils_base.BatchEncoding'\u001b[0m\u001b[1;34m>\u001b[0m\u001b[34m ──────────────\u001b[0m\u001b[34m─╮\u001b[0m\n",
              "\u001b[34m│\u001b[0m \u001b[36mHolds the output of the \u001b[0m\u001b[1;36m[\u001b[0m\u001b[36m`~tokenization_utils_base.PreTrainedTokenizerBase.encode_plus`\u001b[0m\u001b[1;36m]\u001b[0m\u001b[36m \u001b[0m \u001b[34m│\u001b[0m\n",
              "\u001b[34m│\u001b[0m \u001b[36mand\u001b[0m                                                                                       \u001b[34m│\u001b[0m\n",
              "\u001b[34m│\u001b[0m \u001b[1;36m[\u001b[0m\u001b[36m`~tokenization_utils_base.PreTrainedTokenizerBase.batch_encode`\u001b[0m\u001b[1;36m]\u001b[0m\u001b[36m methods \u001b[0m\u001b[1;36m(\u001b[0m\u001b[36mtokens,\u001b[0m        \u001b[34m│\u001b[0m\n",
              "\u001b[34m│\u001b[0m \u001b[36mattention_masks, etc\u001b[0m\u001b[1;36m)\u001b[0m\u001b[36m.\u001b[0m                                                                    \u001b[34m│\u001b[0m\n",
              "\u001b[34m│\u001b[0m                                                                                           \u001b[34m│\u001b[0m\n",
              "\u001b[34m│\u001b[0m \u001b[32m╭───────────────────────────────────────────────────────────────────────────────────────╮\u001b[0m \u001b[34m│\u001b[0m\n",
              "\u001b[34m│\u001b[0m \u001b[32m│\u001b[0m \u001b[1m{\u001b[0m                                                                                     \u001b[32m│\u001b[0m \u001b[34m│\u001b[0m\n",
              "\u001b[34m│\u001b[0m \u001b[32m│\u001b[0m \u001b[2;32m│   \u001b[0m\u001b[32m'input_ids'\u001b[0m: \u001b[1;35mtensor\u001b[0m\u001b[1m(\u001b[0m\u001b[1m[\u001b[0m\u001b[1m[\u001b[0m  \u001b[1;36m101\u001b[0m,  \u001b[1;36m1422\u001b[0m,  \u001b[1;36m1271\u001b[0m,  \u001b[1;36m1110\u001b[0m,  \u001b[1;36m2268\u001b[0m,  \u001b[1;36m7223\u001b[0m,  \u001b[1;36m7807\u001b[0m,  \u001b[1;36m1179\u001b[0m,     \u001b[32m│\u001b[0m \u001b[34m│\u001b[0m\n",
              "\u001b[34m│\u001b[0m \u001b[32m│\u001b[0m \u001b[1;36m1105\u001b[0m,   \u001b[1;36m146\u001b[0m,                                                                          \u001b[32m│\u001b[0m \u001b[34m│\u001b[0m\n",
              "\u001b[34m│\u001b[0m \u001b[32m│\u001b[0m \u001b[2;32m│   │     \u001b[0m\u001b[1;36m1250\u001b[0m,  \u001b[1;36m1120\u001b[0m,  \u001b[1;36m2156\u001b[0m, \u001b[1;36m19454\u001b[0m,  \u001b[1;36m1107\u001b[0m,  \u001b[1;36m1803\u001b[0m,   \u001b[1;36m119\u001b[0m,   \u001b[1;36m102\u001b[0m\u001b[1m]\u001b[0m\u001b[1m]\u001b[0m\u001b[1m)\u001b[0m,                   \u001b[32m│\u001b[0m \u001b[34m│\u001b[0m\n",
              "\u001b[34m│\u001b[0m \u001b[32m│\u001b[0m \u001b[2;32m│   \u001b[0m\u001b[32m'token_type_ids'\u001b[0m: \u001b[1;35mtensor\u001b[0m\u001b[1m(\u001b[0m\u001b[1m[\u001b[0m\u001b[1m[\u001b[0m\u001b[1;36m0\u001b[0m, \u001b[1;36m0\u001b[0m, \u001b[1;36m0\u001b[0m, \u001b[1;36m0\u001b[0m, \u001b[1;36m0\u001b[0m, \u001b[1;36m0\u001b[0m, \u001b[1;36m0\u001b[0m, \u001b[1;36m0\u001b[0m, \u001b[1;36m0\u001b[0m, \u001b[1;36m0\u001b[0m, \u001b[1;36m0\u001b[0m, \u001b[1;36m0\u001b[0m, \u001b[1;36m0\u001b[0m, \u001b[1;36m0\u001b[0m, \u001b[1;36m0\u001b[0m, \u001b[1;36m0\u001b[0m, \u001b[1;36m0\u001b[0m,     \u001b[32m│\u001b[0m \u001b[34m│\u001b[0m\n",
              "\u001b[34m│\u001b[0m \u001b[32m│\u001b[0m \u001b[1;36m0\u001b[0m\u001b[1m]\u001b[0m\u001b[1m]\u001b[0m\u001b[1m)\u001b[0m,                                                                                 \u001b[32m│\u001b[0m \u001b[34m│\u001b[0m\n",
              "\u001b[34m│\u001b[0m \u001b[32m│\u001b[0m \u001b[2;32m│   \u001b[0m\u001b[32m'attention_mask'\u001b[0m: \u001b[1;35mtensor\u001b[0m\u001b[1m(\u001b[0m\u001b[1m[\u001b[0m\u001b[1m[\u001b[0m\u001b[1;36m1\u001b[0m, \u001b[1;36m1\u001b[0m, \u001b[1;36m1\u001b[0m, \u001b[1;36m1\u001b[0m, \u001b[1;36m1\u001b[0m, \u001b[1;36m1\u001b[0m, \u001b[1;36m1\u001b[0m, \u001b[1;36m1\u001b[0m, \u001b[1;36m1\u001b[0m, \u001b[1;36m1\u001b[0m, \u001b[1;36m1\u001b[0m, \u001b[1;36m1\u001b[0m, \u001b[1;36m1\u001b[0m, \u001b[1;36m1\u001b[0m, \u001b[1;36m1\u001b[0m, \u001b[1;36m1\u001b[0m, \u001b[1;36m1\u001b[0m,     \u001b[32m│\u001b[0m \u001b[34m│\u001b[0m\n",
              "\u001b[34m│\u001b[0m \u001b[32m│\u001b[0m \u001b[1;36m1\u001b[0m\u001b[1m]\u001b[0m\u001b[1m]\u001b[0m\u001b[1m)\u001b[0m                                                                                  \u001b[32m│\u001b[0m \u001b[34m│\u001b[0m\n",
              "\u001b[34m│\u001b[0m \u001b[32m│\u001b[0m \u001b[1m}\u001b[0m                                                                                     \u001b[32m│\u001b[0m \u001b[34m│\u001b[0m\n",
              "\u001b[34m│\u001b[0m \u001b[32m╰───────────────────────────────────────────────────────────────────────────────────────╯\u001b[0m \u001b[34m│\u001b[0m\n",
              "\u001b[34m│\u001b[0m                                                                                           \u001b[34m│\u001b[0m\n",
              "\u001b[34m│\u001b[0m        \u001b[3;33mdata\u001b[0m = \u001b[1m{\u001b[0m                                                                           \u001b[34m│\u001b[0m\n",
              "\u001b[34m│\u001b[0m                   \u001b[32m'input_ids'\u001b[0m: \u001b[1;35mtensor\u001b[0m\u001b[1m(\u001b[0m\u001b[1m[\u001b[0m\u001b[1m[\u001b[0m  \u001b[1;36m101\u001b[0m,  \u001b[1;36m1422\u001b[0m,  \u001b[1;36m1271\u001b[0m,  \u001b[1;36m1110\u001b[0m,  \u001b[1;36m2268\u001b[0m,  \u001b[1;36m7223\u001b[0m,  \u001b[1;36m7807\u001b[0m,  \u001b[34m│\u001b[0m\n",
              "\u001b[34m│\u001b[0m               \u001b[1;36m1179\u001b[0m,  \u001b[1;36m1105\u001b[0m,   \u001b[1;36m146\u001b[0m,                                                         \u001b[34m│\u001b[0m\n",
              "\u001b[34m│\u001b[0m                         \u001b[1;36m1250\u001b[0m,  \u001b[1;36m1120\u001b[0m,  \u001b[1;36m2156\u001b[0m, \u001b[1;36m19454\u001b[0m,  \u001b[1;36m1107\u001b[0m,  \u001b[1;36m1803\u001b[0m,   \u001b[1;36m119\u001b[0m,   \u001b[1;36m102\u001b[0m\u001b[1m]\u001b[0m\u001b[1m]\u001b[0m\u001b[1m)\u001b[0m,         \u001b[34m│\u001b[0m\n",
              "\u001b[34m│\u001b[0m                   \u001b[32m'token_type_ids'\u001b[0m: \u001b[1;35mtensor\u001b[0m\u001b[1m(\u001b[0m\u001b[1m[\u001b[0m\u001b[1m[\u001b[0m\u001b[1;36m0\u001b[0m, \u001b[1;36m0\u001b[0m, \u001b[1;36m0\u001b[0m, \u001b[1;36m0\u001b[0m, \u001b[1;36m0\u001b[0m, \u001b[1;36m0\u001b[0m, \u001b[1;36m0\u001b[0m, \u001b[1;36m0\u001b[0m, \u001b[1;36m0\u001b[0m, \u001b[1;36m0\u001b[0m, \u001b[1;36m0\u001b[0m, \u001b[1;36m0\u001b[0m, \u001b[1;36m0\u001b[0m, \u001b[1;36m0\u001b[0m, \u001b[1;36m0\u001b[0m, \u001b[34m│\u001b[0m\n",
              "\u001b[34m│\u001b[0m               \u001b[1;36m0\u001b[0m, \u001b[1;36m0\u001b[0m, \u001b[1;36m0\u001b[0m\u001b[1m]\u001b[0m\u001b[1m]\u001b[0m\u001b[1m)\u001b[0m,                                                                 \u001b[34m│\u001b[0m\n",
              "\u001b[34m│\u001b[0m                   \u001b[32m'attention_mask'\u001b[0m: \u001b[1;35mtensor\u001b[0m\u001b[1m(\u001b[0m\u001b[1m[\u001b[0m\u001b[1m[\u001b[0m\u001b[1;36m1\u001b[0m, \u001b[1;36m1\u001b[0m, \u001b[1;36m1\u001b[0m, \u001b[1;36m1\u001b[0m, \u001b[1;36m1\u001b[0m, \u001b[1;36m1\u001b[0m, \u001b[1;36m1\u001b[0m, \u001b[1;36m1\u001b[0m, \u001b[1;36m1\u001b[0m, \u001b[1;36m1\u001b[0m, \u001b[1;36m1\u001b[0m, \u001b[1;36m1\u001b[0m, \u001b[1;36m1\u001b[0m, \u001b[1;36m1\u001b[0m, \u001b[1;36m1\u001b[0m, \u001b[34m│\u001b[0m\n",
              "\u001b[34m│\u001b[0m               \u001b[1;36m1\u001b[0m, \u001b[1;36m1\u001b[0m, \u001b[1;36m1\u001b[0m\u001b[1m]\u001b[0m\u001b[1m]\u001b[0m\u001b[1m)\u001b[0m                                                                  \u001b[34m│\u001b[0m\n",
              "\u001b[34m│\u001b[0m               \u001b[1m}\u001b[0m                                                                           \u001b[34m│\u001b[0m\n",
              "\u001b[34m│\u001b[0m   \u001b[3;33mencodings\u001b[0m = \u001b[1m[\u001b[0m                                                                           \u001b[34m│\u001b[0m\n",
              "\u001b[34m│\u001b[0m                   \u001b[1;35mEncoding\u001b[0m\u001b[1m(\u001b[0m\u001b[33mnum_tokens\u001b[0m=\u001b[1;36m18\u001b[0m, \u001b[33mattributes\u001b[0m=\u001b[1m[\u001b[0mids, type_ids, tokens, offsets,     \u001b[34m│\u001b[0m\n",
              "\u001b[34m│\u001b[0m               attention_mask, special_tokens_mask, overflowing\u001b[1m]\u001b[0m\u001b[1m)\u001b[0m                          \u001b[34m│\u001b[0m\n",
              "\u001b[34m│\u001b[0m               \u001b[1m]\u001b[0m                                                                           \u001b[34m│\u001b[0m\n",
              "\u001b[34m│\u001b[0m     \u001b[3;33mis_fast\u001b[0m = \u001b[3;92mTrue\u001b[0m                                                                        \u001b[34m│\u001b[0m\n",
              "\u001b[34m│\u001b[0m \u001b[3;33mn_sequences\u001b[0m = \u001b[1;36m1\u001b[0m                                                                           \u001b[34m│\u001b[0m\n",
              "\u001b[34m╰───────────────────────────────────────────────────────────────────────────────────────────╯\u001b[0m\n"
            ]
          },
          "metadata": {}
        }
      ]
    },
    {
      "cell_type": "code",
      "source": [
        "output = model(**inputs)"
      ],
      "metadata": {
        "id": "YiTiCdq9OKLt"
      },
      "execution_count": 15,
      "outputs": []
    },
    {
      "cell_type": "code",
      "source": [
        "inspect(output)"
      ],
      "metadata": {
        "colab": {
          "base_uri": "https://localhost:8080/",
          "height": 1000
        },
        "id": "0yf72QIZOQf3",
        "outputId": "f321e5fd-79e7-462f-f8d8-a27a2d7fb315"
      },
      "execution_count": 16,
      "outputs": [
        {
          "output_type": "display_data",
          "data": {
            "text/html": [
              "<pre style=\"white-space:pre;overflow-x:auto;line-height:normal;font-family:Menlo,'DejaVu Sans Mono',consolas,'Courier New',monospace\"><span style=\"color: #000080; text-decoration-color: #000080\">╭────────────── </span><span style=\"color: #000080; text-decoration-color: #000080; font-weight: bold\">&lt;</span><span style=\"color: #ff00ff; text-decoration-color: #ff00ff; font-weight: bold\">class</span><span style=\"color: #000000; text-decoration-color: #000000\"> </span><span style=\"color: #008000; text-decoration-color: #008000\">'transformers.modeling_outputs.TokenClassifierOutput'</span><span style=\"color: #000080; text-decoration-color: #000080; font-weight: bold\">&gt;</span><span style=\"color: #000080; text-decoration-color: #000080\"> ──────────────╮</span>\n",
              "<span style=\"color: #000080; text-decoration-color: #000080\">│</span> <span style=\"color: #008080; text-decoration-color: #008080\">Base class for outputs of token classification models.</span>                                    <span style=\"color: #000080; text-decoration-color: #000080\">│</span>\n",
              "<span style=\"color: #000080; text-decoration-color: #000080\">│</span>                                                                                           <span style=\"color: #000080; text-decoration-color: #000080\">│</span>\n",
              "<span style=\"color: #000080; text-decoration-color: #000080\">│</span> <span style=\"color: #008000; text-decoration-color: #008000\">╭───────────────────────────────────────────────────────────────────────────────────────╮</span> <span style=\"color: #000080; text-decoration-color: #000080\">│</span>\n",
              "<span style=\"color: #000080; text-decoration-color: #000080\">│</span> <span style=\"color: #008000; text-decoration-color: #008000\">│</span> <span style=\"color: #800080; text-decoration-color: #800080; font-weight: bold\">TokenClassifierOutput</span><span style=\"font-weight: bold\">(</span>                                                                <span style=\"color: #008000; text-decoration-color: #008000\">│</span> <span style=\"color: #000080; text-decoration-color: #000080\">│</span>\n",
              "<span style=\"color: #000080; text-decoration-color: #000080\">│</span> <span style=\"color: #008000; text-decoration-color: #008000\">│</span> <span style=\"color: #7fbf7f; text-decoration-color: #7fbf7f\">│   </span><span style=\"color: #808000; text-decoration-color: #808000\">loss</span>=<span style=\"color: #800080; text-decoration-color: #800080; font-style: italic\">None</span>,                                                                        <span style=\"color: #008000; text-decoration-color: #008000\">│</span> <span style=\"color: #000080; text-decoration-color: #000080\">│</span>\n",
              "<span style=\"color: #000080; text-decoration-color: #000080\">│</span> <span style=\"color: #008000; text-decoration-color: #008000\">│</span> <span style=\"color: #7fbf7f; text-decoration-color: #7fbf7f\">│   </span><span style=\"color: #808000; text-decoration-color: #808000\">logits</span>=<span style=\"color: #800080; text-decoration-color: #800080; font-weight: bold\">tensor</span><span style=\"font-weight: bold\">([[[</span> <span style=\"color: #008080; text-decoration-color: #008080; font-weight: bold\">8.8731e+00</span>, <span style=\"color: #008080; text-decoration-color: #008080; font-weight: bold\">-2.2831e+00</span>, <span style=\"color: #008080; text-decoration-color: #008080; font-weight: bold\">-1.5776e+00</span>, <span style=\"color: #008080; text-decoration-color: #008080; font-weight: bold\">-1.6307e+00</span>, <span style=\"color: #008080; text-decoration-color: #008080; font-weight: bold\">-9.4635e-01</span>, <span style=\"color: #008000; text-decoration-color: #008000\">│</span> <span style=\"color: #000080; text-decoration-color: #000080\">│</span>\n",
              "<span style=\"color: #000080; text-decoration-color: #000080\">│</span> <span style=\"color: #008000; text-decoration-color: #008000\">│</span> <span style=\"color: #7fbf7f; text-decoration-color: #7fbf7f\">│   │     </span><span style=\"color: #008080; text-decoration-color: #008080; font-weight: bold\">-1.7195e+00</span>, <span style=\"color: #008080; text-decoration-color: #008080; font-weight: bold\">-4.6358e-01</span>, <span style=\"color: #008080; text-decoration-color: #008080; font-weight: bold\">-1.9522e+00</span>,  <span style=\"color: #008080; text-decoration-color: #008080; font-weight: bold\">8.6606e-01</span><span style=\"font-weight: bold\">]</span>,                        <span style=\"color: #008000; text-decoration-color: #008000\">│</span> <span style=\"color: #000080; text-decoration-color: #000080\">│</span>\n",
              "<span style=\"color: #000080; text-decoration-color: #000080\">│</span> <span style=\"color: #008000; text-decoration-color: #008000\">│</span> <span style=\"color: #7fbf7f; text-decoration-color: #7fbf7f\">│   │    </span><span style=\"font-weight: bold\">[</span> <span style=\"color: #008080; text-decoration-color: #008080; font-weight: bold\">9.5287e+00</span>, <span style=\"color: #008080; text-decoration-color: #008080; font-weight: bold\">-2.3302e+00</span>, <span style=\"color: #008080; text-decoration-color: #008080; font-weight: bold\">-1.0897e+00</span>, <span style=\"color: #008080; text-decoration-color: #008080; font-weight: bold\">-2.5217e+00</span>,  <span style=\"color: #008080; text-decoration-color: #008080; font-weight: bold\">7.0682e-02</span>,            <span style=\"color: #008000; text-decoration-color: #008000\">│</span> <span style=\"color: #000080; text-decoration-color: #000080\">│</span>\n",
              "<span style=\"color: #000080; text-decoration-color: #000080\">│</span> <span style=\"color: #008000; text-decoration-color: #008000\">│</span> <span style=\"color: #7fbf7f; text-decoration-color: #7fbf7f\">│   │     </span><span style=\"color: #008080; text-decoration-color: #008080; font-weight: bold\">-1.8825e+00</span>,  <span style=\"color: #008080; text-decoration-color: #008080; font-weight: bold\">2.2747e-01</span>, <span style=\"color: #008080; text-decoration-color: #008080; font-weight: bold\">-2.2382e+00</span>, <span style=\"color: #008080; text-decoration-color: #008080; font-weight: bold\">-2.0623e-01</span><span style=\"font-weight: bold\">]</span>,                        <span style=\"color: #008000; text-decoration-color: #008000\">│</span> <span style=\"color: #000080; text-decoration-color: #000080\">│</span>\n",
              "<span style=\"color: #000080; text-decoration-color: #000080\">│</span> <span style=\"color: #008000; text-decoration-color: #008000\">│</span> <span style=\"color: #7fbf7f; text-decoration-color: #7fbf7f\">│   │    </span><span style=\"font-weight: bold\">[</span> <span style=\"color: #008080; text-decoration-color: #008080; font-weight: bold\">9.7292e+00</span>, <span style=\"color: #008080; text-decoration-color: #008080; font-weight: bold\">-2.1166e+00</span>, <span style=\"color: #008080; text-decoration-color: #008080; font-weight: bold\">-8.8411e-01</span>, <span style=\"color: #008080; text-decoration-color: #008080; font-weight: bold\">-2.4963e+00</span>, <span style=\"color: #008080; text-decoration-color: #008080; font-weight: bold\">-9.5251e-02</span>,            <span style=\"color: #008000; text-decoration-color: #008000\">│</span> <span style=\"color: #000080; text-decoration-color: #000080\">│</span>\n",
              "<span style=\"color: #000080; text-decoration-color: #000080\">│</span> <span style=\"color: #008000; text-decoration-color: #008000\">│</span> <span style=\"color: #7fbf7f; text-decoration-color: #7fbf7f\">│   │     </span><span style=\"color: #008080; text-decoration-color: #008080; font-weight: bold\">-2.0684e+00</span>, <span style=\"color: #008080; text-decoration-color: #008080; font-weight: bold\">-2.2465e-01</span>, <span style=\"color: #008080; text-decoration-color: #008080; font-weight: bold\">-1.8881e+00</span>,  <span style=\"color: #008080; text-decoration-color: #008080; font-weight: bold\">6.9939e-02</span><span style=\"font-weight: bold\">]</span>,                        <span style=\"color: #008000; text-decoration-color: #008000\">│</span> <span style=\"color: #000080; text-decoration-color: #000080\">│</span>\n",
              "<span style=\"color: #000080; text-decoration-color: #000080\">│</span> <span style=\"color: #008000; text-decoration-color: #008000\">│</span> <span style=\"color: #7fbf7f; text-decoration-color: #7fbf7f\">│   │    </span><span style=\"font-weight: bold\">[</span> <span style=\"color: #008080; text-decoration-color: #008080; font-weight: bold\">1.0312e+01</span>, <span style=\"color: #008080; text-decoration-color: #008080; font-weight: bold\">-2.2053e+00</span>, <span style=\"color: #008080; text-decoration-color: #008080; font-weight: bold\">-1.2463e+00</span>, <span style=\"color: #008080; text-decoration-color: #008080; font-weight: bold\">-2.3914e+00</span>, <span style=\"color: #008080; text-decoration-color: #008080; font-weight: bold\">-4.8295e-01</span>,            <span style=\"color: #008000; text-decoration-color: #008000\">│</span> <span style=\"color: #000080; text-decoration-color: #000080\">│</span>\n",
              "<span style=\"color: #000080; text-decoration-color: #000080\">│</span> <span style=\"color: #008000; text-decoration-color: #008000\">│</span> <span style=\"color: #7fbf7f; text-decoration-color: #7fbf7f\">│   │     </span><span style=\"color: #008080; text-decoration-color: #008080; font-weight: bold\">-1.9222e+00</span>, <span style=\"color: #008080; text-decoration-color: #008080; font-weight: bold\">-8.6139e-02</span>, <span style=\"color: #008080; text-decoration-color: #008080; font-weight: bold\">-1.8618e+00</span>, <span style=\"color: #008080; text-decoration-color: #008080; font-weight: bold\">-4.3702e-01</span><span style=\"font-weight: bold\">]</span>,                        <span style=\"color: #008000; text-decoration-color: #008000\">│</span> <span style=\"color: #000080; text-decoration-color: #000080\">│</span>\n",
              "<span style=\"color: #000080; text-decoration-color: #000080\">│</span> <span style=\"color: #008000; text-decoration-color: #008000\">│</span> <span style=\"color: #7fbf7f; text-decoration-color: #7fbf7f\">│   │    </span><span style=\"font-weight: bold\">[</span> <span style=\"color: #008080; text-decoration-color: #008080; font-weight: bold\">2.9619e-01</span>, <span style=\"color: #008080; text-decoration-color: #008080; font-weight: bold\">-2.1789e+00</span>, <span style=\"color: #008080; text-decoration-color: #008080; font-weight: bold\">-6.0339e-01</span>, <span style=\"color: #008080; text-decoration-color: #008080; font-weight: bold\">-3.1194e+00</span>,  <span style=\"color: #008080; text-decoration-color: #008080; font-weight: bold\">8.0420e+00</span>,            <span style=\"color: #008000; text-decoration-color: #008000\">│</span> <span style=\"color: #000080; text-decoration-color: #000080\">│</span>\n",
              "<span style=\"color: #000080; text-decoration-color: #000080\">│</span> <span style=\"color: #008000; text-decoration-color: #008000\">│</span> <span style=\"color: #7fbf7f; text-decoration-color: #7fbf7f\">│   │     </span><span style=\"color: #008080; text-decoration-color: #008080; font-weight: bold\">-2.8950e+00</span>, <span style=\"color: #008080; text-decoration-color: #008080; font-weight: bold\">-7.7103e-01</span>, <span style=\"color: #008080; text-decoration-color: #008080; font-weight: bold\">-2.5159e+00</span>, <span style=\"color: #008080; text-decoration-color: #008080; font-weight: bold\">-1.8309e-02</span><span style=\"font-weight: bold\">]</span>,                        <span style=\"color: #008000; text-decoration-color: #008000\">│</span> <span style=\"color: #000080; text-decoration-color: #000080\">│</span>\n",
              "<span style=\"color: #000080; text-decoration-color: #000080\">│</span> <span style=\"color: #008000; text-decoration-color: #008000\">│</span> <span style=\"color: #7fbf7f; text-decoration-color: #7fbf7f\">│   │    </span><span style=\"font-weight: bold\">[</span> <span style=\"color: #008080; text-decoration-color: #008080; font-weight: bold\">1.2117e+00</span>, <span style=\"color: #008080; text-decoration-color: #008080; font-weight: bold\">-2.0589e+00</span>,  <span style=\"color: #008080; text-decoration-color: #008080; font-weight: bold\">1.3299e-01</span>, <span style=\"color: #008080; text-decoration-color: #008080; font-weight: bold\">-2.7019e+00</span>,  <span style=\"color: #008080; text-decoration-color: #008080; font-weight: bold\">6.3817e+00</span>,            <span style=\"color: #008000; text-decoration-color: #008000\">│</span> <span style=\"color: #000080; text-decoration-color: #000080\">│</span>\n",
              "<span style=\"color: #000080; text-decoration-color: #000080\">│</span> <span style=\"color: #008000; text-decoration-color: #008000\">│</span> <span style=\"color: #7fbf7f; text-decoration-color: #7fbf7f\">│   │     </span><span style=\"color: #008080; text-decoration-color: #008080; font-weight: bold\">-2.4774e+00</span>, <span style=\"color: #008080; text-decoration-color: #008080; font-weight: bold\">-3.0354e-01</span>, <span style=\"color: #008080; text-decoration-color: #008080; font-weight: bold\">-2.7520e+00</span>, <span style=\"color: #008080; text-decoration-color: #008080; font-weight: bold\">-1.7033e-02</span><span style=\"font-weight: bold\">]</span>,                        <span style=\"color: #008000; text-decoration-color: #008000\">│</span> <span style=\"color: #000080; text-decoration-color: #000080\">│</span>\n",
              "<span style=\"color: #000080; text-decoration-color: #000080\">│</span> <span style=\"color: #008000; text-decoration-color: #008000\">│</span> <span style=\"color: #7fbf7f; text-decoration-color: #7fbf7f\">│   │    </span><span style=\"font-weight: bold\">[</span> <span style=\"color: #008080; text-decoration-color: #008080; font-weight: bold\">5.9479e-01</span>, <span style=\"color: #008080; text-decoration-color: #008080; font-weight: bold\">-1.9171e+00</span>, <span style=\"color: #008080; text-decoration-color: #008080; font-weight: bold\">-2.1798e-01</span>, <span style=\"color: #008080; text-decoration-color: #008080; font-weight: bold\">-2.7914e+00</span>,  <span style=\"color: #008080; text-decoration-color: #008080; font-weight: bold\">6.7987e+00</span>,            <span style=\"color: #008000; text-decoration-color: #008000\">│</span> <span style=\"color: #000080; text-decoration-color: #000080\">│</span>\n",
              "<span style=\"color: #000080; text-decoration-color: #000080\">│</span> <span style=\"color: #008000; text-decoration-color: #008000\">│</span> <span style=\"color: #7fbf7f; text-decoration-color: #7fbf7f\">│   │     </span><span style=\"color: #008080; text-decoration-color: #008080; font-weight: bold\">-2.5523e+00</span>, <span style=\"color: #008080; text-decoration-color: #008080; font-weight: bold\">-3.0440e-02</span>, <span style=\"color: #008080; text-decoration-color: #008080; font-weight: bold\">-2.1891e+00</span>,  <span style=\"color: #008080; text-decoration-color: #008080; font-weight: bold\">1.4313e-01</span><span style=\"font-weight: bold\">]</span>,                        <span style=\"color: #008000; text-decoration-color: #008000\">│</span> <span style=\"color: #000080; text-decoration-color: #000080\">│</span>\n",
              "<span style=\"color: #000080; text-decoration-color: #000080\">│</span> <span style=\"color: #008000; text-decoration-color: #008000\">│</span> <span style=\"color: #7fbf7f; text-decoration-color: #7fbf7f\">│   │    </span><span style=\"font-weight: bold\">[</span> <span style=\"color: #008080; text-decoration-color: #008080; font-weight: bold\">1.3190e+00</span>, <span style=\"color: #008080; text-decoration-color: #008080; font-weight: bold\">-2.3897e+00</span>, <span style=\"color: #008080; text-decoration-color: #008080; font-weight: bold\">-2.1822e-01</span>, <span style=\"color: #008080; text-decoration-color: #008080; font-weight: bold\">-3.3808e+00</span>,  <span style=\"color: #008080; text-decoration-color: #008080; font-weight: bold\">7.0866e+00</span>,            <span style=\"color: #008000; text-decoration-color: #008000\">│</span> <span style=\"color: #000080; text-decoration-color: #000080\">│</span>\n",
              "<span style=\"color: #000080; text-decoration-color: #000080\">│</span> <span style=\"color: #008000; text-decoration-color: #008000\">│</span> <span style=\"color: #7fbf7f; text-decoration-color: #7fbf7f\">│   │     </span><span style=\"color: #008080; text-decoration-color: #008080; font-weight: bold\">-2.9140e+00</span>, <span style=\"color: #008080; text-decoration-color: #008080; font-weight: bold\">-7.7515e-02</span>, <span style=\"color: #008080; text-decoration-color: #008080; font-weight: bold\">-2.3816e+00</span>,  <span style=\"color: #008080; text-decoration-color: #008080; font-weight: bold\">1.0191e-01</span><span style=\"font-weight: bold\">]</span>,                        <span style=\"color: #008000; text-decoration-color: #008000\">│</span> <span style=\"color: #000080; text-decoration-color: #000080\">│</span>\n",
              "<span style=\"color: #000080; text-decoration-color: #000080\">│</span> <span style=\"color: #008000; text-decoration-color: #008000\">│</span> <span style=\"color: #7fbf7f; text-decoration-color: #7fbf7f\">│   │    </span><span style=\"font-weight: bold\">[</span> <span style=\"color: #008080; text-decoration-color: #008080; font-weight: bold\">1.0086e+01</span>, <span style=\"color: #008080; text-decoration-color: #008080; font-weight: bold\">-2.3665e+00</span>, <span style=\"color: #008080; text-decoration-color: #008080; font-weight: bold\">-1.1894e+00</span>, <span style=\"color: #008080; text-decoration-color: #008080; font-weight: bold\">-2.5140e+00</span>, <span style=\"color: #008080; text-decoration-color: #008080; font-weight: bold\">-1.2628e+00</span>,            <span style=\"color: #008000; text-decoration-color: #008000\">│</span> <span style=\"color: #000080; text-decoration-color: #000080\">│</span>\n",
              "<span style=\"color: #000080; text-decoration-color: #000080\">│</span> <span style=\"color: #008000; text-decoration-color: #008000\">│</span> <span style=\"color: #7fbf7f; text-decoration-color: #7fbf7f\">│   │     </span><span style=\"color: #008080; text-decoration-color: #008080; font-weight: bold\">-1.5703e+00</span>,  <span style=\"color: #008080; text-decoration-color: #008080; font-weight: bold\">2.6894e-01</span>, <span style=\"color: #008080; text-decoration-color: #008080; font-weight: bold\">-1.9707e+00</span>, <span style=\"color: #008080; text-decoration-color: #008080; font-weight: bold\">-4.5133e-01</span><span style=\"font-weight: bold\">]</span>,                        <span style=\"color: #008000; text-decoration-color: #008000\">│</span> <span style=\"color: #000080; text-decoration-color: #000080\">│</span>\n",
              "<span style=\"color: #000080; text-decoration-color: #000080\">│</span> <span style=\"color: #008000; text-decoration-color: #008000\">│</span> <span style=\"color: #7fbf7f; text-decoration-color: #7fbf7f\">│   │    </span><span style=\"font-weight: bold\">[</span> <span style=\"color: #008080; text-decoration-color: #008080; font-weight: bold\">9.8836e+00</span>, <span style=\"color: #008080; text-decoration-color: #008080; font-weight: bold\">-2.1551e+00</span>, <span style=\"color: #008080; text-decoration-color: #008080; font-weight: bold\">-1.1563e+00</span>, <span style=\"color: #008080; text-decoration-color: #008080; font-weight: bold\">-2.5158e+00</span>, <span style=\"color: #008080; text-decoration-color: #008080; font-weight: bold\">-1.6026e-01</span>,            <span style=\"color: #008000; text-decoration-color: #008000\">│</span> <span style=\"color: #000080; text-decoration-color: #000080\">│</span>\n",
              "<span style=\"color: #000080; text-decoration-color: #000080\">│</span> <span style=\"color: #008000; text-decoration-color: #008000\">│</span> <span style=\"color: #7fbf7f; text-decoration-color: #7fbf7f\">│   │     </span><span style=\"color: #008080; text-decoration-color: #008080; font-weight: bold\">-1.8298e+00</span>,  <span style=\"color: #008080; text-decoration-color: #008080; font-weight: bold\">6.1174e-02</span>, <span style=\"color: #008080; text-decoration-color: #008080; font-weight: bold\">-1.9529e+00</span>, <span style=\"color: #008080; text-decoration-color: #008080; font-weight: bold\">-4.2617e-01</span><span style=\"font-weight: bold\">]</span>,                        <span style=\"color: #008000; text-decoration-color: #008000\">│</span> <span style=\"color: #000080; text-decoration-color: #000080\">│</span>\n",
              "<span style=\"color: #000080; text-decoration-color: #000080\">│</span> <span style=\"color: #008000; text-decoration-color: #008000\">│</span> <span style=\"color: #7fbf7f; text-decoration-color: #7fbf7f\">│   │    </span><span style=\"font-weight: bold\">[</span> <span style=\"color: #008080; text-decoration-color: #008080; font-weight: bold\">1.0330e+01</span>, <span style=\"color: #008080; text-decoration-color: #008080; font-weight: bold\">-2.0513e+00</span>, <span style=\"color: #008080; text-decoration-color: #008080; font-weight: bold\">-1.3342e+00</span>, <span style=\"color: #008080; text-decoration-color: #008080; font-weight: bold\">-2.8021e+00</span>, <span style=\"color: #008080; text-decoration-color: #008080; font-weight: bold\">-4.5692e-01</span>,            <span style=\"color: #008000; text-decoration-color: #008000\">│</span> <span style=\"color: #000080; text-decoration-color: #000080\">│</span>\n",
              "<span style=\"color: #000080; text-decoration-color: #000080\">│</span> <span style=\"color: #008000; text-decoration-color: #008000\">│</span> <span style=\"color: #7fbf7f; text-decoration-color: #7fbf7f\">│   │     </span><span style=\"color: #008080; text-decoration-color: #008080; font-weight: bold\">-1.7466e+00</span>,  <span style=\"color: #008080; text-decoration-color: #008080; font-weight: bold\">5.0268e-01</span>, <span style=\"color: #008080; text-decoration-color: #008080; font-weight: bold\">-2.1795e+00</span>, <span style=\"color: #008080; text-decoration-color: #008080; font-weight: bold\">-6.4350e-01</span><span style=\"font-weight: bold\">]</span>,                        <span style=\"color: #008000; text-decoration-color: #008000\">│</span> <span style=\"color: #000080; text-decoration-color: #000080\">│</span>\n",
              "<span style=\"color: #000080; text-decoration-color: #000080\">│</span> <span style=\"color: #008000; text-decoration-color: #008000\">│</span> <span style=\"color: #7fbf7f; text-decoration-color: #7fbf7f\">│   │    </span><span style=\"font-weight: bold\">[</span> <span style=\"color: #008080; text-decoration-color: #008080; font-weight: bold\">1.0443e+01</span>, <span style=\"color: #008080; text-decoration-color: #008080; font-weight: bold\">-2.2017e+00</span>, <span style=\"color: #008080; text-decoration-color: #008080; font-weight: bold\">-1.2179e+00</span>, <span style=\"color: #008080; text-decoration-color: #008080; font-weight: bold\">-2.6169e+00</span>, <span style=\"color: #008080; text-decoration-color: #008080; font-weight: bold\">-7.7069e-01</span>,            <span style=\"color: #008000; text-decoration-color: #008000\">│</span> <span style=\"color: #000080; text-decoration-color: #000080\">│</span>\n",
              "<span style=\"color: #000080; text-decoration-color: #000080\">│</span> <span style=\"color: #008000; text-decoration-color: #008000\">│</span> <span style=\"color: #7fbf7f; text-decoration-color: #7fbf7f\">│   │     </span><span style=\"color: #008080; text-decoration-color: #008080; font-weight: bold\">-1.6252e+00</span>,  <span style=\"color: #008080; text-decoration-color: #008080; font-weight: bold\">6.2856e-01</span>, <span style=\"color: #008080; text-decoration-color: #008080; font-weight: bold\">-1.7395e+00</span>, <span style=\"color: #008080; text-decoration-color: #008080; font-weight: bold\">-5.5289e-01</span><span style=\"font-weight: bold\">]</span>,                        <span style=\"color: #008000; text-decoration-color: #008000\">│</span> <span style=\"color: #000080; text-decoration-color: #000080\">│</span>\n",
              "<span style=\"color: #000080; text-decoration-color: #000080\">│</span> <span style=\"color: #008000; text-decoration-color: #008000\">│</span> <span style=\"color: #7fbf7f; text-decoration-color: #7fbf7f\">│   │    </span><span style=\"font-weight: bold\">[</span><span style=\"color: #008080; text-decoration-color: #008080; font-weight: bold\">-4.6400e-01</span>, <span style=\"color: #008080; text-decoration-color: #008080; font-weight: bold\">-2.4872e+00</span>, <span style=\"color: #008080; text-decoration-color: #008080; font-weight: bold\">-7.7014e-01</span>, <span style=\"color: #008080; text-decoration-color: #008080; font-weight: bold\">-3.0646e+00</span>,  <span style=\"color: #008080; text-decoration-color: #008080; font-weight: bold\">8.2287e-03</span>,            <span style=\"color: #008000; text-decoration-color: #008000\">│</span> <span style=\"color: #000080; text-decoration-color: #000080\">│</span>\n",
              "<span style=\"color: #000080; text-decoration-color: #000080\">│</span> <span style=\"color: #008000; text-decoration-color: #008000\">│</span> <span style=\"color: #7fbf7f; text-decoration-color: #7fbf7f\">│   │     </span><span style=\"color: #008080; text-decoration-color: #008080; font-weight: bold\">-1.6552e+00</span>,  <span style=\"color: #008080; text-decoration-color: #008080; font-weight: bold\">7.9601e+00</span>, <span style=\"color: #008080; text-decoration-color: #008080; font-weight: bold\">-2.3432e+00</span>,  <span style=\"color: #008080; text-decoration-color: #008080; font-weight: bold\">3.0197e-01</span><span style=\"font-weight: bold\">]</span>,                        <span style=\"color: #008000; text-decoration-color: #008000\">│</span> <span style=\"color: #000080; text-decoration-color: #000080\">│</span>\n",
              "<span style=\"color: #000080; text-decoration-color: #000080\">│</span> <span style=\"color: #008000; text-decoration-color: #008000\">│</span> <span style=\"color: #7fbf7f; text-decoration-color: #7fbf7f\">│   │    </span><span style=\"font-weight: bold\">[</span><span style=\"color: #008080; text-decoration-color: #008080; font-weight: bold\">-7.8003e-01</span>, <span style=\"color: #008080; text-decoration-color: #008080; font-weight: bold\">-2.0654e+00</span>, <span style=\"color: #008080; text-decoration-color: #008080; font-weight: bold\">-3.6891e-01</span>, <span style=\"color: #008080; text-decoration-color: #008080; font-weight: bold\">-3.1776e+00</span>,  <span style=\"color: #008080; text-decoration-color: #008080; font-weight: bold\">1.8866e-01</span>,            <span style=\"color: #008000; text-decoration-color: #008000\">│</span> <span style=\"color: #000080; text-decoration-color: #000080\">│</span>\n",
              "<span style=\"color: #000080; text-decoration-color: #000080\">│</span> <span style=\"color: #008000; text-decoration-color: #008000\">│</span> <span style=\"color: #7fbf7f; text-decoration-color: #7fbf7f\">│   │     </span><span style=\"color: #008080; text-decoration-color: #008080; font-weight: bold\">-1.2896e+00</span>,  <span style=\"color: #008080; text-decoration-color: #008080; font-weight: bold\">7.1077e+00</span>, <span style=\"color: #008080; text-decoration-color: #008080; font-weight: bold\">-1.6704e+00</span>,  <span style=\"color: #008080; text-decoration-color: #008080; font-weight: bold\">6.9273e-01</span><span style=\"font-weight: bold\">]</span>,                        <span style=\"color: #008000; text-decoration-color: #008000\">│</span> <span style=\"color: #000080; text-decoration-color: #000080\">│</span>\n",
              "<span style=\"color: #000080; text-decoration-color: #000080\">│</span> <span style=\"color: #008000; text-decoration-color: #008000\">│</span> <span style=\"color: #7fbf7f; text-decoration-color: #7fbf7f\">│   │    </span><span style=\"font-weight: bold\">[</span> <span style=\"color: #008080; text-decoration-color: #008080; font-weight: bold\">1.0051e+01</span>, <span style=\"color: #008080; text-decoration-color: #008080; font-weight: bold\">-2.5032e+00</span>, <span style=\"color: #008080; text-decoration-color: #008080; font-weight: bold\">-9.2134e-01</span>, <span style=\"color: #008080; text-decoration-color: #008080; font-weight: bold\">-2.6266e+00</span>, <span style=\"color: #008080; text-decoration-color: #008080; font-weight: bold\">-1.4063e+00</span>,            <span style=\"color: #008000; text-decoration-color: #008000\">│</span> <span style=\"color: #000080; text-decoration-color: #000080\">│</span>\n",
              "<span style=\"color: #000080; text-decoration-color: #000080\">│</span> <span style=\"color: #008000; text-decoration-color: #008000\">│</span> <span style=\"color: #7fbf7f; text-decoration-color: #7fbf7f\">│   │     </span><span style=\"color: #008080; text-decoration-color: #008080; font-weight: bold\">-1.4717e+00</span>,  <span style=\"color: #008080; text-decoration-color: #008080; font-weight: bold\">5.3346e-01</span>, <span style=\"color: #008080; text-decoration-color: #008080; font-weight: bold\">-1.8018e+00</span>, <span style=\"color: #008080; text-decoration-color: #008080; font-weight: bold\">-6.7728e-03</span><span style=\"font-weight: bold\">]</span>,                        <span style=\"color: #008000; text-decoration-color: #008000\">│</span> <span style=\"color: #000080; text-decoration-color: #000080\">│</span>\n",
              "<span style=\"color: #000080; text-decoration-color: #000080\">│</span> <span style=\"color: #008000; text-decoration-color: #008000\">│</span> <span style=\"color: #7fbf7f; text-decoration-color: #7fbf7f\">│   │    </span><span style=\"font-weight: bold\">[</span><span style=\"color: #008080; text-decoration-color: #008080; font-weight: bold\">-1.6363e+00</span>, <span style=\"color: #008080; text-decoration-color: #008080; font-weight: bold\">-1.8397e+00</span>, <span style=\"color: #008080; text-decoration-color: #008080; font-weight: bold\">-8.1804e-01</span>, <span style=\"color: #008080; text-decoration-color: #008080; font-weight: bold\">-2.2044e+00</span>, <span style=\"color: #008080; text-decoration-color: #008080; font-weight: bold\">-1.8129e+00</span>,            <span style=\"color: #008000; text-decoration-color: #008000\">│</span> <span style=\"color: #000080; text-decoration-color: #000080\">│</span>\n",
              "<span style=\"color: #000080; text-decoration-color: #000080\">│</span> <span style=\"color: #008000; text-decoration-color: #008000\">│</span> <span style=\"color: #7fbf7f; text-decoration-color: #7fbf7f\">│   │     </span><span style=\"color: #008080; text-decoration-color: #008080; font-weight: bold\">-2.4159e+00</span>, <span style=\"color: #008080; text-decoration-color: #008080; font-weight: bold\">-1.8256e-01</span>, <span style=\"color: #008080; text-decoration-color: #008080; font-weight: bold\">-9.4595e-01</span>,  <span style=\"color: #008080; text-decoration-color: #008080; font-weight: bold\">9.2206e+00</span><span style=\"font-weight: bold\">]</span>,                        <span style=\"color: #008000; text-decoration-color: #008000\">│</span> <span style=\"color: #000080; text-decoration-color: #000080\">│</span>\n",
              "<span style=\"color: #000080; text-decoration-color: #000080\">│</span> <span style=\"color: #008000; text-decoration-color: #008000\">│</span> <span style=\"color: #7fbf7f; text-decoration-color: #7fbf7f\">│   │    </span><span style=\"font-weight: bold\">[</span> <span style=\"color: #008080; text-decoration-color: #008080; font-weight: bold\">8.8731e+00</span>, <span style=\"color: #008080; text-decoration-color: #008080; font-weight: bold\">-2.2831e+00</span>, <span style=\"color: #008080; text-decoration-color: #008080; font-weight: bold\">-1.5776e+00</span>, <span style=\"color: #008080; text-decoration-color: #008080; font-weight: bold\">-1.6307e+00</span>, <span style=\"color: #008080; text-decoration-color: #008080; font-weight: bold\">-9.4635e-01</span>,            <span style=\"color: #008000; text-decoration-color: #008000\">│</span> <span style=\"color: #000080; text-decoration-color: #000080\">│</span>\n",
              "<span style=\"color: #000080; text-decoration-color: #000080\">│</span> <span style=\"color: #008000; text-decoration-color: #008000\">│</span> <span style=\"color: #7fbf7f; text-decoration-color: #7fbf7f\">│   │     </span><span style=\"color: #008080; text-decoration-color: #008080; font-weight: bold\">-1.7195e+00</span>, <span style=\"color: #008080; text-decoration-color: #008080; font-weight: bold\">-4.6358e-01</span>, <span style=\"color: #008080; text-decoration-color: #008080; font-weight: bold\">-1.9522e+00</span>,  <span style=\"color: #008080; text-decoration-color: #008080; font-weight: bold\">8.6604e-01</span><span style=\"font-weight: bold\">]</span>,                        <span style=\"color: #008000; text-decoration-color: #008000\">│</span> <span style=\"color: #000080; text-decoration-color: #000080\">│</span>\n",
              "<span style=\"color: #000080; text-decoration-color: #000080\">│</span> <span style=\"color: #008000; text-decoration-color: #008000\">│</span> <span style=\"color: #7fbf7f; text-decoration-color: #7fbf7f\">│   │    </span><span style=\"font-weight: bold\">[</span> <span style=\"color: #008080; text-decoration-color: #008080; font-weight: bold\">8.8731e+00</span>, <span style=\"color: #008080; text-decoration-color: #008080; font-weight: bold\">-2.2831e+00</span>, <span style=\"color: #008080; text-decoration-color: #008080; font-weight: bold\">-1.5776e+00</span>, <span style=\"color: #008080; text-decoration-color: #008080; font-weight: bold\">-1.6307e+00</span>, <span style=\"color: #008080; text-decoration-color: #008080; font-weight: bold\">-9.4635e-01</span>,            <span style=\"color: #008000; text-decoration-color: #008000\">│</span> <span style=\"color: #000080; text-decoration-color: #000080\">│</span>\n",
              "<span style=\"color: #000080; text-decoration-color: #000080\">│</span> <span style=\"color: #008000; text-decoration-color: #008000\">│</span> <span style=\"color: #7fbf7f; text-decoration-color: #7fbf7f\">│   │     </span><span style=\"color: #008080; text-decoration-color: #008080; font-weight: bold\">-1.7195e+00</span>, <span style=\"color: #008080; text-decoration-color: #008080; font-weight: bold\">-4.6358e-01</span>, <span style=\"color: #008080; text-decoration-color: #008080; font-weight: bold\">-1.9522e+00</span>,  <span style=\"color: #008080; text-decoration-color: #008080; font-weight: bold\">8.6607e-01</span><span style=\"font-weight: bold\">]]]</span>,                      <span style=\"color: #008000; text-decoration-color: #008000\">│</span> <span style=\"color: #000080; text-decoration-color: #000080\">│</span>\n",
              "<span style=\"color: #000080; text-decoration-color: #000080\">│</span> <span style=\"color: #008000; text-decoration-color: #008000\">│</span> <span style=\"color: #7fbf7f; text-decoration-color: #7fbf7f\">│      </span><span style=\"color: #808000; text-decoration-color: #808000\">grad_fn</span>=<span style=\"font-weight: bold\">&lt;</span><span style=\"color: #ff00ff; text-decoration-color: #ff00ff; font-weight: bold\">AddBackward0</span><span style=\"font-weight: bold\">&gt;)</span>,                                                       <span style=\"color: #008000; text-decoration-color: #008000\">│</span> <span style=\"color: #000080; text-decoration-color: #000080\">│</span>\n",
              "<span style=\"color: #000080; text-decoration-color: #000080\">│</span> <span style=\"color: #008000; text-decoration-color: #008000\">│</span> <span style=\"color: #7fbf7f; text-decoration-color: #7fbf7f\">│   </span><span style=\"color: #808000; text-decoration-color: #808000\">hidden_states</span>=<span style=\"color: #800080; text-decoration-color: #800080; font-style: italic\">None</span>,                                                               <span style=\"color: #008000; text-decoration-color: #008000\">│</span> <span style=\"color: #000080; text-decoration-color: #000080\">│</span>\n",
              "<span style=\"color: #000080; text-decoration-color: #000080\">│</span> <span style=\"color: #008000; text-decoration-color: #008000\">│</span> <span style=\"color: #7fbf7f; text-decoration-color: #7fbf7f\">│   </span><span style=\"color: #808000; text-decoration-color: #808000\">attentions</span>=<span style=\"color: #800080; text-decoration-color: #800080; font-style: italic\">None</span>                                                                   <span style=\"color: #008000; text-decoration-color: #008000\">│</span> <span style=\"color: #000080; text-decoration-color: #000080\">│</span>\n",
              "<span style=\"color: #000080; text-decoration-color: #000080\">│</span> <span style=\"color: #008000; text-decoration-color: #008000\">│</span> <span style=\"font-weight: bold\">)</span>                                                                                     <span style=\"color: #008000; text-decoration-color: #008000\">│</span> <span style=\"color: #000080; text-decoration-color: #000080\">│</span>\n",
              "<span style=\"color: #000080; text-decoration-color: #000080\">│</span> <span style=\"color: #008000; text-decoration-color: #008000\">╰───────────────────────────────────────────────────────────────────────────────────────╯</span> <span style=\"color: #000080; text-decoration-color: #000080\">│</span>\n",
              "<span style=\"color: #000080; text-decoration-color: #000080\">│</span>                                                                                           <span style=\"color: #000080; text-decoration-color: #000080\">│</span>\n",
              "<span style=\"color: #000080; text-decoration-color: #000080\">│</span>    <span style=\"color: #808000; text-decoration-color: #808000; font-style: italic\">attentions</span> = <span style=\"color: #800080; text-decoration-color: #800080; font-style: italic\">None</span>                                                                      <span style=\"color: #000080; text-decoration-color: #000080\">│</span>\n",
              "<span style=\"color: #000080; text-decoration-color: #000080\">│</span> <span style=\"color: #808000; text-decoration-color: #808000; font-style: italic\">hidden_states</span> = <span style=\"color: #800080; text-decoration-color: #800080; font-style: italic\">None</span>                                                                      <span style=\"color: #000080; text-decoration-color: #000080\">│</span>\n",
              "<span style=\"color: #000080; text-decoration-color: #000080\">│</span>        <span style=\"color: #808000; text-decoration-color: #808000; font-style: italic\">logits</span> = <span style=\"color: #800080; text-decoration-color: #800080; font-weight: bold\">tensor</span><span style=\"font-weight: bold\">([[[</span> <span style=\"color: #008080; text-decoration-color: #008080; font-weight: bold\">8.8731e+00</span>, <span style=\"color: #008080; text-decoration-color: #008080; font-weight: bold\">-2.2831e+00</span>, <span style=\"color: #008080; text-decoration-color: #008080; font-weight: bold\">-1.5776e+00</span>, <span style=\"color: #008080; text-decoration-color: #008080; font-weight: bold\">-1.6307e+00</span>,             <span style=\"color: #000080; text-decoration-color: #000080\">│</span>\n",
              "<span style=\"color: #000080; text-decoration-color: #000080\">│</span>                 <span style=\"color: #008080; text-decoration-color: #008080; font-weight: bold\">-9.4635e-01</span>,                                                              <span style=\"color: #000080; text-decoration-color: #000080\">│</span>\n",
              "<span style=\"color: #000080; text-decoration-color: #000080\">│</span>                           <span style=\"color: #008080; text-decoration-color: #008080; font-weight: bold\">-1.7195e+00</span>, <span style=\"color: #008080; text-decoration-color: #008080; font-weight: bold\">-4.6358e-01</span>, <span style=\"color: #008080; text-decoration-color: #008080; font-weight: bold\">-1.9522e+00</span>,  <span style=\"color: #008080; text-decoration-color: #008080; font-weight: bold\">8.6606e-01</span><span style=\"font-weight: bold\">]</span>,            <span style=\"color: #000080; text-decoration-color: #000080\">│</span>\n",
              "<span style=\"color: #000080; text-decoration-color: #000080\">│</span>                          <span style=\"font-weight: bold\">[</span> <span style=\"color: #008080; text-decoration-color: #008080; font-weight: bold\">9.5287e+00</span>, <span style=\"color: #008080; text-decoration-color: #008080; font-weight: bold\">-2.3302e+00</span>, <span style=\"color: #008080; text-decoration-color: #008080; font-weight: bold\">-1.0897e+00</span>, <span style=\"color: #008080; text-decoration-color: #008080; font-weight: bold\">-2.5217e+00</span>,             <span style=\"color: #000080; text-decoration-color: #000080\">│</span>\n",
              "<span style=\"color: #000080; text-decoration-color: #000080\">│</span>                 <span style=\"color: #008080; text-decoration-color: #008080; font-weight: bold\">7.0682e-02</span>,                                                               <span style=\"color: #000080; text-decoration-color: #000080\">│</span>\n",
              "<span style=\"color: #000080; text-decoration-color: #000080\">│</span>                           <span style=\"color: #008080; text-decoration-color: #008080; font-weight: bold\">-1.8825e+00</span>,  <span style=\"color: #008080; text-decoration-color: #008080; font-weight: bold\">2.2747e-01</span>, <span style=\"color: #008080; text-decoration-color: #008080; font-weight: bold\">-2.2382e+00</span>, <span style=\"color: #008080; text-decoration-color: #008080; font-weight: bold\">-2.0623e-01</span><span style=\"font-weight: bold\">]</span>,            <span style=\"color: #000080; text-decoration-color: #000080\">│</span>\n",
              "<span style=\"color: #000080; text-decoration-color: #000080\">│</span>                          <span style=\"font-weight: bold\">[</span> <span style=\"color: #008080; text-decoration-color: #008080; font-weight: bold\">9.7292e+00</span>, <span style=\"color: #008080; text-decoration-color: #008080; font-weight: bold\">-2.1166e+00</span>, <span style=\"color: #008080; text-decoration-color: #008080; font-weight: bold\">-8.8411e-01</span>, <span style=\"color: #008080; text-decoration-color: #008080; font-weight: bold\">-2.4963e+00</span>,             <span style=\"color: #000080; text-decoration-color: #000080\">│</span>\n",
              "<span style=\"color: #000080; text-decoration-color: #000080\">│</span>                 <span style=\"color: #008080; text-decoration-color: #008080; font-weight: bold\">-9.5251e-02</span>,                                                              <span style=\"color: #000080; text-decoration-color: #000080\">│</span>\n",
              "<span style=\"color: #000080; text-decoration-color: #000080\">│</span>                           <span style=\"color: #008080; text-decoration-color: #008080; font-weight: bold\">-2.0684e+00</span>, <span style=\"color: #008080; text-decoration-color: #008080; font-weight: bold\">-2.2465e-01</span>, <span style=\"color: #008080; text-decoration-color: #008080; font-weight: bold\">-1.8881e+00</span>,  <span style=\"color: #008080; text-decoration-color: #008080; font-weight: bold\">6.9939e-02</span><span style=\"font-weight: bold\">]</span>,            <span style=\"color: #000080; text-decoration-color: #000080\">│</span>\n",
              "<span style=\"color: #000080; text-decoration-color: #000080\">│</span>                          <span style=\"font-weight: bold\">[</span> <span style=\"color: #008080; text-decoration-color: #008080; font-weight: bold\">1.0312e+01</span>, <span style=\"color: #008080; text-decoration-color: #008080; font-weight: bold\">-2.2053e+00</span>, <span style=\"color: #008080; text-decoration-color: #008080; font-weight: bold\">-1.2463e+00</span>, <span style=\"color: #008080; text-decoration-color: #008080; font-weight: bold\">-2.3914e+00</span>,             <span style=\"color: #000080; text-decoration-color: #000080\">│</span>\n",
              "<span style=\"color: #000080; text-decoration-color: #000080\">│</span>                 <span style=\"color: #008080; text-decoration-color: #008080; font-weight: bold\">-4.8295e-01</span>,                                                              <span style=\"color: #000080; text-decoration-color: #000080\">│</span>\n",
              "<span style=\"color: #000080; text-decoration-color: #000080\">│</span>                           <span style=\"color: #008080; text-decoration-color: #008080; font-weight: bold\">-1.9222e+00</span>, <span style=\"color: #008080; text-decoration-color: #008080; font-weight: bold\">-8.6139e-02</span>, <span style=\"color: #008080; text-decoration-color: #008080; font-weight: bold\">-1.8618e+00</span>, <span style=\"color: #008080; text-decoration-color: #008080; font-weight: bold\">-4.3702e-01</span><span style=\"font-weight: bold\">]</span>,            <span style=\"color: #000080; text-decoration-color: #000080\">│</span>\n",
              "<span style=\"color: #000080; text-decoration-color: #000080\">│</span>                          <span style=\"font-weight: bold\">[</span> <span style=\"color: #008080; text-decoration-color: #008080; font-weight: bold\">2.9619e-01</span>, <span style=\"color: #008080; text-decoration-color: #008080; font-weight: bold\">-2.1789e+00</span>, <span style=\"color: #008080; text-decoration-color: #008080; font-weight: bold\">-6.0339e-01</span>, <span style=\"color: #008080; text-decoration-color: #008080; font-weight: bold\">-3.1194e+00</span>,             <span style=\"color: #000080; text-decoration-color: #000080\">│</span>\n",
              "<span style=\"color: #000080; text-decoration-color: #000080\">│</span>                 <span style=\"color: #008080; text-decoration-color: #008080; font-weight: bold\">8.0420e+00</span>,                                                               <span style=\"color: #000080; text-decoration-color: #000080\">│</span>\n",
              "<span style=\"color: #000080; text-decoration-color: #000080\">│</span>                           <span style=\"color: #008080; text-decoration-color: #008080; font-weight: bold\">-2.8950e+00</span>, <span style=\"color: #008080; text-decoration-color: #008080; font-weight: bold\">-7.7103e-01</span>, <span style=\"color: #008080; text-decoration-color: #008080; font-weight: bold\">-2.5159e+00</span>, <span style=\"color: #008080; text-decoration-color: #008080; font-weight: bold\">-1.8309e-02</span><span style=\"font-weight: bold\">]</span>,            <span style=\"color: #000080; text-decoration-color: #000080\">│</span>\n",
              "<span style=\"color: #000080; text-decoration-color: #000080\">│</span>                          <span style=\"font-weight: bold\">[</span> <span style=\"color: #008080; text-decoration-color: #008080; font-weight: bold\">1.2117e+00</span>, <span style=\"color: #008080; text-decoration-color: #008080; font-weight: bold\">-2.0589e+00</span>,  <span style=\"color: #008080; text-decoration-color: #008080; font-weight: bold\">1.3299e-01</span>, <span style=\"color: #008080; text-decoration-color: #008080; font-weight: bold\">-2.7019e+00</span>,             <span style=\"color: #000080; text-decoration-color: #000080\">│</span>\n",
              "<span style=\"color: #000080; text-decoration-color: #000080\">│</span>                 <span style=\"color: #008080; text-decoration-color: #008080; font-weight: bold\">6.3817e+00</span>,                                                               <span style=\"color: #000080; text-decoration-color: #000080\">│</span>\n",
              "<span style=\"color: #000080; text-decoration-color: #000080\">│</span>                           <span style=\"color: #008080; text-decoration-color: #008080; font-weight: bold\">-2.4774e+00</span>, <span style=\"color: #008080; text-decoration-color: #008080; font-weight: bold\">-3.0354e-01</span>, <span style=\"color: #008080; text-decoration-color: #008080; font-weight: bold\">-2.7520e+00</span>, <span style=\"color: #008080; text-decoration-color: #008080; font-weight: bold\">-1.7033e-02</span><span style=\"font-weight: bold\">]</span>,            <span style=\"color: #000080; text-decoration-color: #000080\">│</span>\n",
              "<span style=\"color: #000080; text-decoration-color: #000080\">│</span>                          <span style=\"font-weight: bold\">[</span> <span style=\"color: #008080; text-decoration-color: #008080; font-weight: bold\">5.9479e-01</span>, <span style=\"color: #008080; text-decoration-color: #008080; font-weight: bold\">-1.9171e+00</span>, <span style=\"color: #008080; text-decoration-color: #008080; font-weight: bold\">-2.1798e-01</span>, <span style=\"color: #008080; text-decoration-color: #008080; font-weight: bold\">-2.7914e+00</span>,             <span style=\"color: #000080; text-decoration-color: #000080\">│</span>\n",
              "<span style=\"color: #000080; text-decoration-color: #000080\">│</span>                 <span style=\"color: #008080; text-decoration-color: #008080; font-weight: bold\">6.7987e+00</span>,                                                               <span style=\"color: #000080; text-decoration-color: #000080\">│</span>\n",
              "<span style=\"color: #000080; text-decoration-color: #000080\">│</span>                           <span style=\"color: #008080; text-decoration-color: #008080; font-weight: bold\">-2.5523e+00</span>, <span style=\"color: #008080; text-decoration-color: #008080; font-weight: bold\">-3.0440e-02</span>, <span style=\"color: #008080; text-decoration-color: #008080; font-weight: bold\">-2.1891e+00</span>,  <span style=\"color: #008080; text-decoration-color: #008080; font-weight: bold\">1.4313e-01</span><span style=\"font-weight: bold\">]</span>,            <span style=\"color: #000080; text-decoration-color: #000080\">│</span>\n",
              "<span style=\"color: #000080; text-decoration-color: #000080\">│</span>                          <span style=\"font-weight: bold\">[</span> <span style=\"color: #008080; text-decoration-color: #008080; font-weight: bold\">1.3190e+00</span>, <span style=\"color: #008080; text-decoration-color: #008080; font-weight: bold\">-2.3897e+00</span>, <span style=\"color: #008080; text-decoration-color: #008080; font-weight: bold\">-2.1822e-01</span>, <span style=\"color: #008080; text-decoration-color: #008080; font-weight: bold\">-3.3808e+00</span>,             <span style=\"color: #000080; text-decoration-color: #000080\">│</span>\n",
              "<span style=\"color: #000080; text-decoration-color: #000080\">│</span>                 <span style=\"color: #008080; text-decoration-color: #008080; font-weight: bold\">7.0866e+00</span>,                                                               <span style=\"color: #000080; text-decoration-color: #000080\">│</span>\n",
              "<span style=\"color: #000080; text-decoration-color: #000080\">│</span>                           <span style=\"color: #008080; text-decoration-color: #008080; font-weight: bold\">-2.9140e+00</span>, <span style=\"color: #008080; text-decoration-color: #008080; font-weight: bold\">-7.7515e-02</span>, <span style=\"color: #008080; text-decoration-color: #008080; font-weight: bold\">-2.3816e+00</span>,  <span style=\"color: #008080; text-decoration-color: #008080; font-weight: bold\">1.0191e-01</span><span style=\"font-weight: bold\">]</span>,            <span style=\"color: #000080; text-decoration-color: #000080\">│</span>\n",
              "<span style=\"color: #000080; text-decoration-color: #000080\">│</span>                          <span style=\"font-weight: bold\">[</span> <span style=\"color: #008080; text-decoration-color: #008080; font-weight: bold\">1.0086e+01</span>, <span style=\"color: #008080; text-decoration-color: #008080; font-weight: bold\">-2.3665e+00</span>, <span style=\"color: #008080; text-decoration-color: #008080; font-weight: bold\">-1.1894e+00</span>, <span style=\"color: #008080; text-decoration-color: #008080; font-weight: bold\">-2.5140e+00</span>,             <span style=\"color: #000080; text-decoration-color: #000080\">│</span>\n",
              "<span style=\"color: #000080; text-decoration-color: #000080\">│</span>                 <span style=\"color: #008080; text-decoration-color: #008080; font-weight: bold\">-1.2628e+00</span>,                                                              <span style=\"color: #000080; text-decoration-color: #000080\">│</span>\n",
              "<span style=\"color: #000080; text-decoration-color: #000080\">│</span>                           <span style=\"color: #008080; text-decoration-color: #008080; font-weight: bold\">-1.5703e+00</span>,  <span style=\"color: #008080; text-decoration-color: #008080; font-weight: bold\">2.6894e-01</span>, <span style=\"color: #008080; text-decoration-color: #008080; font-weight: bold\">-1.9707e+00</span>, <span style=\"color: #008080; text-decoration-color: #008080; font-weight: bold\">-4.5133e-01</span><span style=\"font-weight: bold\">]</span>,            <span style=\"color: #000080; text-decoration-color: #000080\">│</span>\n",
              "<span style=\"color: #000080; text-decoration-color: #000080\">│</span>                          <span style=\"font-weight: bold\">[</span> <span style=\"color: #008080; text-decoration-color: #008080; font-weight: bold\">9.8836e+00</span>, <span style=\"color: #008080; text-decoration-color: #008080; font-weight: bold\">-2.1551e+00</span>, <span style=\"color: #008080; text-decoration-color: #008080; font-weight: bold\">-1.1563e+00</span>, <span style=\"color: #008080; text-decoration-color: #008080; font-weight: bold\">-2.5158e+00</span>,             <span style=\"color: #000080; text-decoration-color: #000080\">│</span>\n",
              "<span style=\"color: #000080; text-decoration-color: #000080\">│</span>                 <span style=\"color: #008080; text-decoration-color: #008080; font-weight: bold\">-1.6026e-01</span>,                                                              <span style=\"color: #000080; text-decoration-color: #000080\">│</span>\n",
              "<span style=\"color: #000080; text-decoration-color: #000080\">│</span>                           <span style=\"color: #008080; text-decoration-color: #008080; font-weight: bold\">-1.8298e+00</span>,  <span style=\"color: #008080; text-decoration-color: #008080; font-weight: bold\">6.1174e-02</span>, <span style=\"color: #008080; text-decoration-color: #008080; font-weight: bold\">-1.9529e+00</span>, <span style=\"color: #008080; text-decoration-color: #008080; font-weight: bold\">-4.2617e-01</span><span style=\"font-weight: bold\">]</span>,            <span style=\"color: #000080; text-decoration-color: #000080\">│</span>\n",
              "<span style=\"color: #000080; text-decoration-color: #000080\">│</span>                          <span style=\"font-weight: bold\">[</span> <span style=\"color: #008080; text-decoration-color: #008080; font-weight: bold\">1.0330e+01</span>, <span style=\"color: #008080; text-decoration-color: #008080; font-weight: bold\">-2.0513e+00</span>, <span style=\"color: #008080; text-decoration-color: #008080; font-weight: bold\">-1.3342e+00</span>, <span style=\"color: #008080; text-decoration-color: #008080; font-weight: bold\">-2.8021e+00</span>,             <span style=\"color: #000080; text-decoration-color: #000080\">│</span>\n",
              "<span style=\"color: #000080; text-decoration-color: #000080\">│</span>                 <span style=\"color: #008080; text-decoration-color: #008080; font-weight: bold\">-4.5692e-01</span>,                                                              <span style=\"color: #000080; text-decoration-color: #000080\">│</span>\n",
              "<span style=\"color: #000080; text-decoration-color: #000080\">│</span>                           <span style=\"color: #008080; text-decoration-color: #008080; font-weight: bold\">-1.7466e+00</span>,  <span style=\"color: #008080; text-decoration-color: #008080; font-weight: bold\">5.0268e-01</span>, <span style=\"color: #008080; text-decoration-color: #008080; font-weight: bold\">-2.1795e+00</span>, <span style=\"color: #008080; text-decoration-color: #008080; font-weight: bold\">-6.4350e-01</span><span style=\"font-weight: bold\">]</span>,            <span style=\"color: #000080; text-decoration-color: #000080\">│</span>\n",
              "<span style=\"color: #000080; text-decoration-color: #000080\">│</span>                          <span style=\"font-weight: bold\">[</span> <span style=\"color: #008080; text-decoration-color: #008080; font-weight: bold\">1.0443e+01</span>, <span style=\"color: #008080; text-decoration-color: #008080; font-weight: bold\">-2.2017e+00</span>, <span style=\"color: #008080; text-decoration-color: #008080; font-weight: bold\">-1.2179e+00</span>, <span style=\"color: #008080; text-decoration-color: #008080; font-weight: bold\">-2.6169e+00</span>,             <span style=\"color: #000080; text-decoration-color: #000080\">│</span>\n",
              "<span style=\"color: #000080; text-decoration-color: #000080\">│</span>                 <span style=\"color: #008080; text-decoration-color: #008080; font-weight: bold\">-7.7069e-01</span>,                                                              <span style=\"color: #000080; text-decoration-color: #000080\">│</span>\n",
              "<span style=\"color: #000080; text-decoration-color: #000080\">│</span>                           <span style=\"color: #008080; text-decoration-color: #008080; font-weight: bold\">-1.6252e+00</span>,  <span style=\"color: #008080; text-decoration-color: #008080; font-weight: bold\">6.2856e-01</span>, <span style=\"color: #008080; text-decoration-color: #008080; font-weight: bold\">-1.7395e+00</span>, <span style=\"color: #008080; text-decoration-color: #008080; font-weight: bold\">-5.5289e-01</span><span style=\"font-weight: bold\">]</span>,            <span style=\"color: #000080; text-decoration-color: #000080\">│</span>\n",
              "<span style=\"color: #000080; text-decoration-color: #000080\">│</span>                          <span style=\"font-weight: bold\">[</span><span style=\"color: #008080; text-decoration-color: #008080; font-weight: bold\">-4.6400e-01</span>, <span style=\"color: #008080; text-decoration-color: #008080; font-weight: bold\">-2.4872e+00</span>, <span style=\"color: #008080; text-decoration-color: #008080; font-weight: bold\">-7.7014e-01</span>, <span style=\"color: #008080; text-decoration-color: #008080; font-weight: bold\">-3.0646e+00</span>,             <span style=\"color: #000080; text-decoration-color: #000080\">│</span>\n",
              "<span style=\"color: #000080; text-decoration-color: #000080\">│</span>                 <span style=\"color: #008080; text-decoration-color: #008080; font-weight: bold\">8.2287e-03</span>,                                                               <span style=\"color: #000080; text-decoration-color: #000080\">│</span>\n",
              "<span style=\"color: #000080; text-decoration-color: #000080\">│</span>                           <span style=\"color: #008080; text-decoration-color: #008080; font-weight: bold\">-1.6552e+00</span>,  <span style=\"color: #008080; text-decoration-color: #008080; font-weight: bold\">7.9601e+00</span>, <span style=\"color: #008080; text-decoration-color: #008080; font-weight: bold\">-2.3432e+00</span>,  <span style=\"color: #008080; text-decoration-color: #008080; font-weight: bold\">3.0197e-01</span><span style=\"font-weight: bold\">]</span>,            <span style=\"color: #000080; text-decoration-color: #000080\">│</span>\n",
              "<span style=\"color: #000080; text-decoration-color: #000080\">│</span>                          <span style=\"font-weight: bold\">[</span><span style=\"color: #008080; text-decoration-color: #008080; font-weight: bold\">-7.8003e-01</span>, <span style=\"color: #008080; text-decoration-color: #008080; font-weight: bold\">-2.0654e+00</span>, <span style=\"color: #008080; text-decoration-color: #008080; font-weight: bold\">-3.6891e-01</span>, <span style=\"color: #008080; text-decoration-color: #008080; font-weight: bold\">-3.1776e+00</span>,             <span style=\"color: #000080; text-decoration-color: #000080\">│</span>\n",
              "<span style=\"color: #000080; text-decoration-color: #000080\">│</span>                 <span style=\"color: #008080; text-decoration-color: #008080; font-weight: bold\">1.8866e-01</span>,                                                               <span style=\"color: #000080; text-decoration-color: #000080\">│</span>\n",
              "<span style=\"color: #000080; text-decoration-color: #000080\">│</span>                           <span style=\"color: #008080; text-decoration-color: #008080; font-weight: bold\">-1.2896e+00</span>,  <span style=\"color: #008080; text-decoration-color: #008080; font-weight: bold\">7.1077e+00</span>, <span style=\"color: #008080; text-decoration-color: #008080; font-weight: bold\">-1.6704e+00</span>,  <span style=\"color: #008080; text-decoration-color: #008080; font-weight: bold\">6.9273e-01</span><span style=\"font-weight: bold\">]</span>,            <span style=\"color: #000080; text-decoration-color: #000080\">│</span>\n",
              "<span style=\"color: #000080; text-decoration-color: #000080\">│</span>                          <span style=\"font-weight: bold\">[</span> <span style=\"color: #008080; text-decoration-color: #008080; font-weight: bold\">1.0051e+01</span>, <span style=\"color: #008080; text-decoration-color: #008080; font-weight: bold\">-2.5032e+00</span>, <span style=\"color: #008080; text-decoration-color: #008080; font-weight: bold\">-9.2134e-01</span>, <span style=\"color: #008080; text-decoration-color: #008080; font-weight: bold\">-2.6266e+00</span>,             <span style=\"color: #000080; text-decoration-color: #000080\">│</span>\n",
              "<span style=\"color: #000080; text-decoration-color: #000080\">│</span>                 <span style=\"color: #008080; text-decoration-color: #008080; font-weight: bold\">-1.4063e+00</span>,                                                              <span style=\"color: #000080; text-decoration-color: #000080\">│</span>\n",
              "<span style=\"color: #000080; text-decoration-color: #000080\">│</span>                           <span style=\"color: #008080; text-decoration-color: #008080; font-weight: bold\">-1.4717e+00</span>,  <span style=\"color: #008080; text-decoration-color: #008080; font-weight: bold\">5.3346e-01</span>, <span style=\"color: #008080; text-decoration-color: #008080; font-weight: bold\">-1.8018e+00</span>, <span style=\"color: #008080; text-decoration-color: #008080; font-weight: bold\">-6.7728e-03</span><span style=\"font-weight: bold\">]</span>,            <span style=\"color: #000080; text-decoration-color: #000080\">│</span>\n",
              "<span style=\"color: #000080; text-decoration-color: #000080\">│</span>                          <span style=\"font-weight: bold\">[</span><span style=\"color: #008080; text-decoration-color: #008080; font-weight: bold\">-1.6363e+00</span>, <span style=\"color: #008080; text-decoration-color: #008080; font-weight: bold\">-1.8397e+00</span>, <span style=\"color: #008080; text-decoration-color: #008080; font-weight: bold\">-8.1804e-01</span>, <span style=\"color: #008080; text-decoration-color: #008080; font-weight: bold\">-2.2044e+00</span>,             <span style=\"color: #000080; text-decoration-color: #000080\">│</span>\n",
              "<span style=\"color: #000080; text-decoration-color: #000080\">│</span>                 <span style=\"color: #008080; text-decoration-color: #008080; font-weight: bold\">-1.8129e+00</span>,                                                              <span style=\"color: #000080; text-decoration-color: #000080\">│</span>\n",
              "<span style=\"color: #000080; text-decoration-color: #000080\">│</span>                           <span style=\"color: #008080; text-decoration-color: #008080; font-weight: bold\">-2.4159e+00</span>, <span style=\"color: #008080; text-decoration-color: #008080; font-weight: bold\">-1.8256e-01</span>, <span style=\"color: #008080; text-decoration-color: #008080; font-weight: bold\">-9.4595e-01</span>,  <span style=\"color: #008080; text-decoration-color: #008080; font-weight: bold\">9.2206e+00</span><span style=\"font-weight: bold\">]</span>,            <span style=\"color: #000080; text-decoration-color: #000080\">│</span>\n",
              "<span style=\"color: #000080; text-decoration-color: #000080\">│</span>                          <span style=\"font-weight: bold\">[</span> <span style=\"color: #008080; text-decoration-color: #008080; font-weight: bold\">8.8731e+00</span>, <span style=\"color: #008080; text-decoration-color: #008080; font-weight: bold\">-2.2831e+00</span>, <span style=\"color: #008080; text-decoration-color: #008080; font-weight: bold\">-1.5776e+00</span>, <span style=\"color: #008080; text-decoration-color: #008080; font-weight: bold\">-1.6307e+00</span>,             <span style=\"color: #000080; text-decoration-color: #000080\">│</span>\n",
              "<span style=\"color: #000080; text-decoration-color: #000080\">│</span>                 <span style=\"color: #008080; text-decoration-color: #008080; font-weight: bold\">-9.4635e-01</span>,                                                              <span style=\"color: #000080; text-decoration-color: #000080\">│</span>\n",
              "<span style=\"color: #000080; text-decoration-color: #000080\">│</span>                           <span style=\"color: #008080; text-decoration-color: #008080; font-weight: bold\">-1.7195e+00</span>, <span style=\"color: #008080; text-decoration-color: #008080; font-weight: bold\">-4.6358e-01</span>, <span style=\"color: #008080; text-decoration-color: #008080; font-weight: bold\">-1.9522e+00</span>,  <span style=\"color: #008080; text-decoration-color: #008080; font-weight: bold\">8.6604e-01</span><span style=\"font-weight: bold\">]</span>,            <span style=\"color: #000080; text-decoration-color: #000080\">│</span>\n",
              "<span style=\"color: #000080; text-decoration-color: #000080\">│</span>                          <span style=\"font-weight: bold\">[</span> <span style=\"color: #008080; text-decoration-color: #008080; font-weight: bold\">8.8731e+00</span>, <span style=\"color: #008080; text-decoration-color: #008080; font-weight: bold\">-2.2831e+00</span>, <span style=\"color: #008080; text-decoration-color: #008080; font-weight: bold\">-1.5776e+00</span>, <span style=\"color: #008080; text-decoration-color: #008080; font-weight: bold\">-1.6307e+00</span>,             <span style=\"color: #000080; text-decoration-color: #000080\">│</span>\n",
              "<span style=\"color: #000080; text-decoration-color: #000080\">│</span>                 <span style=\"color: #008080; text-decoration-color: #008080; font-weight: bold\">-9.4635e-01</span>,                                                              <span style=\"color: #000080; text-decoration-color: #000080\">│</span>\n",
              "<span style=\"color: #000080; text-decoration-color: #000080\">│</span>                           <span style=\"color: #008080; text-decoration-color: #008080; font-weight: bold\">-1.7195e+00</span>, <span style=\"color: #008080; text-decoration-color: #008080; font-weight: bold\">-4.6358e-01</span>, <span style=\"color: #008080; text-decoration-color: #008080; font-weight: bold\">-1.9522e+00</span>,  <span style=\"color: #008080; text-decoration-color: #008080; font-weight: bold\">8.6607e-01</span><span style=\"font-weight: bold\">]]]</span>,          <span style=\"color: #000080; text-decoration-color: #000080\">│</span>\n",
              "<span style=\"color: #000080; text-decoration-color: #000080\">│</span>                        <span style=\"color: #808000; text-decoration-color: #808000\">grad_fn</span>=<span style=\"font-weight: bold\">&lt;</span><span style=\"color: #ff00ff; text-decoration-color: #ff00ff; font-weight: bold\">AddBackward0</span><span style=\"font-weight: bold\">&gt;)</span>                                            <span style=\"color: #000080; text-decoration-color: #000080\">│</span>\n",
              "<span style=\"color: #000080; text-decoration-color: #000080\">│</span>          <span style=\"color: #808000; text-decoration-color: #808000; font-style: italic\">loss</span> = <span style=\"color: #800080; text-decoration-color: #800080; font-style: italic\">None</span>                                                                      <span style=\"color: #000080; text-decoration-color: #000080\">│</span>\n",
              "<span style=\"color: #000080; text-decoration-color: #000080\">╰───────────────────────────────────────────────────────────────────────────────────────────╯</span>\n",
              "</pre>\n"
            ],
            "text/plain": [
              "\u001b[34m╭─\u001b[0m\u001b[34m───────────── \u001b[0m\u001b[1;34m<\u001b[0m\u001b[1;95mclass\u001b[0m\u001b[39m \u001b[0m\u001b[32m'transformers.modeling_outputs.TokenClassifierOutput'\u001b[0m\u001b[1;34m>\u001b[0m\u001b[34m ─────────────\u001b[0m\u001b[34m─╮\u001b[0m\n",
              "\u001b[34m│\u001b[0m \u001b[36mBase class for outputs of token classification models.\u001b[0m                                    \u001b[34m│\u001b[0m\n",
              "\u001b[34m│\u001b[0m                                                                                           \u001b[34m│\u001b[0m\n",
              "\u001b[34m│\u001b[0m \u001b[32m╭───────────────────────────────────────────────────────────────────────────────────────╮\u001b[0m \u001b[34m│\u001b[0m\n",
              "\u001b[34m│\u001b[0m \u001b[32m│\u001b[0m \u001b[1;35mTokenClassifierOutput\u001b[0m\u001b[1m(\u001b[0m                                                                \u001b[32m│\u001b[0m \u001b[34m│\u001b[0m\n",
              "\u001b[34m│\u001b[0m \u001b[32m│\u001b[0m \u001b[2;32m│   \u001b[0m\u001b[33mloss\u001b[0m=\u001b[3;35mNone\u001b[0m,                                                                        \u001b[32m│\u001b[0m \u001b[34m│\u001b[0m\n",
              "\u001b[34m│\u001b[0m \u001b[32m│\u001b[0m \u001b[2;32m│   \u001b[0m\u001b[33mlogits\u001b[0m=\u001b[1;35mtensor\u001b[0m\u001b[1m(\u001b[0m\u001b[1m[\u001b[0m\u001b[1m[\u001b[0m\u001b[1m[\u001b[0m \u001b[1;36m8.8731e+00\u001b[0m, \u001b[1;36m-2.2831e+00\u001b[0m, \u001b[1;36m-1.5776e+00\u001b[0m, \u001b[1;36m-1.6307e+00\u001b[0m, \u001b[1;36m-9.4635e-01\u001b[0m, \u001b[32m│\u001b[0m \u001b[34m│\u001b[0m\n",
              "\u001b[34m│\u001b[0m \u001b[32m│\u001b[0m \u001b[2;32m│   │     \u001b[0m\u001b[1;36m-1.7195e+00\u001b[0m, \u001b[1;36m-4.6358e-01\u001b[0m, \u001b[1;36m-1.9522e+00\u001b[0m,  \u001b[1;36m8.6606e-01\u001b[0m\u001b[1m]\u001b[0m,                        \u001b[32m│\u001b[0m \u001b[34m│\u001b[0m\n",
              "\u001b[34m│\u001b[0m \u001b[32m│\u001b[0m \u001b[2;32m│   │    \u001b[0m\u001b[1m[\u001b[0m \u001b[1;36m9.5287e+00\u001b[0m, \u001b[1;36m-2.3302e+00\u001b[0m, \u001b[1;36m-1.0897e+00\u001b[0m, \u001b[1;36m-2.5217e+00\u001b[0m,  \u001b[1;36m7.0682e-02\u001b[0m,            \u001b[32m│\u001b[0m \u001b[34m│\u001b[0m\n",
              "\u001b[34m│\u001b[0m \u001b[32m│\u001b[0m \u001b[2;32m│   │     \u001b[0m\u001b[1;36m-1.8825e+00\u001b[0m,  \u001b[1;36m2.2747e-01\u001b[0m, \u001b[1;36m-2.2382e+00\u001b[0m, \u001b[1;36m-2.0623e-01\u001b[0m\u001b[1m]\u001b[0m,                        \u001b[32m│\u001b[0m \u001b[34m│\u001b[0m\n",
              "\u001b[34m│\u001b[0m \u001b[32m│\u001b[0m \u001b[2;32m│   │    \u001b[0m\u001b[1m[\u001b[0m \u001b[1;36m9.7292e+00\u001b[0m, \u001b[1;36m-2.1166e+00\u001b[0m, \u001b[1;36m-8.8411e-01\u001b[0m, \u001b[1;36m-2.4963e+00\u001b[0m, \u001b[1;36m-9.5251e-02\u001b[0m,            \u001b[32m│\u001b[0m \u001b[34m│\u001b[0m\n",
              "\u001b[34m│\u001b[0m \u001b[32m│\u001b[0m \u001b[2;32m│   │     \u001b[0m\u001b[1;36m-2.0684e+00\u001b[0m, \u001b[1;36m-2.2465e-01\u001b[0m, \u001b[1;36m-1.8881e+00\u001b[0m,  \u001b[1;36m6.9939e-02\u001b[0m\u001b[1m]\u001b[0m,                        \u001b[32m│\u001b[0m \u001b[34m│\u001b[0m\n",
              "\u001b[34m│\u001b[0m \u001b[32m│\u001b[0m \u001b[2;32m│   │    \u001b[0m\u001b[1m[\u001b[0m \u001b[1;36m1.0312e+01\u001b[0m, \u001b[1;36m-2.2053e+00\u001b[0m, \u001b[1;36m-1.2463e+00\u001b[0m, \u001b[1;36m-2.3914e+00\u001b[0m, \u001b[1;36m-4.8295e-01\u001b[0m,            \u001b[32m│\u001b[0m \u001b[34m│\u001b[0m\n",
              "\u001b[34m│\u001b[0m \u001b[32m│\u001b[0m \u001b[2;32m│   │     \u001b[0m\u001b[1;36m-1.9222e+00\u001b[0m, \u001b[1;36m-8.6139e-02\u001b[0m, \u001b[1;36m-1.8618e+00\u001b[0m, \u001b[1;36m-4.3702e-01\u001b[0m\u001b[1m]\u001b[0m,                        \u001b[32m│\u001b[0m \u001b[34m│\u001b[0m\n",
              "\u001b[34m│\u001b[0m \u001b[32m│\u001b[0m \u001b[2;32m│   │    \u001b[0m\u001b[1m[\u001b[0m \u001b[1;36m2.9619e-01\u001b[0m, \u001b[1;36m-2.1789e+00\u001b[0m, \u001b[1;36m-6.0339e-01\u001b[0m, \u001b[1;36m-3.1194e+00\u001b[0m,  \u001b[1;36m8.0420e+00\u001b[0m,            \u001b[32m│\u001b[0m \u001b[34m│\u001b[0m\n",
              "\u001b[34m│\u001b[0m \u001b[32m│\u001b[0m \u001b[2;32m│   │     \u001b[0m\u001b[1;36m-2.8950e+00\u001b[0m, \u001b[1;36m-7.7103e-01\u001b[0m, \u001b[1;36m-2.5159e+00\u001b[0m, \u001b[1;36m-1.8309e-02\u001b[0m\u001b[1m]\u001b[0m,                        \u001b[32m│\u001b[0m \u001b[34m│\u001b[0m\n",
              "\u001b[34m│\u001b[0m \u001b[32m│\u001b[0m \u001b[2;32m│   │    \u001b[0m\u001b[1m[\u001b[0m \u001b[1;36m1.2117e+00\u001b[0m, \u001b[1;36m-2.0589e+00\u001b[0m,  \u001b[1;36m1.3299e-01\u001b[0m, \u001b[1;36m-2.7019e+00\u001b[0m,  \u001b[1;36m6.3817e+00\u001b[0m,            \u001b[32m│\u001b[0m \u001b[34m│\u001b[0m\n",
              "\u001b[34m│\u001b[0m \u001b[32m│\u001b[0m \u001b[2;32m│   │     \u001b[0m\u001b[1;36m-2.4774e+00\u001b[0m, \u001b[1;36m-3.0354e-01\u001b[0m, \u001b[1;36m-2.7520e+00\u001b[0m, \u001b[1;36m-1.7033e-02\u001b[0m\u001b[1m]\u001b[0m,                        \u001b[32m│\u001b[0m \u001b[34m│\u001b[0m\n",
              "\u001b[34m│\u001b[0m \u001b[32m│\u001b[0m \u001b[2;32m│   │    \u001b[0m\u001b[1m[\u001b[0m \u001b[1;36m5.9479e-01\u001b[0m, \u001b[1;36m-1.9171e+00\u001b[0m, \u001b[1;36m-2.1798e-01\u001b[0m, \u001b[1;36m-2.7914e+00\u001b[0m,  \u001b[1;36m6.7987e+00\u001b[0m,            \u001b[32m│\u001b[0m \u001b[34m│\u001b[0m\n",
              "\u001b[34m│\u001b[0m \u001b[32m│\u001b[0m \u001b[2;32m│   │     \u001b[0m\u001b[1;36m-2.5523e+00\u001b[0m, \u001b[1;36m-3.0440e-02\u001b[0m, \u001b[1;36m-2.1891e+00\u001b[0m,  \u001b[1;36m1.4313e-01\u001b[0m\u001b[1m]\u001b[0m,                        \u001b[32m│\u001b[0m \u001b[34m│\u001b[0m\n",
              "\u001b[34m│\u001b[0m \u001b[32m│\u001b[0m \u001b[2;32m│   │    \u001b[0m\u001b[1m[\u001b[0m \u001b[1;36m1.3190e+00\u001b[0m, \u001b[1;36m-2.3897e+00\u001b[0m, \u001b[1;36m-2.1822e-01\u001b[0m, \u001b[1;36m-3.3808e+00\u001b[0m,  \u001b[1;36m7.0866e+00\u001b[0m,            \u001b[32m│\u001b[0m \u001b[34m│\u001b[0m\n",
              "\u001b[34m│\u001b[0m \u001b[32m│\u001b[0m \u001b[2;32m│   │     \u001b[0m\u001b[1;36m-2.9140e+00\u001b[0m, \u001b[1;36m-7.7515e-02\u001b[0m, \u001b[1;36m-2.3816e+00\u001b[0m,  \u001b[1;36m1.0191e-01\u001b[0m\u001b[1m]\u001b[0m,                        \u001b[32m│\u001b[0m \u001b[34m│\u001b[0m\n",
              "\u001b[34m│\u001b[0m \u001b[32m│\u001b[0m \u001b[2;32m│   │    \u001b[0m\u001b[1m[\u001b[0m \u001b[1;36m1.0086e+01\u001b[0m, \u001b[1;36m-2.3665e+00\u001b[0m, \u001b[1;36m-1.1894e+00\u001b[0m, \u001b[1;36m-2.5140e+00\u001b[0m, \u001b[1;36m-1.2628e+00\u001b[0m,            \u001b[32m│\u001b[0m \u001b[34m│\u001b[0m\n",
              "\u001b[34m│\u001b[0m \u001b[32m│\u001b[0m \u001b[2;32m│   │     \u001b[0m\u001b[1;36m-1.5703e+00\u001b[0m,  \u001b[1;36m2.6894e-01\u001b[0m, \u001b[1;36m-1.9707e+00\u001b[0m, \u001b[1;36m-4.5133e-01\u001b[0m\u001b[1m]\u001b[0m,                        \u001b[32m│\u001b[0m \u001b[34m│\u001b[0m\n",
              "\u001b[34m│\u001b[0m \u001b[32m│\u001b[0m \u001b[2;32m│   │    \u001b[0m\u001b[1m[\u001b[0m \u001b[1;36m9.8836e+00\u001b[0m, \u001b[1;36m-2.1551e+00\u001b[0m, \u001b[1;36m-1.1563e+00\u001b[0m, \u001b[1;36m-2.5158e+00\u001b[0m, \u001b[1;36m-1.6026e-01\u001b[0m,            \u001b[32m│\u001b[0m \u001b[34m│\u001b[0m\n",
              "\u001b[34m│\u001b[0m \u001b[32m│\u001b[0m \u001b[2;32m│   │     \u001b[0m\u001b[1;36m-1.8298e+00\u001b[0m,  \u001b[1;36m6.1174e-02\u001b[0m, \u001b[1;36m-1.9529e+00\u001b[0m, \u001b[1;36m-4.2617e-01\u001b[0m\u001b[1m]\u001b[0m,                        \u001b[32m│\u001b[0m \u001b[34m│\u001b[0m\n",
              "\u001b[34m│\u001b[0m \u001b[32m│\u001b[0m \u001b[2;32m│   │    \u001b[0m\u001b[1m[\u001b[0m \u001b[1;36m1.0330e+01\u001b[0m, \u001b[1;36m-2.0513e+00\u001b[0m, \u001b[1;36m-1.3342e+00\u001b[0m, \u001b[1;36m-2.8021e+00\u001b[0m, \u001b[1;36m-4.5692e-01\u001b[0m,            \u001b[32m│\u001b[0m \u001b[34m│\u001b[0m\n",
              "\u001b[34m│\u001b[0m \u001b[32m│\u001b[0m \u001b[2;32m│   │     \u001b[0m\u001b[1;36m-1.7466e+00\u001b[0m,  \u001b[1;36m5.0268e-01\u001b[0m, \u001b[1;36m-2.1795e+00\u001b[0m, \u001b[1;36m-6.4350e-01\u001b[0m\u001b[1m]\u001b[0m,                        \u001b[32m│\u001b[0m \u001b[34m│\u001b[0m\n",
              "\u001b[34m│\u001b[0m \u001b[32m│\u001b[0m \u001b[2;32m│   │    \u001b[0m\u001b[1m[\u001b[0m \u001b[1;36m1.0443e+01\u001b[0m, \u001b[1;36m-2.2017e+00\u001b[0m, \u001b[1;36m-1.2179e+00\u001b[0m, \u001b[1;36m-2.6169e+00\u001b[0m, \u001b[1;36m-7.7069e-01\u001b[0m,            \u001b[32m│\u001b[0m \u001b[34m│\u001b[0m\n",
              "\u001b[34m│\u001b[0m \u001b[32m│\u001b[0m \u001b[2;32m│   │     \u001b[0m\u001b[1;36m-1.6252e+00\u001b[0m,  \u001b[1;36m6.2856e-01\u001b[0m, \u001b[1;36m-1.7395e+00\u001b[0m, \u001b[1;36m-5.5289e-01\u001b[0m\u001b[1m]\u001b[0m,                        \u001b[32m│\u001b[0m \u001b[34m│\u001b[0m\n",
              "\u001b[34m│\u001b[0m \u001b[32m│\u001b[0m \u001b[2;32m│   │    \u001b[0m\u001b[1m[\u001b[0m\u001b[1;36m-4.6400e-01\u001b[0m, \u001b[1;36m-2.4872e+00\u001b[0m, \u001b[1;36m-7.7014e-01\u001b[0m, \u001b[1;36m-3.0646e+00\u001b[0m,  \u001b[1;36m8.2287e-03\u001b[0m,            \u001b[32m│\u001b[0m \u001b[34m│\u001b[0m\n",
              "\u001b[34m│\u001b[0m \u001b[32m│\u001b[0m \u001b[2;32m│   │     \u001b[0m\u001b[1;36m-1.6552e+00\u001b[0m,  \u001b[1;36m7.9601e+00\u001b[0m, \u001b[1;36m-2.3432e+00\u001b[0m,  \u001b[1;36m3.0197e-01\u001b[0m\u001b[1m]\u001b[0m,                        \u001b[32m│\u001b[0m \u001b[34m│\u001b[0m\n",
              "\u001b[34m│\u001b[0m \u001b[32m│\u001b[0m \u001b[2;32m│   │    \u001b[0m\u001b[1m[\u001b[0m\u001b[1;36m-7.8003e-01\u001b[0m, \u001b[1;36m-2.0654e+00\u001b[0m, \u001b[1;36m-3.6891e-01\u001b[0m, \u001b[1;36m-3.1776e+00\u001b[0m,  \u001b[1;36m1.8866e-01\u001b[0m,            \u001b[32m│\u001b[0m \u001b[34m│\u001b[0m\n",
              "\u001b[34m│\u001b[0m \u001b[32m│\u001b[0m \u001b[2;32m│   │     \u001b[0m\u001b[1;36m-1.2896e+00\u001b[0m,  \u001b[1;36m7.1077e+00\u001b[0m, \u001b[1;36m-1.6704e+00\u001b[0m,  \u001b[1;36m6.9273e-01\u001b[0m\u001b[1m]\u001b[0m,                        \u001b[32m│\u001b[0m \u001b[34m│\u001b[0m\n",
              "\u001b[34m│\u001b[0m \u001b[32m│\u001b[0m \u001b[2;32m│   │    \u001b[0m\u001b[1m[\u001b[0m \u001b[1;36m1.0051e+01\u001b[0m, \u001b[1;36m-2.5032e+00\u001b[0m, \u001b[1;36m-9.2134e-01\u001b[0m, \u001b[1;36m-2.6266e+00\u001b[0m, \u001b[1;36m-1.4063e+00\u001b[0m,            \u001b[32m│\u001b[0m \u001b[34m│\u001b[0m\n",
              "\u001b[34m│\u001b[0m \u001b[32m│\u001b[0m \u001b[2;32m│   │     \u001b[0m\u001b[1;36m-1.4717e+00\u001b[0m,  \u001b[1;36m5.3346e-01\u001b[0m, \u001b[1;36m-1.8018e+00\u001b[0m, \u001b[1;36m-6.7728e-03\u001b[0m\u001b[1m]\u001b[0m,                        \u001b[32m│\u001b[0m \u001b[34m│\u001b[0m\n",
              "\u001b[34m│\u001b[0m \u001b[32m│\u001b[0m \u001b[2;32m│   │    \u001b[0m\u001b[1m[\u001b[0m\u001b[1;36m-1.6363e+00\u001b[0m, \u001b[1;36m-1.8397e+00\u001b[0m, \u001b[1;36m-8.1804e-01\u001b[0m, \u001b[1;36m-2.2044e+00\u001b[0m, \u001b[1;36m-1.8129e+00\u001b[0m,            \u001b[32m│\u001b[0m \u001b[34m│\u001b[0m\n",
              "\u001b[34m│\u001b[0m \u001b[32m│\u001b[0m \u001b[2;32m│   │     \u001b[0m\u001b[1;36m-2.4159e+00\u001b[0m, \u001b[1;36m-1.8256e-01\u001b[0m, \u001b[1;36m-9.4595e-01\u001b[0m,  \u001b[1;36m9.2206e+00\u001b[0m\u001b[1m]\u001b[0m,                        \u001b[32m│\u001b[0m \u001b[34m│\u001b[0m\n",
              "\u001b[34m│\u001b[0m \u001b[32m│\u001b[0m \u001b[2;32m│   │    \u001b[0m\u001b[1m[\u001b[0m \u001b[1;36m8.8731e+00\u001b[0m, \u001b[1;36m-2.2831e+00\u001b[0m, \u001b[1;36m-1.5776e+00\u001b[0m, \u001b[1;36m-1.6307e+00\u001b[0m, \u001b[1;36m-9.4635e-01\u001b[0m,            \u001b[32m│\u001b[0m \u001b[34m│\u001b[0m\n",
              "\u001b[34m│\u001b[0m \u001b[32m│\u001b[0m \u001b[2;32m│   │     \u001b[0m\u001b[1;36m-1.7195e+00\u001b[0m, \u001b[1;36m-4.6358e-01\u001b[0m, \u001b[1;36m-1.9522e+00\u001b[0m,  \u001b[1;36m8.6604e-01\u001b[0m\u001b[1m]\u001b[0m,                        \u001b[32m│\u001b[0m \u001b[34m│\u001b[0m\n",
              "\u001b[34m│\u001b[0m \u001b[32m│\u001b[0m \u001b[2;32m│   │    \u001b[0m\u001b[1m[\u001b[0m \u001b[1;36m8.8731e+00\u001b[0m, \u001b[1;36m-2.2831e+00\u001b[0m, \u001b[1;36m-1.5776e+00\u001b[0m, \u001b[1;36m-1.6307e+00\u001b[0m, \u001b[1;36m-9.4635e-01\u001b[0m,            \u001b[32m│\u001b[0m \u001b[34m│\u001b[0m\n",
              "\u001b[34m│\u001b[0m \u001b[32m│\u001b[0m \u001b[2;32m│   │     \u001b[0m\u001b[1;36m-1.7195e+00\u001b[0m, \u001b[1;36m-4.6358e-01\u001b[0m, \u001b[1;36m-1.9522e+00\u001b[0m,  \u001b[1;36m8.6607e-01\u001b[0m\u001b[1m]\u001b[0m\u001b[1m]\u001b[0m\u001b[1m]\u001b[0m,                      \u001b[32m│\u001b[0m \u001b[34m│\u001b[0m\n",
              "\u001b[34m│\u001b[0m \u001b[32m│\u001b[0m \u001b[2;32m│      \u001b[0m\u001b[33mgrad_fn\u001b[0m=\u001b[1m<\u001b[0m\u001b[1;95mAddBackward0\u001b[0m\u001b[1m>\u001b[0m\u001b[1m)\u001b[0m,                                                       \u001b[32m│\u001b[0m \u001b[34m│\u001b[0m\n",
              "\u001b[34m│\u001b[0m \u001b[32m│\u001b[0m \u001b[2;32m│   \u001b[0m\u001b[33mhidden_states\u001b[0m=\u001b[3;35mNone\u001b[0m,                                                               \u001b[32m│\u001b[0m \u001b[34m│\u001b[0m\n",
              "\u001b[34m│\u001b[0m \u001b[32m│\u001b[0m \u001b[2;32m│   \u001b[0m\u001b[33mattentions\u001b[0m=\u001b[3;35mNone\u001b[0m                                                                   \u001b[32m│\u001b[0m \u001b[34m│\u001b[0m\n",
              "\u001b[34m│\u001b[0m \u001b[32m│\u001b[0m \u001b[1m)\u001b[0m                                                                                     \u001b[32m│\u001b[0m \u001b[34m│\u001b[0m\n",
              "\u001b[34m│\u001b[0m \u001b[32m╰───────────────────────────────────────────────────────────────────────────────────────╯\u001b[0m \u001b[34m│\u001b[0m\n",
              "\u001b[34m│\u001b[0m                                                                                           \u001b[34m│\u001b[0m\n",
              "\u001b[34m│\u001b[0m    \u001b[3;33mattentions\u001b[0m = \u001b[3;35mNone\u001b[0m                                                                      \u001b[34m│\u001b[0m\n",
              "\u001b[34m│\u001b[0m \u001b[3;33mhidden_states\u001b[0m = \u001b[3;35mNone\u001b[0m                                                                      \u001b[34m│\u001b[0m\n",
              "\u001b[34m│\u001b[0m        \u001b[3;33mlogits\u001b[0m = \u001b[1;35mtensor\u001b[0m\u001b[1m(\u001b[0m\u001b[1m[\u001b[0m\u001b[1m[\u001b[0m\u001b[1m[\u001b[0m \u001b[1;36m8.8731e+00\u001b[0m, \u001b[1;36m-2.2831e+00\u001b[0m, \u001b[1;36m-1.5776e+00\u001b[0m, \u001b[1;36m-1.6307e+00\u001b[0m,             \u001b[34m│\u001b[0m\n",
              "\u001b[34m│\u001b[0m                 \u001b[1;36m-9.4635e-01\u001b[0m,                                                              \u001b[34m│\u001b[0m\n",
              "\u001b[34m│\u001b[0m                           \u001b[1;36m-1.7195e+00\u001b[0m, \u001b[1;36m-4.6358e-01\u001b[0m, \u001b[1;36m-1.9522e+00\u001b[0m,  \u001b[1;36m8.6606e-01\u001b[0m\u001b[1m]\u001b[0m,            \u001b[34m│\u001b[0m\n",
              "\u001b[34m│\u001b[0m                          \u001b[1m[\u001b[0m \u001b[1;36m9.5287e+00\u001b[0m, \u001b[1;36m-2.3302e+00\u001b[0m, \u001b[1;36m-1.0897e+00\u001b[0m, \u001b[1;36m-2.5217e+00\u001b[0m,             \u001b[34m│\u001b[0m\n",
              "\u001b[34m│\u001b[0m                 \u001b[1;36m7.0682e-02\u001b[0m,                                                               \u001b[34m│\u001b[0m\n",
              "\u001b[34m│\u001b[0m                           \u001b[1;36m-1.8825e+00\u001b[0m,  \u001b[1;36m2.2747e-01\u001b[0m, \u001b[1;36m-2.2382e+00\u001b[0m, \u001b[1;36m-2.0623e-01\u001b[0m\u001b[1m]\u001b[0m,            \u001b[34m│\u001b[0m\n",
              "\u001b[34m│\u001b[0m                          \u001b[1m[\u001b[0m \u001b[1;36m9.7292e+00\u001b[0m, \u001b[1;36m-2.1166e+00\u001b[0m, \u001b[1;36m-8.8411e-01\u001b[0m, \u001b[1;36m-2.4963e+00\u001b[0m,             \u001b[34m│\u001b[0m\n",
              "\u001b[34m│\u001b[0m                 \u001b[1;36m-9.5251e-02\u001b[0m,                                                              \u001b[34m│\u001b[0m\n",
              "\u001b[34m│\u001b[0m                           \u001b[1;36m-2.0684e+00\u001b[0m, \u001b[1;36m-2.2465e-01\u001b[0m, \u001b[1;36m-1.8881e+00\u001b[0m,  \u001b[1;36m6.9939e-02\u001b[0m\u001b[1m]\u001b[0m,            \u001b[34m│\u001b[0m\n",
              "\u001b[34m│\u001b[0m                          \u001b[1m[\u001b[0m \u001b[1;36m1.0312e+01\u001b[0m, \u001b[1;36m-2.2053e+00\u001b[0m, \u001b[1;36m-1.2463e+00\u001b[0m, \u001b[1;36m-2.3914e+00\u001b[0m,             \u001b[34m│\u001b[0m\n",
              "\u001b[34m│\u001b[0m                 \u001b[1;36m-4.8295e-01\u001b[0m,                                                              \u001b[34m│\u001b[0m\n",
              "\u001b[34m│\u001b[0m                           \u001b[1;36m-1.9222e+00\u001b[0m, \u001b[1;36m-8.6139e-02\u001b[0m, \u001b[1;36m-1.8618e+00\u001b[0m, \u001b[1;36m-4.3702e-01\u001b[0m\u001b[1m]\u001b[0m,            \u001b[34m│\u001b[0m\n",
              "\u001b[34m│\u001b[0m                          \u001b[1m[\u001b[0m \u001b[1;36m2.9619e-01\u001b[0m, \u001b[1;36m-2.1789e+00\u001b[0m, \u001b[1;36m-6.0339e-01\u001b[0m, \u001b[1;36m-3.1194e+00\u001b[0m,             \u001b[34m│\u001b[0m\n",
              "\u001b[34m│\u001b[0m                 \u001b[1;36m8.0420e+00\u001b[0m,                                                               \u001b[34m│\u001b[0m\n",
              "\u001b[34m│\u001b[0m                           \u001b[1;36m-2.8950e+00\u001b[0m, \u001b[1;36m-7.7103e-01\u001b[0m, \u001b[1;36m-2.5159e+00\u001b[0m, \u001b[1;36m-1.8309e-02\u001b[0m\u001b[1m]\u001b[0m,            \u001b[34m│\u001b[0m\n",
              "\u001b[34m│\u001b[0m                          \u001b[1m[\u001b[0m \u001b[1;36m1.2117e+00\u001b[0m, \u001b[1;36m-2.0589e+00\u001b[0m,  \u001b[1;36m1.3299e-01\u001b[0m, \u001b[1;36m-2.7019e+00\u001b[0m,             \u001b[34m│\u001b[0m\n",
              "\u001b[34m│\u001b[0m                 \u001b[1;36m6.3817e+00\u001b[0m,                                                               \u001b[34m│\u001b[0m\n",
              "\u001b[34m│\u001b[0m                           \u001b[1;36m-2.4774e+00\u001b[0m, \u001b[1;36m-3.0354e-01\u001b[0m, \u001b[1;36m-2.7520e+00\u001b[0m, \u001b[1;36m-1.7033e-02\u001b[0m\u001b[1m]\u001b[0m,            \u001b[34m│\u001b[0m\n",
              "\u001b[34m│\u001b[0m                          \u001b[1m[\u001b[0m \u001b[1;36m5.9479e-01\u001b[0m, \u001b[1;36m-1.9171e+00\u001b[0m, \u001b[1;36m-2.1798e-01\u001b[0m, \u001b[1;36m-2.7914e+00\u001b[0m,             \u001b[34m│\u001b[0m\n",
              "\u001b[34m│\u001b[0m                 \u001b[1;36m6.7987e+00\u001b[0m,                                                               \u001b[34m│\u001b[0m\n",
              "\u001b[34m│\u001b[0m                           \u001b[1;36m-2.5523e+00\u001b[0m, \u001b[1;36m-3.0440e-02\u001b[0m, \u001b[1;36m-2.1891e+00\u001b[0m,  \u001b[1;36m1.4313e-01\u001b[0m\u001b[1m]\u001b[0m,            \u001b[34m│\u001b[0m\n",
              "\u001b[34m│\u001b[0m                          \u001b[1m[\u001b[0m \u001b[1;36m1.3190e+00\u001b[0m, \u001b[1;36m-2.3897e+00\u001b[0m, \u001b[1;36m-2.1822e-01\u001b[0m, \u001b[1;36m-3.3808e+00\u001b[0m,             \u001b[34m│\u001b[0m\n",
              "\u001b[34m│\u001b[0m                 \u001b[1;36m7.0866e+00\u001b[0m,                                                               \u001b[34m│\u001b[0m\n",
              "\u001b[34m│\u001b[0m                           \u001b[1;36m-2.9140e+00\u001b[0m, \u001b[1;36m-7.7515e-02\u001b[0m, \u001b[1;36m-2.3816e+00\u001b[0m,  \u001b[1;36m1.0191e-01\u001b[0m\u001b[1m]\u001b[0m,            \u001b[34m│\u001b[0m\n",
              "\u001b[34m│\u001b[0m                          \u001b[1m[\u001b[0m \u001b[1;36m1.0086e+01\u001b[0m, \u001b[1;36m-2.3665e+00\u001b[0m, \u001b[1;36m-1.1894e+00\u001b[0m, \u001b[1;36m-2.5140e+00\u001b[0m,             \u001b[34m│\u001b[0m\n",
              "\u001b[34m│\u001b[0m                 \u001b[1;36m-1.2628e+00\u001b[0m,                                                              \u001b[34m│\u001b[0m\n",
              "\u001b[34m│\u001b[0m                           \u001b[1;36m-1.5703e+00\u001b[0m,  \u001b[1;36m2.6894e-01\u001b[0m, \u001b[1;36m-1.9707e+00\u001b[0m, \u001b[1;36m-4.5133e-01\u001b[0m\u001b[1m]\u001b[0m,            \u001b[34m│\u001b[0m\n",
              "\u001b[34m│\u001b[0m                          \u001b[1m[\u001b[0m \u001b[1;36m9.8836e+00\u001b[0m, \u001b[1;36m-2.1551e+00\u001b[0m, \u001b[1;36m-1.1563e+00\u001b[0m, \u001b[1;36m-2.5158e+00\u001b[0m,             \u001b[34m│\u001b[0m\n",
              "\u001b[34m│\u001b[0m                 \u001b[1;36m-1.6026e-01\u001b[0m,                                                              \u001b[34m│\u001b[0m\n",
              "\u001b[34m│\u001b[0m                           \u001b[1;36m-1.8298e+00\u001b[0m,  \u001b[1;36m6.1174e-02\u001b[0m, \u001b[1;36m-1.9529e+00\u001b[0m, \u001b[1;36m-4.2617e-01\u001b[0m\u001b[1m]\u001b[0m,            \u001b[34m│\u001b[0m\n",
              "\u001b[34m│\u001b[0m                          \u001b[1m[\u001b[0m \u001b[1;36m1.0330e+01\u001b[0m, \u001b[1;36m-2.0513e+00\u001b[0m, \u001b[1;36m-1.3342e+00\u001b[0m, \u001b[1;36m-2.8021e+00\u001b[0m,             \u001b[34m│\u001b[0m\n",
              "\u001b[34m│\u001b[0m                 \u001b[1;36m-4.5692e-01\u001b[0m,                                                              \u001b[34m│\u001b[0m\n",
              "\u001b[34m│\u001b[0m                           \u001b[1;36m-1.7466e+00\u001b[0m,  \u001b[1;36m5.0268e-01\u001b[0m, \u001b[1;36m-2.1795e+00\u001b[0m, \u001b[1;36m-6.4350e-01\u001b[0m\u001b[1m]\u001b[0m,            \u001b[34m│\u001b[0m\n",
              "\u001b[34m│\u001b[0m                          \u001b[1m[\u001b[0m \u001b[1;36m1.0443e+01\u001b[0m, \u001b[1;36m-2.2017e+00\u001b[0m, \u001b[1;36m-1.2179e+00\u001b[0m, \u001b[1;36m-2.6169e+00\u001b[0m,             \u001b[34m│\u001b[0m\n",
              "\u001b[34m│\u001b[0m                 \u001b[1;36m-7.7069e-01\u001b[0m,                                                              \u001b[34m│\u001b[0m\n",
              "\u001b[34m│\u001b[0m                           \u001b[1;36m-1.6252e+00\u001b[0m,  \u001b[1;36m6.2856e-01\u001b[0m, \u001b[1;36m-1.7395e+00\u001b[0m, \u001b[1;36m-5.5289e-01\u001b[0m\u001b[1m]\u001b[0m,            \u001b[34m│\u001b[0m\n",
              "\u001b[34m│\u001b[0m                          \u001b[1m[\u001b[0m\u001b[1;36m-4.6400e-01\u001b[0m, \u001b[1;36m-2.4872e+00\u001b[0m, \u001b[1;36m-7.7014e-01\u001b[0m, \u001b[1;36m-3.0646e+00\u001b[0m,             \u001b[34m│\u001b[0m\n",
              "\u001b[34m│\u001b[0m                 \u001b[1;36m8.2287e-03\u001b[0m,                                                               \u001b[34m│\u001b[0m\n",
              "\u001b[34m│\u001b[0m                           \u001b[1;36m-1.6552e+00\u001b[0m,  \u001b[1;36m7.9601e+00\u001b[0m, \u001b[1;36m-2.3432e+00\u001b[0m,  \u001b[1;36m3.0197e-01\u001b[0m\u001b[1m]\u001b[0m,            \u001b[34m│\u001b[0m\n",
              "\u001b[34m│\u001b[0m                          \u001b[1m[\u001b[0m\u001b[1;36m-7.8003e-01\u001b[0m, \u001b[1;36m-2.0654e+00\u001b[0m, \u001b[1;36m-3.6891e-01\u001b[0m, \u001b[1;36m-3.1776e+00\u001b[0m,             \u001b[34m│\u001b[0m\n",
              "\u001b[34m│\u001b[0m                 \u001b[1;36m1.8866e-01\u001b[0m,                                                               \u001b[34m│\u001b[0m\n",
              "\u001b[34m│\u001b[0m                           \u001b[1;36m-1.2896e+00\u001b[0m,  \u001b[1;36m7.1077e+00\u001b[0m, \u001b[1;36m-1.6704e+00\u001b[0m,  \u001b[1;36m6.9273e-01\u001b[0m\u001b[1m]\u001b[0m,            \u001b[34m│\u001b[0m\n",
              "\u001b[34m│\u001b[0m                          \u001b[1m[\u001b[0m \u001b[1;36m1.0051e+01\u001b[0m, \u001b[1;36m-2.5032e+00\u001b[0m, \u001b[1;36m-9.2134e-01\u001b[0m, \u001b[1;36m-2.6266e+00\u001b[0m,             \u001b[34m│\u001b[0m\n",
              "\u001b[34m│\u001b[0m                 \u001b[1;36m-1.4063e+00\u001b[0m,                                                              \u001b[34m│\u001b[0m\n",
              "\u001b[34m│\u001b[0m                           \u001b[1;36m-1.4717e+00\u001b[0m,  \u001b[1;36m5.3346e-01\u001b[0m, \u001b[1;36m-1.8018e+00\u001b[0m, \u001b[1;36m-6.7728e-03\u001b[0m\u001b[1m]\u001b[0m,            \u001b[34m│\u001b[0m\n",
              "\u001b[34m│\u001b[0m                          \u001b[1m[\u001b[0m\u001b[1;36m-1.6363e+00\u001b[0m, \u001b[1;36m-1.8397e+00\u001b[0m, \u001b[1;36m-8.1804e-01\u001b[0m, \u001b[1;36m-2.2044e+00\u001b[0m,             \u001b[34m│\u001b[0m\n",
              "\u001b[34m│\u001b[0m                 \u001b[1;36m-1.8129e+00\u001b[0m,                                                              \u001b[34m│\u001b[0m\n",
              "\u001b[34m│\u001b[0m                           \u001b[1;36m-2.4159e+00\u001b[0m, \u001b[1;36m-1.8256e-01\u001b[0m, \u001b[1;36m-9.4595e-01\u001b[0m,  \u001b[1;36m9.2206e+00\u001b[0m\u001b[1m]\u001b[0m,            \u001b[34m│\u001b[0m\n",
              "\u001b[34m│\u001b[0m                          \u001b[1m[\u001b[0m \u001b[1;36m8.8731e+00\u001b[0m, \u001b[1;36m-2.2831e+00\u001b[0m, \u001b[1;36m-1.5776e+00\u001b[0m, \u001b[1;36m-1.6307e+00\u001b[0m,             \u001b[34m│\u001b[0m\n",
              "\u001b[34m│\u001b[0m                 \u001b[1;36m-9.4635e-01\u001b[0m,                                                              \u001b[34m│\u001b[0m\n",
              "\u001b[34m│\u001b[0m                           \u001b[1;36m-1.7195e+00\u001b[0m, \u001b[1;36m-4.6358e-01\u001b[0m, \u001b[1;36m-1.9522e+00\u001b[0m,  \u001b[1;36m8.6604e-01\u001b[0m\u001b[1m]\u001b[0m,            \u001b[34m│\u001b[0m\n",
              "\u001b[34m│\u001b[0m                          \u001b[1m[\u001b[0m \u001b[1;36m8.8731e+00\u001b[0m, \u001b[1;36m-2.2831e+00\u001b[0m, \u001b[1;36m-1.5776e+00\u001b[0m, \u001b[1;36m-1.6307e+00\u001b[0m,             \u001b[34m│\u001b[0m\n",
              "\u001b[34m│\u001b[0m                 \u001b[1;36m-9.4635e-01\u001b[0m,                                                              \u001b[34m│\u001b[0m\n",
              "\u001b[34m│\u001b[0m                           \u001b[1;36m-1.7195e+00\u001b[0m, \u001b[1;36m-4.6358e-01\u001b[0m, \u001b[1;36m-1.9522e+00\u001b[0m,  \u001b[1;36m8.6607e-01\u001b[0m\u001b[1m]\u001b[0m\u001b[1m]\u001b[0m\u001b[1m]\u001b[0m,          \u001b[34m│\u001b[0m\n",
              "\u001b[34m│\u001b[0m                        \u001b[33mgrad_fn\u001b[0m=\u001b[1m<\u001b[0m\u001b[1;95mAddBackward0\u001b[0m\u001b[1m>\u001b[0m\u001b[1m)\u001b[0m                                            \u001b[34m│\u001b[0m\n",
              "\u001b[34m│\u001b[0m          \u001b[3;33mloss\u001b[0m = \u001b[3;35mNone\u001b[0m                                                                      \u001b[34m│\u001b[0m\n",
              "\u001b[34m╰───────────────────────────────────────────────────────────────────────────────────────────╯\u001b[0m\n"
            ]
          },
          "metadata": {}
        }
      ]
    },
    {
      "cell_type": "code",
      "source": [
        "rprint(inputs['input_ids'].shape)"
      ],
      "metadata": {
        "colab": {
          "base_uri": "https://localhost:8080/",
          "height": 33
        },
        "id": "Ir2Ddd8KOhhy",
        "outputId": "3a474976-25af-48a0-d683-e28eab638eb8"
      },
      "execution_count": 18,
      "outputs": [
        {
          "output_type": "display_data",
          "data": {
            "text/html": [
              "<pre style=\"white-space:pre;overflow-x:auto;line-height:normal;font-family:Menlo,'DejaVu Sans Mono',consolas,'Courier New',monospace\"><span style=\"color: #800080; text-decoration-color: #800080; font-weight: bold\">torch.Size</span><span style=\"font-weight: bold\">([</span><span style=\"color: #008080; text-decoration-color: #008080; font-weight: bold\">1</span>, <span style=\"color: #008080; text-decoration-color: #008080; font-weight: bold\">18</span><span style=\"font-weight: bold\">])</span>\n",
              "</pre>\n"
            ],
            "text/plain": [
              "\u001b[1;35mtorch.Size\u001b[0m\u001b[1m(\u001b[0m\u001b[1m[\u001b[0m\u001b[1;36m1\u001b[0m, \u001b[1;36m18\u001b[0m\u001b[1m]\u001b[0m\u001b[1m)\u001b[0m\n"
            ]
          },
          "metadata": {}
        }
      ]
    },
    {
      "cell_type": "code",
      "source": [
        "# batch with 1 sequence of 18 tokens with 9 different labels\n",
        "rprint(output.logits.shape)"
      ],
      "metadata": {
        "colab": {
          "base_uri": "https://localhost:8080/",
          "height": 33
        },
        "id": "hPrE9NZVOuH9",
        "outputId": "bee4ec79-fddd-49a5-8489-58fa1409f99e"
      },
      "execution_count": 20,
      "outputs": [
        {
          "output_type": "display_data",
          "data": {
            "text/html": [
              "<pre style=\"white-space:pre;overflow-x:auto;line-height:normal;font-family:Menlo,'DejaVu Sans Mono',consolas,'Courier New',monospace\"><span style=\"color: #800080; text-decoration-color: #800080; font-weight: bold\">torch.Size</span><span style=\"font-weight: bold\">([</span><span style=\"color: #008080; text-decoration-color: #008080; font-weight: bold\">1</span>, <span style=\"color: #008080; text-decoration-color: #008080; font-weight: bold\">18</span>, <span style=\"color: #008080; text-decoration-color: #008080; font-weight: bold\">9</span><span style=\"font-weight: bold\">])</span>\n",
              "</pre>\n"
            ],
            "text/plain": [
              "\u001b[1;35mtorch.Size\u001b[0m\u001b[1m(\u001b[0m\u001b[1m[\u001b[0m\u001b[1;36m1\u001b[0m, \u001b[1;36m18\u001b[0m, \u001b[1;36m9\u001b[0m\u001b[1m]\u001b[0m\u001b[1m)\u001b[0m\n"
            ]
          },
          "metadata": {}
        }
      ]
    },
    {
      "cell_type": "code",
      "source": [
        "import torch"
      ],
      "metadata": {
        "id": "DT8OZ7rqPHFv"
      },
      "execution_count": 21,
      "outputs": []
    },
    {
      "cell_type": "code",
      "source": [
        "inspect(torch.nn.functional.softmax)"
      ],
      "metadata": {
        "colab": {
          "base_uri": "https://localhost:8080/",
          "height": 150
        },
        "id": "ezfL635kPJ6E",
        "outputId": "9119fecb-45c9-41ef-a9fc-f1dde6726a8a"
      },
      "execution_count": 22,
      "outputs": [
        {
          "output_type": "display_data",
          "data": {
            "text/html": [
              "<pre style=\"white-space:pre;overflow-x:auto;line-height:normal;font-family:Menlo,'DejaVu Sans Mono',consolas,'Courier New',monospace\"><span style=\"color: #000080; text-decoration-color: #000080\">╭────────────────────────── </span><span style=\"color: #000080; text-decoration-color: #000080; font-weight: bold\">&lt;</span><span style=\"color: #ff00ff; text-decoration-color: #ff00ff; font-weight: bold\">function</span><span style=\"color: #000000; text-decoration-color: #000000\"> softmax at </span><span style=\"color: #008080; text-decoration-color: #008080; font-weight: bold\">0x7f89c5c6b7a0</span><span style=\"color: #000080; text-decoration-color: #000080; font-weight: bold\">&gt;</span><span style=\"color: #000080; text-decoration-color: #000080\"> ───────────────────────────╮</span>\n",
              "<span style=\"color: #000080; text-decoration-color: #000080\">│</span> <span style=\"color: #00ffff; text-decoration-color: #00ffff; font-style: italic\">def </span><span style=\"color: #800000; text-decoration-color: #800000; font-weight: bold\">softmax</span><span style=\"font-weight: bold\">(</span>input: torch.Tensor, dim: Union<span style=\"font-weight: bold\">[</span>int, NoneType<span style=\"font-weight: bold\">]</span> = <span style=\"color: #800080; text-decoration-color: #800080; font-style: italic\">None</span>, _stacklevel: int = <span style=\"color: #008080; text-decoration-color: #008080; font-weight: bold\">3</span>,  <span style=\"color: #000080; text-decoration-color: #000080\">│</span>\n",
              "<span style=\"color: #000080; text-decoration-color: #000080\">│</span> dtype: Union<span style=\"font-weight: bold\">[</span>int, NoneType<span style=\"font-weight: bold\">]</span> = <span style=\"color: #800080; text-decoration-color: #800080; font-style: italic\">None</span><span style=\"font-weight: bold\">)</span> -&gt; torch.Tensor:                                      <span style=\"color: #000080; text-decoration-color: #000080\">│</span>\n",
              "<span style=\"color: #000080; text-decoration-color: #000080\">│</span>                                                                                           <span style=\"color: #000080; text-decoration-color: #000080\">│</span>\n",
              "<span style=\"color: #000080; text-decoration-color: #000080\">│</span> <span style=\"color: #008080; text-decoration-color: #008080\">Applies a softmax function.</span>                                                               <span style=\"color: #000080; text-decoration-color: #000080\">│</span>\n",
              "<span style=\"color: #000080; text-decoration-color: #000080\">│</span>                                                                                           <span style=\"color: #000080; text-decoration-color: #000080\">│</span>\n",
              "<span style=\"color: #000080; text-decoration-color: #000080\">│</span> <span style=\"color: #008080; text-decoration-color: #008080; font-weight: bold\">35</span><span style=\"font-style: italic\"> attribute(s) not shown.</span> Run <span style=\"color: #800080; text-decoration-color: #800080; font-weight: bold\">inspect</span><span style=\"font-weight: bold\">(</span>inspect<span style=\"font-weight: bold\">)</span> for options.                              <span style=\"color: #000080; text-decoration-color: #000080\">│</span>\n",
              "<span style=\"color: #000080; text-decoration-color: #000080\">╰───────────────────────────────────────────────────────────────────────────────────────────╯</span>\n",
              "</pre>\n"
            ],
            "text/plain": [
              "\u001b[34m╭─\u001b[0m\u001b[34m───────────────────────── \u001b[0m\u001b[1;34m<\u001b[0m\u001b[1;95mfunction\u001b[0m\u001b[39m softmax at \u001b[0m\u001b[1;36m0x7f89c5c6b7a0\u001b[0m\u001b[1;34m>\u001b[0m\u001b[34m ──────────────────────────\u001b[0m\u001b[34m─╮\u001b[0m\n",
              "\u001b[34m│\u001b[0m \u001b[3;96mdef \u001b[0m\u001b[1;31msoftmax\u001b[0m\u001b[1m(\u001b[0minput: torch.Tensor, dim: Union\u001b[1m[\u001b[0mint, NoneType\u001b[1m]\u001b[0m = \u001b[3;35mNone\u001b[0m, _stacklevel: int = \u001b[1;36m3\u001b[0m,  \u001b[34m│\u001b[0m\n",
              "\u001b[34m│\u001b[0m dtype: Union\u001b[1m[\u001b[0mint, NoneType\u001b[1m]\u001b[0m = \u001b[3;35mNone\u001b[0m\u001b[1m)\u001b[0m -> torch.Tensor:                                      \u001b[34m│\u001b[0m\n",
              "\u001b[34m│\u001b[0m                                                                                           \u001b[34m│\u001b[0m\n",
              "\u001b[34m│\u001b[0m \u001b[36mApplies a softmax function.\u001b[0m                                                               \u001b[34m│\u001b[0m\n",
              "\u001b[34m│\u001b[0m                                                                                           \u001b[34m│\u001b[0m\n",
              "\u001b[34m│\u001b[0m \u001b[1;36m35\u001b[0m\u001b[3m attribute(s) not shown.\u001b[0m Run \u001b[1;35minspect\u001b[0m\u001b[1m(\u001b[0minspect\u001b[1m)\u001b[0m for options.                              \u001b[34m│\u001b[0m\n",
              "\u001b[34m╰───────────────────────────────────────────────────────────────────────────────────────────╯\u001b[0m\n"
            ]
          },
          "metadata": {}
        }
      ]
    },
    {
      "cell_type": "code",
      "source": [
        "proba = torch.nn.functional.softmax(output.logits, dim=-1)[0].tolist()\n",
        "# we can take the argmax on the logits because the softmax does not change the order\n",
        "preds = output.logits.argmax(dim=-1)[0].tolist()\n",
        "rprint(preds)"
      ],
      "metadata": {
        "colab": {
          "base_uri": "https://localhost:8080/",
          "height": 33
        },
        "id": "2vym5H1MPTSZ",
        "outputId": "3961b852-ab69-4ca8-c9f3-92db63aa93d5"
      },
      "execution_count": 30,
      "outputs": [
        {
          "output_type": "display_data",
          "data": {
            "text/html": [
              "<pre style=\"white-space:pre;overflow-x:auto;line-height:normal;font-family:Menlo,'DejaVu Sans Mono',consolas,'Courier New',monospace\"><span style=\"font-weight: bold\">[</span><span style=\"color: #008080; text-decoration-color: #008080; font-weight: bold\">0</span>, <span style=\"color: #008080; text-decoration-color: #008080; font-weight: bold\">0</span>, <span style=\"color: #008080; text-decoration-color: #008080; font-weight: bold\">0</span>, <span style=\"color: #008080; text-decoration-color: #008080; font-weight: bold\">0</span>, <span style=\"color: #008080; text-decoration-color: #008080; font-weight: bold\">4</span>, <span style=\"color: #008080; text-decoration-color: #008080; font-weight: bold\">4</span>, <span style=\"color: #008080; text-decoration-color: #008080; font-weight: bold\">4</span>, <span style=\"color: #008080; text-decoration-color: #008080; font-weight: bold\">4</span>, <span style=\"color: #008080; text-decoration-color: #008080; font-weight: bold\">0</span>, <span style=\"color: #008080; text-decoration-color: #008080; font-weight: bold\">0</span>, <span style=\"color: #008080; text-decoration-color: #008080; font-weight: bold\">0</span>, <span style=\"color: #008080; text-decoration-color: #008080; font-weight: bold\">0</span>, <span style=\"color: #008080; text-decoration-color: #008080; font-weight: bold\">6</span>, <span style=\"color: #008080; text-decoration-color: #008080; font-weight: bold\">6</span>, <span style=\"color: #008080; text-decoration-color: #008080; font-weight: bold\">0</span>, <span style=\"color: #008080; text-decoration-color: #008080; font-weight: bold\">8</span>, <span style=\"color: #008080; text-decoration-color: #008080; font-weight: bold\">0</span>, <span style=\"color: #008080; text-decoration-color: #008080; font-weight: bold\">0</span><span style=\"font-weight: bold\">]</span>\n",
              "</pre>\n"
            ],
            "text/plain": [
              "\u001b[1m[\u001b[0m\u001b[1;36m0\u001b[0m, \u001b[1;36m0\u001b[0m, \u001b[1;36m0\u001b[0m, \u001b[1;36m0\u001b[0m, \u001b[1;36m4\u001b[0m, \u001b[1;36m4\u001b[0m, \u001b[1;36m4\u001b[0m, \u001b[1;36m4\u001b[0m, \u001b[1;36m0\u001b[0m, \u001b[1;36m0\u001b[0m, \u001b[1;36m0\u001b[0m, \u001b[1;36m0\u001b[0m, \u001b[1;36m6\u001b[0m, \u001b[1;36m6\u001b[0m, \u001b[1;36m0\u001b[0m, \u001b[1;36m8\u001b[0m, \u001b[1;36m0\u001b[0m, \u001b[1;36m0\u001b[0m\u001b[1m]\u001b[0m\n"
            ]
          },
          "metadata": {}
        }
      ]
    },
    {
      "cell_type": "code",
      "source": [
        "# The model.config.id2label attribute contains the mapping of indexes to labels\n",
        "inspect(model.config, methods=True)"
      ],
      "metadata": {
        "colab": {
          "base_uri": "https://localhost:8080/",
          "height": 1000
        },
        "id": "STK9zSQKQLaz",
        "outputId": "47f6ed67-a373-42e5-8d72-65f99d4d7a60"
      },
      "execution_count": 33,
      "outputs": [
        {
          "output_type": "display_data",
          "data": {
            "text/html": [
              "<pre style=\"white-space:pre;overflow-x:auto;line-height:normal;font-family:Menlo,'DejaVu Sans Mono',consolas,'Courier New',monospace\"><span style=\"color: #000080; text-decoration-color: #000080\">╭──────────── </span><span style=\"color: #000080; text-decoration-color: #000080; font-weight: bold\">&lt;</span><span style=\"color: #ff00ff; text-decoration-color: #ff00ff; font-weight: bold\">class</span><span style=\"color: #000000; text-decoration-color: #000000\"> </span><span style=\"color: #008000; text-decoration-color: #008000\">'transformers.models.bert.configuration_bert.BertConfig'</span><span style=\"color: #000080; text-decoration-color: #000080; font-weight: bold\">&gt;</span><span style=\"color: #000080; text-decoration-color: #000080\"> ─────────────╮</span>\n",
              "<span style=\"color: #000080; text-decoration-color: #000080\">│</span> <span style=\"color: #008080; text-decoration-color: #008080\">This is the configuration class to store the configuration of a </span><span style=\"color: #008080; text-decoration-color: #008080; font-weight: bold\">[</span><span style=\"color: #008080; text-decoration-color: #008080\">`BertModel`</span><span style=\"color: #008080; text-decoration-color: #008080; font-weight: bold\">]</span><span style=\"color: #008080; text-decoration-color: #008080\"> or a</span>        <span style=\"color: #000080; text-decoration-color: #000080\">│</span>\n",
              "<span style=\"color: #000080; text-decoration-color: #000080\">│</span> <span style=\"color: #008080; text-decoration-color: #008080; font-weight: bold\">[</span><span style=\"color: #008080; text-decoration-color: #008080\">`TFBertModel`</span><span style=\"color: #008080; text-decoration-color: #008080; font-weight: bold\">]</span><span style=\"color: #008080; text-decoration-color: #008080\">. It is used to instantiate a BERT model according to the specified </span>       <span style=\"color: #000080; text-decoration-color: #000080\">│</span>\n",
              "<span style=\"color: #000080; text-decoration-color: #000080\">│</span> <span style=\"color: #008080; text-decoration-color: #008080\">arguments,</span>                                                                                <span style=\"color: #000080; text-decoration-color: #000080\">│</span>\n",
              "<span style=\"color: #000080; text-decoration-color: #000080\">│</span> <span style=\"color: #008080; text-decoration-color: #008080\">defining the model architecture. Instantiating a configuration with the defaults will </span>    <span style=\"color: #000080; text-decoration-color: #000080\">│</span>\n",
              "<span style=\"color: #000080; text-decoration-color: #000080\">│</span> <span style=\"color: #008080; text-decoration-color: #008080\">yield a similar configuration</span>                                                             <span style=\"color: #000080; text-decoration-color: #000080\">│</span>\n",
              "<span style=\"color: #000080; text-decoration-color: #000080\">│</span> <span style=\"color: #008080; text-decoration-color: #008080\">to that of the BERT </span><span style=\"color: #008080; text-decoration-color: #008080; font-weight: bold\">[</span><span style=\"color: #008080; text-decoration-color: #008080\">bert-base-uncased</span><span style=\"color: #008080; text-decoration-color: #008080; font-weight: bold\">](</span><span style=\"color: #0000ff; text-decoration-color: #0000ff; text-decoration: underline\">https://huggingface.co/bert-base-uncased)</span><span style=\"color: #008080; text-decoration-color: #008080\"> </span>        <span style=\"color: #000080; text-decoration-color: #000080\">│</span>\n",
              "<span style=\"color: #000080; text-decoration-color: #000080\">│</span> <span style=\"color: #008080; text-decoration-color: #008080\">architecture.</span>                                                                             <span style=\"color: #000080; text-decoration-color: #000080\">│</span>\n",
              "<span style=\"color: #000080; text-decoration-color: #000080\">│</span>                                                                                           <span style=\"color: #000080; text-decoration-color: #000080\">│</span>\n",
              "<span style=\"color: #000080; text-decoration-color: #000080\">│</span> <span style=\"color: #008000; text-decoration-color: #008000\">╭───────────────────────────────────────────────────────────────────────────────────────╮</span> <span style=\"color: #000080; text-decoration-color: #000080\">│</span>\n",
              "<span style=\"color: #000080; text-decoration-color: #000080\">│</span> <span style=\"color: #008000; text-decoration-color: #008000\">│</span> BertConfig <span style=\"font-weight: bold\">{</span>                                                                          <span style=\"color: #008000; text-decoration-color: #008000\">│</span> <span style=\"color: #000080; text-decoration-color: #000080\">│</span>\n",
              "<span style=\"color: #000080; text-decoration-color: #000080\">│</span> <span style=\"color: #008000; text-decoration-color: #008000\">│</span> <span style=\"color: #7fbf7f; text-decoration-color: #7fbf7f\">  </span><span style=\"color: #008000; text-decoration-color: #008000\">\"_name_or_path\"</span>: <span style=\"color: #008000; text-decoration-color: #008000\">\"dbmdz/bert-large-cased-finetuned-conll03-english\"</span>,                <span style=\"color: #008000; text-decoration-color: #008000\">│</span> <span style=\"color: #000080; text-decoration-color: #000080\">│</span>\n",
              "<span style=\"color: #000080; text-decoration-color: #000080\">│</span> <span style=\"color: #008000; text-decoration-color: #008000\">│</span> <span style=\"color: #7fbf7f; text-decoration-color: #7fbf7f\">  </span><span style=\"color: #008000; text-decoration-color: #008000\">\"_num_labels\"</span>: <span style=\"color: #008080; text-decoration-color: #008080; font-weight: bold\">9</span>,                                                                   <span style=\"color: #008000; text-decoration-color: #008000\">│</span> <span style=\"color: #000080; text-decoration-color: #000080\">│</span>\n",
              "<span style=\"color: #000080; text-decoration-color: #000080\">│</span> <span style=\"color: #008000; text-decoration-color: #008000\">│</span> <span style=\"color: #7fbf7f; text-decoration-color: #7fbf7f\">  </span><span style=\"color: #008000; text-decoration-color: #008000\">\"architectures\"</span>: <span style=\"font-weight: bold\">[</span>                                                                  <span style=\"color: #008000; text-decoration-color: #008000\">│</span> <span style=\"color: #000080; text-decoration-color: #000080\">│</span>\n",
              "<span style=\"color: #000080; text-decoration-color: #000080\">│</span> <span style=\"color: #008000; text-decoration-color: #008000\">│</span> <span style=\"color: #7fbf7f; text-decoration-color: #7fbf7f\">│   </span><span style=\"color: #008000; text-decoration-color: #008000\">\"BertForTokenClassification\"</span>                                                      <span style=\"color: #008000; text-decoration-color: #008000\">│</span> <span style=\"color: #000080; text-decoration-color: #000080\">│</span>\n",
              "<span style=\"color: #000080; text-decoration-color: #000080\">│</span> <span style=\"color: #008000; text-decoration-color: #008000\">│</span> <span style=\"color: #7fbf7f; text-decoration-color: #7fbf7f\">  </span><span style=\"font-weight: bold\">]</span>,                                                                                  <span style=\"color: #008000; text-decoration-color: #008000\">│</span> <span style=\"color: #000080; text-decoration-color: #000080\">│</span>\n",
              "<span style=\"color: #000080; text-decoration-color: #000080\">│</span> <span style=\"color: #008000; text-decoration-color: #008000\">│</span> <span style=\"color: #7fbf7f; text-decoration-color: #7fbf7f\">  </span><span style=\"color: #008000; text-decoration-color: #008000\">\"attention_probs_dropout_prob\"</span>: <span style=\"color: #008080; text-decoration-color: #008080; font-weight: bold\">0.1</span>,                                                <span style=\"color: #008000; text-decoration-color: #008000\">│</span> <span style=\"color: #000080; text-decoration-color: #000080\">│</span>\n",
              "<span style=\"color: #000080; text-decoration-color: #000080\">│</span> <span style=\"color: #008000; text-decoration-color: #008000\">│</span> <span style=\"color: #7fbf7f; text-decoration-color: #7fbf7f\">  </span><span style=\"color: #008000; text-decoration-color: #008000\">\"classifier_dropout\"</span>: null,                                                         <span style=\"color: #008000; text-decoration-color: #008000\">│</span> <span style=\"color: #000080; text-decoration-color: #000080\">│</span>\n",
              "<span style=\"color: #000080; text-decoration-color: #000080\">│</span> <span style=\"color: #008000; text-decoration-color: #008000\">│</span> <span style=\"color: #7fbf7f; text-decoration-color: #7fbf7f\">  </span><span style=\"color: #008000; text-decoration-color: #008000\">\"directionality\"</span>: <span style=\"color: #008000; text-decoration-color: #008000\">\"bidi\"</span>,                                                           <span style=\"color: #008000; text-decoration-color: #008000\">│</span> <span style=\"color: #000080; text-decoration-color: #000080\">│</span>\n",
              "<span style=\"color: #000080; text-decoration-color: #000080\">│</span> <span style=\"color: #008000; text-decoration-color: #008000\">│</span> <span style=\"color: #7fbf7f; text-decoration-color: #7fbf7f\">  </span><span style=\"color: #008000; text-decoration-color: #008000\">\"hidden_act\"</span>: <span style=\"color: #008000; text-decoration-color: #008000\">\"gelu\"</span>,                                                               <span style=\"color: #008000; text-decoration-color: #008000\">│</span> <span style=\"color: #000080; text-decoration-color: #000080\">│</span>\n",
              "<span style=\"color: #000080; text-decoration-color: #000080\">│</span> <span style=\"color: #008000; text-decoration-color: #008000\">│</span> <span style=\"color: #7fbf7f; text-decoration-color: #7fbf7f\">  </span><span style=\"color: #008000; text-decoration-color: #008000\">\"hidden_dropout_prob\"</span>: <span style=\"color: #008080; text-decoration-color: #008080; font-weight: bold\">0.1</span>,                                                         <span style=\"color: #008000; text-decoration-color: #008000\">│</span> <span style=\"color: #000080; text-decoration-color: #000080\">│</span>\n",
              "<span style=\"color: #000080; text-decoration-color: #000080\">│</span> <span style=\"color: #008000; text-decoration-color: #008000\">│</span> <span style=\"color: #7fbf7f; text-decoration-color: #7fbf7f\">  </span><span style=\"color: #008000; text-decoration-color: #008000\">\"hidden_size\"</span>: <span style=\"color: #008080; text-decoration-color: #008080; font-weight: bold\">1024</span>,                                                                <span style=\"color: #008000; text-decoration-color: #008000\">│</span> <span style=\"color: #000080; text-decoration-color: #000080\">│</span>\n",
              "<span style=\"color: #000080; text-decoration-color: #000080\">│</span> <span style=\"color: #008000; text-decoration-color: #008000\">│</span> <span style=\"color: #7fbf7f; text-decoration-color: #7fbf7f\">  </span><span style=\"color: #008000; text-decoration-color: #008000\">\"id2label\"</span>: <span style=\"font-weight: bold\">{</span>                                                                       <span style=\"color: #008000; text-decoration-color: #008000\">│</span> <span style=\"color: #000080; text-decoration-color: #000080\">│</span>\n",
              "<span style=\"color: #000080; text-decoration-color: #000080\">│</span> <span style=\"color: #008000; text-decoration-color: #008000\">│</span> <span style=\"color: #7fbf7f; text-decoration-color: #7fbf7f\">│   </span><span style=\"color: #008000; text-decoration-color: #008000\">\"0\"</span>: <span style=\"color: #008000; text-decoration-color: #008000\">\"O\"</span>,                                                                         <span style=\"color: #008000; text-decoration-color: #008000\">│</span> <span style=\"color: #000080; text-decoration-color: #000080\">│</span>\n",
              "<span style=\"color: #000080; text-decoration-color: #000080\">│</span> <span style=\"color: #008000; text-decoration-color: #008000\">│</span> <span style=\"color: #7fbf7f; text-decoration-color: #7fbf7f\">│   </span><span style=\"color: #008000; text-decoration-color: #008000\">\"1\"</span>: <span style=\"color: #008000; text-decoration-color: #008000\">\"B-MISC\"</span>,                                                                    <span style=\"color: #008000; text-decoration-color: #008000\">│</span> <span style=\"color: #000080; text-decoration-color: #000080\">│</span>\n",
              "<span style=\"color: #000080; text-decoration-color: #000080\">│</span> <span style=\"color: #008000; text-decoration-color: #008000\">│</span> <span style=\"color: #7fbf7f; text-decoration-color: #7fbf7f\">│   </span><span style=\"color: #008000; text-decoration-color: #008000\">\"2\"</span>: <span style=\"color: #008000; text-decoration-color: #008000\">\"I-MISC\"</span>,                                                                    <span style=\"color: #008000; text-decoration-color: #008000\">│</span> <span style=\"color: #000080; text-decoration-color: #000080\">│</span>\n",
              "<span style=\"color: #000080; text-decoration-color: #000080\">│</span> <span style=\"color: #008000; text-decoration-color: #008000\">│</span> <span style=\"color: #7fbf7f; text-decoration-color: #7fbf7f\">│   </span><span style=\"color: #008000; text-decoration-color: #008000\">\"3\"</span>: <span style=\"color: #008000; text-decoration-color: #008000\">\"B-PER\"</span>,                                                                     <span style=\"color: #008000; text-decoration-color: #008000\">│</span> <span style=\"color: #000080; text-decoration-color: #000080\">│</span>\n",
              "<span style=\"color: #000080; text-decoration-color: #000080\">│</span> <span style=\"color: #008000; text-decoration-color: #008000\">│</span> <span style=\"color: #7fbf7f; text-decoration-color: #7fbf7f\">│   </span><span style=\"color: #008000; text-decoration-color: #008000\">\"4\"</span>: <span style=\"color: #008000; text-decoration-color: #008000\">\"I-PER\"</span>,                                                                     <span style=\"color: #008000; text-decoration-color: #008000\">│</span> <span style=\"color: #000080; text-decoration-color: #000080\">│</span>\n",
              "<span style=\"color: #000080; text-decoration-color: #000080\">│</span> <span style=\"color: #008000; text-decoration-color: #008000\">│</span> <span style=\"color: #7fbf7f; text-decoration-color: #7fbf7f\">│   </span><span style=\"color: #008000; text-decoration-color: #008000\">\"5\"</span>: <span style=\"color: #008000; text-decoration-color: #008000\">\"B-ORG\"</span>,                                                                     <span style=\"color: #008000; text-decoration-color: #008000\">│</span> <span style=\"color: #000080; text-decoration-color: #000080\">│</span>\n",
              "<span style=\"color: #000080; text-decoration-color: #000080\">│</span> <span style=\"color: #008000; text-decoration-color: #008000\">│</span> <span style=\"color: #7fbf7f; text-decoration-color: #7fbf7f\">│   </span><span style=\"color: #008000; text-decoration-color: #008000\">\"6\"</span>: <span style=\"color: #008000; text-decoration-color: #008000\">\"I-ORG\"</span>,                                                                     <span style=\"color: #008000; text-decoration-color: #008000\">│</span> <span style=\"color: #000080; text-decoration-color: #000080\">│</span>\n",
              "<span style=\"color: #000080; text-decoration-color: #000080\">│</span> <span style=\"color: #008000; text-decoration-color: #008000\">│</span> <span style=\"color: #7fbf7f; text-decoration-color: #7fbf7f\">│   </span><span style=\"color: #008000; text-decoration-color: #008000\">\"7\"</span>: <span style=\"color: #008000; text-decoration-color: #008000\">\"B-LOC\"</span>,                                                                     <span style=\"color: #008000; text-decoration-color: #008000\">│</span> <span style=\"color: #000080; text-decoration-color: #000080\">│</span>\n",
              "<span style=\"color: #000080; text-decoration-color: #000080\">│</span> <span style=\"color: #008000; text-decoration-color: #008000\">│</span> <span style=\"color: #7fbf7f; text-decoration-color: #7fbf7f\">│   </span><span style=\"color: #008000; text-decoration-color: #008000\">\"8\"</span>: <span style=\"color: #008000; text-decoration-color: #008000\">\"I-LOC\"</span>                                                                      <span style=\"color: #008000; text-decoration-color: #008000\">│</span> <span style=\"color: #000080; text-decoration-color: #000080\">│</span>\n",
              "<span style=\"color: #000080; text-decoration-color: #000080\">│</span> <span style=\"color: #008000; text-decoration-color: #008000\">│</span> <span style=\"color: #7fbf7f; text-decoration-color: #7fbf7f\">  </span><span style=\"font-weight: bold\">}</span>,                                                                                  <span style=\"color: #008000; text-decoration-color: #008000\">│</span> <span style=\"color: #000080; text-decoration-color: #000080\">│</span>\n",
              "<span style=\"color: #000080; text-decoration-color: #000080\">│</span> <span style=\"color: #008000; text-decoration-color: #008000\">│</span> <span style=\"color: #7fbf7f; text-decoration-color: #7fbf7f\">  </span><span style=\"color: #008000; text-decoration-color: #008000\">\"initializer_range\"</span>: <span style=\"color: #008080; text-decoration-color: #008080; font-weight: bold\">0.02</span>,                                                          <span style=\"color: #008000; text-decoration-color: #008000\">│</span> <span style=\"color: #000080; text-decoration-color: #000080\">│</span>\n",
              "<span style=\"color: #000080; text-decoration-color: #000080\">│</span> <span style=\"color: #008000; text-decoration-color: #008000\">│</span> <span style=\"color: #7fbf7f; text-decoration-color: #7fbf7f\">  </span><span style=\"color: #008000; text-decoration-color: #008000\">\"intermediate_size\"</span>: <span style=\"color: #008080; text-decoration-color: #008080; font-weight: bold\">4096</span>,                                                          <span style=\"color: #008000; text-decoration-color: #008000\">│</span> <span style=\"color: #000080; text-decoration-color: #000080\">│</span>\n",
              "<span style=\"color: #000080; text-decoration-color: #000080\">│</span> <span style=\"color: #008000; text-decoration-color: #008000\">│</span> <span style=\"color: #7fbf7f; text-decoration-color: #7fbf7f\">  </span><span style=\"color: #008000; text-decoration-color: #008000\">\"label2id\"</span>: <span style=\"font-weight: bold\">{</span>                                                                       <span style=\"color: #008000; text-decoration-color: #008000\">│</span> <span style=\"color: #000080; text-decoration-color: #000080\">│</span>\n",
              "<span style=\"color: #000080; text-decoration-color: #000080\">│</span> <span style=\"color: #008000; text-decoration-color: #008000\">│</span> <span style=\"color: #7fbf7f; text-decoration-color: #7fbf7f\">│   </span><span style=\"color: #008000; text-decoration-color: #008000\">\"B-LOC\"</span>: <span style=\"color: #008080; text-decoration-color: #008080; font-weight: bold\">7</span>,                                                                       <span style=\"color: #008000; text-decoration-color: #008000\">│</span> <span style=\"color: #000080; text-decoration-color: #000080\">│</span>\n",
              "<span style=\"color: #000080; text-decoration-color: #000080\">│</span> <span style=\"color: #008000; text-decoration-color: #008000\">│</span> <span style=\"color: #7fbf7f; text-decoration-color: #7fbf7f\">│   </span><span style=\"color: #008000; text-decoration-color: #008000\">\"B-MISC\"</span>: <span style=\"color: #008080; text-decoration-color: #008080; font-weight: bold\">1</span>,                                                                      <span style=\"color: #008000; text-decoration-color: #008000\">│</span> <span style=\"color: #000080; text-decoration-color: #000080\">│</span>\n",
              "<span style=\"color: #000080; text-decoration-color: #000080\">│</span> <span style=\"color: #008000; text-decoration-color: #008000\">│</span> <span style=\"color: #7fbf7f; text-decoration-color: #7fbf7f\">│   </span><span style=\"color: #008000; text-decoration-color: #008000\">\"B-ORG\"</span>: <span style=\"color: #008080; text-decoration-color: #008080; font-weight: bold\">5</span>,                                                                       <span style=\"color: #008000; text-decoration-color: #008000\">│</span> <span style=\"color: #000080; text-decoration-color: #000080\">│</span>\n",
              "<span style=\"color: #000080; text-decoration-color: #000080\">│</span> <span style=\"color: #008000; text-decoration-color: #008000\">│</span> <span style=\"color: #7fbf7f; text-decoration-color: #7fbf7f\">│   </span><span style=\"color: #008000; text-decoration-color: #008000\">\"B-PER\"</span>: <span style=\"color: #008080; text-decoration-color: #008080; font-weight: bold\">3</span>,                                                                       <span style=\"color: #008000; text-decoration-color: #008000\">│</span> <span style=\"color: #000080; text-decoration-color: #000080\">│</span>\n",
              "<span style=\"color: #000080; text-decoration-color: #000080\">│</span> <span style=\"color: #008000; text-decoration-color: #008000\">│</span> <span style=\"color: #7fbf7f; text-decoration-color: #7fbf7f\">│   </span><span style=\"color: #008000; text-decoration-color: #008000\">\"I-LOC\"</span>: <span style=\"color: #008080; text-decoration-color: #008080; font-weight: bold\">8</span>,                                                                       <span style=\"color: #008000; text-decoration-color: #008000\">│</span> <span style=\"color: #000080; text-decoration-color: #000080\">│</span>\n",
              "<span style=\"color: #000080; text-decoration-color: #000080\">│</span> <span style=\"color: #008000; text-decoration-color: #008000\">│</span> <span style=\"color: #7fbf7f; text-decoration-color: #7fbf7f\">│   </span><span style=\"color: #008000; text-decoration-color: #008000\">\"I-MISC\"</span>: <span style=\"color: #008080; text-decoration-color: #008080; font-weight: bold\">2</span>,                                                                      <span style=\"color: #008000; text-decoration-color: #008000\">│</span> <span style=\"color: #000080; text-decoration-color: #000080\">│</span>\n",
              "<span style=\"color: #000080; text-decoration-color: #000080\">│</span> <span style=\"color: #008000; text-decoration-color: #008000\">│</span> <span style=\"color: #7fbf7f; text-decoration-color: #7fbf7f\">│   </span><span style=\"color: #008000; text-decoration-color: #008000\">\"I-ORG\"</span>: <span style=\"color: #008080; text-decoration-color: #008080; font-weight: bold\">6</span>,                                                                       <span style=\"color: #008000; text-decoration-color: #008000\">│</span> <span style=\"color: #000080; text-decoration-color: #000080\">│</span>\n",
              "<span style=\"color: #000080; text-decoration-color: #000080\">│</span> <span style=\"color: #008000; text-decoration-color: #008000\">│</span> <span style=\"color: #7fbf7f; text-decoration-color: #7fbf7f\">│   </span><span style=\"color: #008000; text-decoration-color: #008000\">\"I-PER\"</span>: <span style=\"color: #008080; text-decoration-color: #008080; font-weight: bold\">4</span>,                                                                       <span style=\"color: #008000; text-decoration-color: #008000\">│</span> <span style=\"color: #000080; text-decoration-color: #000080\">│</span>\n",
              "<span style=\"color: #000080; text-decoration-color: #000080\">│</span> <span style=\"color: #008000; text-decoration-color: #008000\">│</span> <span style=\"color: #7fbf7f; text-decoration-color: #7fbf7f\">│   </span><span style=\"color: #008000; text-decoration-color: #008000\">\"O\"</span>: <span style=\"color: #008080; text-decoration-color: #008080; font-weight: bold\">0</span>                                                                            <span style=\"color: #008000; text-decoration-color: #008000\">│</span> <span style=\"color: #000080; text-decoration-color: #000080\">│</span>\n",
              "<span style=\"color: #000080; text-decoration-color: #000080\">│</span> <span style=\"color: #008000; text-decoration-color: #008000\">│</span> <span style=\"color: #7fbf7f; text-decoration-color: #7fbf7f\">  </span><span style=\"font-weight: bold\">}</span>,                                                                                  <span style=\"color: #008000; text-decoration-color: #008000\">│</span> <span style=\"color: #000080; text-decoration-color: #000080\">│</span>\n",
              "<span style=\"color: #000080; text-decoration-color: #000080\">│</span> <span style=\"color: #008000; text-decoration-color: #008000\">│</span> <span style=\"color: #7fbf7f; text-decoration-color: #7fbf7f\">  </span><span style=\"color: #008000; text-decoration-color: #008000\">\"layer_norm_eps\"</span>: <span style=\"color: #008080; text-decoration-color: #008080; font-weight: bold\">1e-12</span>,                                                            <span style=\"color: #008000; text-decoration-color: #008000\">│</span> <span style=\"color: #000080; text-decoration-color: #000080\">│</span>\n",
              "<span style=\"color: #000080; text-decoration-color: #000080\">│</span> <span style=\"color: #008000; text-decoration-color: #008000\">│</span> <span style=\"color: #7fbf7f; text-decoration-color: #7fbf7f\">  </span><span style=\"color: #008000; text-decoration-color: #008000\">\"max_position_embeddings\"</span>: <span style=\"color: #008080; text-decoration-color: #008080; font-weight: bold\">512</span>,                                                     <span style=\"color: #008000; text-decoration-color: #008000\">│</span> <span style=\"color: #000080; text-decoration-color: #000080\">│</span>\n",
              "<span style=\"color: #000080; text-decoration-color: #000080\">│</span> <span style=\"color: #008000; text-decoration-color: #008000\">│</span> <span style=\"color: #7fbf7f; text-decoration-color: #7fbf7f\">  </span><span style=\"color: #008000; text-decoration-color: #008000\">\"model_type\"</span>: <span style=\"color: #008000; text-decoration-color: #008000\">\"bert\"</span>,                                                               <span style=\"color: #008000; text-decoration-color: #008000\">│</span> <span style=\"color: #000080; text-decoration-color: #000080\">│</span>\n",
              "<span style=\"color: #000080; text-decoration-color: #000080\">│</span> <span style=\"color: #008000; text-decoration-color: #008000\">│</span> <span style=\"color: #7fbf7f; text-decoration-color: #7fbf7f\">  </span><span style=\"color: #008000; text-decoration-color: #008000\">\"num_attention_heads\"</span>: <span style=\"color: #008080; text-decoration-color: #008080; font-weight: bold\">16</span>,                                                          <span style=\"color: #008000; text-decoration-color: #008000\">│</span> <span style=\"color: #000080; text-decoration-color: #000080\">│</span>\n",
              "<span style=\"color: #000080; text-decoration-color: #000080\">│</span> <span style=\"color: #008000; text-decoration-color: #008000\">│</span> <span style=\"color: #7fbf7f; text-decoration-color: #7fbf7f\">  </span><span style=\"color: #008000; text-decoration-color: #008000\">\"num_hidden_layers\"</span>: <span style=\"color: #008080; text-decoration-color: #008080; font-weight: bold\">24</span>,                                                            <span style=\"color: #008000; text-decoration-color: #008000\">│</span> <span style=\"color: #000080; text-decoration-color: #000080\">│</span>\n",
              "<span style=\"color: #000080; text-decoration-color: #000080\">│</span> <span style=\"color: #008000; text-decoration-color: #008000\">│</span> <span style=\"color: #7fbf7f; text-decoration-color: #7fbf7f\">  </span><span style=\"color: #008000; text-decoration-color: #008000\">\"pad_token_id\"</span>: <span style=\"color: #008080; text-decoration-color: #008080; font-weight: bold\">0</span>,                                                                  <span style=\"color: #008000; text-decoration-color: #008000\">│</span> <span style=\"color: #000080; text-decoration-color: #000080\">│</span>\n",
              "<span style=\"color: #000080; text-decoration-color: #000080\">│</span> <span style=\"color: #008000; text-decoration-color: #008000\">│</span> <span style=\"color: #7fbf7f; text-decoration-color: #7fbf7f\">  </span><span style=\"color: #008000; text-decoration-color: #008000\">\"pooler_fc_size\"</span>: <span style=\"color: #008080; text-decoration-color: #008080; font-weight: bold\">768</span>,                                                              <span style=\"color: #008000; text-decoration-color: #008000\">│</span> <span style=\"color: #000080; text-decoration-color: #000080\">│</span>\n",
              "<span style=\"color: #000080; text-decoration-color: #000080\">│</span> <span style=\"color: #008000; text-decoration-color: #008000\">│</span> <span style=\"color: #7fbf7f; text-decoration-color: #7fbf7f\">  </span><span style=\"color: #008000; text-decoration-color: #008000\">\"pooler_num_attention_heads\"</span>: <span style=\"color: #008080; text-decoration-color: #008080; font-weight: bold\">12</span>,                                                   <span style=\"color: #008000; text-decoration-color: #008000\">│</span> <span style=\"color: #000080; text-decoration-color: #000080\">│</span>\n",
              "<span style=\"color: #000080; text-decoration-color: #000080\">│</span> <span style=\"color: #008000; text-decoration-color: #008000\">│</span> <span style=\"color: #7fbf7f; text-decoration-color: #7fbf7f\">  </span><span style=\"color: #008000; text-decoration-color: #008000\">\"pooler_num_fc_layers\"</span>: <span style=\"color: #008080; text-decoration-color: #008080; font-weight: bold\">3</span>,                                                          <span style=\"color: #008000; text-decoration-color: #008000\">│</span> <span style=\"color: #000080; text-decoration-color: #000080\">│</span>\n",
              "<span style=\"color: #000080; text-decoration-color: #000080\">│</span> <span style=\"color: #008000; text-decoration-color: #008000\">│</span> <span style=\"color: #7fbf7f; text-decoration-color: #7fbf7f\">  </span><span style=\"color: #008000; text-decoration-color: #008000\">\"pooler_size_per_head\"</span>: <span style=\"color: #008080; text-decoration-color: #008080; font-weight: bold\">128</span>,                                                        <span style=\"color: #008000; text-decoration-color: #008000\">│</span> <span style=\"color: #000080; text-decoration-color: #000080\">│</span>\n",
              "<span style=\"color: #000080; text-decoration-color: #000080\">│</span> <span style=\"color: #008000; text-decoration-color: #008000\">│</span> <span style=\"color: #7fbf7f; text-decoration-color: #7fbf7f\">  </span><span style=\"color: #008000; text-decoration-color: #008000\">\"pooler_type\"</span>: <span style=\"color: #008000; text-decoration-color: #008000\">\"first_token_transform\"</span>,                                             <span style=\"color: #008000; text-decoration-color: #008000\">│</span> <span style=\"color: #000080; text-decoration-color: #000080\">│</span>\n",
              "<span style=\"color: #000080; text-decoration-color: #000080\">│</span> <span style=\"color: #008000; text-decoration-color: #008000\">│</span> <span style=\"color: #7fbf7f; text-decoration-color: #7fbf7f\">  </span><span style=\"color: #008000; text-decoration-color: #008000\">\"position_embedding_type\"</span>: <span style=\"color: #008000; text-decoration-color: #008000\">\"absolute\"</span>,                                              <span style=\"color: #008000; text-decoration-color: #008000\">│</span> <span style=\"color: #000080; text-decoration-color: #000080\">│</span>\n",
              "<span style=\"color: #000080; text-decoration-color: #000080\">│</span> <span style=\"color: #008000; text-decoration-color: #008000\">│</span> <span style=\"color: #7fbf7f; text-decoration-color: #7fbf7f\">  </span><span style=\"color: #008000; text-decoration-color: #008000\">\"transformers_version\"</span>: <span style=\"color: #008000; text-decoration-color: #008000\">\"4.15.0\"</span>,                                                   <span style=\"color: #008000; text-decoration-color: #008000\">│</span> <span style=\"color: #000080; text-decoration-color: #000080\">│</span>\n",
              "<span style=\"color: #000080; text-decoration-color: #000080\">│</span> <span style=\"color: #008000; text-decoration-color: #008000\">│</span> <span style=\"color: #7fbf7f; text-decoration-color: #7fbf7f\">  </span><span style=\"color: #008000; text-decoration-color: #008000\">\"type_vocab_size\"</span>: <span style=\"color: #008080; text-decoration-color: #008080; font-weight: bold\">2</span>,                                                               <span style=\"color: #008000; text-decoration-color: #008000\">│</span> <span style=\"color: #000080; text-decoration-color: #000080\">│</span>\n",
              "<span style=\"color: #000080; text-decoration-color: #000080\">│</span> <span style=\"color: #008000; text-decoration-color: #008000\">│</span> <span style=\"color: #7fbf7f; text-decoration-color: #7fbf7f\">  </span><span style=\"color: #008000; text-decoration-color: #008000\">\"use_cache\"</span>: true,                                                                  <span style=\"color: #008000; text-decoration-color: #008000\">│</span> <span style=\"color: #000080; text-decoration-color: #000080\">│</span>\n",
              "<span style=\"color: #000080; text-decoration-color: #000080\">│</span> <span style=\"color: #008000; text-decoration-color: #008000\">│</span> <span style=\"color: #7fbf7f; text-decoration-color: #7fbf7f\">  </span><span style=\"color: #008000; text-decoration-color: #008000\">\"vocab_size\"</span>: <span style=\"color: #008080; text-decoration-color: #008080; font-weight: bold\">28996</span>                                                                 <span style=\"color: #008000; text-decoration-color: #008000\">│</span> <span style=\"color: #000080; text-decoration-color: #000080\">│</span>\n",
              "<span style=\"color: #000080; text-decoration-color: #000080\">│</span> <span style=\"color: #008000; text-decoration-color: #008000\">│</span> <span style=\"font-weight: bold\">}</span>                                                                                     <span style=\"color: #008000; text-decoration-color: #008000\">│</span> <span style=\"color: #000080; text-decoration-color: #000080\">│</span>\n",
              "<span style=\"color: #000080; text-decoration-color: #000080\">│</span> <span style=\"color: #008000; text-decoration-color: #008000\">│</span>                                                                                       <span style=\"color: #008000; text-decoration-color: #008000\">│</span> <span style=\"color: #000080; text-decoration-color: #000080\">│</span>\n",
              "<span style=\"color: #000080; text-decoration-color: #000080\">│</span> <span style=\"color: #008000; text-decoration-color: #008000\">╰───────────────────────────────────────────────────────────────────────────────────────╯</span> <span style=\"color: #000080; text-decoration-color: #000080\">│</span>\n",
              "<span style=\"color: #000080; text-decoration-color: #000080\">│</span>                                                                                           <span style=\"color: #000080; text-decoration-color: #000080\">│</span>\n",
              "<span style=\"color: #000080; text-decoration-color: #000080\">│</span>          <span style=\"color: #808000; text-decoration-color: #808000; font-style: italic\">add_cross_attention</span> = <span style=\"color: #ff0000; text-decoration-color: #ff0000; font-style: italic\">False</span>                                                      <span style=\"color: #000080; text-decoration-color: #000080\">│</span>\n",
              "<span style=\"color: #000080; text-decoration-color: #000080\">│</span>                <span style=\"color: #808000; text-decoration-color: #808000; font-style: italic\">architectures</span> = <span style=\"font-weight: bold\">[</span><span style=\"color: #008000; text-decoration-color: #008000\">'BertForTokenClassification'</span><span style=\"font-weight: bold\">]</span>                             <span style=\"color: #000080; text-decoration-color: #000080\">│</span>\n",
              "<span style=\"color: #000080; text-decoration-color: #000080\">│</span> <span style=\"color: #808000; text-decoration-color: #808000; font-style: italic\">attention_probs_dropout_prob</span> = <span style=\"color: #008080; text-decoration-color: #008080; font-weight: bold\">0.1</span>                                                        <span style=\"color: #000080; text-decoration-color: #000080\">│</span>\n",
              "<span style=\"color: #000080; text-decoration-color: #000080\">│</span>                <span style=\"color: #808000; text-decoration-color: #808000; font-style: italic\">attribute_map</span> = <span style=\"font-weight: bold\">{}</span>                                                         <span style=\"color: #000080; text-decoration-color: #000080\">│</span>\n",
              "<span style=\"color: #000080; text-decoration-color: #000080\">│</span>                <span style=\"color: #808000; text-decoration-color: #808000; font-style: italic\">bad_words_ids</span> = <span style=\"color: #800080; text-decoration-color: #800080; font-style: italic\">None</span>                                                       <span style=\"color: #000080; text-decoration-color: #000080\">│</span>\n",
              "<span style=\"color: #000080; text-decoration-color: #000080\">│</span>                 <span style=\"color: #808000; text-decoration-color: #808000; font-style: italic\">bos_token_id</span> = <span style=\"color: #800080; text-decoration-color: #800080; font-style: italic\">None</span>                                                       <span style=\"color: #000080; text-decoration-color: #000080\">│</span>\n",
              "<span style=\"color: #000080; text-decoration-color: #000080\">│</span>      <span style=\"color: #808000; text-decoration-color: #808000; font-style: italic\">chunk_size_feed_forward</span> = <span style=\"color: #008080; text-decoration-color: #008080; font-weight: bold\">0</span>                                                          <span style=\"color: #000080; text-decoration-color: #000080\">│</span>\n",
              "<span style=\"color: #000080; text-decoration-color: #000080\">│</span>           <span style=\"color: #808000; text-decoration-color: #808000; font-style: italic\">classifier_dropout</span> = <span style=\"color: #800080; text-decoration-color: #800080; font-style: italic\">None</span>                                                       <span style=\"color: #000080; text-decoration-color: #000080\">│</span>\n",
              "<span style=\"color: #000080; text-decoration-color: #000080\">│</span>  <span style=\"color: #808000; text-decoration-color: #808000; font-style: italic\">cross_attention_hidden_size</span> = <span style=\"color: #800080; text-decoration-color: #800080; font-style: italic\">None</span>                                                       <span style=\"color: #000080; text-decoration-color: #000080\">│</span>\n",
              "<span style=\"color: #000080; text-decoration-color: #000080\">│</span>       <span style=\"color: #808000; text-decoration-color: #808000; font-style: italic\">decoder_start_token_id</span> = <span style=\"color: #800080; text-decoration-color: #800080; font-style: italic\">None</span>                                                       <span style=\"color: #000080; text-decoration-color: #000080\">│</span>\n",
              "<span style=\"color: #000080; text-decoration-color: #000080\">│</span>               <span style=\"color: #808000; text-decoration-color: #808000; font-style: italic\">directionality</span> = <span style=\"color: #008000; text-decoration-color: #008000\">'bidi'</span>                                                     <span style=\"color: #000080; text-decoration-color: #000080\">│</span>\n",
              "<span style=\"color: #000080; text-decoration-color: #000080\">│</span>            <span style=\"color: #808000; text-decoration-color: #808000; font-style: italic\">diversity_penalty</span> = <span style=\"color: #008080; text-decoration-color: #008080; font-weight: bold\">0.0</span>                                                        <span style=\"color: #000080; text-decoration-color: #000080\">│</span>\n",
              "<span style=\"color: #000080; text-decoration-color: #000080\">│</span>                    <span style=\"color: #808000; text-decoration-color: #808000; font-style: italic\">do_sample</span> = <span style=\"color: #ff0000; text-decoration-color: #ff0000; font-style: italic\">False</span>                                                      <span style=\"color: #000080; text-decoration-color: #000080\">│</span>\n",
              "<span style=\"color: #000080; text-decoration-color: #000080\">│</span>               <span style=\"color: #808000; text-decoration-color: #808000; font-style: italic\">early_stopping</span> = <span style=\"color: #ff0000; text-decoration-color: #ff0000; font-style: italic\">False</span>                                                      <span style=\"color: #000080; text-decoration-color: #000080\">│</span>\n",
              "<span style=\"color: #000080; text-decoration-color: #000080\">│</span> <span style=\"color: #808000; text-decoration-color: #808000; font-style: italic\">encoder_no_repeat_ngram_size</span> = <span style=\"color: #008080; text-decoration-color: #008080; font-weight: bold\">0</span>                                                          <span style=\"color: #000080; text-decoration-color: #000080\">│</span>\n",
              "<span style=\"color: #000080; text-decoration-color: #000080\">│</span>                 <span style=\"color: #808000; text-decoration-color: #808000; font-style: italic\">eos_token_id</span> = <span style=\"color: #800080; text-decoration-color: #800080; font-style: italic\">None</span>                                                       <span style=\"color: #000080; text-decoration-color: #000080\">│</span>\n",
              "<span style=\"color: #000080; text-decoration-color: #000080\">│</span>              <span style=\"color: #808000; text-decoration-color: #808000; font-style: italic\">finetuning_task</span> = <span style=\"color: #800080; text-decoration-color: #800080; font-style: italic\">None</span>                                                       <span style=\"color: #000080; text-decoration-color: #000080\">│</span>\n",
              "<span style=\"color: #000080; text-decoration-color: #000080\">│</span>          <span style=\"color: #808000; text-decoration-color: #808000; font-style: italic\">forced_bos_token_id</span> = <span style=\"color: #800080; text-decoration-color: #800080; font-style: italic\">None</span>                                                       <span style=\"color: #000080; text-decoration-color: #000080\">│</span>\n",
              "<span style=\"color: #000080; text-decoration-color: #000080\">│</span>          <span style=\"color: #808000; text-decoration-color: #808000; font-style: italic\">forced_eos_token_id</span> = <span style=\"color: #800080; text-decoration-color: #800080; font-style: italic\">None</span>                                                       <span style=\"color: #000080; text-decoration-color: #000080\">│</span>\n",
              "<span style=\"color: #000080; text-decoration-color: #000080\">│</span>                   <span style=\"color: #808000; text-decoration-color: #808000; font-style: italic\">hidden_act</span> = <span style=\"color: #008000; text-decoration-color: #008000\">'gelu'</span>                                                     <span style=\"color: #000080; text-decoration-color: #000080\">│</span>\n",
              "<span style=\"color: #000080; text-decoration-color: #000080\">│</span>          <span style=\"color: #808000; text-decoration-color: #808000; font-style: italic\">hidden_dropout_prob</span> = <span style=\"color: #008080; text-decoration-color: #008080; font-weight: bold\">0.1</span>                                                        <span style=\"color: #000080; text-decoration-color: #000080\">│</span>\n",
              "<span style=\"color: #000080; text-decoration-color: #000080\">│</span>                  <span style=\"color: #808000; text-decoration-color: #808000; font-style: italic\">hidden_size</span> = <span style=\"color: #008080; text-decoration-color: #008080; font-weight: bold\">1024</span>                                                       <span style=\"color: #000080; text-decoration-color: #000080\">│</span>\n",
              "<span style=\"color: #000080; text-decoration-color: #000080\">│</span>                     <span style=\"color: #808000; text-decoration-color: #808000; font-style: italic\">id2label</span> = <span style=\"font-weight: bold\">{</span>                                                          <span style=\"color: #000080; text-decoration-color: #000080\">│</span>\n",
              "<span style=\"color: #000080; text-decoration-color: #000080\">│</span>                                    <span style=\"color: #008080; text-decoration-color: #008080; font-weight: bold\">0</span>: <span style=\"color: #008000; text-decoration-color: #008000\">'O'</span>,                                                <span style=\"color: #000080; text-decoration-color: #000080\">│</span>\n",
              "<span style=\"color: #000080; text-decoration-color: #000080\">│</span>                                    <span style=\"color: #008080; text-decoration-color: #008080; font-weight: bold\">1</span>: <span style=\"color: #008000; text-decoration-color: #008000\">'B-MISC'</span>,                                           <span style=\"color: #000080; text-decoration-color: #000080\">│</span>\n",
              "<span style=\"color: #000080; text-decoration-color: #000080\">│</span>                                    <span style=\"color: #008080; text-decoration-color: #008080; font-weight: bold\">2</span>: <span style=\"color: #008000; text-decoration-color: #008000\">'I-MISC'</span>,                                           <span style=\"color: #000080; text-decoration-color: #000080\">│</span>\n",
              "<span style=\"color: #000080; text-decoration-color: #000080\">│</span>                                    <span style=\"color: #008080; text-decoration-color: #008080; font-weight: bold\">3</span>: <span style=\"color: #008000; text-decoration-color: #008000\">'B-PER'</span>,                                            <span style=\"color: #000080; text-decoration-color: #000080\">│</span>\n",
              "<span style=\"color: #000080; text-decoration-color: #000080\">│</span>                                    <span style=\"color: #008080; text-decoration-color: #008080; font-weight: bold\">4</span>: <span style=\"color: #008000; text-decoration-color: #008000\">'I-PER'</span>,                                            <span style=\"color: #000080; text-decoration-color: #000080\">│</span>\n",
              "<span style=\"color: #000080; text-decoration-color: #000080\">│</span>                                    <span style=\"color: #008080; text-decoration-color: #008080; font-weight: bold\">5</span>: <span style=\"color: #008000; text-decoration-color: #008000\">'B-ORG'</span>,                                            <span style=\"color: #000080; text-decoration-color: #000080\">│</span>\n",
              "<span style=\"color: #000080; text-decoration-color: #000080\">│</span>                                    <span style=\"color: #008080; text-decoration-color: #008080; font-weight: bold\">6</span>: <span style=\"color: #008000; text-decoration-color: #008000\">'I-ORG'</span>,                                            <span style=\"color: #000080; text-decoration-color: #000080\">│</span>\n",
              "<span style=\"color: #000080; text-decoration-color: #000080\">│</span>                                    <span style=\"color: #008080; text-decoration-color: #008080; font-weight: bold\">7</span>: <span style=\"color: #008000; text-decoration-color: #008000\">'B-LOC'</span>,                                            <span style=\"color: #000080; text-decoration-color: #000080\">│</span>\n",
              "<span style=\"color: #000080; text-decoration-color: #000080\">│</span>                                    <span style=\"color: #008080; text-decoration-color: #008080; font-weight: bold\">8</span>: <span style=\"color: #008000; text-decoration-color: #008000\">'I-LOC'</span>                                             <span style=\"color: #000080; text-decoration-color: #000080\">│</span>\n",
              "<span style=\"color: #000080; text-decoration-color: #000080\">│</span>                                <span style=\"font-weight: bold\">}</span>                                                          <span style=\"color: #000080; text-decoration-color: #000080\">│</span>\n",
              "<span style=\"color: #000080; text-decoration-color: #000080\">│</span>            <span style=\"color: #808000; text-decoration-color: #808000; font-style: italic\">initializer_range</span> = <span style=\"color: #008080; text-decoration-color: #008080; font-weight: bold\">0.02</span>                                                       <span style=\"color: #000080; text-decoration-color: #000080\">│</span>\n",
              "<span style=\"color: #000080; text-decoration-color: #000080\">│</span>            <span style=\"color: #808000; text-decoration-color: #808000; font-style: italic\">intermediate_size</span> = <span style=\"color: #008080; text-decoration-color: #008080; font-weight: bold\">4096</span>                                                       <span style=\"color: #000080; text-decoration-color: #000080\">│</span>\n",
              "<span style=\"color: #000080; text-decoration-color: #000080\">│</span>               <span style=\"color: #808000; text-decoration-color: #808000; font-style: italic\">is_composition</span> = <span style=\"color: #ff0000; text-decoration-color: #ff0000; font-style: italic\">False</span>                                                      <span style=\"color: #000080; text-decoration-color: #000080\">│</span>\n",
              "<span style=\"color: #000080; text-decoration-color: #000080\">│</span>                   <span style=\"color: #808000; text-decoration-color: #808000; font-style: italic\">is_decoder</span> = <span style=\"color: #ff0000; text-decoration-color: #ff0000; font-style: italic\">False</span>                                                      <span style=\"color: #000080; text-decoration-color: #000080\">│</span>\n",
              "<span style=\"color: #000080; text-decoration-color: #000080\">│</span>           <span style=\"color: #808000; text-decoration-color: #808000; font-style: italic\">is_encoder_decoder</span> = <span style=\"color: #ff0000; text-decoration-color: #ff0000; font-style: italic\">False</span>                                                      <span style=\"color: #000080; text-decoration-color: #000080\">│</span>\n",
              "<span style=\"color: #000080; text-decoration-color: #000080\">│</span>                     <span style=\"color: #808000; text-decoration-color: #808000; font-style: italic\">label2id</span> = <span style=\"font-weight: bold\">{</span>                                                          <span style=\"color: #000080; text-decoration-color: #000080\">│</span>\n",
              "<span style=\"color: #000080; text-decoration-color: #000080\">│</span>                                    <span style=\"color: #008000; text-decoration-color: #008000\">'B-LOC'</span>: <span style=\"color: #008080; text-decoration-color: #008080; font-weight: bold\">7</span>,                                            <span style=\"color: #000080; text-decoration-color: #000080\">│</span>\n",
              "<span style=\"color: #000080; text-decoration-color: #000080\">│</span>                                    <span style=\"color: #008000; text-decoration-color: #008000\">'B-MISC'</span>: <span style=\"color: #008080; text-decoration-color: #008080; font-weight: bold\">1</span>,                                           <span style=\"color: #000080; text-decoration-color: #000080\">│</span>\n",
              "<span style=\"color: #000080; text-decoration-color: #000080\">│</span>                                    <span style=\"color: #008000; text-decoration-color: #008000\">'B-ORG'</span>: <span style=\"color: #008080; text-decoration-color: #008080; font-weight: bold\">5</span>,                                            <span style=\"color: #000080; text-decoration-color: #000080\">│</span>\n",
              "<span style=\"color: #000080; text-decoration-color: #000080\">│</span>                                    <span style=\"color: #008000; text-decoration-color: #008000\">'B-PER'</span>: <span style=\"color: #008080; text-decoration-color: #008080; font-weight: bold\">3</span>,                                            <span style=\"color: #000080; text-decoration-color: #000080\">│</span>\n",
              "<span style=\"color: #000080; text-decoration-color: #000080\">│</span>                                    <span style=\"color: #008000; text-decoration-color: #008000\">'I-LOC'</span>: <span style=\"color: #008080; text-decoration-color: #008080; font-weight: bold\">8</span>,                                            <span style=\"color: #000080; text-decoration-color: #000080\">│</span>\n",
              "<span style=\"color: #000080; text-decoration-color: #000080\">│</span>                                    <span style=\"color: #008000; text-decoration-color: #008000\">'I-MISC'</span>: <span style=\"color: #008080; text-decoration-color: #008080; font-weight: bold\">2</span>,                                           <span style=\"color: #000080; text-decoration-color: #000080\">│</span>\n",
              "<span style=\"color: #000080; text-decoration-color: #000080\">│</span>                                    <span style=\"color: #008000; text-decoration-color: #008000\">'I-ORG'</span>: <span style=\"color: #008080; text-decoration-color: #008080; font-weight: bold\">6</span>,                                            <span style=\"color: #000080; text-decoration-color: #000080\">│</span>\n",
              "<span style=\"color: #000080; text-decoration-color: #000080\">│</span>                                    <span style=\"color: #008000; text-decoration-color: #008000\">'I-PER'</span>: <span style=\"color: #008080; text-decoration-color: #008080; font-weight: bold\">4</span>,                                            <span style=\"color: #000080; text-decoration-color: #000080\">│</span>\n",
              "<span style=\"color: #000080; text-decoration-color: #000080\">│</span>                                    <span style=\"color: #008000; text-decoration-color: #008000\">'O'</span>: <span style=\"color: #008080; text-decoration-color: #008080; font-weight: bold\">0</span>                                                 <span style=\"color: #000080; text-decoration-color: #000080\">│</span>\n",
              "<span style=\"color: #000080; text-decoration-color: #000080\">│</span>                                <span style=\"font-weight: bold\">}</span>                                                          <span style=\"color: #000080; text-decoration-color: #000080\">│</span>\n",
              "<span style=\"color: #000080; text-decoration-color: #000080\">│</span>               <span style=\"color: #808000; text-decoration-color: #808000; font-style: italic\">layer_norm_eps</span> = <span style=\"color: #008080; text-decoration-color: #008080; font-weight: bold\">1e-12</span>                                                      <span style=\"color: #000080; text-decoration-color: #000080\">│</span>\n",
              "<span style=\"color: #000080; text-decoration-color: #000080\">│</span>               <span style=\"color: #808000; text-decoration-color: #808000; font-style: italic\">length_penalty</span> = <span style=\"color: #008080; text-decoration-color: #008080; font-weight: bold\">1.0</span>                                                        <span style=\"color: #000080; text-decoration-color: #000080\">│</span>\n",
              "<span style=\"color: #000080; text-decoration-color: #000080\">│</span>                   <span style=\"color: #808000; text-decoration-color: #808000; font-style: italic\">max_length</span> = <span style=\"color: #008080; text-decoration-color: #008080; font-weight: bold\">20</span>                                                         <span style=\"color: #000080; text-decoration-color: #000080\">│</span>\n",
              "<span style=\"color: #000080; text-decoration-color: #000080\">│</span>      <span style=\"color: #808000; text-decoration-color: #808000; font-style: italic\">max_position_embeddings</span> = <span style=\"color: #008080; text-decoration-color: #008080; font-weight: bold\">512</span>                                                        <span style=\"color: #000080; text-decoration-color: #000080\">│</span>\n",
              "<span style=\"color: #000080; text-decoration-color: #000080\">│</span>                   <span style=\"color: #808000; text-decoration-color: #808000; font-style: italic\">min_length</span> = <span style=\"color: #008080; text-decoration-color: #008080; font-weight: bold\">0</span>                                                          <span style=\"color: #000080; text-decoration-color: #000080\">│</span>\n",
              "<span style=\"color: #000080; text-decoration-color: #000080\">│</span>                   <span style=\"color: #808000; text-decoration-color: #808000; font-style: italic\">model_type</span> = <span style=\"color: #008000; text-decoration-color: #008000\">'bert'</span>                                                     <span style=\"color: #000080; text-decoration-color: #000080\">│</span>\n",
              "<span style=\"color: #000080; text-decoration-color: #000080\">│</span>                 <span style=\"color: #808000; text-decoration-color: #808000; font-style: italic\">name_or_path</span> = <span style=\"color: #008000; text-decoration-color: #008000\">'dbmdz/bert-large-cased-finetuned-conll03-english'</span>         <span style=\"color: #000080; text-decoration-color: #000080\">│</span>\n",
              "<span style=\"color: #000080; text-decoration-color: #000080\">│</span>         <span style=\"color: #808000; text-decoration-color: #808000; font-style: italic\">no_repeat_ngram_size</span> = <span style=\"color: #008080; text-decoration-color: #008080; font-weight: bold\">0</span>                                                          <span style=\"color: #000080; text-decoration-color: #000080\">│</span>\n",
              "<span style=\"color: #000080; text-decoration-color: #000080\">│</span>          <span style=\"color: #808000; text-decoration-color: #808000; font-style: italic\">num_attention_heads</span> = <span style=\"color: #008080; text-decoration-color: #008080; font-weight: bold\">16</span>                                                         <span style=\"color: #000080; text-decoration-color: #000080\">│</span>\n",
              "<span style=\"color: #000080; text-decoration-color: #000080\">│</span>              <span style=\"color: #808000; text-decoration-color: #808000; font-style: italic\">num_beam_groups</span> = <span style=\"color: #008080; text-decoration-color: #008080; font-weight: bold\">1</span>                                                          <span style=\"color: #000080; text-decoration-color: #000080\">│</span>\n",
              "<span style=\"color: #000080; text-decoration-color: #000080\">│</span>                    <span style=\"color: #808000; text-decoration-color: #808000; font-style: italic\">num_beams</span> = <span style=\"color: #008080; text-decoration-color: #008080; font-weight: bold\">1</span>                                                          <span style=\"color: #000080; text-decoration-color: #000080\">│</span>\n",
              "<span style=\"color: #000080; text-decoration-color: #000080\">│</span>            <span style=\"color: #808000; text-decoration-color: #808000; font-style: italic\">num_hidden_layers</span> = <span style=\"color: #008080; text-decoration-color: #008080; font-weight: bold\">24</span>                                                         <span style=\"color: #000080; text-decoration-color: #000080\">│</span>\n",
              "<span style=\"color: #000080; text-decoration-color: #000080\">│</span>                   <span style=\"color: #808000; text-decoration-color: #808000; font-style: italic\">num_labels</span> = <span style=\"color: #008080; text-decoration-color: #008080; font-weight: bold\">9</span>                                                          <span style=\"color: #000080; text-decoration-color: #000080\">│</span>\n",
              "<span style=\"color: #000080; text-decoration-color: #000080\">│</span>         <span style=\"color: #808000; text-decoration-color: #808000; font-style: italic\">num_return_sequences</span> = <span style=\"color: #008080; text-decoration-color: #008080; font-weight: bold\">1</span>                                                          <span style=\"color: #000080; text-decoration-color: #000080\">│</span>\n",
              "<span style=\"color: #000080; text-decoration-color: #000080\">│</span>            <span style=\"color: #808000; text-decoration-color: #808000; font-style: italic\">output_attentions</span> = <span style=\"color: #ff0000; text-decoration-color: #ff0000; font-style: italic\">False</span>                                                      <span style=\"color: #000080; text-decoration-color: #000080\">│</span>\n",
              "<span style=\"color: #000080; text-decoration-color: #000080\">│</span>         <span style=\"color: #808000; text-decoration-color: #808000; font-style: italic\">output_hidden_states</span> = <span style=\"color: #ff0000; text-decoration-color: #ff0000; font-style: italic\">False</span>                                                      <span style=\"color: #000080; text-decoration-color: #000080\">│</span>\n",
              "<span style=\"color: #000080; text-decoration-color: #000080\">│</span>                <span style=\"color: #808000; text-decoration-color: #808000; font-style: italic\">output_scores</span> = <span style=\"color: #ff0000; text-decoration-color: #ff0000; font-style: italic\">False</span>                                                      <span style=\"color: #000080; text-decoration-color: #000080\">│</span>\n",
              "<span style=\"color: #000080; text-decoration-color: #000080\">│</span>                 <span style=\"color: #808000; text-decoration-color: #808000; font-style: italic\">pad_token_id</span> = <span style=\"color: #008080; text-decoration-color: #008080; font-weight: bold\">0</span>                                                          <span style=\"color: #000080; text-decoration-color: #000080\">│</span>\n",
              "<span style=\"color: #000080; text-decoration-color: #000080\">│</span>               <span style=\"color: #808000; text-decoration-color: #808000; font-style: italic\">pooler_fc_size</span> = <span style=\"color: #008080; text-decoration-color: #008080; font-weight: bold\">768</span>                                                        <span style=\"color: #000080; text-decoration-color: #000080\">│</span>\n",
              "<span style=\"color: #000080; text-decoration-color: #000080\">│</span>   <span style=\"color: #808000; text-decoration-color: #808000; font-style: italic\">pooler_num_attention_heads</span> = <span style=\"color: #008080; text-decoration-color: #008080; font-weight: bold\">12</span>                                                         <span style=\"color: #000080; text-decoration-color: #000080\">│</span>\n",
              "<span style=\"color: #000080; text-decoration-color: #000080\">│</span>         <span style=\"color: #808000; text-decoration-color: #808000; font-style: italic\">pooler_num_fc_layers</span> = <span style=\"color: #008080; text-decoration-color: #008080; font-weight: bold\">3</span>                                                          <span style=\"color: #000080; text-decoration-color: #000080\">│</span>\n",
              "<span style=\"color: #000080; text-decoration-color: #000080\">│</span>         <span style=\"color: #808000; text-decoration-color: #808000; font-style: italic\">pooler_size_per_head</span> = <span style=\"color: #008080; text-decoration-color: #008080; font-weight: bold\">128</span>                                                        <span style=\"color: #000080; text-decoration-color: #000080\">│</span>\n",
              "<span style=\"color: #000080; text-decoration-color: #000080\">│</span>                  <span style=\"color: #808000; text-decoration-color: #808000; font-style: italic\">pooler_type</span> = <span style=\"color: #008000; text-decoration-color: #008000\">'first_token_transform'</span>                                    <span style=\"color: #000080; text-decoration-color: #000080\">│</span>\n",
              "<span style=\"color: #000080; text-decoration-color: #000080\">│</span>      <span style=\"color: #808000; text-decoration-color: #808000; font-style: italic\">position_embedding_type</span> = <span style=\"color: #008000; text-decoration-color: #008000\">'absolute'</span>                                                 <span style=\"color: #000080; text-decoration-color: #000080\">│</span>\n",
              "<span style=\"color: #000080; text-decoration-color: #000080\">│</span>                       <span style=\"color: #808000; text-decoration-color: #808000; font-style: italic\">prefix</span> = <span style=\"color: #800080; text-decoration-color: #800080; font-style: italic\">None</span>                                                       <span style=\"color: #000080; text-decoration-color: #000080\">│</span>\n",
              "<span style=\"color: #000080; text-decoration-color: #000080\">│</span>                 <span style=\"color: #808000; text-decoration-color: #808000; font-style: italic\">problem_type</span> = <span style=\"color: #800080; text-decoration-color: #800080; font-style: italic\">None</span>                                                       <span style=\"color: #000080; text-decoration-color: #000080\">│</span>\n",
              "<span style=\"color: #000080; text-decoration-color: #000080\">│</span>                 <span style=\"color: #808000; text-decoration-color: #808000; font-style: italic\">pruned_heads</span> = <span style=\"font-weight: bold\">{}</span>                                                         <span style=\"color: #000080; text-decoration-color: #000080\">│</span>\n",
              "<span style=\"color: #000080; text-decoration-color: #000080\">│</span>        <span style=\"color: #808000; text-decoration-color: #808000; font-style: italic\">remove_invalid_values</span> = <span style=\"color: #ff0000; text-decoration-color: #ff0000; font-style: italic\">False</span>                                                      <span style=\"color: #000080; text-decoration-color: #000080\">│</span>\n",
              "<span style=\"color: #000080; text-decoration-color: #000080\">│</span>           <span style=\"color: #808000; text-decoration-color: #808000; font-style: italic\">repetition_penalty</span> = <span style=\"color: #008080; text-decoration-color: #008080; font-weight: bold\">1.0</span>                                                        <span style=\"color: #000080; text-decoration-color: #000080\">│</span>\n",
              "<span style=\"color: #000080; text-decoration-color: #000080\">│</span>                  <span style=\"color: #808000; text-decoration-color: #808000; font-style: italic\">return_dict</span> = <span style=\"color: #00ff00; text-decoration-color: #00ff00; font-style: italic\">True</span>                                                       <span style=\"color: #000080; text-decoration-color: #000080\">│</span>\n",
              "<span style=\"color: #000080; text-decoration-color: #000080\">│</span>      <span style=\"color: #808000; text-decoration-color: #808000; font-style: italic\">return_dict_in_generate</span> = <span style=\"color: #ff0000; text-decoration-color: #ff0000; font-style: italic\">False</span>                                                      <span style=\"color: #000080; text-decoration-color: #000080\">│</span>\n",
              "<span style=\"color: #000080; text-decoration-color: #000080\">│</span>                 <span style=\"color: #808000; text-decoration-color: #808000; font-style: italic\">sep_token_id</span> = <span style=\"color: #800080; text-decoration-color: #800080; font-style: italic\">None</span>                                                       <span style=\"color: #000080; text-decoration-color: #000080\">│</span>\n",
              "<span style=\"color: #000080; text-decoration-color: #000080\">│</span>         <span style=\"color: #808000; text-decoration-color: #808000; font-style: italic\">task_specific_params</span> = <span style=\"color: #800080; text-decoration-color: #800080; font-style: italic\">None</span>                                                       <span style=\"color: #000080; text-decoration-color: #000080\">│</span>\n",
              "<span style=\"color: #000080; text-decoration-color: #000080\">│</span>                  <span style=\"color: #808000; text-decoration-color: #808000; font-style: italic\">temperature</span> = <span style=\"color: #008080; text-decoration-color: #008080; font-weight: bold\">1.0</span>                                                        <span style=\"color: #000080; text-decoration-color: #000080\">│</span>\n",
              "<span style=\"color: #000080; text-decoration-color: #000080\">│</span>          <span style=\"color: #808000; text-decoration-color: #808000; font-style: italic\">tie_encoder_decoder</span> = <span style=\"color: #ff0000; text-decoration-color: #ff0000; font-style: italic\">False</span>                                                      <span style=\"color: #000080; text-decoration-color: #000080\">│</span>\n",
              "<span style=\"color: #000080; text-decoration-color: #000080\">│</span>          <span style=\"color: #808000; text-decoration-color: #808000; font-style: italic\">tie_word_embeddings</span> = <span style=\"color: #00ff00; text-decoration-color: #00ff00; font-style: italic\">True</span>                                                       <span style=\"color: #000080; text-decoration-color: #000080\">│</span>\n",
              "<span style=\"color: #000080; text-decoration-color: #000080\">│</span>              <span style=\"color: #808000; text-decoration-color: #808000; font-style: italic\">tokenizer_class</span> = <span style=\"color: #800080; text-decoration-color: #800080; font-style: italic\">None</span>                                                       <span style=\"color: #000080; text-decoration-color: #000080\">│</span>\n",
              "<span style=\"color: #000080; text-decoration-color: #000080\">│</span>                        <span style=\"color: #808000; text-decoration-color: #808000; font-style: italic\">top_k</span> = <span style=\"color: #008080; text-decoration-color: #008080; font-weight: bold\">50</span>                                                         <span style=\"color: #000080; text-decoration-color: #000080\">│</span>\n",
              "<span style=\"color: #000080; text-decoration-color: #000080\">│</span>                        <span style=\"color: #808000; text-decoration-color: #808000; font-style: italic\">top_p</span> = <span style=\"color: #008080; text-decoration-color: #008080; font-weight: bold\">1.0</span>                                                        <span style=\"color: #000080; text-decoration-color: #000080\">│</span>\n",
              "<span style=\"color: #000080; text-decoration-color: #000080\">│</span>                  <span style=\"color: #808000; text-decoration-color: #808000; font-style: italic\">torch_dtype</span> = <span style=\"color: #800080; text-decoration-color: #800080; font-style: italic\">None</span>                                                       <span style=\"color: #000080; text-decoration-color: #000080\">│</span>\n",
              "<span style=\"color: #000080; text-decoration-color: #000080\">│</span>                  <span style=\"color: #808000; text-decoration-color: #808000; font-style: italic\">torchscript</span> = <span style=\"color: #ff0000; text-decoration-color: #ff0000; font-style: italic\">False</span>                                                      <span style=\"color: #000080; text-decoration-color: #000080\">│</span>\n",
              "<span style=\"color: #000080; text-decoration-color: #000080\">│</span>         <span style=\"color: #808000; text-decoration-color: #808000; font-style: italic\">transformers_version</span> = <span style=\"color: #800080; text-decoration-color: #800080; font-style: italic\">None</span>                                                       <span style=\"color: #000080; text-decoration-color: #000080\">│</span>\n",
              "<span style=\"color: #000080; text-decoration-color: #000080\">│</span>              <span style=\"color: #808000; text-decoration-color: #808000; font-style: italic\">type_vocab_size</span> = <span style=\"color: #008080; text-decoration-color: #008080; font-weight: bold\">2</span>                                                          <span style=\"color: #000080; text-decoration-color: #000080\">│</span>\n",
              "<span style=\"color: #000080; text-decoration-color: #000080\">│</span>                 <span style=\"color: #808000; text-decoration-color: #808000; font-style: italic\">use_bfloat16</span> = <span style=\"color: #ff0000; text-decoration-color: #ff0000; font-style: italic\">False</span>                                                      <span style=\"color: #000080; text-decoration-color: #000080\">│</span>\n",
              "<span style=\"color: #000080; text-decoration-color: #000080\">│</span>                    <span style=\"color: #808000; text-decoration-color: #808000; font-style: italic\">use_cache</span> = <span style=\"color: #00ff00; text-decoration-color: #00ff00; font-style: italic\">True</span>                                                       <span style=\"color: #000080; text-decoration-color: #000080\">│</span>\n",
              "<span style=\"color: #000080; text-decoration-color: #000080\">│</span>              <span style=\"color: #808000; text-decoration-color: #808000; font-style: italic\">use_return_dict</span> = <span style=\"color: #00ff00; text-decoration-color: #00ff00; font-style: italic\">True</span>                                                       <span style=\"color: #000080; text-decoration-color: #000080\">│</span>\n",
              "<span style=\"color: #000080; text-decoration-color: #000080\">│</span>                   <span style=\"color: #808000; text-decoration-color: #808000; font-style: italic\">vocab_size</span> = <span style=\"color: #008080; text-decoration-color: #008080; font-weight: bold\">28996</span>                                                      <span style=\"color: #000080; text-decoration-color: #000080\">│</span>\n",
              "<span style=\"color: #000080; text-decoration-color: #000080\">│</span>      <span style=\"color: #808000; text-decoration-color: #808000; font-style: italic\">dict_torch_dtype_to_str</span> = <span style=\"color: #00ffff; text-decoration-color: #00ffff; font-style: italic\">def </span><span style=\"color: #800000; text-decoration-color: #800000; font-weight: bold\">dict_torch_dtype_to_str</span><span style=\"font-weight: bold\">(</span>d: Dict<span style=\"font-weight: bold\">[</span>str, Any<span style=\"font-weight: bold\">])</span> -&gt; <span style=\"color: #800080; text-decoration-color: #800080; font-style: italic\">None</span>:    <span style=\"color: #000080; text-decoration-color: #000080\">│</span>\n",
              "<span style=\"color: #000080; text-decoration-color: #000080\">│</span>                                <span style=\"color: #7f7f7f; text-decoration-color: #7f7f7f\">Checks whether the passed dictionary has a *torch_dtype* </span>  <span style=\"color: #000080; text-decoration-color: #000080\">│</span>\n",
              "<span style=\"color: #000080; text-decoration-color: #000080\">│</span>                                <span style=\"color: #7f7f7f; text-decoration-color: #7f7f7f\">key and if it's not </span><span style=\"color: #bf7fbf; text-decoration-color: #bf7fbf; font-style: italic\">None</span><span style=\"color: #7f7f7f; text-decoration-color: #7f7f7f\">, converts torch.dtype to a</span>        <span style=\"color: #000080; text-decoration-color: #000080\">│</span>\n",
              "<span style=\"color: #000080; text-decoration-color: #000080\">│</span>                                <span style=\"color: #7f7f7f; text-decoration-color: #7f7f7f\">string of just the type. For example, `torch.float32` get </span> <span style=\"color: #000080; text-decoration-color: #000080\">│</span>\n",
              "<span style=\"color: #000080; text-decoration-color: #000080\">│</span>                                <span style=\"color: #7f7f7f; text-decoration-color: #7f7f7f\">converted into *</span><span style=\"color: #7fbf7f; text-decoration-color: #7fbf7f\">\"float32\"</span><span style=\"color: #7f7f7f; text-decoration-color: #7f7f7f\">* string, which can</span>               <span style=\"color: #000080; text-decoration-color: #000080\">│</span>\n",
              "<span style=\"color: #000080; text-decoration-color: #000080\">│</span>                                <span style=\"color: #7f7f7f; text-decoration-color: #7f7f7f\">then be stored in the json format.</span>                         <span style=\"color: #000080; text-decoration-color: #000080\">│</span>\n",
              "<span style=\"color: #000080; text-decoration-color: #000080\">│</span>                    <span style=\"color: #808000; text-decoration-color: #808000; font-style: italic\">from_dict</span> = <span style=\"color: #00ffff; text-decoration-color: #00ffff; font-style: italic\">def </span><span style=\"color: #800000; text-decoration-color: #800000; font-weight: bold\">from_dict</span><span style=\"font-weight: bold\">(</span>config_dict: Dict<span style=\"font-weight: bold\">[</span>str, Any<span style=\"font-weight: bold\">]</span>, **kwargs<span style=\"font-weight: bold\">)</span> -&gt;    <span style=\"color: #000080; text-decoration-color: #000080\">│</span>\n",
              "<span style=\"color: #000080; text-decoration-color: #000080\">│</span>                                <span style=\"color: #008000; text-decoration-color: #008000\">'PretrainedConfig'</span>: <span style=\"color: #7f7f7f; text-decoration-color: #7f7f7f\">Instantiates a </span><span style=\"color: #7f7f7f; text-decoration-color: #7f7f7f; font-weight: bold\">[</span><span style=\"color: #7f7f7f; text-decoration-color: #7f7f7f\">`PretrainedConfig`</span><span style=\"color: #7f7f7f; text-decoration-color: #7f7f7f; font-weight: bold\">]</span><span style=\"color: #7f7f7f; text-decoration-color: #7f7f7f\"> </span>   <span style=\"color: #000080; text-decoration-color: #000080\">│</span>\n",
              "<span style=\"color: #000080; text-decoration-color: #000080\">│</span>                                <span style=\"color: #7f7f7f; text-decoration-color: #7f7f7f\">from a Python dictionary of parameters.</span>                    <span style=\"color: #000080; text-decoration-color: #000080\">│</span>\n",
              "<span style=\"color: #000080; text-decoration-color: #000080\">│</span>               <span style=\"color: #808000; text-decoration-color: #808000; font-style: italic\">from_json_file</span> = <span style=\"color: #00ffff; text-decoration-color: #00ffff; font-style: italic\">def </span><span style=\"color: #800000; text-decoration-color: #800000; font-weight: bold\">from_json_file</span><span style=\"font-weight: bold\">(</span>json_file: Union<span style=\"font-weight: bold\">[</span>str, os.PathLike<span style=\"font-weight: bold\">])</span> -&gt;  <span style=\"color: #000080; text-decoration-color: #000080\">│</span>\n",
              "<span style=\"color: #000080; text-decoration-color: #000080\">│</span>                                <span style=\"color: #008000; text-decoration-color: #008000\">'PretrainedConfig'</span>: <span style=\"color: #7f7f7f; text-decoration-color: #7f7f7f\">Instantiates a </span><span style=\"color: #7f7f7f; text-decoration-color: #7f7f7f; font-weight: bold\">[</span><span style=\"color: #7f7f7f; text-decoration-color: #7f7f7f\">`PretrainedConfig`</span><span style=\"color: #7f7f7f; text-decoration-color: #7f7f7f; font-weight: bold\">]</span><span style=\"color: #7f7f7f; text-decoration-color: #7f7f7f\"> </span>   <span style=\"color: #000080; text-decoration-color: #000080\">│</span>\n",
              "<span style=\"color: #000080; text-decoration-color: #000080\">│</span>                                <span style=\"color: #7f7f7f; text-decoration-color: #7f7f7f\">from the path to a JSON file of parameters.</span>                <span style=\"color: #000080; text-decoration-color: #000080\">│</span>\n",
              "<span style=\"color: #000080; text-decoration-color: #000080\">│</span>              <span style=\"color: #808000; text-decoration-color: #808000; font-style: italic\">from_pretrained</span> = <span style=\"color: #00ffff; text-decoration-color: #00ffff; font-style: italic\">def </span><span style=\"color: #800000; text-decoration-color: #800000; font-weight: bold\">from_pretrained</span><span style=\"font-weight: bold\">(</span>pretrained_model_name_or_path:         <span style=\"color: #000080; text-decoration-color: #000080\">│</span>\n",
              "<span style=\"color: #000080; text-decoration-color: #000080\">│</span>                                Union<span style=\"font-weight: bold\">[</span>str, os.PathLike<span style=\"font-weight: bold\">]</span>, **kwargs<span style=\"font-weight: bold\">)</span> -&gt; <span style=\"color: #008000; text-decoration-color: #008000\">'PretrainedConfig'</span>:  <span style=\"color: #000080; text-decoration-color: #000080\">│</span>\n",
              "<span style=\"color: #000080; text-decoration-color: #000080\">│</span>                                <span style=\"color: #7f7f7f; text-decoration-color: #7f7f7f\">Instantiate a </span><span style=\"color: #7f7f7f; text-decoration-color: #7f7f7f; font-weight: bold\">[</span><span style=\"color: #7f7f7f; text-decoration-color: #7f7f7f\">`PretrainedConfig`</span><span style=\"color: #7f7f7f; text-decoration-color: #7f7f7f; font-weight: bold\">]</span><span style=\"color: #7f7f7f; text-decoration-color: #7f7f7f\"> </span><span style=\"color: #7f7f7f; text-decoration-color: #7f7f7f; font-weight: bold\">(</span><span style=\"color: #7f7f7f; text-decoration-color: #7f7f7f\">or a derived class</span><span style=\"color: #7f7f7f; text-decoration-color: #7f7f7f; font-weight: bold\">)</span><span style=\"color: #7f7f7f; text-decoration-color: #7f7f7f\"> </span>   <span style=\"color: #000080; text-decoration-color: #000080\">│</span>\n",
              "<span style=\"color: #000080; text-decoration-color: #000080\">│</span>                                <span style=\"color: #7f7f7f; text-decoration-color: #7f7f7f\">from a pretrained model</span>                                    <span style=\"color: #000080; text-decoration-color: #000080\">│</span>\n",
              "<span style=\"color: #000080; text-decoration-color: #000080\">│</span>                                <span style=\"color: #7f7f7f; text-decoration-color: #7f7f7f\">configuration.</span>                                             <span style=\"color: #000080; text-decoration-color: #000080\">│</span>\n",
              "<span style=\"color: #000080; text-decoration-color: #000080\">│</span>              <span style=\"color: #808000; text-decoration-color: #808000; font-style: italic\">get_config_dict</span> = <span style=\"color: #00ffff; text-decoration-color: #00ffff; font-style: italic\">def </span><span style=\"color: #800000; text-decoration-color: #800000; font-weight: bold\">get_config_dict</span><span style=\"font-weight: bold\">(</span>pretrained_model_name_or_path:         <span style=\"color: #000080; text-decoration-color: #000080\">│</span>\n",
              "<span style=\"color: #000080; text-decoration-color: #000080\">│</span>                                Union<span style=\"font-weight: bold\">[</span>str, os.PathLike<span style=\"font-weight: bold\">]</span>, **kwargs<span style=\"font-weight: bold\">)</span> -&gt; Tuple<span style=\"font-weight: bold\">[</span>Dict<span style=\"font-weight: bold\">[</span>str,      <span style=\"color: #000080; text-decoration-color: #000080\">│</span>\n",
              "<span style=\"color: #000080; text-decoration-color: #000080\">│</span>                                Any<span style=\"font-weight: bold\">]</span>, Dict<span style=\"font-weight: bold\">[</span>str, Any<span style=\"font-weight: bold\">]]</span>:                                     <span style=\"color: #000080; text-decoration-color: #000080\">│</span>\n",
              "<span style=\"color: #000080; text-decoration-color: #000080\">│</span>                                <span style=\"color: #7f7f7f; text-decoration-color: #7f7f7f\">From a `pretrained_model_name_or_path`, resolve to a </span>      <span style=\"color: #000080; text-decoration-color: #000080\">│</span>\n",
              "<span style=\"color: #000080; text-decoration-color: #000080\">│</span>                                <span style=\"color: #7f7f7f; text-decoration-color: #7f7f7f\">dictionary of parameters, to be used for instantiating a</span>   <span style=\"color: #000080; text-decoration-color: #000080\">│</span>\n",
              "<span style=\"color: #000080; text-decoration-color: #000080\">│</span>                                <span style=\"color: #7f7f7f; text-decoration-color: #7f7f7f; font-weight: bold\">[</span><span style=\"color: #7f7f7f; text-decoration-color: #7f7f7f\">`PretrainedConfig`</span><span style=\"color: #7f7f7f; text-decoration-color: #7f7f7f; font-weight: bold\">]</span><span style=\"color: #7f7f7f; text-decoration-color: #7f7f7f\"> using `from_dict`.</span>                    <span style=\"color: #000080; text-decoration-color: #000080\">│</span>\n",
              "<span style=\"color: #000080; text-decoration-color: #000080\">│</span>                  <span style=\"color: #808000; text-decoration-color: #808000; font-style: italic\">push_to_hub</span> = <span style=\"color: #00ffff; text-decoration-color: #00ffff; font-style: italic\">def </span><span style=\"color: #800000; text-decoration-color: #800000; font-weight: bold\">push_to_hub</span><span style=\"font-weight: bold\">(</span>repo_path_or_name: Union<span style=\"font-weight: bold\">[</span>str, NoneType<span style=\"font-weight: bold\">]</span> =  <span style=\"color: #000080; text-decoration-color: #000080\">│</span>\n",
              "<span style=\"color: #000080; text-decoration-color: #000080\">│</span>                                <span style=\"color: #800080; text-decoration-color: #800080; font-style: italic\">None</span>, repo_url: Union<span style=\"font-weight: bold\">[</span>str, NoneType<span style=\"font-weight: bold\">]</span> = <span style=\"color: #800080; text-decoration-color: #800080; font-style: italic\">None</span>, use_temp_dir: <span style=\"color: #000080; text-decoration-color: #000080\">│</span>\n",
              "<span style=\"color: #000080; text-decoration-color: #000080\">│</span>                                bool = <span style=\"color: #ff0000; text-decoration-color: #ff0000; font-style: italic\">False</span>, commit_message: Union<span style=\"font-weight: bold\">[</span>str, NoneType<span style=\"font-weight: bold\">]</span> = <span style=\"color: #800080; text-decoration-color: #800080; font-style: italic\">None</span>, <span style=\"color: #000080; text-decoration-color: #000080\">│</span>\n",
              "<span style=\"color: #000080; text-decoration-color: #000080\">│</span>                                organization: Union<span style=\"font-weight: bold\">[</span>str, NoneType<span style=\"font-weight: bold\">]</span> = <span style=\"color: #800080; text-decoration-color: #800080; font-style: italic\">None</span>, private:        <span style=\"color: #000080; text-decoration-color: #000080\">│</span>\n",
              "<span style=\"color: #000080; text-decoration-color: #000080\">│</span>                                Union<span style=\"font-weight: bold\">[</span>bool, NoneType<span style=\"font-weight: bold\">]</span> = <span style=\"color: #800080; text-decoration-color: #800080; font-style: italic\">None</span>, use_auth_token: Union<span style=\"font-weight: bold\">[</span>bool,  <span style=\"color: #000080; text-decoration-color: #000080\">│</span>\n",
              "<span style=\"color: #000080; text-decoration-color: #000080\">│</span>                                str, NoneType<span style=\"font-weight: bold\">]</span> = <span style=\"color: #800080; text-decoration-color: #800080; font-style: italic\">None</span>, **model_card_kwargs<span style=\"font-weight: bold\">)</span> -&gt; str:        <span style=\"color: #000080; text-decoration-color: #000080\">│</span>\n",
              "<span style=\"color: #000080; text-decoration-color: #000080\">│</span>                                <span style=\"color: #7f7f7f; text-decoration-color: #7f7f7f\">Upload the configuration file to the 🤗 Model Hub while </span>   <span style=\"color: #000080; text-decoration-color: #000080\">│</span>\n",
              "<span style=\"color: #000080; text-decoration-color: #000080\">│</span>                                <span style=\"color: #7f7f7f; text-decoration-color: #7f7f7f\">synchronizing a local clone of the repo in</span>                 <span style=\"color: #000080; text-decoration-color: #000080\">│</span>\n",
              "<span style=\"color: #000080; text-decoration-color: #000080\">│</span>                                <span style=\"color: #7f7f7f; text-decoration-color: #7f7f7f\">`repo_path_or_name`.</span>                                       <span style=\"color: #000080; text-decoration-color: #000080\">│</span>\n",
              "<span style=\"color: #000080; text-decoration-color: #000080\">│</span>              <span style=\"color: #808000; text-decoration-color: #808000; font-style: italic\">save_pretrained</span> = <span style=\"color: #00ffff; text-decoration-color: #00ffff; font-style: italic\">def </span><span style=\"color: #800000; text-decoration-color: #800000; font-weight: bold\">save_pretrained</span><span style=\"font-weight: bold\">(</span>save_directory: Union<span style=\"font-weight: bold\">[</span>str,             <span style=\"color: #000080; text-decoration-color: #000080\">│</span>\n",
              "<span style=\"color: #000080; text-decoration-color: #000080\">│</span>                                os.PathLike<span style=\"font-weight: bold\">]</span>, push_to_hub: bool = <span style=\"color: #ff0000; text-decoration-color: #ff0000; font-style: italic\">False</span>, **kwargs<span style=\"font-weight: bold\">)</span>:        <span style=\"color: #000080; text-decoration-color: #000080\">│</span>\n",
              "<span style=\"color: #000080; text-decoration-color: #000080\">│</span>                                <span style=\"color: #7f7f7f; text-decoration-color: #7f7f7f\">Save a configuration object to the directory </span>              <span style=\"color: #000080; text-decoration-color: #000080\">│</span>\n",
              "<span style=\"color: #000080; text-decoration-color: #000080\">│</span>                                <span style=\"color: #7f7f7f; text-decoration-color: #7f7f7f\">`save_directory`, so that it can be re-loaded using the</span>    <span style=\"color: #000080; text-decoration-color: #000080\">│</span>\n",
              "<span style=\"color: #000080; text-decoration-color: #000080\">│</span>                                <span style=\"color: #7f7f7f; text-decoration-color: #7f7f7f; font-weight: bold\">[</span><span style=\"color: #7f7f7f; text-decoration-color: #7f7f7f\">`~PretrainedConfig.from_pretrained`</span><span style=\"color: #7f7f7f; text-decoration-color: #7f7f7f; font-weight: bold\">]</span><span style=\"color: #7f7f7f; text-decoration-color: #7f7f7f\"> class method.</span>        <span style=\"color: #000080; text-decoration-color: #000080\">│</span>\n",
              "<span style=\"color: #000080; text-decoration-color: #000080\">│</span>                      <span style=\"color: #808000; text-decoration-color: #808000; font-style: italic\">to_dict</span> = <span style=\"color: #00ffff; text-decoration-color: #00ffff; font-style: italic\">def </span><span style=\"color: #800000; text-decoration-color: #800000; font-weight: bold\">to_dict</span><span style=\"font-weight: bold\">()</span> -&gt; Dict<span style=\"font-weight: bold\">[</span>str, Any<span style=\"font-weight: bold\">]</span>: <span style=\"color: #7f7f7f; text-decoration-color: #7f7f7f\">Serializes this instance </span> <span style=\"color: #000080; text-decoration-color: #000080\">│</span>\n",
              "<span style=\"color: #000080; text-decoration-color: #000080\">│</span>                                <span style=\"color: #7f7f7f; text-decoration-color: #7f7f7f\">to a Python dictionary.</span>                                    <span style=\"color: #000080; text-decoration-color: #000080\">│</span>\n",
              "<span style=\"color: #000080; text-decoration-color: #000080\">│</span>                 <span style=\"color: #808000; text-decoration-color: #808000; font-style: italic\">to_diff_dict</span> = <span style=\"color: #00ffff; text-decoration-color: #00ffff; font-style: italic\">def </span><span style=\"color: #800000; text-decoration-color: #800000; font-weight: bold\">to_diff_dict</span><span style=\"font-weight: bold\">()</span> -&gt; Dict<span style=\"font-weight: bold\">[</span>str, Any<span style=\"font-weight: bold\">]</span>:                      <span style=\"color: #000080; text-decoration-color: #000080\">│</span>\n",
              "<span style=\"color: #000080; text-decoration-color: #000080\">│</span>                                <span style=\"color: #7f7f7f; text-decoration-color: #7f7f7f\">Removes all attributes from config which correspond to the</span> <span style=\"color: #000080; text-decoration-color: #000080\">│</span>\n",
              "<span style=\"color: #000080; text-decoration-color: #000080\">│</span>                                <span style=\"color: #7f7f7f; text-decoration-color: #7f7f7f\">default config attributes for better readability and</span>       <span style=\"color: #000080; text-decoration-color: #000080\">│</span>\n",
              "<span style=\"color: #000080; text-decoration-color: #000080\">│</span>                                <span style=\"color: #7f7f7f; text-decoration-color: #7f7f7f\">serializes to a Python dictionary.</span>                         <span style=\"color: #000080; text-decoration-color: #000080\">│</span>\n",
              "<span style=\"color: #000080; text-decoration-color: #000080\">│</span>                 <span style=\"color: #808000; text-decoration-color: #808000; font-style: italic\">to_json_file</span> = <span style=\"color: #00ffff; text-decoration-color: #00ffff; font-style: italic\">def </span><span style=\"color: #800000; text-decoration-color: #800000; font-weight: bold\">to_json_file</span><span style=\"font-weight: bold\">(</span>json_file_path: Union<span style=\"font-weight: bold\">[</span>str, os.PathLike<span style=\"font-weight: bold\">]</span>,  <span style=\"color: #000080; text-decoration-color: #000080\">│</span>\n",
              "<span style=\"color: #000080; text-decoration-color: #000080\">│</span>                                use_diff: bool = <span style=\"color: #00ff00; text-decoration-color: #00ff00; font-style: italic\">True</span><span style=\"font-weight: bold\">)</span>: <span style=\"color: #7f7f7f; text-decoration-color: #7f7f7f\">Save this instance to a JSON file.</span> <span style=\"color: #000080; text-decoration-color: #000080\">│</span>\n",
              "<span style=\"color: #000080; text-decoration-color: #000080\">│</span>               <span style=\"color: #808000; text-decoration-color: #808000; font-style: italic\">to_json_string</span> = <span style=\"color: #00ffff; text-decoration-color: #00ffff; font-style: italic\">def </span><span style=\"color: #800000; text-decoration-color: #800000; font-weight: bold\">to_json_string</span><span style=\"font-weight: bold\">(</span>use_diff: bool = <span style=\"color: #00ff00; text-decoration-color: #00ff00; font-style: italic\">True</span><span style=\"font-weight: bold\">)</span> -&gt; str:          <span style=\"color: #000080; text-decoration-color: #000080\">│</span>\n",
              "<span style=\"color: #000080; text-decoration-color: #000080\">│</span>                                <span style=\"color: #7f7f7f; text-decoration-color: #7f7f7f\">Serializes this instance to a JSON string.</span>                 <span style=\"color: #000080; text-decoration-color: #000080\">│</span>\n",
              "<span style=\"color: #000080; text-decoration-color: #000080\">│</span>                       <span style=\"color: #808000; text-decoration-color: #808000; font-style: italic\">update</span> = <span style=\"color: #00ffff; text-decoration-color: #00ffff; font-style: italic\">def </span><span style=\"color: #800000; text-decoration-color: #800000; font-weight: bold\">update</span><span style=\"font-weight: bold\">(</span>config_dict: Dict<span style=\"font-weight: bold\">[</span>str, Any<span style=\"font-weight: bold\">])</span>: <span style=\"color: #7f7f7f; text-decoration-color: #7f7f7f\">Updates </span>          <span style=\"color: #000080; text-decoration-color: #000080\">│</span>\n",
              "<span style=\"color: #000080; text-decoration-color: #000080\">│</span>                                <span style=\"color: #7f7f7f; text-decoration-color: #7f7f7f\">attributes of this class with attributes from </span>             <span style=\"color: #000080; text-decoration-color: #000080\">│</span>\n",
              "<span style=\"color: #000080; text-decoration-color: #000080\">│</span>                                <span style=\"color: #7f7f7f; text-decoration-color: #7f7f7f\">`config_dict`.</span>                                             <span style=\"color: #000080; text-decoration-color: #000080\">│</span>\n",
              "<span style=\"color: #000080; text-decoration-color: #000080\">│</span>           <span style=\"color: #808000; text-decoration-color: #808000; font-style: italic\">update_from_string</span> = <span style=\"color: #00ffff; text-decoration-color: #00ffff; font-style: italic\">def </span><span style=\"color: #800000; text-decoration-color: #800000; font-weight: bold\">update_from_string</span><span style=\"font-weight: bold\">(</span>update_str: str<span style=\"font-weight: bold\">)</span>: <span style=\"color: #7f7f7f; text-decoration-color: #7f7f7f\">Updates </span>          <span style=\"color: #000080; text-decoration-color: #000080\">│</span>\n",
              "<span style=\"color: #000080; text-decoration-color: #000080\">│</span>                                <span style=\"color: #7f7f7f; text-decoration-color: #7f7f7f\">attributes of this class with attributes from </span>             <span style=\"color: #000080; text-decoration-color: #000080\">│</span>\n",
              "<span style=\"color: #000080; text-decoration-color: #000080\">│</span>                                <span style=\"color: #7f7f7f; text-decoration-color: #7f7f7f\">`update_str`.</span>                                              <span style=\"color: #000080; text-decoration-color: #000080\">│</span>\n",
              "<span style=\"color: #000080; text-decoration-color: #000080\">╰───────────────────────────────────────────────────────────────────────────────────────────╯</span>\n",
              "</pre>\n"
            ],
            "text/plain": [
              "\u001b[34m╭─\u001b[0m\u001b[34m─────────── \u001b[0m\u001b[1;34m<\u001b[0m\u001b[1;95mclass\u001b[0m\u001b[39m \u001b[0m\u001b[32m'transformers.models.bert.configuration_bert.BertConfig'\u001b[0m\u001b[1;34m>\u001b[0m\u001b[34m ────────────\u001b[0m\u001b[34m─╮\u001b[0m\n",
              "\u001b[34m│\u001b[0m \u001b[36mThis is the configuration class to store the configuration of a \u001b[0m\u001b[1;36m[\u001b[0m\u001b[36m`BertModel`\u001b[0m\u001b[1;36m]\u001b[0m\u001b[36m or a\u001b[0m        \u001b[34m│\u001b[0m\n",
              "\u001b[34m│\u001b[0m \u001b[1;36m[\u001b[0m\u001b[36m`TFBertModel`\u001b[0m\u001b[1;36m]\u001b[0m\u001b[36m. It is used to instantiate a BERT model according to the specified \u001b[0m       \u001b[34m│\u001b[0m\n",
              "\u001b[34m│\u001b[0m \u001b[36marguments,\u001b[0m                                                                                \u001b[34m│\u001b[0m\n",
              "\u001b[34m│\u001b[0m \u001b[36mdefining the model architecture. Instantiating a configuration with the defaults will \u001b[0m    \u001b[34m│\u001b[0m\n",
              "\u001b[34m│\u001b[0m \u001b[36myield a similar configuration\u001b[0m                                                             \u001b[34m│\u001b[0m\n",
              "\u001b[34m│\u001b[0m \u001b[36mto that of the BERT \u001b[0m\u001b[1;36m[\u001b[0m\u001b[36mbert-base-uncased\u001b[0m\u001b[1;36m]\u001b[0m\u001b[1;36m(\u001b[0m\u001b[4;94mhttps://huggingface.co/bert-base-uncased\u001b[0m\u001b[4;94m)\u001b[0m\u001b[36m \u001b[0m        \u001b[34m│\u001b[0m\n",
              "\u001b[34m│\u001b[0m \u001b[36marchitecture.\u001b[0m                                                                             \u001b[34m│\u001b[0m\n",
              "\u001b[34m│\u001b[0m                                                                                           \u001b[34m│\u001b[0m\n",
              "\u001b[34m│\u001b[0m \u001b[32m╭───────────────────────────────────────────────────────────────────────────────────────╮\u001b[0m \u001b[34m│\u001b[0m\n",
              "\u001b[34m│\u001b[0m \u001b[32m│\u001b[0m BertConfig \u001b[1m{\u001b[0m                                                                          \u001b[32m│\u001b[0m \u001b[34m│\u001b[0m\n",
              "\u001b[34m│\u001b[0m \u001b[32m│\u001b[0m \u001b[2;32m  \u001b[0m\u001b[32m\"_name_or_path\"\u001b[0m: \u001b[32m\"dbmdz/bert-large-cased-finetuned-conll03-english\"\u001b[0m,                \u001b[32m│\u001b[0m \u001b[34m│\u001b[0m\n",
              "\u001b[34m│\u001b[0m \u001b[32m│\u001b[0m \u001b[2;32m  \u001b[0m\u001b[32m\"_num_labels\"\u001b[0m: \u001b[1;36m9\u001b[0m,                                                                   \u001b[32m│\u001b[0m \u001b[34m│\u001b[0m\n",
              "\u001b[34m│\u001b[0m \u001b[32m│\u001b[0m \u001b[2;32m  \u001b[0m\u001b[32m\"architectures\"\u001b[0m: \u001b[1m[\u001b[0m                                                                  \u001b[32m│\u001b[0m \u001b[34m│\u001b[0m\n",
              "\u001b[34m│\u001b[0m \u001b[32m│\u001b[0m \u001b[2;32m│   \u001b[0m\u001b[32m\"BertForTokenClassification\"\u001b[0m                                                      \u001b[32m│\u001b[0m \u001b[34m│\u001b[0m\n",
              "\u001b[34m│\u001b[0m \u001b[32m│\u001b[0m \u001b[2;32m  \u001b[0m\u001b[1m]\u001b[0m,                                                                                  \u001b[32m│\u001b[0m \u001b[34m│\u001b[0m\n",
              "\u001b[34m│\u001b[0m \u001b[32m│\u001b[0m \u001b[2;32m  \u001b[0m\u001b[32m\"attention_probs_dropout_prob\"\u001b[0m: \u001b[1;36m0.1\u001b[0m,                                                \u001b[32m│\u001b[0m \u001b[34m│\u001b[0m\n",
              "\u001b[34m│\u001b[0m \u001b[32m│\u001b[0m \u001b[2;32m  \u001b[0m\u001b[32m\"classifier_dropout\"\u001b[0m: null,                                                         \u001b[32m│\u001b[0m \u001b[34m│\u001b[0m\n",
              "\u001b[34m│\u001b[0m \u001b[32m│\u001b[0m \u001b[2;32m  \u001b[0m\u001b[32m\"directionality\"\u001b[0m: \u001b[32m\"bidi\"\u001b[0m,                                                           \u001b[32m│\u001b[0m \u001b[34m│\u001b[0m\n",
              "\u001b[34m│\u001b[0m \u001b[32m│\u001b[0m \u001b[2;32m  \u001b[0m\u001b[32m\"hidden_act\"\u001b[0m: \u001b[32m\"gelu\"\u001b[0m,                                                               \u001b[32m│\u001b[0m \u001b[34m│\u001b[0m\n",
              "\u001b[34m│\u001b[0m \u001b[32m│\u001b[0m \u001b[2;32m  \u001b[0m\u001b[32m\"hidden_dropout_prob\"\u001b[0m: \u001b[1;36m0.1\u001b[0m,                                                         \u001b[32m│\u001b[0m \u001b[34m│\u001b[0m\n",
              "\u001b[34m│\u001b[0m \u001b[32m│\u001b[0m \u001b[2;32m  \u001b[0m\u001b[32m\"hidden_size\"\u001b[0m: \u001b[1;36m1024\u001b[0m,                                                                \u001b[32m│\u001b[0m \u001b[34m│\u001b[0m\n",
              "\u001b[34m│\u001b[0m \u001b[32m│\u001b[0m \u001b[2;32m  \u001b[0m\u001b[32m\"id2label\"\u001b[0m: \u001b[1m{\u001b[0m                                                                       \u001b[32m│\u001b[0m \u001b[34m│\u001b[0m\n",
              "\u001b[34m│\u001b[0m \u001b[32m│\u001b[0m \u001b[2;32m│   \u001b[0m\u001b[32m\"0\"\u001b[0m: \u001b[32m\"O\"\u001b[0m,                                                                         \u001b[32m│\u001b[0m \u001b[34m│\u001b[0m\n",
              "\u001b[34m│\u001b[0m \u001b[32m│\u001b[0m \u001b[2;32m│   \u001b[0m\u001b[32m\"1\"\u001b[0m: \u001b[32m\"B-MISC\"\u001b[0m,                                                                    \u001b[32m│\u001b[0m \u001b[34m│\u001b[0m\n",
              "\u001b[34m│\u001b[0m \u001b[32m│\u001b[0m \u001b[2;32m│   \u001b[0m\u001b[32m\"2\"\u001b[0m: \u001b[32m\"I-MISC\"\u001b[0m,                                                                    \u001b[32m│\u001b[0m \u001b[34m│\u001b[0m\n",
              "\u001b[34m│\u001b[0m \u001b[32m│\u001b[0m \u001b[2;32m│   \u001b[0m\u001b[32m\"3\"\u001b[0m: \u001b[32m\"B-PER\"\u001b[0m,                                                                     \u001b[32m│\u001b[0m \u001b[34m│\u001b[0m\n",
              "\u001b[34m│\u001b[0m \u001b[32m│\u001b[0m \u001b[2;32m│   \u001b[0m\u001b[32m\"4\"\u001b[0m: \u001b[32m\"I-PER\"\u001b[0m,                                                                     \u001b[32m│\u001b[0m \u001b[34m│\u001b[0m\n",
              "\u001b[34m│\u001b[0m \u001b[32m│\u001b[0m \u001b[2;32m│   \u001b[0m\u001b[32m\"5\"\u001b[0m: \u001b[32m\"B-ORG\"\u001b[0m,                                                                     \u001b[32m│\u001b[0m \u001b[34m│\u001b[0m\n",
              "\u001b[34m│\u001b[0m \u001b[32m│\u001b[0m \u001b[2;32m│   \u001b[0m\u001b[32m\"6\"\u001b[0m: \u001b[32m\"I-ORG\"\u001b[0m,                                                                     \u001b[32m│\u001b[0m \u001b[34m│\u001b[0m\n",
              "\u001b[34m│\u001b[0m \u001b[32m│\u001b[0m \u001b[2;32m│   \u001b[0m\u001b[32m\"7\"\u001b[0m: \u001b[32m\"B-LOC\"\u001b[0m,                                                                     \u001b[32m│\u001b[0m \u001b[34m│\u001b[0m\n",
              "\u001b[34m│\u001b[0m \u001b[32m│\u001b[0m \u001b[2;32m│   \u001b[0m\u001b[32m\"8\"\u001b[0m: \u001b[32m\"I-LOC\"\u001b[0m                                                                      \u001b[32m│\u001b[0m \u001b[34m│\u001b[0m\n",
              "\u001b[34m│\u001b[0m \u001b[32m│\u001b[0m \u001b[2;32m  \u001b[0m\u001b[1m}\u001b[0m,                                                                                  \u001b[32m│\u001b[0m \u001b[34m│\u001b[0m\n",
              "\u001b[34m│\u001b[0m \u001b[32m│\u001b[0m \u001b[2;32m  \u001b[0m\u001b[32m\"initializer_range\"\u001b[0m: \u001b[1;36m0.02\u001b[0m,                                                          \u001b[32m│\u001b[0m \u001b[34m│\u001b[0m\n",
              "\u001b[34m│\u001b[0m \u001b[32m│\u001b[0m \u001b[2;32m  \u001b[0m\u001b[32m\"intermediate_size\"\u001b[0m: \u001b[1;36m4096\u001b[0m,                                                          \u001b[32m│\u001b[0m \u001b[34m│\u001b[0m\n",
              "\u001b[34m│\u001b[0m \u001b[32m│\u001b[0m \u001b[2;32m  \u001b[0m\u001b[32m\"label2id\"\u001b[0m: \u001b[1m{\u001b[0m                                                                       \u001b[32m│\u001b[0m \u001b[34m│\u001b[0m\n",
              "\u001b[34m│\u001b[0m \u001b[32m│\u001b[0m \u001b[2;32m│   \u001b[0m\u001b[32m\"B-LOC\"\u001b[0m: \u001b[1;36m7\u001b[0m,                                                                       \u001b[32m│\u001b[0m \u001b[34m│\u001b[0m\n",
              "\u001b[34m│\u001b[0m \u001b[32m│\u001b[0m \u001b[2;32m│   \u001b[0m\u001b[32m\"B-MISC\"\u001b[0m: \u001b[1;36m1\u001b[0m,                                                                      \u001b[32m│\u001b[0m \u001b[34m│\u001b[0m\n",
              "\u001b[34m│\u001b[0m \u001b[32m│\u001b[0m \u001b[2;32m│   \u001b[0m\u001b[32m\"B-ORG\"\u001b[0m: \u001b[1;36m5\u001b[0m,                                                                       \u001b[32m│\u001b[0m \u001b[34m│\u001b[0m\n",
              "\u001b[34m│\u001b[0m \u001b[32m│\u001b[0m \u001b[2;32m│   \u001b[0m\u001b[32m\"B-PER\"\u001b[0m: \u001b[1;36m3\u001b[0m,                                                                       \u001b[32m│\u001b[0m \u001b[34m│\u001b[0m\n",
              "\u001b[34m│\u001b[0m \u001b[32m│\u001b[0m \u001b[2;32m│   \u001b[0m\u001b[32m\"I-LOC\"\u001b[0m: \u001b[1;36m8\u001b[0m,                                                                       \u001b[32m│\u001b[0m \u001b[34m│\u001b[0m\n",
              "\u001b[34m│\u001b[0m \u001b[32m│\u001b[0m \u001b[2;32m│   \u001b[0m\u001b[32m\"I-MISC\"\u001b[0m: \u001b[1;36m2\u001b[0m,                                                                      \u001b[32m│\u001b[0m \u001b[34m│\u001b[0m\n",
              "\u001b[34m│\u001b[0m \u001b[32m│\u001b[0m \u001b[2;32m│   \u001b[0m\u001b[32m\"I-ORG\"\u001b[0m: \u001b[1;36m6\u001b[0m,                                                                       \u001b[32m│\u001b[0m \u001b[34m│\u001b[0m\n",
              "\u001b[34m│\u001b[0m \u001b[32m│\u001b[0m \u001b[2;32m│   \u001b[0m\u001b[32m\"I-PER\"\u001b[0m: \u001b[1;36m4\u001b[0m,                                                                       \u001b[32m│\u001b[0m \u001b[34m│\u001b[0m\n",
              "\u001b[34m│\u001b[0m \u001b[32m│\u001b[0m \u001b[2;32m│   \u001b[0m\u001b[32m\"O\"\u001b[0m: \u001b[1;36m0\u001b[0m                                                                            \u001b[32m│\u001b[0m \u001b[34m│\u001b[0m\n",
              "\u001b[34m│\u001b[0m \u001b[32m│\u001b[0m \u001b[2;32m  \u001b[0m\u001b[1m}\u001b[0m,                                                                                  \u001b[32m│\u001b[0m \u001b[34m│\u001b[0m\n",
              "\u001b[34m│\u001b[0m \u001b[32m│\u001b[0m \u001b[2;32m  \u001b[0m\u001b[32m\"layer_norm_eps\"\u001b[0m: \u001b[1;36m1e-12\u001b[0m,                                                            \u001b[32m│\u001b[0m \u001b[34m│\u001b[0m\n",
              "\u001b[34m│\u001b[0m \u001b[32m│\u001b[0m \u001b[2;32m  \u001b[0m\u001b[32m\"max_position_embeddings\"\u001b[0m: \u001b[1;36m512\u001b[0m,                                                     \u001b[32m│\u001b[0m \u001b[34m│\u001b[0m\n",
              "\u001b[34m│\u001b[0m \u001b[32m│\u001b[0m \u001b[2;32m  \u001b[0m\u001b[32m\"model_type\"\u001b[0m: \u001b[32m\"bert\"\u001b[0m,                                                               \u001b[32m│\u001b[0m \u001b[34m│\u001b[0m\n",
              "\u001b[34m│\u001b[0m \u001b[32m│\u001b[0m \u001b[2;32m  \u001b[0m\u001b[32m\"num_attention_heads\"\u001b[0m: \u001b[1;36m16\u001b[0m,                                                          \u001b[32m│\u001b[0m \u001b[34m│\u001b[0m\n",
              "\u001b[34m│\u001b[0m \u001b[32m│\u001b[0m \u001b[2;32m  \u001b[0m\u001b[32m\"num_hidden_layers\"\u001b[0m: \u001b[1;36m24\u001b[0m,                                                            \u001b[32m│\u001b[0m \u001b[34m│\u001b[0m\n",
              "\u001b[34m│\u001b[0m \u001b[32m│\u001b[0m \u001b[2;32m  \u001b[0m\u001b[32m\"pad_token_id\"\u001b[0m: \u001b[1;36m0\u001b[0m,                                                                  \u001b[32m│\u001b[0m \u001b[34m│\u001b[0m\n",
              "\u001b[34m│\u001b[0m \u001b[32m│\u001b[0m \u001b[2;32m  \u001b[0m\u001b[32m\"pooler_fc_size\"\u001b[0m: \u001b[1;36m768\u001b[0m,                                                              \u001b[32m│\u001b[0m \u001b[34m│\u001b[0m\n",
              "\u001b[34m│\u001b[0m \u001b[32m│\u001b[0m \u001b[2;32m  \u001b[0m\u001b[32m\"pooler_num_attention_heads\"\u001b[0m: \u001b[1;36m12\u001b[0m,                                                   \u001b[32m│\u001b[0m \u001b[34m│\u001b[0m\n",
              "\u001b[34m│\u001b[0m \u001b[32m│\u001b[0m \u001b[2;32m  \u001b[0m\u001b[32m\"pooler_num_fc_layers\"\u001b[0m: \u001b[1;36m3\u001b[0m,                                                          \u001b[32m│\u001b[0m \u001b[34m│\u001b[0m\n",
              "\u001b[34m│\u001b[0m \u001b[32m│\u001b[0m \u001b[2;32m  \u001b[0m\u001b[32m\"pooler_size_per_head\"\u001b[0m: \u001b[1;36m128\u001b[0m,                                                        \u001b[32m│\u001b[0m \u001b[34m│\u001b[0m\n",
              "\u001b[34m│\u001b[0m \u001b[32m│\u001b[0m \u001b[2;32m  \u001b[0m\u001b[32m\"pooler_type\"\u001b[0m: \u001b[32m\"first_token_transform\"\u001b[0m,                                             \u001b[32m│\u001b[0m \u001b[34m│\u001b[0m\n",
              "\u001b[34m│\u001b[0m \u001b[32m│\u001b[0m \u001b[2;32m  \u001b[0m\u001b[32m\"position_embedding_type\"\u001b[0m: \u001b[32m\"absolute\"\u001b[0m,                                              \u001b[32m│\u001b[0m \u001b[34m│\u001b[0m\n",
              "\u001b[34m│\u001b[0m \u001b[32m│\u001b[0m \u001b[2;32m  \u001b[0m\u001b[32m\"transformers_version\"\u001b[0m: \u001b[32m\"4.15.0\"\u001b[0m,                                                   \u001b[32m│\u001b[0m \u001b[34m│\u001b[0m\n",
              "\u001b[34m│\u001b[0m \u001b[32m│\u001b[0m \u001b[2;32m  \u001b[0m\u001b[32m\"type_vocab_size\"\u001b[0m: \u001b[1;36m2\u001b[0m,                                                               \u001b[32m│\u001b[0m \u001b[34m│\u001b[0m\n",
              "\u001b[34m│\u001b[0m \u001b[32m│\u001b[0m \u001b[2;32m  \u001b[0m\u001b[32m\"use_cache\"\u001b[0m: true,                                                                  \u001b[32m│\u001b[0m \u001b[34m│\u001b[0m\n",
              "\u001b[34m│\u001b[0m \u001b[32m│\u001b[0m \u001b[2;32m  \u001b[0m\u001b[32m\"vocab_size\"\u001b[0m: \u001b[1;36m28996\u001b[0m                                                                 \u001b[32m│\u001b[0m \u001b[34m│\u001b[0m\n",
              "\u001b[34m│\u001b[0m \u001b[32m│\u001b[0m \u001b[1m}\u001b[0m                                                                                     \u001b[32m│\u001b[0m \u001b[34m│\u001b[0m\n",
              "\u001b[34m│\u001b[0m \u001b[32m│\u001b[0m                                                                                       \u001b[32m│\u001b[0m \u001b[34m│\u001b[0m\n",
              "\u001b[34m│\u001b[0m \u001b[32m╰───────────────────────────────────────────────────────────────────────────────────────╯\u001b[0m \u001b[34m│\u001b[0m\n",
              "\u001b[34m│\u001b[0m                                                                                           \u001b[34m│\u001b[0m\n",
              "\u001b[34m│\u001b[0m          \u001b[3;33madd_cross_attention\u001b[0m = \u001b[3;91mFalse\u001b[0m                                                      \u001b[34m│\u001b[0m\n",
              "\u001b[34m│\u001b[0m                \u001b[3;33marchitectures\u001b[0m = \u001b[1m[\u001b[0m\u001b[32m'BertForTokenClassification'\u001b[0m\u001b[1m]\u001b[0m                             \u001b[34m│\u001b[0m\n",
              "\u001b[34m│\u001b[0m \u001b[3;33mattention_probs_dropout_prob\u001b[0m = \u001b[1;36m0.1\u001b[0m                                                        \u001b[34m│\u001b[0m\n",
              "\u001b[34m│\u001b[0m                \u001b[3;33mattribute_map\u001b[0m = \u001b[1m{\u001b[0m\u001b[1m}\u001b[0m                                                         \u001b[34m│\u001b[0m\n",
              "\u001b[34m│\u001b[0m                \u001b[3;33mbad_words_ids\u001b[0m = \u001b[3;35mNone\u001b[0m                                                       \u001b[34m│\u001b[0m\n",
              "\u001b[34m│\u001b[0m                 \u001b[3;33mbos_token_id\u001b[0m = \u001b[3;35mNone\u001b[0m                                                       \u001b[34m│\u001b[0m\n",
              "\u001b[34m│\u001b[0m      \u001b[3;33mchunk_size_feed_forward\u001b[0m = \u001b[1;36m0\u001b[0m                                                          \u001b[34m│\u001b[0m\n",
              "\u001b[34m│\u001b[0m           \u001b[3;33mclassifier_dropout\u001b[0m = \u001b[3;35mNone\u001b[0m                                                       \u001b[34m│\u001b[0m\n",
              "\u001b[34m│\u001b[0m  \u001b[3;33mcross_attention_hidden_size\u001b[0m = \u001b[3;35mNone\u001b[0m                                                       \u001b[34m│\u001b[0m\n",
              "\u001b[34m│\u001b[0m       \u001b[3;33mdecoder_start_token_id\u001b[0m = \u001b[3;35mNone\u001b[0m                                                       \u001b[34m│\u001b[0m\n",
              "\u001b[34m│\u001b[0m               \u001b[3;33mdirectionality\u001b[0m = \u001b[32m'bidi'\u001b[0m                                                     \u001b[34m│\u001b[0m\n",
              "\u001b[34m│\u001b[0m            \u001b[3;33mdiversity_penalty\u001b[0m = \u001b[1;36m0.0\u001b[0m                                                        \u001b[34m│\u001b[0m\n",
              "\u001b[34m│\u001b[0m                    \u001b[3;33mdo_sample\u001b[0m = \u001b[3;91mFalse\u001b[0m                                                      \u001b[34m│\u001b[0m\n",
              "\u001b[34m│\u001b[0m               \u001b[3;33mearly_stopping\u001b[0m = \u001b[3;91mFalse\u001b[0m                                                      \u001b[34m│\u001b[0m\n",
              "\u001b[34m│\u001b[0m \u001b[3;33mencoder_no_repeat_ngram_size\u001b[0m = \u001b[1;36m0\u001b[0m                                                          \u001b[34m│\u001b[0m\n",
              "\u001b[34m│\u001b[0m                 \u001b[3;33meos_token_id\u001b[0m = \u001b[3;35mNone\u001b[0m                                                       \u001b[34m│\u001b[0m\n",
              "\u001b[34m│\u001b[0m              \u001b[3;33mfinetuning_task\u001b[0m = \u001b[3;35mNone\u001b[0m                                                       \u001b[34m│\u001b[0m\n",
              "\u001b[34m│\u001b[0m          \u001b[3;33mforced_bos_token_id\u001b[0m = \u001b[3;35mNone\u001b[0m                                                       \u001b[34m│\u001b[0m\n",
              "\u001b[34m│\u001b[0m          \u001b[3;33mforced_eos_token_id\u001b[0m = \u001b[3;35mNone\u001b[0m                                                       \u001b[34m│\u001b[0m\n",
              "\u001b[34m│\u001b[0m                   \u001b[3;33mhidden_act\u001b[0m = \u001b[32m'gelu'\u001b[0m                                                     \u001b[34m│\u001b[0m\n",
              "\u001b[34m│\u001b[0m          \u001b[3;33mhidden_dropout_prob\u001b[0m = \u001b[1;36m0.1\u001b[0m                                                        \u001b[34m│\u001b[0m\n",
              "\u001b[34m│\u001b[0m                  \u001b[3;33mhidden_size\u001b[0m = \u001b[1;36m1024\u001b[0m                                                       \u001b[34m│\u001b[0m\n",
              "\u001b[34m│\u001b[0m                     \u001b[3;33mid2label\u001b[0m = \u001b[1m{\u001b[0m                                                          \u001b[34m│\u001b[0m\n",
              "\u001b[34m│\u001b[0m                                    \u001b[1;36m0\u001b[0m: \u001b[32m'O'\u001b[0m,                                                \u001b[34m│\u001b[0m\n",
              "\u001b[34m│\u001b[0m                                    \u001b[1;36m1\u001b[0m: \u001b[32m'B-MISC'\u001b[0m,                                           \u001b[34m│\u001b[0m\n",
              "\u001b[34m│\u001b[0m                                    \u001b[1;36m2\u001b[0m: \u001b[32m'I-MISC'\u001b[0m,                                           \u001b[34m│\u001b[0m\n",
              "\u001b[34m│\u001b[0m                                    \u001b[1;36m3\u001b[0m: \u001b[32m'B-PER'\u001b[0m,                                            \u001b[34m│\u001b[0m\n",
              "\u001b[34m│\u001b[0m                                    \u001b[1;36m4\u001b[0m: \u001b[32m'I-PER'\u001b[0m,                                            \u001b[34m│\u001b[0m\n",
              "\u001b[34m│\u001b[0m                                    \u001b[1;36m5\u001b[0m: \u001b[32m'B-ORG'\u001b[0m,                                            \u001b[34m│\u001b[0m\n",
              "\u001b[34m│\u001b[0m                                    \u001b[1;36m6\u001b[0m: \u001b[32m'I-ORG'\u001b[0m,                                            \u001b[34m│\u001b[0m\n",
              "\u001b[34m│\u001b[0m                                    \u001b[1;36m7\u001b[0m: \u001b[32m'B-LOC'\u001b[0m,                                            \u001b[34m│\u001b[0m\n",
              "\u001b[34m│\u001b[0m                                    \u001b[1;36m8\u001b[0m: \u001b[32m'I-LOC'\u001b[0m                                             \u001b[34m│\u001b[0m\n",
              "\u001b[34m│\u001b[0m                                \u001b[1m}\u001b[0m                                                          \u001b[34m│\u001b[0m\n",
              "\u001b[34m│\u001b[0m            \u001b[3;33minitializer_range\u001b[0m = \u001b[1;36m0.02\u001b[0m                                                       \u001b[34m│\u001b[0m\n",
              "\u001b[34m│\u001b[0m            \u001b[3;33mintermediate_size\u001b[0m = \u001b[1;36m4096\u001b[0m                                                       \u001b[34m│\u001b[0m\n",
              "\u001b[34m│\u001b[0m               \u001b[3;33mis_composition\u001b[0m = \u001b[3;91mFalse\u001b[0m                                                      \u001b[34m│\u001b[0m\n",
              "\u001b[34m│\u001b[0m                   \u001b[3;33mis_decoder\u001b[0m = \u001b[3;91mFalse\u001b[0m                                                      \u001b[34m│\u001b[0m\n",
              "\u001b[34m│\u001b[0m           \u001b[3;33mis_encoder_decoder\u001b[0m = \u001b[3;91mFalse\u001b[0m                                                      \u001b[34m│\u001b[0m\n",
              "\u001b[34m│\u001b[0m                     \u001b[3;33mlabel2id\u001b[0m = \u001b[1m{\u001b[0m                                                          \u001b[34m│\u001b[0m\n",
              "\u001b[34m│\u001b[0m                                    \u001b[32m'B-LOC'\u001b[0m: \u001b[1;36m7\u001b[0m,                                            \u001b[34m│\u001b[0m\n",
              "\u001b[34m│\u001b[0m                                    \u001b[32m'B-MISC'\u001b[0m: \u001b[1;36m1\u001b[0m,                                           \u001b[34m│\u001b[0m\n",
              "\u001b[34m│\u001b[0m                                    \u001b[32m'B-ORG'\u001b[0m: \u001b[1;36m5\u001b[0m,                                            \u001b[34m│\u001b[0m\n",
              "\u001b[34m│\u001b[0m                                    \u001b[32m'B-PER'\u001b[0m: \u001b[1;36m3\u001b[0m,                                            \u001b[34m│\u001b[0m\n",
              "\u001b[34m│\u001b[0m                                    \u001b[32m'I-LOC'\u001b[0m: \u001b[1;36m8\u001b[0m,                                            \u001b[34m│\u001b[0m\n",
              "\u001b[34m│\u001b[0m                                    \u001b[32m'I-MISC'\u001b[0m: \u001b[1;36m2\u001b[0m,                                           \u001b[34m│\u001b[0m\n",
              "\u001b[34m│\u001b[0m                                    \u001b[32m'I-ORG'\u001b[0m: \u001b[1;36m6\u001b[0m,                                            \u001b[34m│\u001b[0m\n",
              "\u001b[34m│\u001b[0m                                    \u001b[32m'I-PER'\u001b[0m: \u001b[1;36m4\u001b[0m,                                            \u001b[34m│\u001b[0m\n",
              "\u001b[34m│\u001b[0m                                    \u001b[32m'O'\u001b[0m: \u001b[1;36m0\u001b[0m                                                 \u001b[34m│\u001b[0m\n",
              "\u001b[34m│\u001b[0m                                \u001b[1m}\u001b[0m                                                          \u001b[34m│\u001b[0m\n",
              "\u001b[34m│\u001b[0m               \u001b[3;33mlayer_norm_eps\u001b[0m = \u001b[1;36m1e-12\u001b[0m                                                      \u001b[34m│\u001b[0m\n",
              "\u001b[34m│\u001b[0m               \u001b[3;33mlength_penalty\u001b[0m = \u001b[1;36m1.0\u001b[0m                                                        \u001b[34m│\u001b[0m\n",
              "\u001b[34m│\u001b[0m                   \u001b[3;33mmax_length\u001b[0m = \u001b[1;36m20\u001b[0m                                                         \u001b[34m│\u001b[0m\n",
              "\u001b[34m│\u001b[0m      \u001b[3;33mmax_position_embeddings\u001b[0m = \u001b[1;36m512\u001b[0m                                                        \u001b[34m│\u001b[0m\n",
              "\u001b[34m│\u001b[0m                   \u001b[3;33mmin_length\u001b[0m = \u001b[1;36m0\u001b[0m                                                          \u001b[34m│\u001b[0m\n",
              "\u001b[34m│\u001b[0m                   \u001b[3;33mmodel_type\u001b[0m = \u001b[32m'bert'\u001b[0m                                                     \u001b[34m│\u001b[0m\n",
              "\u001b[34m│\u001b[0m                 \u001b[3;33mname_or_path\u001b[0m = \u001b[32m'dbmdz/bert-large-cased-finetuned-conll03-english'\u001b[0m         \u001b[34m│\u001b[0m\n",
              "\u001b[34m│\u001b[0m         \u001b[3;33mno_repeat_ngram_size\u001b[0m = \u001b[1;36m0\u001b[0m                                                          \u001b[34m│\u001b[0m\n",
              "\u001b[34m│\u001b[0m          \u001b[3;33mnum_attention_heads\u001b[0m = \u001b[1;36m16\u001b[0m                                                         \u001b[34m│\u001b[0m\n",
              "\u001b[34m│\u001b[0m              \u001b[3;33mnum_beam_groups\u001b[0m = \u001b[1;36m1\u001b[0m                                                          \u001b[34m│\u001b[0m\n",
              "\u001b[34m│\u001b[0m                    \u001b[3;33mnum_beams\u001b[0m = \u001b[1;36m1\u001b[0m                                                          \u001b[34m│\u001b[0m\n",
              "\u001b[34m│\u001b[0m            \u001b[3;33mnum_hidden_layers\u001b[0m = \u001b[1;36m24\u001b[0m                                                         \u001b[34m│\u001b[0m\n",
              "\u001b[34m│\u001b[0m                   \u001b[3;33mnum_labels\u001b[0m = \u001b[1;36m9\u001b[0m                                                          \u001b[34m│\u001b[0m\n",
              "\u001b[34m│\u001b[0m         \u001b[3;33mnum_return_sequences\u001b[0m = \u001b[1;36m1\u001b[0m                                                          \u001b[34m│\u001b[0m\n",
              "\u001b[34m│\u001b[0m            \u001b[3;33moutput_attentions\u001b[0m = \u001b[3;91mFalse\u001b[0m                                                      \u001b[34m│\u001b[0m\n",
              "\u001b[34m│\u001b[0m         \u001b[3;33moutput_hidden_states\u001b[0m = \u001b[3;91mFalse\u001b[0m                                                      \u001b[34m│\u001b[0m\n",
              "\u001b[34m│\u001b[0m                \u001b[3;33moutput_scores\u001b[0m = \u001b[3;91mFalse\u001b[0m                                                      \u001b[34m│\u001b[0m\n",
              "\u001b[34m│\u001b[0m                 \u001b[3;33mpad_token_id\u001b[0m = \u001b[1;36m0\u001b[0m                                                          \u001b[34m│\u001b[0m\n",
              "\u001b[34m│\u001b[0m               \u001b[3;33mpooler_fc_size\u001b[0m = \u001b[1;36m768\u001b[0m                                                        \u001b[34m│\u001b[0m\n",
              "\u001b[34m│\u001b[0m   \u001b[3;33mpooler_num_attention_heads\u001b[0m = \u001b[1;36m12\u001b[0m                                                         \u001b[34m│\u001b[0m\n",
              "\u001b[34m│\u001b[0m         \u001b[3;33mpooler_num_fc_layers\u001b[0m = \u001b[1;36m3\u001b[0m                                                          \u001b[34m│\u001b[0m\n",
              "\u001b[34m│\u001b[0m         \u001b[3;33mpooler_size_per_head\u001b[0m = \u001b[1;36m128\u001b[0m                                                        \u001b[34m│\u001b[0m\n",
              "\u001b[34m│\u001b[0m                  \u001b[3;33mpooler_type\u001b[0m = \u001b[32m'first_token_transform'\u001b[0m                                    \u001b[34m│\u001b[0m\n",
              "\u001b[34m│\u001b[0m      \u001b[3;33mposition_embedding_type\u001b[0m = \u001b[32m'absolute'\u001b[0m                                                 \u001b[34m│\u001b[0m\n",
              "\u001b[34m│\u001b[0m                       \u001b[3;33mprefix\u001b[0m = \u001b[3;35mNone\u001b[0m                                                       \u001b[34m│\u001b[0m\n",
              "\u001b[34m│\u001b[0m                 \u001b[3;33mproblem_type\u001b[0m = \u001b[3;35mNone\u001b[0m                                                       \u001b[34m│\u001b[0m\n",
              "\u001b[34m│\u001b[0m                 \u001b[3;33mpruned_heads\u001b[0m = \u001b[1m{\u001b[0m\u001b[1m}\u001b[0m                                                         \u001b[34m│\u001b[0m\n",
              "\u001b[34m│\u001b[0m        \u001b[3;33mremove_invalid_values\u001b[0m = \u001b[3;91mFalse\u001b[0m                                                      \u001b[34m│\u001b[0m\n",
              "\u001b[34m│\u001b[0m           \u001b[3;33mrepetition_penalty\u001b[0m = \u001b[1;36m1.0\u001b[0m                                                        \u001b[34m│\u001b[0m\n",
              "\u001b[34m│\u001b[0m                  \u001b[3;33mreturn_dict\u001b[0m = \u001b[3;92mTrue\u001b[0m                                                       \u001b[34m│\u001b[0m\n",
              "\u001b[34m│\u001b[0m      \u001b[3;33mreturn_dict_in_generate\u001b[0m = \u001b[3;91mFalse\u001b[0m                                                      \u001b[34m│\u001b[0m\n",
              "\u001b[34m│\u001b[0m                 \u001b[3;33msep_token_id\u001b[0m = \u001b[3;35mNone\u001b[0m                                                       \u001b[34m│\u001b[0m\n",
              "\u001b[34m│\u001b[0m         \u001b[3;33mtask_specific_params\u001b[0m = \u001b[3;35mNone\u001b[0m                                                       \u001b[34m│\u001b[0m\n",
              "\u001b[34m│\u001b[0m                  \u001b[3;33mtemperature\u001b[0m = \u001b[1;36m1.0\u001b[0m                                                        \u001b[34m│\u001b[0m\n",
              "\u001b[34m│\u001b[0m          \u001b[3;33mtie_encoder_decoder\u001b[0m = \u001b[3;91mFalse\u001b[0m                                                      \u001b[34m│\u001b[0m\n",
              "\u001b[34m│\u001b[0m          \u001b[3;33mtie_word_embeddings\u001b[0m = \u001b[3;92mTrue\u001b[0m                                                       \u001b[34m│\u001b[0m\n",
              "\u001b[34m│\u001b[0m              \u001b[3;33mtokenizer_class\u001b[0m = \u001b[3;35mNone\u001b[0m                                                       \u001b[34m│\u001b[0m\n",
              "\u001b[34m│\u001b[0m                        \u001b[3;33mtop_k\u001b[0m = \u001b[1;36m50\u001b[0m                                                         \u001b[34m│\u001b[0m\n",
              "\u001b[34m│\u001b[0m                        \u001b[3;33mtop_p\u001b[0m = \u001b[1;36m1.0\u001b[0m                                                        \u001b[34m│\u001b[0m\n",
              "\u001b[34m│\u001b[0m                  \u001b[3;33mtorch_dtype\u001b[0m = \u001b[3;35mNone\u001b[0m                                                       \u001b[34m│\u001b[0m\n",
              "\u001b[34m│\u001b[0m                  \u001b[3;33mtorchscript\u001b[0m = \u001b[3;91mFalse\u001b[0m                                                      \u001b[34m│\u001b[0m\n",
              "\u001b[34m│\u001b[0m         \u001b[3;33mtransformers_version\u001b[0m = \u001b[3;35mNone\u001b[0m                                                       \u001b[34m│\u001b[0m\n",
              "\u001b[34m│\u001b[0m              \u001b[3;33mtype_vocab_size\u001b[0m = \u001b[1;36m2\u001b[0m                                                          \u001b[34m│\u001b[0m\n",
              "\u001b[34m│\u001b[0m                 \u001b[3;33muse_bfloat16\u001b[0m = \u001b[3;91mFalse\u001b[0m                                                      \u001b[34m│\u001b[0m\n",
              "\u001b[34m│\u001b[0m                    \u001b[3;33muse_cache\u001b[0m = \u001b[3;92mTrue\u001b[0m                                                       \u001b[34m│\u001b[0m\n",
              "\u001b[34m│\u001b[0m              \u001b[3;33muse_return_dict\u001b[0m = \u001b[3;92mTrue\u001b[0m                                                       \u001b[34m│\u001b[0m\n",
              "\u001b[34m│\u001b[0m                   \u001b[3;33mvocab_size\u001b[0m = \u001b[1;36m28996\u001b[0m                                                      \u001b[34m│\u001b[0m\n",
              "\u001b[34m│\u001b[0m      \u001b[3;33mdict_torch_dtype_to_str\u001b[0m = \u001b[3;96mdef \u001b[0m\u001b[1;31mdict_torch_dtype_to_str\u001b[0m\u001b[1m(\u001b[0md: Dict\u001b[1m[\u001b[0mstr, Any\u001b[1m]\u001b[0m\u001b[1m)\u001b[0m -> \u001b[3;35mNone\u001b[0m:    \u001b[34m│\u001b[0m\n",
              "\u001b[34m│\u001b[0m                                \u001b[2mChecks whether the passed dictionary has a *torch_dtype* \u001b[0m  \u001b[34m│\u001b[0m\n",
              "\u001b[34m│\u001b[0m                                \u001b[2mkey and if it's not \u001b[0m\u001b[2;3;35mNone\u001b[0m\u001b[2m, converts torch.dtype to a\u001b[0m        \u001b[34m│\u001b[0m\n",
              "\u001b[34m│\u001b[0m                                \u001b[2mstring of just the type. For example, `torch.float32` get \u001b[0m \u001b[34m│\u001b[0m\n",
              "\u001b[34m│\u001b[0m                                \u001b[2mconverted into *\u001b[0m\u001b[2;32m\"float32\"\u001b[0m\u001b[2m* string, which can\u001b[0m               \u001b[34m│\u001b[0m\n",
              "\u001b[34m│\u001b[0m                                \u001b[2mthen be stored in the json format.\u001b[0m                         \u001b[34m│\u001b[0m\n",
              "\u001b[34m│\u001b[0m                    \u001b[3;33mfrom_dict\u001b[0m = \u001b[3;96mdef \u001b[0m\u001b[1;31mfrom_dict\u001b[0m\u001b[1m(\u001b[0mconfig_dict: Dict\u001b[1m[\u001b[0mstr, Any\u001b[1m]\u001b[0m, **kwargs\u001b[1m)\u001b[0m ->    \u001b[34m│\u001b[0m\n",
              "\u001b[34m│\u001b[0m                                \u001b[32m'PretrainedConfig'\u001b[0m: \u001b[2mInstantiates a \u001b[0m\u001b[1;2m[\u001b[0m\u001b[2m`PretrainedConfig`\u001b[0m\u001b[1;2m]\u001b[0m\u001b[2m \u001b[0m   \u001b[34m│\u001b[0m\n",
              "\u001b[34m│\u001b[0m                                \u001b[2mfrom a Python dictionary of parameters.\u001b[0m                    \u001b[34m│\u001b[0m\n",
              "\u001b[34m│\u001b[0m               \u001b[3;33mfrom_json_file\u001b[0m = \u001b[3;96mdef \u001b[0m\u001b[1;31mfrom_json_file\u001b[0m\u001b[1m(\u001b[0mjson_file: Union\u001b[1m[\u001b[0mstr, os.PathLike\u001b[1m]\u001b[0m\u001b[1m)\u001b[0m ->  \u001b[34m│\u001b[0m\n",
              "\u001b[34m│\u001b[0m                                \u001b[32m'PretrainedConfig'\u001b[0m: \u001b[2mInstantiates a \u001b[0m\u001b[1;2m[\u001b[0m\u001b[2m`PretrainedConfig`\u001b[0m\u001b[1;2m]\u001b[0m\u001b[2m \u001b[0m   \u001b[34m│\u001b[0m\n",
              "\u001b[34m│\u001b[0m                                \u001b[2mfrom the path to a JSON file of parameters.\u001b[0m                \u001b[34m│\u001b[0m\n",
              "\u001b[34m│\u001b[0m              \u001b[3;33mfrom_pretrained\u001b[0m = \u001b[3;96mdef \u001b[0m\u001b[1;31mfrom_pretrained\u001b[0m\u001b[1m(\u001b[0mpretrained_model_name_or_path:         \u001b[34m│\u001b[0m\n",
              "\u001b[34m│\u001b[0m                                Union\u001b[1m[\u001b[0mstr, os.PathLike\u001b[1m]\u001b[0m, **kwargs\u001b[1m)\u001b[0m -> \u001b[32m'PretrainedConfig'\u001b[0m:  \u001b[34m│\u001b[0m\n",
              "\u001b[34m│\u001b[0m                                \u001b[2mInstantiate a \u001b[0m\u001b[1;2m[\u001b[0m\u001b[2m`PretrainedConfig`\u001b[0m\u001b[1;2m]\u001b[0m\u001b[2m \u001b[0m\u001b[1;2m(\u001b[0m\u001b[2mor a derived class\u001b[0m\u001b[1;2m)\u001b[0m\u001b[2m \u001b[0m   \u001b[34m│\u001b[0m\n",
              "\u001b[34m│\u001b[0m                                \u001b[2mfrom a pretrained model\u001b[0m                                    \u001b[34m│\u001b[0m\n",
              "\u001b[34m│\u001b[0m                                \u001b[2mconfiguration.\u001b[0m                                             \u001b[34m│\u001b[0m\n",
              "\u001b[34m│\u001b[0m              \u001b[3;33mget_config_dict\u001b[0m = \u001b[3;96mdef \u001b[0m\u001b[1;31mget_config_dict\u001b[0m\u001b[1m(\u001b[0mpretrained_model_name_or_path:         \u001b[34m│\u001b[0m\n",
              "\u001b[34m│\u001b[0m                                Union\u001b[1m[\u001b[0mstr, os.PathLike\u001b[1m]\u001b[0m, **kwargs\u001b[1m)\u001b[0m -> Tuple\u001b[1m[\u001b[0mDict\u001b[1m[\u001b[0mstr,      \u001b[34m│\u001b[0m\n",
              "\u001b[34m│\u001b[0m                                Any\u001b[1m]\u001b[0m, Dict\u001b[1m[\u001b[0mstr, Any\u001b[1m]\u001b[0m\u001b[1m]\u001b[0m:                                     \u001b[34m│\u001b[0m\n",
              "\u001b[34m│\u001b[0m                                \u001b[2mFrom a `pretrained_model_name_or_path`, resolve to a \u001b[0m      \u001b[34m│\u001b[0m\n",
              "\u001b[34m│\u001b[0m                                \u001b[2mdictionary of parameters, to be used for instantiating a\u001b[0m   \u001b[34m│\u001b[0m\n",
              "\u001b[34m│\u001b[0m                                \u001b[1;2m[\u001b[0m\u001b[2m`PretrainedConfig`\u001b[0m\u001b[1;2m]\u001b[0m\u001b[2m using `from_dict`.\u001b[0m                    \u001b[34m│\u001b[0m\n",
              "\u001b[34m│\u001b[0m                  \u001b[3;33mpush_to_hub\u001b[0m = \u001b[3;96mdef \u001b[0m\u001b[1;31mpush_to_hub\u001b[0m\u001b[1m(\u001b[0mrepo_path_or_name: Union\u001b[1m[\u001b[0mstr, NoneType\u001b[1m]\u001b[0m =  \u001b[34m│\u001b[0m\n",
              "\u001b[34m│\u001b[0m                                \u001b[3;35mNone\u001b[0m, repo_url: Union\u001b[1m[\u001b[0mstr, NoneType\u001b[1m]\u001b[0m = \u001b[3;35mNone\u001b[0m, use_temp_dir: \u001b[34m│\u001b[0m\n",
              "\u001b[34m│\u001b[0m                                bool = \u001b[3;91mFalse\u001b[0m, commit_message: Union\u001b[1m[\u001b[0mstr, NoneType\u001b[1m]\u001b[0m = \u001b[3;35mNone\u001b[0m, \u001b[34m│\u001b[0m\n",
              "\u001b[34m│\u001b[0m                                organization: Union\u001b[1m[\u001b[0mstr, NoneType\u001b[1m]\u001b[0m = \u001b[3;35mNone\u001b[0m, private:        \u001b[34m│\u001b[0m\n",
              "\u001b[34m│\u001b[0m                                Union\u001b[1m[\u001b[0mbool, NoneType\u001b[1m]\u001b[0m = \u001b[3;35mNone\u001b[0m, use_auth_token: Union\u001b[1m[\u001b[0mbool,  \u001b[34m│\u001b[0m\n",
              "\u001b[34m│\u001b[0m                                str, NoneType\u001b[1m]\u001b[0m = \u001b[3;35mNone\u001b[0m, **model_card_kwargs\u001b[1m)\u001b[0m -> str:        \u001b[34m│\u001b[0m\n",
              "\u001b[34m│\u001b[0m                                \u001b[2mUpload the configuration file to the 🤗 Model Hub while \u001b[0m   \u001b[34m│\u001b[0m\n",
              "\u001b[34m│\u001b[0m                                \u001b[2msynchronizing a local clone of the repo in\u001b[0m                 \u001b[34m│\u001b[0m\n",
              "\u001b[34m│\u001b[0m                                \u001b[2m`repo_path_or_name`.\u001b[0m                                       \u001b[34m│\u001b[0m\n",
              "\u001b[34m│\u001b[0m              \u001b[3;33msave_pretrained\u001b[0m = \u001b[3;96mdef \u001b[0m\u001b[1;31msave_pretrained\u001b[0m\u001b[1m(\u001b[0msave_directory: Union\u001b[1m[\u001b[0mstr,             \u001b[34m│\u001b[0m\n",
              "\u001b[34m│\u001b[0m                                os.PathLike\u001b[1m]\u001b[0m, push_to_hub: bool = \u001b[3;91mFalse\u001b[0m, **kwargs\u001b[1m)\u001b[0m:        \u001b[34m│\u001b[0m\n",
              "\u001b[34m│\u001b[0m                                \u001b[2mSave a configuration object to the directory \u001b[0m              \u001b[34m│\u001b[0m\n",
              "\u001b[34m│\u001b[0m                                \u001b[2m`save_directory`, so that it can be re-loaded using the\u001b[0m    \u001b[34m│\u001b[0m\n",
              "\u001b[34m│\u001b[0m                                \u001b[1;2m[\u001b[0m\u001b[2m`~PretrainedConfig.from_pretrained`\u001b[0m\u001b[1;2m]\u001b[0m\u001b[2m class method.\u001b[0m        \u001b[34m│\u001b[0m\n",
              "\u001b[34m│\u001b[0m                      \u001b[3;33mto_dict\u001b[0m = \u001b[3;96mdef \u001b[0m\u001b[1;31mto_dict\u001b[0m\u001b[1m(\u001b[0m\u001b[1m)\u001b[0m -> Dict\u001b[1m[\u001b[0mstr, Any\u001b[1m]\u001b[0m: \u001b[2mSerializes this instance \u001b[0m \u001b[34m│\u001b[0m\n",
              "\u001b[34m│\u001b[0m                                \u001b[2mto a Python dictionary.\u001b[0m                                    \u001b[34m│\u001b[0m\n",
              "\u001b[34m│\u001b[0m                 \u001b[3;33mto_diff_dict\u001b[0m = \u001b[3;96mdef \u001b[0m\u001b[1;31mto_diff_dict\u001b[0m\u001b[1m(\u001b[0m\u001b[1m)\u001b[0m -> Dict\u001b[1m[\u001b[0mstr, Any\u001b[1m]\u001b[0m:                      \u001b[34m│\u001b[0m\n",
              "\u001b[34m│\u001b[0m                                \u001b[2mRemoves all attributes from config which correspond to the\u001b[0m \u001b[34m│\u001b[0m\n",
              "\u001b[34m│\u001b[0m                                \u001b[2mdefault config attributes for better readability and\u001b[0m       \u001b[34m│\u001b[0m\n",
              "\u001b[34m│\u001b[0m                                \u001b[2mserializes to a Python dictionary.\u001b[0m                         \u001b[34m│\u001b[0m\n",
              "\u001b[34m│\u001b[0m                 \u001b[3;33mto_json_file\u001b[0m = \u001b[3;96mdef \u001b[0m\u001b[1;31mto_json_file\u001b[0m\u001b[1m(\u001b[0mjson_file_path: Union\u001b[1m[\u001b[0mstr, os.PathLike\u001b[1m]\u001b[0m,  \u001b[34m│\u001b[0m\n",
              "\u001b[34m│\u001b[0m                                use_diff: bool = \u001b[3;92mTrue\u001b[0m\u001b[1m)\u001b[0m: \u001b[2mSave this instance to a JSON file.\u001b[0m \u001b[34m│\u001b[0m\n",
              "\u001b[34m│\u001b[0m               \u001b[3;33mto_json_string\u001b[0m = \u001b[3;96mdef \u001b[0m\u001b[1;31mto_json_string\u001b[0m\u001b[1m(\u001b[0muse_diff: bool = \u001b[3;92mTrue\u001b[0m\u001b[1m)\u001b[0m -> str:          \u001b[34m│\u001b[0m\n",
              "\u001b[34m│\u001b[0m                                \u001b[2mSerializes this instance to a JSON string.\u001b[0m                 \u001b[34m│\u001b[0m\n",
              "\u001b[34m│\u001b[0m                       \u001b[3;33mupdate\u001b[0m = \u001b[3;96mdef \u001b[0m\u001b[1;31mupdate\u001b[0m\u001b[1m(\u001b[0mconfig_dict: Dict\u001b[1m[\u001b[0mstr, Any\u001b[1m]\u001b[0m\u001b[1m)\u001b[0m: \u001b[2mUpdates \u001b[0m          \u001b[34m│\u001b[0m\n",
              "\u001b[34m│\u001b[0m                                \u001b[2mattributes of this class with attributes from \u001b[0m             \u001b[34m│\u001b[0m\n",
              "\u001b[34m│\u001b[0m                                \u001b[2m`config_dict`.\u001b[0m                                             \u001b[34m│\u001b[0m\n",
              "\u001b[34m│\u001b[0m           \u001b[3;33mupdate_from_string\u001b[0m = \u001b[3;96mdef \u001b[0m\u001b[1;31mupdate_from_string\u001b[0m\u001b[1m(\u001b[0mupdate_str: str\u001b[1m)\u001b[0m: \u001b[2mUpdates \u001b[0m          \u001b[34m│\u001b[0m\n",
              "\u001b[34m│\u001b[0m                                \u001b[2mattributes of this class with attributes from \u001b[0m             \u001b[34m│\u001b[0m\n",
              "\u001b[34m│\u001b[0m                                \u001b[2m`update_str`.\u001b[0m                                              \u001b[34m│\u001b[0m\n",
              "\u001b[34m╰───────────────────────────────────────────────────────────────────────────────────────────╯\u001b[0m\n"
            ]
          },
          "metadata": {}
        }
      ]
    },
    {
      "cell_type": "code",
      "source": [
        "model.config.id2label"
      ],
      "metadata": {
        "colab": {
          "base_uri": "https://localhost:8080/"
        },
        "id": "9tKmNHrgQsLt",
        "outputId": "83b53b68-897b-417a-80c4-9143f752e408"
      },
      "execution_count": 34,
      "outputs": [
        {
          "output_type": "execute_result",
          "data": {
            "text/plain": [
              "{0: 'O',\n",
              " 1: 'B-MISC',\n",
              " 2: 'I-MISC',\n",
              " 3: 'B-PER',\n",
              " 4: 'I-PER',\n",
              " 5: 'B-ORG',\n",
              " 6: 'I-ORG',\n",
              " 7: 'B-LOC',\n",
              " 8: 'I-LOC'}"
            ]
          },
          "metadata": {},
          "execution_count": 34
        }
      ]
    },
    {
      "cell_type": "code",
      "source": [
        "# Let's reproduce the results of the first pipeline"
      ],
      "metadata": {
        "id": "3Z2UKOKeRMku"
      },
      "execution_count": 35,
      "outputs": []
    },
    {
      "cell_type": "code",
      "source": [
        "inspect(preds)"
      ],
      "metadata": {
        "colab": {
          "base_uri": "https://localhost:8080/",
          "height": 166
        },
        "id": "HvjsgLK8RTNC",
        "outputId": "88cd2551-303c-4d06-9742-f24cf1875ff4"
      },
      "execution_count": 36,
      "outputs": [
        {
          "output_type": "display_data",
          "data": {
            "text/html": [
              "<pre style=\"white-space:pre;overflow-x:auto;line-height:normal;font-family:Menlo,'DejaVu Sans Mono',consolas,'Courier New',monospace\"><span style=\"color: #000080; text-decoration-color: #000080\">╭─────────────────────── </span><span style=\"color: #000080; text-decoration-color: #000080; font-weight: bold\">&lt;</span><span style=\"color: #ff00ff; text-decoration-color: #ff00ff; font-weight: bold\">class</span><span style=\"color: #000000; text-decoration-color: #000000\"> </span><span style=\"color: #008000; text-decoration-color: #008000\">'list'</span><span style=\"color: #000080; text-decoration-color: #000080; font-weight: bold\">&gt;</span><span style=\"color: #000080; text-decoration-color: #000080\"> ───────────────────────╮</span>\n",
              "<span style=\"color: #000080; text-decoration-color: #000080\">│</span> <span style=\"color: #008080; text-decoration-color: #008080\">Built-in mutable sequence.</span>                                   <span style=\"color: #000080; text-decoration-color: #000080\">│</span>\n",
              "<span style=\"color: #000080; text-decoration-color: #000080\">│</span>                                                              <span style=\"color: #000080; text-decoration-color: #000080\">│</span>\n",
              "<span style=\"color: #000080; text-decoration-color: #000080\">│</span> <span style=\"color: #008000; text-decoration-color: #008000\">╭──────────────────────────────────────────────────────────╮</span> <span style=\"color: #000080; text-decoration-color: #000080\">│</span>\n",
              "<span style=\"color: #000080; text-decoration-color: #000080\">│</span> <span style=\"color: #008000; text-decoration-color: #008000\">│</span> <span style=\"font-weight: bold\">[</span><span style=\"color: #008080; text-decoration-color: #008080; font-weight: bold\">0</span>, <span style=\"color: #008080; text-decoration-color: #008080; font-weight: bold\">0</span>, <span style=\"color: #008080; text-decoration-color: #008080; font-weight: bold\">0</span>, <span style=\"color: #008080; text-decoration-color: #008080; font-weight: bold\">0</span>, <span style=\"color: #008080; text-decoration-color: #008080; font-weight: bold\">4</span>, <span style=\"color: #008080; text-decoration-color: #008080; font-weight: bold\">4</span>, <span style=\"color: #008080; text-decoration-color: #008080; font-weight: bold\">4</span>, <span style=\"color: #008080; text-decoration-color: #008080; font-weight: bold\">4</span>, <span style=\"color: #008080; text-decoration-color: #008080; font-weight: bold\">0</span>, <span style=\"color: #008080; text-decoration-color: #008080; font-weight: bold\">0</span>, <span style=\"color: #808000; text-decoration-color: #808000\">...</span> +<span style=\"color: #008080; text-decoration-color: #008080; font-weight: bold\">8</span><span style=\"font-weight: bold\">]</span>                   <span style=\"color: #008000; text-decoration-color: #008000\">│</span> <span style=\"color: #000080; text-decoration-color: #000080\">│</span>\n",
              "<span style=\"color: #000080; text-decoration-color: #000080\">│</span> <span style=\"color: #008000; text-decoration-color: #008000\">╰──────────────────────────────────────────────────────────╯</span> <span style=\"color: #000080; text-decoration-color: #000080\">│</span>\n",
              "<span style=\"color: #000080; text-decoration-color: #000080\">│</span>                                                              <span style=\"color: #000080; text-decoration-color: #000080\">│</span>\n",
              "<span style=\"color: #000080; text-decoration-color: #000080\">│</span> <span style=\"color: #008080; text-decoration-color: #008080; font-weight: bold\">35</span><span style=\"font-style: italic\"> attribute(s) not shown.</span> Run <span style=\"color: #800080; text-decoration-color: #800080; font-weight: bold\">inspect</span><span style=\"font-weight: bold\">(</span>inspect<span style=\"font-weight: bold\">)</span> for options. <span style=\"color: #000080; text-decoration-color: #000080\">│</span>\n",
              "<span style=\"color: #000080; text-decoration-color: #000080\">╰──────────────────────────────────────────────────────────────╯</span>\n",
              "</pre>\n"
            ],
            "text/plain": [
              "\u001b[34m╭─\u001b[0m\u001b[34m────────────────────── \u001b[0m\u001b[1;34m<\u001b[0m\u001b[1;95mclass\u001b[0m\u001b[39m \u001b[0m\u001b[32m'list'\u001b[0m\u001b[1;34m>\u001b[0m\u001b[34m ──────────────────────\u001b[0m\u001b[34m─╮\u001b[0m\n",
              "\u001b[34m│\u001b[0m \u001b[36mBuilt-in mutable sequence.\u001b[0m                                   \u001b[34m│\u001b[0m\n",
              "\u001b[34m│\u001b[0m                                                              \u001b[34m│\u001b[0m\n",
              "\u001b[34m│\u001b[0m \u001b[32m╭──────────────────────────────────────────────────────────╮\u001b[0m \u001b[34m│\u001b[0m\n",
              "\u001b[34m│\u001b[0m \u001b[32m│\u001b[0m \u001b[1m[\u001b[0m\u001b[1;36m0\u001b[0m, \u001b[1;36m0\u001b[0m, \u001b[1;36m0\u001b[0m, \u001b[1;36m0\u001b[0m, \u001b[1;36m4\u001b[0m, \u001b[1;36m4\u001b[0m, \u001b[1;36m4\u001b[0m, \u001b[1;36m4\u001b[0m, \u001b[1;36m0\u001b[0m, \u001b[1;36m0\u001b[0m, \u001b[33m...\u001b[0m +\u001b[1;36m8\u001b[0m\u001b[1m]\u001b[0m                   \u001b[32m│\u001b[0m \u001b[34m│\u001b[0m\n",
              "\u001b[34m│\u001b[0m \u001b[32m╰──────────────────────────────────────────────────────────╯\u001b[0m \u001b[34m│\u001b[0m\n",
              "\u001b[34m│\u001b[0m                                                              \u001b[34m│\u001b[0m\n",
              "\u001b[34m│\u001b[0m \u001b[1;36m35\u001b[0m\u001b[3m attribute(s) not shown.\u001b[0m Run \u001b[1;35minspect\u001b[0m\u001b[1m(\u001b[0minspect\u001b[1m)\u001b[0m for options. \u001b[34m│\u001b[0m\n",
              "\u001b[34m╰──────────────────────────────────────────────────────────────╯\u001b[0m\n"
            ]
          },
          "metadata": {}
        }
      ]
    },
    {
      "cell_type": "code",
      "source": [
        "tokens = inputs.tokens()\n",
        "results = []\n",
        "for idx, pred in enumerate(preds):\n",
        "  label = model.config.id2label[pred]\n",
        "  if label != 'O':\n",
        "    results.append({\"entity\": label, \"score\": proba[idx][pred], \"word\": tokens[idx]})\n",
        "rprint(results)"
      ],
      "metadata": {
        "colab": {
          "base_uri": "https://localhost:8080/",
          "height": 166
        },
        "id": "Y4IEb1t2R2sd",
        "outputId": "b78777c3-9e08-4200-bda8-c28a685557d0"
      },
      "execution_count": 49,
      "outputs": [
        {
          "output_type": "display_data",
          "data": {
            "text/html": [
              "<pre style=\"white-space:pre;overflow-x:auto;line-height:normal;font-family:Menlo,'DejaVu Sans Mono',consolas,'Courier New',monospace\"><span style=\"font-weight: bold\">[</span>\n",
              "    <span style=\"font-weight: bold\">{</span><span style=\"color: #008000; text-decoration-color: #008000\">'entity'</span>: <span style=\"color: #008000; text-decoration-color: #008000\">'I-PER'</span>, <span style=\"color: #008000; text-decoration-color: #008000\">'score'</span>: <span style=\"color: #008080; text-decoration-color: #008080; font-weight: bold\">0.998833954334259</span>, <span style=\"color: #008000; text-decoration-color: #008000\">'word'</span>: <span style=\"color: #008000; text-decoration-color: #008000\">'Man'</span><span style=\"font-weight: bold\">}</span>,\n",
              "    <span style=\"font-weight: bold\">{</span><span style=\"color: #008000; text-decoration-color: #008000\">'entity'</span>: <span style=\"color: #008000; text-decoration-color: #008000\">'I-PER'</span>, <span style=\"color: #008000; text-decoration-color: #008000\">'score'</span>: <span style=\"color: #008080; text-decoration-color: #008080; font-weight: bold\">0.9890117645263672</span>, <span style=\"color: #008000; text-decoration-color: #008000\">'word'</span>: <span style=\"color: #008000; text-decoration-color: #008000\">'##ika'</span><span style=\"font-weight: bold\">}</span>,\n",
              "    <span style=\"font-weight: bold\">{</span><span style=\"color: #008000; text-decoration-color: #008000\">'entity'</span>: <span style=\"color: #008000; text-decoration-color: #008000\">'I-PER'</span>, <span style=\"color: #008000; text-decoration-color: #008000\">'score'</span>: <span style=\"color: #008080; text-decoration-color: #008080; font-weight: bold\">0.994301438331604</span>, <span style=\"color: #008000; text-decoration-color: #008000\">'word'</span>: <span style=\"color: #008000; text-decoration-color: #008000\">'##nda'</span><span style=\"font-weight: bold\">}</span>,\n",
              "    <span style=\"font-weight: bold\">{</span><span style=\"color: #008000; text-decoration-color: #008000\">'entity'</span>: <span style=\"color: #008000; text-decoration-color: #008000\">'I-PER'</span>, <span style=\"color: #008000; text-decoration-color: #008000\">'score'</span>: <span style=\"color: #008080; text-decoration-color: #008080; font-weight: bold\">0.9943056702613831</span>, <span style=\"color: #008000; text-decoration-color: #008000\">'word'</span>: <span style=\"color: #008000; text-decoration-color: #008000\">'##n'</span><span style=\"font-weight: bold\">}</span>,\n",
              "    <span style=\"font-weight: bold\">{</span><span style=\"color: #008000; text-decoration-color: #008000\">'entity'</span>: <span style=\"color: #008000; text-decoration-color: #008000\">'I-ORG'</span>, <span style=\"color: #008000; text-decoration-color: #008000\">'score'</span>: <span style=\"color: #008080; text-decoration-color: #008080; font-weight: bold\">0.9986510872840881</span>, <span style=\"color: #008000; text-decoration-color: #008000\">'word'</span>: <span style=\"color: #008000; text-decoration-color: #008000\">'Red'</span><span style=\"font-weight: bold\">}</span>,\n",
              "    <span style=\"font-weight: bold\">{</span><span style=\"color: #008000; text-decoration-color: #008000\">'entity'</span>: <span style=\"color: #008000; text-decoration-color: #008000\">'I-ORG'</span>, <span style=\"color: #008000; text-decoration-color: #008000\">'score'</span>: <span style=\"color: #008080; text-decoration-color: #008080; font-weight: bold\">0.9959320425987244</span>, <span style=\"color: #008000; text-decoration-color: #008000\">'word'</span>: <span style=\"color: #008000; text-decoration-color: #008000\">'Hat'</span><span style=\"font-weight: bold\">}</span>,\n",
              "    <span style=\"font-weight: bold\">{</span><span style=\"color: #008000; text-decoration-color: #008000\">'entity'</span>: <span style=\"color: #008000; text-decoration-color: #008000\">'I-LOC'</span>, <span style=\"color: #008000; text-decoration-color: #008000\">'score'</span>: <span style=\"color: #008080; text-decoration-color: #008080; font-weight: bold\">0.999764621257782</span>, <span style=\"color: #008000; text-decoration-color: #008000\">'word'</span>: <span style=\"color: #008000; text-decoration-color: #008000\">'Canada'</span><span style=\"font-weight: bold\">}</span>\n",
              "<span style=\"font-weight: bold\">]</span>\n",
              "</pre>\n"
            ],
            "text/plain": [
              "\u001b[1m[\u001b[0m\n",
              "    \u001b[1m{\u001b[0m\u001b[32m'entity'\u001b[0m: \u001b[32m'I-PER'\u001b[0m, \u001b[32m'score'\u001b[0m: \u001b[1;36m0.998833954334259\u001b[0m, \u001b[32m'word'\u001b[0m: \u001b[32m'Man'\u001b[0m\u001b[1m}\u001b[0m,\n",
              "    \u001b[1m{\u001b[0m\u001b[32m'entity'\u001b[0m: \u001b[32m'I-PER'\u001b[0m, \u001b[32m'score'\u001b[0m: \u001b[1;36m0.9890117645263672\u001b[0m, \u001b[32m'word'\u001b[0m: \u001b[32m'##ika'\u001b[0m\u001b[1m}\u001b[0m,\n",
              "    \u001b[1m{\u001b[0m\u001b[32m'entity'\u001b[0m: \u001b[32m'I-PER'\u001b[0m, \u001b[32m'score'\u001b[0m: \u001b[1;36m0.994301438331604\u001b[0m, \u001b[32m'word'\u001b[0m: \u001b[32m'##nda'\u001b[0m\u001b[1m}\u001b[0m,\n",
              "    \u001b[1m{\u001b[0m\u001b[32m'entity'\u001b[0m: \u001b[32m'I-PER'\u001b[0m, \u001b[32m'score'\u001b[0m: \u001b[1;36m0.9943056702613831\u001b[0m, \u001b[32m'word'\u001b[0m: \u001b[32m'##n'\u001b[0m\u001b[1m}\u001b[0m,\n",
              "    \u001b[1m{\u001b[0m\u001b[32m'entity'\u001b[0m: \u001b[32m'I-ORG'\u001b[0m, \u001b[32m'score'\u001b[0m: \u001b[1;36m0.9986510872840881\u001b[0m, \u001b[32m'word'\u001b[0m: \u001b[32m'Red'\u001b[0m\u001b[1m}\u001b[0m,\n",
              "    \u001b[1m{\u001b[0m\u001b[32m'entity'\u001b[0m: \u001b[32m'I-ORG'\u001b[0m, \u001b[32m'score'\u001b[0m: \u001b[1;36m0.9959320425987244\u001b[0m, \u001b[32m'word'\u001b[0m: \u001b[32m'Hat'\u001b[0m\u001b[1m}\u001b[0m,\n",
              "    \u001b[1m{\u001b[0m\u001b[32m'entity'\u001b[0m: \u001b[32m'I-LOC'\u001b[0m, \u001b[32m'score'\u001b[0m: \u001b[1;36m0.999764621257782\u001b[0m, \u001b[32m'word'\u001b[0m: \u001b[32m'Canada'\u001b[0m\u001b[1m}\u001b[0m\n",
              "\u001b[1m]\u001b[0m\n"
            ]
          },
          "metadata": {}
        }
      ]
    },
    {
      "cell_type": "markdown",
      "source": [
        "To get the start & end of each entity in the original stentence, let's use offset mapping"
      ],
      "metadata": {
        "id": "bH8pLouBSZ9T"
      }
    },
    {
      "cell_type": "code",
      "source": [
        "inputs_with_offsets = tok(ex, return_offsets_mapping=True)\n",
        "inputs_with_offsets['offset_mapping']"
      ],
      "metadata": {
        "colab": {
          "base_uri": "https://localhost:8080/"
        },
        "id": "6QeugjWCSfON",
        "outputId": "5af42791-6c48-4de3-f99f-b06d80a1d136"
      },
      "execution_count": 40,
      "outputs": [
        {
          "output_type": "execute_result",
          "data": {
            "text/plain": [
              "[(0, 0),\n",
              " (0, 2),\n",
              " (3, 7),\n",
              " (8, 10),\n",
              " (11, 14),\n",
              " (14, 17),\n",
              " (17, 20),\n",
              " (20, 21),\n",
              " (22, 25),\n",
              " (26, 27),\n",
              " (28, 32),\n",
              " (33, 35),\n",
              " (36, 39),\n",
              " (40, 43),\n",
              " (44, 46),\n",
              " (47, 53),\n",
              " (53, 54),\n",
              " (0, 0)]"
            ]
          },
          "metadata": {},
          "execution_count": 40
        }
      ]
    },
    {
      "cell_type": "code",
      "source": [
        "ex[11:14]"
      ],
      "metadata": {
        "colab": {
          "base_uri": "https://localhost:8080/",
          "height": 36
        },
        "id": "D8l7x2JzStrT",
        "outputId": "fac101c2-d915-4ac4-b5f2-a0d9ab16fdef"
      },
      "execution_count": 41,
      "outputs": [
        {
          "output_type": "execute_result",
          "data": {
            "application/vnd.google.colaboratory.intrinsic+json": {
              "type": "string"
            },
            "text/plain": [
              "'Man'"
            ]
          },
          "metadata": {},
          "execution_count": 41
        }
      ]
    },
    {
      "cell_type": "code",
      "source": [
        "inputs_with_offsets = tok(ex, return_offsets_mapping=True)\n",
        "tokens = inputs_with_offsets.tokens()\n",
        "offsets = inputs_with_offsets['offset_mapping']\n",
        "results = []\n",
        "\n",
        "for idx, pred in enumerate(preds):\n",
        "  label = model.config.id2label[pred]\n",
        "  if label != 'O':\n",
        "    start, end = offsets[idx]\n",
        "    results.append(\n",
        "        {\"entity\": label, \"score\": proba[idx][pred], \"word\": tokens[idx],\n",
        "         \"start\": start, \"end\": end})\n",
        "rprint(results)"
      ],
      "metadata": {
        "colab": {
          "base_uri": "https://localhost:8080/",
          "height": 466
        },
        "id": "gpCie0zVS4oa",
        "outputId": "819b6ade-f079-41af-c067-e77f7344a291"
      },
      "execution_count": 50,
      "outputs": [
        {
          "output_type": "display_data",
          "data": {
            "text/html": [
              "<pre style=\"white-space:pre;overflow-x:auto;line-height:normal;font-family:Menlo,'DejaVu Sans Mono',consolas,'Courier New',monospace\"><span style=\"font-weight: bold\">[</span>\n",
              "    <span style=\"font-weight: bold\">{</span><span style=\"color: #008000; text-decoration-color: #008000\">'entity'</span>: <span style=\"color: #008000; text-decoration-color: #008000\">'I-PER'</span>, <span style=\"color: #008000; text-decoration-color: #008000\">'score'</span>: <span style=\"color: #008080; text-decoration-color: #008080; font-weight: bold\">0.998833954334259</span>, <span style=\"color: #008000; text-decoration-color: #008000\">'word'</span>: <span style=\"color: #008000; text-decoration-color: #008000\">'Man'</span>, <span style=\"color: #008000; text-decoration-color: #008000\">'start'</span>: <span style=\"color: #008080; text-decoration-color: #008080; font-weight: bold\">11</span>, <span style=\"color: #008000; text-decoration-color: #008000\">'end'</span>: <span style=\"color: #008080; text-decoration-color: #008080; font-weight: bold\">14</span><span style=\"font-weight: bold\">}</span>,\n",
              "    <span style=\"font-weight: bold\">{</span>\n",
              "        <span style=\"color: #008000; text-decoration-color: #008000\">'entity'</span>: <span style=\"color: #008000; text-decoration-color: #008000\">'I-PER'</span>,\n",
              "        <span style=\"color: #008000; text-decoration-color: #008000\">'score'</span>: <span style=\"color: #008080; text-decoration-color: #008080; font-weight: bold\">0.9890117645263672</span>,\n",
              "        <span style=\"color: #008000; text-decoration-color: #008000\">'word'</span>: <span style=\"color: #008000; text-decoration-color: #008000\">'##ika'</span>,\n",
              "        <span style=\"color: #008000; text-decoration-color: #008000\">'start'</span>: <span style=\"color: #008080; text-decoration-color: #008080; font-weight: bold\">14</span>,\n",
              "        <span style=\"color: #008000; text-decoration-color: #008000\">'end'</span>: <span style=\"color: #008080; text-decoration-color: #008080; font-weight: bold\">17</span>\n",
              "    <span style=\"font-weight: bold\">}</span>,\n",
              "    <span style=\"font-weight: bold\">{</span>\n",
              "        <span style=\"color: #008000; text-decoration-color: #008000\">'entity'</span>: <span style=\"color: #008000; text-decoration-color: #008000\">'I-PER'</span>,\n",
              "        <span style=\"color: #008000; text-decoration-color: #008000\">'score'</span>: <span style=\"color: #008080; text-decoration-color: #008080; font-weight: bold\">0.994301438331604</span>,\n",
              "        <span style=\"color: #008000; text-decoration-color: #008000\">'word'</span>: <span style=\"color: #008000; text-decoration-color: #008000\">'##nda'</span>,\n",
              "        <span style=\"color: #008000; text-decoration-color: #008000\">'start'</span>: <span style=\"color: #008080; text-decoration-color: #008080; font-weight: bold\">17</span>,\n",
              "        <span style=\"color: #008000; text-decoration-color: #008000\">'end'</span>: <span style=\"color: #008080; text-decoration-color: #008080; font-weight: bold\">20</span>\n",
              "    <span style=\"font-weight: bold\">}</span>,\n",
              "    <span style=\"font-weight: bold\">{</span><span style=\"color: #008000; text-decoration-color: #008000\">'entity'</span>: <span style=\"color: #008000; text-decoration-color: #008000\">'I-PER'</span>, <span style=\"color: #008000; text-decoration-color: #008000\">'score'</span>: <span style=\"color: #008080; text-decoration-color: #008080; font-weight: bold\">0.9943056702613831</span>, <span style=\"color: #008000; text-decoration-color: #008000\">'word'</span>: <span style=\"color: #008000; text-decoration-color: #008000\">'##n'</span>, <span style=\"color: #008000; text-decoration-color: #008000\">'start'</span>: <span style=\"color: #008080; text-decoration-color: #008080; font-weight: bold\">20</span>, <span style=\"color: #008000; text-decoration-color: #008000\">'end'</span>: <span style=\"color: #008080; text-decoration-color: #008080; font-weight: bold\">21</span><span style=\"font-weight: bold\">}</span>,\n",
              "    <span style=\"font-weight: bold\">{</span><span style=\"color: #008000; text-decoration-color: #008000\">'entity'</span>: <span style=\"color: #008000; text-decoration-color: #008000\">'I-ORG'</span>, <span style=\"color: #008000; text-decoration-color: #008000\">'score'</span>: <span style=\"color: #008080; text-decoration-color: #008080; font-weight: bold\">0.9986510872840881</span>, <span style=\"color: #008000; text-decoration-color: #008000\">'word'</span>: <span style=\"color: #008000; text-decoration-color: #008000\">'Red'</span>, <span style=\"color: #008000; text-decoration-color: #008000\">'start'</span>: <span style=\"color: #008080; text-decoration-color: #008080; font-weight: bold\">36</span>, <span style=\"color: #008000; text-decoration-color: #008000\">'end'</span>: <span style=\"color: #008080; text-decoration-color: #008080; font-weight: bold\">39</span><span style=\"font-weight: bold\">}</span>,\n",
              "    <span style=\"font-weight: bold\">{</span><span style=\"color: #008000; text-decoration-color: #008000\">'entity'</span>: <span style=\"color: #008000; text-decoration-color: #008000\">'I-ORG'</span>, <span style=\"color: #008000; text-decoration-color: #008000\">'score'</span>: <span style=\"color: #008080; text-decoration-color: #008080; font-weight: bold\">0.9959320425987244</span>, <span style=\"color: #008000; text-decoration-color: #008000\">'word'</span>: <span style=\"color: #008000; text-decoration-color: #008000\">'Hat'</span>, <span style=\"color: #008000; text-decoration-color: #008000\">'start'</span>: <span style=\"color: #008080; text-decoration-color: #008080; font-weight: bold\">40</span>, <span style=\"color: #008000; text-decoration-color: #008000\">'end'</span>: <span style=\"color: #008080; text-decoration-color: #008080; font-weight: bold\">43</span><span style=\"font-weight: bold\">}</span>,\n",
              "    <span style=\"font-weight: bold\">{</span>\n",
              "        <span style=\"color: #008000; text-decoration-color: #008000\">'entity'</span>: <span style=\"color: #008000; text-decoration-color: #008000\">'I-LOC'</span>,\n",
              "        <span style=\"color: #008000; text-decoration-color: #008000\">'score'</span>: <span style=\"color: #008080; text-decoration-color: #008080; font-weight: bold\">0.999764621257782</span>,\n",
              "        <span style=\"color: #008000; text-decoration-color: #008000\">'word'</span>: <span style=\"color: #008000; text-decoration-color: #008000\">'Canada'</span>,\n",
              "        <span style=\"color: #008000; text-decoration-color: #008000\">'start'</span>: <span style=\"color: #008080; text-decoration-color: #008080; font-weight: bold\">47</span>,\n",
              "        <span style=\"color: #008000; text-decoration-color: #008000\">'end'</span>: <span style=\"color: #008080; text-decoration-color: #008080; font-weight: bold\">53</span>\n",
              "    <span style=\"font-weight: bold\">}</span>\n",
              "<span style=\"font-weight: bold\">]</span>\n",
              "</pre>\n"
            ],
            "text/plain": [
              "\u001b[1m[\u001b[0m\n",
              "    \u001b[1m{\u001b[0m\u001b[32m'entity'\u001b[0m: \u001b[32m'I-PER'\u001b[0m, \u001b[32m'score'\u001b[0m: \u001b[1;36m0.998833954334259\u001b[0m, \u001b[32m'word'\u001b[0m: \u001b[32m'Man'\u001b[0m, \u001b[32m'start'\u001b[0m: \u001b[1;36m11\u001b[0m, \u001b[32m'end'\u001b[0m: \u001b[1;36m14\u001b[0m\u001b[1m}\u001b[0m,\n",
              "    \u001b[1m{\u001b[0m\n",
              "        \u001b[32m'entity'\u001b[0m: \u001b[32m'I-PER'\u001b[0m,\n",
              "        \u001b[32m'score'\u001b[0m: \u001b[1;36m0.9890117645263672\u001b[0m,\n",
              "        \u001b[32m'word'\u001b[0m: \u001b[32m'##ika'\u001b[0m,\n",
              "        \u001b[32m'start'\u001b[0m: \u001b[1;36m14\u001b[0m,\n",
              "        \u001b[32m'end'\u001b[0m: \u001b[1;36m17\u001b[0m\n",
              "    \u001b[1m}\u001b[0m,\n",
              "    \u001b[1m{\u001b[0m\n",
              "        \u001b[32m'entity'\u001b[0m: \u001b[32m'I-PER'\u001b[0m,\n",
              "        \u001b[32m'score'\u001b[0m: \u001b[1;36m0.994301438331604\u001b[0m,\n",
              "        \u001b[32m'word'\u001b[0m: \u001b[32m'##nda'\u001b[0m,\n",
              "        \u001b[32m'start'\u001b[0m: \u001b[1;36m17\u001b[0m,\n",
              "        \u001b[32m'end'\u001b[0m: \u001b[1;36m20\u001b[0m\n",
              "    \u001b[1m}\u001b[0m,\n",
              "    \u001b[1m{\u001b[0m\u001b[32m'entity'\u001b[0m: \u001b[32m'I-PER'\u001b[0m, \u001b[32m'score'\u001b[0m: \u001b[1;36m0.9943056702613831\u001b[0m, \u001b[32m'word'\u001b[0m: \u001b[32m'##n'\u001b[0m, \u001b[32m'start'\u001b[0m: \u001b[1;36m20\u001b[0m, \u001b[32m'end'\u001b[0m: \u001b[1;36m21\u001b[0m\u001b[1m}\u001b[0m,\n",
              "    \u001b[1m{\u001b[0m\u001b[32m'entity'\u001b[0m: \u001b[32m'I-ORG'\u001b[0m, \u001b[32m'score'\u001b[0m: \u001b[1;36m0.9986510872840881\u001b[0m, \u001b[32m'word'\u001b[0m: \u001b[32m'Red'\u001b[0m, \u001b[32m'start'\u001b[0m: \u001b[1;36m36\u001b[0m, \u001b[32m'end'\u001b[0m: \u001b[1;36m39\u001b[0m\u001b[1m}\u001b[0m,\n",
              "    \u001b[1m{\u001b[0m\u001b[32m'entity'\u001b[0m: \u001b[32m'I-ORG'\u001b[0m, \u001b[32m'score'\u001b[0m: \u001b[1;36m0.9959320425987244\u001b[0m, \u001b[32m'word'\u001b[0m: \u001b[32m'Hat'\u001b[0m, \u001b[32m'start'\u001b[0m: \u001b[1;36m40\u001b[0m, \u001b[32m'end'\u001b[0m: \u001b[1;36m43\u001b[0m\u001b[1m}\u001b[0m,\n",
              "    \u001b[1m{\u001b[0m\n",
              "        \u001b[32m'entity'\u001b[0m: \u001b[32m'I-LOC'\u001b[0m,\n",
              "        \u001b[32m'score'\u001b[0m: \u001b[1;36m0.999764621257782\u001b[0m,\n",
              "        \u001b[32m'word'\u001b[0m: \u001b[32m'Canada'\u001b[0m,\n",
              "        \u001b[32m'start'\u001b[0m: \u001b[1;36m47\u001b[0m,\n",
              "        \u001b[32m'end'\u001b[0m: \u001b[1;36m53\u001b[0m\n",
              "    \u001b[1m}\u001b[0m\n",
              "\u001b[1m]\u001b[0m\n"
            ]
          },
          "metadata": {}
        }
      ]
    },
    {
      "cell_type": "markdown",
      "source": [
        "## Grouping entities\n",
        "\n",
        "- Consecutive entities, I-XXX should be grouped together.\n",
        "- First one should be ignored."
      ],
      "metadata": {
        "id": "Nb9LkmVlHKYV"
      }
    },
    {
      "cell_type": "code",
      "source": [
        "import numpy as np\n",
        "\n",
        "results = []\n",
        "inputs_with_offsets = tok(ex, return_offsets_mapping=True)\n",
        "tokens = inputs_with_offsets.tokens()\n",
        "offsets = inputs_with_offsets[\"offset_mapping\"]"
      ],
      "metadata": {
        "id": "5eeht2KwHOIO"
      },
      "execution_count": 52,
      "outputs": []
    },
    {
      "cell_type": "code",
      "source": [
        "preds, ex"
      ],
      "metadata": {
        "colab": {
          "base_uri": "https://localhost:8080/"
        },
        "id": "mcWX_6codF1g",
        "outputId": "e5e89421-a9be-4c4e-8898-a773774c3279"
      },
      "execution_count": 59,
      "outputs": [
        {
          "output_type": "execute_result",
          "data": {
            "text/plain": [
              "([0, 0, 0, 0, 4, 4, 4, 4, 0, 0, 0, 0, 6, 6, 0, 8, 0, 0],\n",
              " 'My name is Manikandan and I work at Red Hat in Canada.')"
            ]
          },
          "metadata": {},
          "execution_count": 59
        }
      ]
    },
    {
      "cell_type": "code",
      "source": [
        "predictions = preds\n",
        "example = ex\n",
        "probabilities = proba"
      ],
      "metadata": {
        "id": "XwkFR3RJdN3O"
      },
      "execution_count": 60,
      "outputs": []
    },
    {
      "cell_type": "code",
      "source": [
        "idx = 0\n",
        "while idx < len(predictions):\n",
        "    pred = predictions[idx]\n",
        "    label = model.config.id2label[pred]\n",
        "    if label != \"O\":\n",
        "        # Remove the B- or I-\n",
        "        label = label[2:]\n",
        "        start, _ = offsets[idx]\n",
        "\n",
        "        # Grab all the tokens labeled with I-label\n",
        "        all_scores = []\n",
        "        while (\n",
        "            idx < len(predictions)\n",
        "            and model.config.id2label[predictions[idx]] == f\"I-{label}\"\n",
        "        ):\n",
        "            all_scores.append(probabilities[idx][pred])\n",
        "            _, end = offsets[idx]\n",
        "            idx += 1\n",
        "\n",
        "        # The score is the mean of all the scores of the tokens in that grouped entity\n",
        "        score = np.mean(all_scores).item()\n",
        "        word = example[start:end]\n",
        "        results.append(\n",
        "            {\n",
        "                \"entity_group\": label,\n",
        "                \"score\": score,\n",
        "                \"word\": word,\n",
        "                \"start\": start,\n",
        "                \"end\": end,\n",
        "            }\n",
        "        )\n",
        "    idx += 1\n",
        "\n",
        "print(results)"
      ],
      "metadata": {
        "colab": {
          "base_uri": "https://localhost:8080/"
        },
        "id": "uf8jtjShdRAK",
        "outputId": "f1e7cf22-761e-4f51-a94a-3d2bf0b4286a"
      },
      "execution_count": 61,
      "outputs": [
        {
          "output_type": "stream",
          "name": "stdout",
          "text": [
            "[{'entity_group': 'PER', 'score': 0.9941132068634033, 'word': 'Manikandan', 'start': 11, 'end': 21}, {'entity_group': 'ORG', 'score': 0.9972915649414062, 'word': 'Red Hat', 'start': 36, 'end': 43}, {'entity_group': 'LOC', 'score': 0.999764621257782, 'word': 'Canada', 'start': 47, 'end': 53}]\n"
          ]
        }
      ]
    },
    {
      "cell_type": "code",
      "source": [
        "rprint(results)"
      ],
      "metadata": {
        "colab": {
          "base_uri": "https://localhost:8080/",
          "height": 400
        },
        "id": "BVZgQhSdbdYk",
        "outputId": "7e1d64cc-bc2c-427d-9803-983f6ef7440b"
      },
      "execution_count": 62,
      "outputs": [
        {
          "output_type": "display_data",
          "data": {
            "text/html": [
              "<pre style=\"white-space:pre;overflow-x:auto;line-height:normal;font-family:Menlo,'DejaVu Sans Mono',consolas,'Courier New',monospace\"><span style=\"font-weight: bold\">[</span>\n",
              "    <span style=\"font-weight: bold\">{</span>\n",
              "        <span style=\"color: #008000; text-decoration-color: #008000\">'entity_group'</span>: <span style=\"color: #008000; text-decoration-color: #008000\">'PER'</span>,\n",
              "        <span style=\"color: #008000; text-decoration-color: #008000\">'score'</span>: <span style=\"color: #008080; text-decoration-color: #008080; font-weight: bold\">0.9941132068634033</span>,\n",
              "        <span style=\"color: #008000; text-decoration-color: #008000\">'word'</span>: <span style=\"color: #008000; text-decoration-color: #008000\">'Manikandan'</span>,\n",
              "        <span style=\"color: #008000; text-decoration-color: #008000\">'start'</span>: <span style=\"color: #008080; text-decoration-color: #008080; font-weight: bold\">11</span>,\n",
              "        <span style=\"color: #008000; text-decoration-color: #008000\">'end'</span>: <span style=\"color: #008080; text-decoration-color: #008080; font-weight: bold\">21</span>\n",
              "    <span style=\"font-weight: bold\">}</span>,\n",
              "    <span style=\"font-weight: bold\">{</span>\n",
              "        <span style=\"color: #008000; text-decoration-color: #008000\">'entity_group'</span>: <span style=\"color: #008000; text-decoration-color: #008000\">'ORG'</span>,\n",
              "        <span style=\"color: #008000; text-decoration-color: #008000\">'score'</span>: <span style=\"color: #008080; text-decoration-color: #008080; font-weight: bold\">0.9972915649414062</span>,\n",
              "        <span style=\"color: #008000; text-decoration-color: #008000\">'word'</span>: <span style=\"color: #008000; text-decoration-color: #008000\">'Red Hat'</span>,\n",
              "        <span style=\"color: #008000; text-decoration-color: #008000\">'start'</span>: <span style=\"color: #008080; text-decoration-color: #008080; font-weight: bold\">36</span>,\n",
              "        <span style=\"color: #008000; text-decoration-color: #008000\">'end'</span>: <span style=\"color: #008080; text-decoration-color: #008080; font-weight: bold\">43</span>\n",
              "    <span style=\"font-weight: bold\">}</span>,\n",
              "    <span style=\"font-weight: bold\">{</span>\n",
              "        <span style=\"color: #008000; text-decoration-color: #008000\">'entity_group'</span>: <span style=\"color: #008000; text-decoration-color: #008000\">'LOC'</span>,\n",
              "        <span style=\"color: #008000; text-decoration-color: #008000\">'score'</span>: <span style=\"color: #008080; text-decoration-color: #008080; font-weight: bold\">0.999764621257782</span>,\n",
              "        <span style=\"color: #008000; text-decoration-color: #008000\">'word'</span>: <span style=\"color: #008000; text-decoration-color: #008000\">'Canada'</span>,\n",
              "        <span style=\"color: #008000; text-decoration-color: #008000\">'start'</span>: <span style=\"color: #008080; text-decoration-color: #008080; font-weight: bold\">47</span>,\n",
              "        <span style=\"color: #008000; text-decoration-color: #008000\">'end'</span>: <span style=\"color: #008080; text-decoration-color: #008080; font-weight: bold\">53</span>\n",
              "    <span style=\"font-weight: bold\">}</span>\n",
              "<span style=\"font-weight: bold\">]</span>\n",
              "</pre>\n"
            ],
            "text/plain": [
              "\u001b[1m[\u001b[0m\n",
              "    \u001b[1m{\u001b[0m\n",
              "        \u001b[32m'entity_group'\u001b[0m: \u001b[32m'PER'\u001b[0m,\n",
              "        \u001b[32m'score'\u001b[0m: \u001b[1;36m0.9941132068634033\u001b[0m,\n",
              "        \u001b[32m'word'\u001b[0m: \u001b[32m'Manikandan'\u001b[0m,\n",
              "        \u001b[32m'start'\u001b[0m: \u001b[1;36m11\u001b[0m,\n",
              "        \u001b[32m'end'\u001b[0m: \u001b[1;36m21\u001b[0m\n",
              "    \u001b[1m}\u001b[0m,\n",
              "    \u001b[1m{\u001b[0m\n",
              "        \u001b[32m'entity_group'\u001b[0m: \u001b[32m'ORG'\u001b[0m,\n",
              "        \u001b[32m'score'\u001b[0m: \u001b[1;36m0.9972915649414062\u001b[0m,\n",
              "        \u001b[32m'word'\u001b[0m: \u001b[32m'Red Hat'\u001b[0m,\n",
              "        \u001b[32m'start'\u001b[0m: \u001b[1;36m36\u001b[0m,\n",
              "        \u001b[32m'end'\u001b[0m: \u001b[1;36m43\u001b[0m\n",
              "    \u001b[1m}\u001b[0m,\n",
              "    \u001b[1m{\u001b[0m\n",
              "        \u001b[32m'entity_group'\u001b[0m: \u001b[32m'LOC'\u001b[0m,\n",
              "        \u001b[32m'score'\u001b[0m: \u001b[1;36m0.999764621257782\u001b[0m,\n",
              "        \u001b[32m'word'\u001b[0m: \u001b[32m'Canada'\u001b[0m,\n",
              "        \u001b[32m'start'\u001b[0m: \u001b[1;36m47\u001b[0m,\n",
              "        \u001b[32m'end'\u001b[0m: \u001b[1;36m53\u001b[0m\n",
              "    \u001b[1m}\u001b[0m\n",
              "\u001b[1m]\u001b[0m\n"
            ]
          },
          "metadata": {}
        }
      ]
    },
    {
      "cell_type": "code",
      "source": [
        ""
      ],
      "metadata": {
        "id": "OSacWcdMdi-m"
      },
      "execution_count": null,
      "outputs": []
    }
  ]
}